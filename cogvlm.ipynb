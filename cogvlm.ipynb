{
 "cells": [
  {
   "cell_type": "code",
   "id": "initial_id",
   "metadata": {
    "collapsed": true
   },
   "source": [
    "import torch\n",
    "from PIL import Image\n",
    "from prompts.prompts import dynamic_prompt\n",
    "from prompts.load_resources import get_tokenizer_and_model, DEVICE, TORCH_TYPE\n",
    "\n",
    "tokenizer, model = get_tokenizer_and_model()"
   ],
   "outputs": [],
   "execution_count": null
  },
  {
   "metadata": {},
   "cell_type": "code",
   "source": [
    "prompt = dynamic_prompt(\n",
    "    categories=[\n",
    "        'Caught', 'Cowgirl', 'Cute', 'Reality', 'Hardcore', 'Girlfriend',\n",
    "        'Amateur', 'Cum In Mouth', 'Russian', 'Big Cock'\n",
    "    ]\n",
    ")\n",
    "\n",
    "img_path = ''\n",
    "image = Image.open(img_path).convert('RGB')\n",
    "\n",
    "input_by_model = model.build_conversation_input_ids(\n",
    "    tokenizer,\n",
    "    query=prompt,\n",
    "    history=[],\n",
    "    images=[image],\n",
    "    template_version='chat'\n",
    ")\n",
    "\n",
    "inputs = {\n",
    "    'input_ids': input_by_model['input_ids'].unsqueeze(0).to(DEVICE),\n",
    "    'token_type_ids': input_by_model['token_type_ids'].unsqueeze(0).to(DEVICE),\n",
    "    'attention_mask': input_by_model['attention_mask'].unsqueeze(0).to(DEVICE),\n",
    "    'images': [[input_by_model['images'][0].to(DEVICE).to(TORCH_TYPE)]] if image is not None else None,\n",
    "}\n",
    "\n",
    "gen_kwargs = {\n",
    "    \"max_new_tokens\": 512,\n",
    "    \"pad_token_id\": 128002,\n",
    "}\n",
    "\n",
    "with torch.no_grad():\n",
    "    outputs = model.generate(**inputs, **gen_kwargs)\n",
    "    outputs = outputs[:, inputs['input_ids'].shape[1]:]\n",
    "    response = tokenizer.decode(outputs[0])\n",
    "    response = response.split(\"<|end_of_text|>\")[0]\n",
    "    print(\"\\nCogVLM2:\", response)"
   ],
   "id": "16a2604ccbd568fe",
   "outputs": [],
   "execution_count": null
  }
 ],
 "metadata": {
  "kernelspec": {
   "display_name": "Python 3",
   "language": "python",
   "name": "python3"
  },
  "language_info": {
   "codemirror_mode": {
    "name": "ipython",
    "version": 2
   },
   "file_extension": ".py",
   "mimetype": "text/x-python",
   "name": "python",
   "nbconvert_exporter": "python",
   "pygments_lexer": "ipython2",
   "version": "2.7.6"
  }
 },
 "nbformat": 4,
 "nbformat_minor": 5
}
