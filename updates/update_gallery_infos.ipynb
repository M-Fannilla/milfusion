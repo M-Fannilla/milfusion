{
 "cells": [
  {
   "cell_type": "code",
   "id": "initial_id",
   "metadata": {
    "collapsed": true,
    "ExecuteTime": {
     "end_time": "2024-06-06T09:36:10.443592Z",
     "start_time": "2024-06-06T09:36:09.368986Z"
    }
   },
   "source": [
    "import threading\n",
    "import pandas as pd\n",
    "from tqdm import tqdm\n",
    "from pathlib import Path\n",
    "from google.cloud import storage\n",
    "from concurrent.futures import ThreadPoolExecutor, as_completed\n",
    "\n",
    "BUCKET_NAME = 'chum_bucket_stuff'\n",
    "SRC_DIR = Path(\"/Volumes/external_drive\")\n",
    "\n",
    "storage_client = storage.Client()\n",
    "_bucket = storage_client.bucket(\"chum_bucket_stuff\")"
   ],
   "outputs": [],
   "execution_count": 1
  },
  {
   "metadata": {
    "ExecuteTime": {
     "end_time": "2024-06-06T09:36:11.559019Z",
     "start_time": "2024-06-06T09:36:10.447535Z"
    }
   },
   "cell_type": "code",
   "source": [
    "df = pd.read_csv(\"/Users/milosz.bertman/Projects/milfusion/datasets/galleries_dataset_with_dupes.csv\")\n",
    "df['gallery_info_path'] = SRC_DIR / df.gallery_category / df.gallery_name / \"gallery_info.txt\"\n",
    "df = df.sort_values(by=[\"gallery_category\", \"gallery_name\"])\n",
    "df = df.reset_index(drop=True)"
   ],
   "id": "ba64bdf9eced4",
   "outputs": [],
   "execution_count": 2
  },
  {
   "metadata": {
    "ExecuteTime": {
     "end_time": "2024-06-06T09:36:11.564550Z",
     "start_time": "2024-06-06T09:36:11.560247Z"
    }
   },
   "cell_type": "code",
   "source": [
    "gallery_files = df.gallery_info_path.tolist()\n",
    "gallery_files[0].as_posix()"
   ],
   "id": "5fc8fcdf9aceae7c",
   "outputs": [
    {
     "data": {
      "text/plain": [
       "'/Volumes/external_drive/amateur/18yearold-girls-lie-back-for-a-cumshot-after-an-intense-3some-fuck-38196807/gallery_info.txt'"
      ]
     },
     "execution_count": 3,
     "metadata": {},
     "output_type": "execute_result"
    }
   ],
   "execution_count": 3
  },
  {
   "metadata": {
    "ExecuteTime": {
     "end_time": "2024-06-06T09:39:01.545572Z",
     "start_time": "2024-06-06T09:36:24.271952Z"
    }
   },
   "cell_type": "code",
   "source": [
    "def upload_to_gcp(source_file_name, destination_blob_name):\n",
    "    blob = _bucket.blob(destination_blob_name)\n",
    "    blob.upload_from_filename(source_file_name)\n",
    "\n",
    "\n",
    "threads = []\n",
    "for file_path in tqdm(gallery_files, total=len(gallery_files), desc=\"Submitting Threads\"):\n",
    "    file_path = file_path.as_posix()\n",
    "    destination_blob_name = file_path.replace(SRC_DIR.as_posix(), \"pics\")\n",
    "    thread = threading.Thread(\n",
    "        target=upload_to_gcp,\n",
    "        args=(file_path, destination_blob_name)\n",
    "    )\n",
    "    threads.append(thread)\n",
    "    thread.start()\n",
    "\n",
    "# Use tqdm to show progress bar and wait for threads to complete\n",
    "for thread in tqdm(threads, total=len(threads), desc=\"Uploading files\"):\n",
    "    thread.join()"
   ],
   "id": "66e9fc372598b8ee",
   "outputs": [
    {
     "name": "stderr",
     "output_type": "stream",
     "text": [
      "Submitting Threads: 100%|██████████| 82588/82588 [02:36<00:00, 528.04it/s]\n",
      "Uploading files: 100%|██████████| 82588/82588 [00:00<00:00, 98210.21it/s] \n"
     ]
    }
   ],
   "execution_count": 4
  },
  {
   "metadata": {},
   "cell_type": "code",
   "source": "",
   "id": "4e3709ead9fe106b",
   "outputs": [],
   "execution_count": null
  }
 ],
 "metadata": {
  "kernelspec": {
   "display_name": "Python 3",
   "language": "python",
   "name": "python3"
  },
  "language_info": {
   "codemirror_mode": {
    "name": "ipython",
    "version": 2
   },
   "file_extension": ".py",
   "mimetype": "text/x-python",
   "name": "python",
   "nbconvert_exporter": "python",
   "pygments_lexer": "ipython2",
   "version": "2.7.6"
  }
 },
 "nbformat": 4,
 "nbformat_minor": 5
}
