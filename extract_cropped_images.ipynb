{
 "cells": [
  {
   "metadata": {},
   "cell_type": "code",
   "source": [
    "import shutil\n",
    "import pandas as pd\n",
    "from tqdm import tqdm\n",
    "from pathlib import Path\n",
    "from utils import SRC_DIR\n",
    "from concurrent.futures import ThreadPoolExecutor\n",
    "\n",
    "temp = Path(\"./runpod_images\")\n",
    "temp.mkdir(exist_ok=True, parents=True)"
   ],
   "id": "2f7092b11cf2f467",
   "outputs": [],
   "execution_count": null
  },
  {
   "metadata": {},
   "cell_type": "code",
   "source": [
    "df_name = 'medium_one_hot'\n",
    "df = pd.read_csv(f'datasets/cropped_{df_name}.csv', index_col=0)"
   ],
   "id": "e76969c756e53fbe",
   "outputs": [],
   "execution_count": null
  },
  {
   "metadata": {},
   "cell_type": "code",
   "source": [
    "def copy_file(row):\n",
    "    T = temp / row.file_path.replace(\"/cropped/\", \"/\")\n",
    "    T.parent.mkdir(parents=True, exist_ok=True)\n",
    "    if not T.exists():\n",
    "        shutil.copy(\n",
    "            src=SRC_DIR / row.file_path,\n",
    "            dst=T\n",
    "        )\n",
    "\n",
    "\n",
    "with ThreadPoolExecutor(max_workers=16) as executor:\n",
    "    futures = []\n",
    "    for i, row in df.iterrows():\n",
    "        futures.append(\n",
    "            executor.submit(copy_file, row)\n",
    "        )\n",
    "\n",
    "    for f in tqdm(futures, total=len(futures), desc=\"copying files\"):\n",
    "        f.result()"
   ],
   "id": "b8e8522c0421ee4a",
   "outputs": [],
   "execution_count": null
  },
  {
   "metadata": {},
   "cell_type": "code",
   "source": "df.shape",
   "id": "e2759ae0f570e45c",
   "outputs": [],
   "execution_count": null
  },
  {
   "metadata": {},
   "cell_type": "code",
   "source": "",
   "id": "98ef448b3bfae8e3",
   "outputs": [],
   "execution_count": null
  }
 ],
 "metadata": {
  "kernelspec": {
   "display_name": "Python 3",
   "language": "python",
   "name": "python3"
  },
  "language_info": {
   "codemirror_mode": {
    "name": "ipython",
    "version": 2
   },
   "file_extension": ".py",
   "mimetype": "text/x-python",
   "name": "python",
   "nbconvert_exporter": "python",
   "pygments_lexer": "ipython2",
   "version": "2.7.6"
  }
 },
 "nbformat": 4,
 "nbformat_minor": 5
}
