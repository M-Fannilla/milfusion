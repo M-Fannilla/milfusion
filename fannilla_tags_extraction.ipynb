{
 "cells": [
  {
   "metadata": {
    "ExecuteTime": {
     "end_time": "2024-06-03T07:08:16.735070Z",
     "start_time": "2024-06-03T07:08:16.456803Z"
    }
   },
   "cell_type": "code",
   "source": [
    "import re\n",
    "import ast\n",
    "import pandas as pd\n",
    "from pathlib import Path\n",
    "\n",
    "SRC_DIR = Path('/Volumes/external_drive')"
   ],
   "id": "15b18486f048e9b4",
   "outputs": [],
   "execution_count": 1
  },
  {
   "cell_type": "code",
   "id": "initial_id",
   "metadata": {
    "collapsed": true,
    "ExecuteTime": {
     "end_time": "2024-06-03T07:58:26.181561Z",
     "start_time": "2024-06-03T07:58:23.392407Z"
    }
   },
   "source": [
    "df = pd.read_csv('image_high_res.csv')\n",
    "df = df[df['tags_list'].notnull()]\n",
    "df = df[df['categories'].notnull()]"
   ],
   "outputs": [],
   "execution_count": 43
  },
  {
   "metadata": {
    "ExecuteTime": {
     "end_time": "2024-06-03T07:59:03.106025Z",
     "start_time": "2024-06-03T07:58:26.183430Z"
    }
   },
   "cell_type": "code",
   "source": [
    "df['models'] = df['models'].apply(ast.literal_eval)\n",
    "df['categories'] = df['categories'].apply(ast.literal_eval)\n",
    "df['tags_list'] = df['tags_list'].apply(ast.literal_eval)"
   ],
   "id": "57fa832c0d460a2b",
   "outputs": [],
   "execution_count": 44
  },
  {
   "metadata": {
    "ExecuteTime": {
     "end_time": "2024-06-03T07:59:03.638409Z",
     "start_time": "2024-06-03T07:59:03.107561Z"
    }
   },
   "cell_type": "code",
   "source": [
    "df['tags_count'] = df['tags_list'].apply(len)\n",
    "df['categories_count'] = df['categories'].apply(len)\n",
    "# Plot the distribution of tags and categories\n",
    "df['tags_count'].plot(kind='hist', bins = 10, legend=True)\n",
    "df['categories_count'].plot(kind='hist', bins = 10, legend=True)"
   ],
   "id": "4f735c5b3128ef5c",
   "outputs": [
    {
     "data": {
      "text/plain": [
       "<Axes: ylabel='Frequency'>"
      ]
     },
     "execution_count": 45,
     "metadata": {},
     "output_type": "execute_result"
    },
    {
     "data": {
      "text/plain": [
       "<Figure size 640x480 with 1 Axes>"
      ],
      "image/png": "[encoded data removed]"
     },
     "metadata": {},
     "output_type": "display_data"
    }
   ],
   "execution_count": 45
  },
  {
   "metadata": {
    "ExecuteTime": {
     "end_time": "2024-06-03T07:59:19.931795Z",
     "start_time": "2024-06-03T07:59:18.620584Z"
    }
   },
   "cell_type": "code",
   "source": [
    "filtered = df[(df['categories_count'] > 9) & (df['tags_count'] > 6)]\n",
    "filtered.shape"
   ],
   "id": "3ac15f6e33178994",
   "outputs": [
    {
     "data": {
      "text/plain": [
       "(542739, 13)"
      ]
     },
     "execution_count": 47,
     "metadata": {},
     "output_type": "execute_result"
    }
   ],
   "execution_count": 47
  },
  {
   "metadata": {
    "ExecuteTime": {
     "end_time": "2024-06-03T07:57:18.027206Z",
     "start_time": "2024-06-03T07:57:18.025082Z"
    }
   },
   "cell_type": "code",
   "source": [
    "def dynamic_prompt(categories: list[str], tags: list[str]) -> str:\n",
    "    prompt = f\"\"\"\n",
    "You are given a single image from a gallery. Your task is to tag and categorize this image based on a given set of categories and tags. The tags may apply to the entire gallery but not necessarily to every individual image.\n",
    "\n",
    "**Categories**: {categories}\n",
    "**Tags**: {tags}\n",
    "\n",
    "For the given image, identify the relevant tags from the list above. If a tag does not apply to the specific image, do not include it in your response for that image.\n",
    "\n",
    "#### Instructions:\n",
    "1. Review the provided image.\n",
    "2. Assign relevant tags from the provided **Tags** to the image.\n",
    "3. Assign relevant categories from the provided **Categories** to the image.\n",
    "4. Do not include tags that do not apply to the image.\n",
    "5. If you are unsure about a tag or category, feel free to skip it.\n",
    "6. Do not use more tags or categories than provided.\n",
    "\n",
    "### Output:\n",
    "Tags should be structured for easy parsing as JSON. For example: \"\"\"\n",
    "    prompt += \"\"\"\n",
    "{\n",
    "    'tags': ['tag1', 'tag2', 'tag3'],\n",
    "    'categories': ['category1', 'category2']\n",
    "}\n",
    "\"\"\"\n",
    "    return prompt"
   ],
   "id": "42a4dc59bf54cad8",
   "outputs": [],
   "execution_count": 37
  },
  {
   "metadata": {
    "ExecuteTime": {
     "end_time": "2024-06-03T07:59:38.907645Z",
     "start_time": "2024-06-03T07:59:38.900475Z"
    }
   },
   "cell_type": "code",
   "source": [
    "import random\n",
    "\n",
    "random_choice = filtered.iloc[random.randint(0, filtered.shape[0])]\n",
    "p = dynamic_prompt(random_choice['categories'], random_choice['tags_list'])\n",
    "print(p)"
   ],
   "id": "a55ae8b8a2a06669",
   "outputs": [
    {
     "name": "stdout",
     "output_type": "stream",
     "text": [
      "\n",
      "You are given a single image from a gallery. Your task is to tag and categorize this image based on a given set of categories and tags. The tags may apply to the entire gallery but not necessarily to every individual image.\n",
      "\n",
      "**Categories**: ['Asian', 'Facial', 'Reality', 'Big Cock', 'Pussy', 'Ass', 'Shaved', 'Clothed', 'Skirt', 'Handjob']\n",
      "**Tags**: ['Big Ass Asian', 'Asian Hardcore', 'Asian Cumshot', 'Asian Ass', 'Asian Facial', 'Asian Doggystyle', 'Shaved Asian Pussy']\n",
      "\n",
      "For the given image, identify the relevant tags from the list above. If a tag does not apply to the specific image, do not include it in your response for that image.\n",
      "\n",
      "#### Instructions:\n",
      "1. Review the provided image.\n",
      "2. Assign relevant tags from the provided **Tags** to the image.\n",
      "3. Assign relevant categories from the provided **Categories** to the image.\n",
      "4. Do not include tags that do not apply to the image.\n",
      "5. If you are unsure about a tag or category, feel free to skip it.\n",
      "6. Do not use more tags or categories than provided.\n",
      "\n",
      "### Output:\n",
      "Tags should be structured for easy parsing as JSON. For example: \n",
      "{\n",
      "    'ags': ['tag1', 'tag2', 'tag3'],\n",
      "    'categories': ['category1', 'category2']\n",
      "}\n",
      "\n"
     ]
    }
   ],
   "execution_count": 48
  },
  {
   "metadata": {
    "ExecuteTime": {
     "end_time": "2024-06-03T07:36:50.514244Z",
     "start_time": "2024-06-03T07:36:50.511995Z"
    }
   },
   "cell_type": "code",
   "source": "choice.filename",
   "id": "b03c0ff4840c08d4",
   "outputs": [
    {
     "data": {
      "text/plain": [
       "'54465965_111_0b22.jpg'"
      ]
     },
     "execution_count": 22,
     "metadata": {},
     "output_type": "execute_result"
    }
   ],
   "execution_count": 22
  },
  {
   "metadata": {},
   "cell_type": "code",
   "source": [
    "aged_df = df[df['categories'].apply(lambda x: any(category in age_tags for category in x))]\n",
    "looks_df = aged_df[aged_df['categories'].apply(lambda x: any(category in physical_look_tags for category in x))]\n",
    "utility_df = looks_df[looks_df['categories'].apply(lambda x: any(category in utility_tags for category in x))]\n",
    "negative_aged_df = utility_df[\n",
    "    utility_df['categories'].apply(lambda x: all(category not in negative_tags for category in x))]\n",
    "negative_aged_df = negative_aged_df.reset_index(drop=True)"
   ],
   "id": "e84ed2544a7540e",
   "outputs": [],
   "execution_count": null
  },
  {
   "metadata": {},
   "cell_type": "code",
   "source": "negative_aged_df.shape",
   "id": "95dafc1524377cb9",
   "outputs": [],
   "execution_count": null
  },
  {
   "metadata": {},
   "cell_type": "code",
   "source": "negative_aged_df.head()",
   "id": "2c2fb70263056165",
   "outputs": [],
   "execution_count": null
  },
  {
   "metadata": {},
   "cell_type": "code",
   "source": [
    "all_tags = sorted(list(set([item for sublist in negative_aged_df['categories'] for item in sublist])))\n",
    "\n",
    "\n",
    "def clean_list(lst):\n",
    "    lst = [re.sub(r'\\s+', ' ', item) for item in lst]\n",
    "    return list(set([item for item in lst if item != '']))\n",
    "\n",
    "\n",
    "all_tags = clean_list(all_tags)\n",
    "all_tags = sorted(list(clean_list(all_tags)))\n",
    "all_tags"
   ],
   "id": "ad4b7e608c03d571",
   "outputs": [],
   "execution_count": null
  },
  {
   "metadata": {},
   "cell_type": "code",
   "source": "len(all_tags)",
   "id": "395bc383ce34c37a",
   "outputs": [],
   "execution_count": null
  },
  {
   "metadata": {},
   "cell_type": "code",
   "source": [
    "import random\n",
    "from PIL import Image\n",
    "\n",
    "random_image = random.randint(0, negative_aged_df.shape[0])\n",
    "row = negative_aged_df.iloc[random_image]\n",
    "path = SRC_DIR / row.category / row.gallery_name / row.filename\n",
    "print(path)\n",
    "image = Image.open(path)\n",
    "image.show()"
   ],
   "id": "b10818658a6b926f",
   "outputs": [],
   "execution_count": null
  },
  {
   "metadata": {},
   "cell_type": "code",
   "source": "",
   "id": "faeb746b6c889c2e",
   "outputs": [],
   "execution_count": null
  }
 ],
 "metadata": {
  "kernelspec": {
   "display_name": "Python 3",
   "language": "python",
   "name": "python3"
  },
  "language_info": {
   "codemirror_mode": {
    "name": "ipython",
    "version": 2
   },
   "file_extension": ".py",
   "mimetype": "text/x-python",
   "name": "python",
   "nbconvert_exporter": "python",
   "pygments_lexer": "ipython2",
   "version": "2.7.6"
  }
 },
 "nbformat": 4,
 "nbformat_minor": 5
}
