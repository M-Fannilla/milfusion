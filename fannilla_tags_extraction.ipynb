{
 "cells": [
  {
   "metadata": {
    "ExecuteTime": {
     "end_time": "2024-06-03T12:25:39.374259Z",
     "start_time": "2024-06-03T12:25:39.053791Z"
    }
   },
   "cell_type": "code",
   "source": [
    "import re\n",
    "import ast\n",
    "import pandas as pd\n",
    "from pathlib import Path\n",
    "\n",
    "SRC_DIR = Path('/Volumes/external_drive')"
   ],
   "id": "15b18486f048e9b4",
   "execution_count": 1,
   "outputs": []
  },
  {
   "cell_type": "code",
   "id": "initial_id",
   "metadata": {
    "collapsed": true,
    "ExecuteTime": {
     "end_time": "2024-06-03T12:25:41.180067Z",
     "start_time": "2024-06-03T12:25:39.375401Z"
    }
   },
   "source": [
    "df = pd.read_csv('datasets/image_high_res.csv')\n",
    "df = df[df['tags_list'].notnull()]\n",
    "df = df[df['categories'].notnull()]"
   ],
   "outputs": [],
   "execution_count": 2
  },
  {
   "metadata": {},
   "cell_type": "code",
   "source": [
    "df['models'] = df['models'].apply(ast.literal_eval)\n",
    "df['categories'] = df['categories'].apply(ast.literal_eval)\n",
    "df['tags_list'] = df['tags_list'].apply(ast.literal_eval)"
   ],
   "id": "57fa832c0d460a2b",
   "outputs": [],
   "execution_count": null
  },
  {
   "metadata": {},
   "cell_type": "code",
   "source": [
    "df['tags_count'] = df['tags_list'].apply(len)\n",
    "df['categories_count'] = df['categories'].apply(len)\n",
    "# Plot the distribution of tags and categories\n",
    "df['tags_count'].plot(kind='hist', bins = 10, legend=True)\n",
    "df['categories_count'].plot(kind='hist', bins = 10, legend=True)"
   ],
   "id": "4f735c5b3128ef5c",
   "outputs": [],
   "execution_count": null
  },
  {
   "metadata": {},
   "cell_type": "code",
   "source": [
    "# filtered = df[(df['categories_count'] > 9) & (df['tags_count'] > 6)]\n",
    "# filtered.shape"
   ],
   "id": "3ac15f6e33178994",
   "outputs": [],
   "execution_count": null
  },
  {
   "metadata": {},
   "cell_type": "code",
   "source": [
    "aged_df = df[df['categories'].apply(lambda x: any(category in age_tags for category in x))]\n",
    "looks_df = aged_df[aged_df['categories'].apply(lambda x: any(category in physical_look_tags for category in x))]\n",
    "utility_df = looks_df[looks_df['categories'].apply(lambda x: any(category in utility_tags for category in x))]\n",
    "negative_aged_df = utility_df[\n",
    "    utility_df['categories'].apply(lambda x: all(category not in negative_tags for category in x))]\n",
    "negative_aged_df = negative_aged_df.reset_index(drop=True)"
   ],
   "id": "e84ed2544a7540e",
   "outputs": [],
   "execution_count": null
  },
  {
   "metadata": {},
   "cell_type": "code",
   "source": "negative_aged_df.shape",
   "id": "95dafc1524377cb9",
   "outputs": [],
   "execution_count": null
  },
  {
   "metadata": {},
   "cell_type": "code",
   "source": "negative_aged_df.head()",
   "id": "2c2fb70263056165",
   "outputs": [],
   "execution_count": null
  },
  {
   "metadata": {},
   "cell_type": "code",
   "source": [
    "all_tags = sorted(list(set([item for sublist in negative_aged_df['categories'] for item in sublist])))\n",
    "\n",
    "\n",
    "def clean_list(lst):\n",
    "    lst = [re.sub(r'\\s+', ' ', item) for item in lst]\n",
    "    return list(set([item for item in lst if item != '']))\n",
    "\n",
    "\n",
    "all_tags = clean_list(all_tags)\n",
    "all_tags = sorted(list(clean_list(all_tags)))\n",
    "all_tags"
   ],
   "id": "ad4b7e608c03d571",
   "outputs": [],
   "execution_count": null
  },
  {
   "metadata": {},
   "cell_type": "code",
   "source": "len(all_tags)",
   "id": "395bc383ce34c37a",
   "outputs": [],
   "execution_count": null
  },
  {
   "metadata": {},
   "cell_type": "code",
   "source": [
    "import random\n",
    "from PIL import Image\n",
    "\n",
    "random_image = random.randint(0, negative_aged_df.shape[0])\n",
    "row = negative_aged_df.iloc[random_image]\n",
    "path = SRC_DIR / row.category / row.gallery_name / row.filename\n",
    "print(path)\n",
    "image = Image.open(path)\n",
    "image.show()"
   ],
   "id": "b10818658a6b926f",
   "outputs": [],
   "execution_count": null
  },
  {
   "metadata": {},
   "cell_type": "code",
   "source": "",
   "id": "faeb746b6c889c2e",
   "outputs": [],
   "execution_count": null
  }
 ],
 "metadata": {
  "kernelspec": {
   "display_name": "Python 3",
   "language": "python",
   "name": "python3"
  },
  "language_info": {
   "codemirror_mode": {
    "name": "ipython",
    "version": 2
   },
   "file_extension": ".py",
   "mimetype": "text/x-python",
   "name": "python",
   "nbconvert_exporter": "python",
   "pygments_lexer": "ipython2",
   "version": "2.7.6"
  }
 },
 "nbformat": 4,
 "nbformat_minor": 5
}
