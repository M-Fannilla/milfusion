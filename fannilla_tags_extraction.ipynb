{
 "cells": [
  {
   "metadata": {
    "ExecuteTime": {
     "end_time": "2024-06-07T15:23:21.937969Z",
     "start_time": "2024-06-07T15:23:21.906421Z"
    }
   },
   "cell_type": "code",
   "source": [
    "%load_ext autoreload\n",
    "%autoreload 2"
   ],
   "id": "11e5c4cb04cffd01",
   "outputs": [],
   "execution_count": 1
  },
  {
   "metadata": {
    "ExecuteTime": {
     "end_time": "2024-06-07T15:23:23.577026Z",
     "start_time": "2024-06-07T15:23:22.489170Z"
    }
   },
   "cell_type": "code",
   "source": [
    "import ast\n",
    "import pandas as pd\n",
    "from tqdm import tqdm\n",
    "from pathlib import Path\n",
    "from pprint import pprint\n",
    "from collections import Counter\n",
    "from galleries_mapping import *\n",
    "import matplotlib.pyplot as plt\n",
    "from sklearn.utils import resample"
   ],
   "id": "15ce2594d9cb1934",
   "outputs": [],
   "execution_count": 2
  },
  {
   "metadata": {
    "ExecuteTime": {
     "end_time": "2024-06-07T15:23:23.589516Z",
     "start_time": "2024-06-07T15:23:23.578514Z"
    }
   },
   "cell_type": "code",
   "source": [
    "def plot_tags_count(data: pd.DataFrame | dict):\n",
    "    if isinstance(data, pd.DataFrame):\n",
    "        data = Counter([item for sublist in data['labels'] for item in sublist])\n",
    "    sorted_values_cntr = {k: v for k, v in sorted(data.items(), key=lambda item: item[1], reverse=True)}\n",
    "    plt.figure(figsize=(10, 10))\n",
    "    plt.pie(\n",
    "        sorted_values_cntr.values(),\n",
    "        labels=sorted_values_cntr.keys(),\n",
    "        autopct='%1.1f%%', startangle=0\n",
    "    )\n",
    "    plt.axis('equal')\n",
    "    plt.title('Label Distribution in Test Set')\n",
    "\n",
    "    plt.show()\n",
    "\n",
    "\n",
    "def plot_variance_per_key(data: dict):\n",
    "    plt.figure(figsize=(10, 10))\n",
    "    plt.bar(data.keys(), data.values())\n",
    "    plt.title('Label Distribution in Test Set')\n",
    "    plt.show()"
   ],
   "id": "30decf585371e094",
   "outputs": [],
   "execution_count": 3
  },
  {
   "metadata": {
    "ExecuteTime": {
     "end_time": "2024-06-07T15:26:42.632574Z",
     "start_time": "2024-06-07T15:26:42.570886Z"
    }
   },
   "cell_type": "code",
   "source": [
    "SRC_DIR = Path('/Volumes/external_drive')\n",
    "FILTERED_PORNHUB_CATEGORIES = [\n",
    "    'anal',\n",
    "    'bbw',\n",
    "    'big ass',\n",
    "    'big dick',\n",
    "    'big tits',\n",
    "    'blonde',\n",
    "    'blowjob',\n",
    "    'bondage',\n",
    "    'brunette',\n",
    "    'cosplay',\n",
    "    'creampie',\n",
    "    'cumshot',\n",
    "    'double penetration',\n",
    "    'ebony',\n",
    "    'feet',\n",
    "    'fingering',\n",
    "    'fisting',\n",
    "    'handjob',\n",
    "    'hardcore',\n",
    "    'lesbian',\n",
    "    'massage',\n",
    "    'masturbation',\n",
    "    'milf',\n",
    "    'old/young',\n",
    "    'pissing',\n",
    "    'public',\n",
    "    'pussy licking',\n",
    "    'red head',\n",
    "    'rough sex',\n",
    "    'small tits',\n",
    "    'smoking',\n",
    "    'solo',\n",
    "    'squirt',\n",
    "    'strap on',\n",
    "    'striptease',\n",
    "    'tattooed women',\n",
    "    'teen',\n",
    "    'threesome',\n",
    "    'toys',\n",
    "    'transgender'\n",
    "]\n",
    "\n",
    "try:\n",
    "    _df = pd.read_csv('datasets/images_high_res_dataset.csv')\n",
    "except FileNotFoundError:\n",
    "    _df = pd.read_csv(SRC_DIR / 'images_high_res_dataset.csv')\n",
    "\n",
    "print(\"Dataset loaded.\")\n",
    "_df.drop(['models'], axis=1, inplace=True)\n",
    "_df = _df[_df['categories'].notnull() & _df['categories'].apply(lambda x: x != [])]\n",
    "_df = _df[_df['categories_suggestions'].notnull() & _df['categories_suggestions'].apply(lambda x: x != [])]\n",
    "print(\"Cleaned categories\")\n",
    "_df['categories'] = _df['categories'].apply(ast.literal_eval)\n",
    "_df['categories_suggestions'] = _df['categories_suggestions'].apply(ast.literal_eval)\n",
    "print(\"Parsed list columns categories\")"
   ],
   "id": "15b18486f048e9b4",
   "outputs": [],
   "execution_count": 7
  },
  {
   "cell_type": "code",
   "id": "initial_id",
   "metadata": {
    "collapsed": true,
    "ExecuteTime": {
     "end_time": "2024-06-07T15:24:20.262098Z",
     "start_time": "2024-06-07T15:24:20.061460Z"
    }
   },
   "source": [
    "df = _df.copy(True)\n",
    "df.shape"
   ],
   "outputs": [
    {
     "data": {
      "text/plain": [
       "(1345434, 7)"
      ]
     },
     "execution_count": 5,
     "metadata": {},
     "output_type": "execute_result"
    }
   ],
   "execution_count": 5
  },
  {
   "metadata": {},
   "cell_type": "markdown",
   "source": "# Merge suggestions and categories",
   "id": "9d71a0bef332167b"
  },
  {
   "metadata": {
    "ExecuteTime": {
     "end_time": "2024-06-07T15:27:08.061284Z",
     "start_time": "2024-06-07T15:26:56.515293Z"
    }
   },
   "cell_type": "code",
   "source": [
    "def merge_categories(row):\n",
    "    categories = set(row['categories'])\n",
    "    categories_suggestions = set(row['categories_suggestions'])\n",
    "    categories_superset = {category.strip().lower() for category in categories.union(categories_suggestions)}\n",
    "    return list(categories_superset)\n",
    "\n",
    "\n",
    "# df['labels'] = df['categories'].apply(lambda x: [category.strip().lower() for category in x])\n",
    "df['labels'] = df.apply(merge_categories, axis=1)\n",
    "df.drop(['categories_suggestions', 'categories'], axis=1, inplace=True)\n",
    "df.shape"
   ],
   "id": "b966e6edb3fbb00f",
   "outputs": [
    {
     "data": {
      "text/plain": [
       "(1345434, 6)"
      ]
     },
     "execution_count": 8,
     "metadata": {},
     "output_type": "execute_result"
    }
   ],
   "execution_count": 8
  },
  {
   "metadata": {},
   "cell_type": "markdown",
   "source": "# Purge nationalities from tags",
   "id": "ce451a7c7dad68d6"
  },
  {
   "metadata": {
    "ExecuteTime": {
     "end_time": "2024-06-07T15:27:51.090893Z",
     "start_time": "2024-06-07T15:27:46.345118Z"
    }
   },
   "cell_type": "code",
   "source": [
    "nationality_tags_to_purge = {\n",
    "    'african',\n",
    "    'american',\n",
    "    'arab',\n",
    "    'argentina',\n",
    "    'australian',\n",
    "    'brazilian',\n",
    "    'british',\n",
    "    'canadian',\n",
    "    'chinese',\n",
    "    'colombian',\n",
    "    'cuban',\n",
    "    'czech',\n",
    "    'dutch',\n",
    "    'european',\n",
    "    'filipina',\n",
    "    'french',\n",
    "    'german',\n",
    "    'hungarian',\n",
    "    'indian',\n",
    "    'italian',\n",
    "    'japanese',\n",
    "    'korean',\n",
    "    'mexican',\n",
    "    'pinay',\n",
    "    'polish',\n",
    "    'russian',\n",
    "    'spanish',\n",
    "    'thai',\n",
    "    'ukrainian',\n",
    "    'venezuela',\n",
    "    'white'\n",
    "}\n",
    "nationality_tags_to_purge = {n.lower() for n in nationality_tags_to_purge}\n",
    "df['labels'] = df.labels.apply(lambda x: list(set(x) - nationality_tags_to_purge))\n",
    "df.shape"
   ],
   "id": "8b389e8c51247db",
   "outputs": [
    {
     "data": {
      "text/plain": [
       "(1345434, 6)"
      ]
     },
     "execution_count": 10,
     "metadata": {},
     "output_type": "execute_result"
    }
   ],
   "execution_count": 10
  },
  {
   "metadata": {},
   "cell_type": "markdown",
   "source": "# Apply gallery mapping",
   "id": "11b02068325bb595"
  },
  {
   "metadata": {
    "ExecuteTime": {
     "end_time": "2024-06-07T15:28:08.787059Z",
     "start_time": "2024-06-07T15:28:00.217341Z"
    }
   },
   "cell_type": "code",
   "source": [
    "def gallery_mapping(row):\n",
    "    labels = row.labels\n",
    "\n",
    "    out = []\n",
    "    for L in labels:\n",
    "        _fetched = GALLERIES_MAP.get(L, None)\n",
    "        if _fetched is remove_tag:\n",
    "            continue\n",
    "        elif _fetched is remove_gallery:\n",
    "            return None\n",
    "        elif isinstance(_fetched, list):\n",
    "            out.extend(_fetched)\n",
    "        elif _fetched is keep_tag:\n",
    "            out.append(L.lower())\n",
    "\n",
    "    return list(set(out))\n",
    "\n",
    "\n",
    "# gallery_mapping(df.iloc[0])\n",
    "# df.apply(gallery_mapping, axis=1)\n",
    "df['labels'] = df.apply(gallery_mapping, axis=1)\n",
    "df = df[df['labels'].notnull()]\n",
    "df.shape"
   ],
   "id": "cb3d10abc08de8e",
   "outputs": [
    {
     "data": {
      "text/plain": [
       "(1199096, 6)"
      ]
     },
     "execution_count": 11,
     "metadata": {},
     "output_type": "execute_result"
    }
   ],
   "execution_count": 11
  },
  {
   "metadata": {},
   "cell_type": "markdown",
   "source": "# Dataframe clean up",
   "id": "ca90d0758c17d418"
  },
  {
   "metadata": {
    "ExecuteTime": {
     "end_time": "2024-06-07T15:28:10.890716Z",
     "start_time": "2024-06-07T15:28:10.633663Z"
    }
   },
   "cell_type": "code",
   "source": [
    "df['file_path'] = df['gallery_category'] + '/' + df['gallery_name'] + '/' + df['filename']\n",
    "df = df.drop(\n",
    "    ['gallery_category', 'gallery_name', 'filename'], axis=1\n",
    ")\n",
    "df.reset_index(inplace=True, drop=True)"
   ],
   "id": "d8efbbb40b2d5354",
   "outputs": [],
   "execution_count": 12
  },
  {
   "metadata": {},
   "cell_type": "code",
   "source": [
    "df.drop(\n",
    "    ['height', 'width'], axis=1, inplace=True\n",
    ")  #.to_csv('datasets/full_dataset_with_labels.csv')"
   ],
   "id": "c36021bb7a92e2a8",
   "outputs": [],
   "execution_count": null
  },
  {
   "metadata": {},
   "cell_type": "code",
   "source": "df.shape",
   "id": "9711b161b73c9bd3",
   "outputs": [],
   "execution_count": null
  },
  {
   "metadata": {},
   "cell_type": "markdown",
   "source": "# Balancing the dataset",
   "id": "ec520848e852cd79"
  },
  {
   "metadata": {},
   "cell_type": "code",
   "source": [
    "label_counts = Counter(item for sublist in df['labels'] for item in sublist)\n",
    "ascending_labels = [k for k, v in sorted(label_counts.items(), key=lambda item: item[1])]\n",
    "label_proportions = {k: v / len(df) for k, v in sorted(label_counts.items(), key=lambda item: item[1])}"
   ],
   "id": "62f4b7d80adc8120",
   "outputs": [],
   "execution_count": null
  },
  {
   "metadata": {},
   "cell_type": "code",
   "source": [
    "def get_rows_with_label(dataframe, label):\n",
    "    return dataframe[dataframe['labels'].apply(lambda x: label in x)]\n",
    "\n",
    "\n",
    "local_min = len(df)\n",
    "balanced_dfs = {label: pd.DataFrame() for label in label_counts.keys()}\n",
    "\n",
    "for label in tqdm(ascending_labels, total=len(ascending_labels), desc='Balancing dataset'):\n",
    "    label_df = get_rows_with_label(df, label)\n",
    "    label_df = df.apply(lambda x: None if len(x.labels) >= 8 else x, axis=1).dropna()\n",
    "\n",
    "    label_df_length = len(label_df)\n",
    "\n",
    "    if local_min > label_df_length:\n",
    "        local_min = label_df_length\n",
    "\n",
    "    if label_df_length >= local_min:\n",
    "        _scale = local_min / label_df_length\n",
    "    else:\n",
    "        _scale = 1\n",
    "\n",
    "    n_samples = int(local_min * _scale)\n",
    "    label_df = resample(\n",
    "        label_df,\n",
    "        n_samples=n_samples,\n",
    "        random_state=42\n",
    "    )\n",
    "\n",
    "    balanced_dfs[label] = label_df\n",
    "\n",
    "balanced_df = pd.concat(balanced_dfs).drop_duplicates(subset='file_path').reset_index(drop=True)\n",
    "balanced_df.shape"
   ],
   "id": "b10818658a6b926f",
   "outputs": [
    {
     "name": "stderr",
     "output_type": "stream",
     "text": [
      "Balancing dataset:  11%|█         | 12/114 [03:51<32:48, 19.30s/it]\n",
      "\n",
      "KeyboardInterrupt\n",
      "\n"
     ]
    }
   ],
   "execution_count": 13
  },
  {
   "metadata": {},
   "cell_type": "code",
   "source": "plot_tags_count(balanced_df)",
   "id": "f588be2b183f02cb",
   "outputs": [],
   "execution_count": null
  },
  {
   "metadata": {},
   "cell_type": "markdown",
   "source": "# One hot encoding",
   "id": "987dbcf9cbcb084f"
  },
  {
   "metadata": {},
   "cell_type": "code",
   "source": "plot_tags_count(df)",
   "id": "a3c483f3ba4b666c",
   "outputs": [],
   "execution_count": null
  },
  {
   "metadata": {},
   "cell_type": "code",
   "source": [
    "def dataframe_one_hot_encoding(dataframe: pd.DataFrame):\n",
    "    all_labels = set(label for labels in dataframe['labels'] for label in labels)\n",
    "    one_hot_encoded = pd.DataFrame()\n",
    "\n",
    "    for label in tqdm(all_labels, total=len(all_labels), desc='One hot encoding'):\n",
    "        one_hot_encoded[label] = df['labels'].apply(lambda x: 1 if label in x else 0)"
   ],
   "id": "abf9265e0e1bd634",
   "outputs": [],
   "execution_count": null
  },
  {
   "metadata": {},
   "cell_type": "code",
   "source": "final_df = pd.concat([df, dataframe_one_hot_encoding(df)], axis=1)",
   "id": "6a6ab137d48e228c",
   "outputs": [],
   "execution_count": null
  },
  {
   "metadata": {},
   "cell_type": "code",
   "source": [
    "final_df = final_df.drop(columns=['labels', 'width', 'height'], axis=1)\n",
    "final_df.reset_index(drop=True, inplace=True)"
   ],
   "id": "44115e2874b010d",
   "outputs": [],
   "execution_count": null
  },
  {
   "metadata": {},
   "cell_type": "code",
   "source": [
    "cols_sorted = sorted(list(final_df.columns))\n",
    "cols_sorted.remove(\"file_path\")\n",
    "\n",
    "final_df = final_df[[\"file_path\", *cols_sorted]]"
   ],
   "id": "e62a7143bb6ea32d",
   "outputs": [],
   "execution_count": null
  },
  {
   "metadata": {},
   "cell_type": "code",
   "source": "final_df.to_csv(\"full_one_hot_dataset.csv\")",
   "id": "98837d5e88bc407c",
   "outputs": [],
   "execution_count": null
  },
  {
   "metadata": {},
   "cell_type": "markdown",
   "source": "# Inspect redularization methods",
   "id": "7e3cb72e08302986"
  },
  {
   "metadata": {},
   "cell_type": "code",
   "source": "df.shape, balanced_df.shape",
   "id": "c8356aea45173558",
   "outputs": [],
   "execution_count": null
  },
  {
   "metadata": {},
   "cell_type": "code",
   "source": [
    "_full_df = df.copy(True)\n",
    "_balanced_df = balanced_df.copy(True)"
   ],
   "id": "31519db531da600e",
   "outputs": [],
   "execution_count": null
  },
  {
   "metadata": {},
   "cell_type": "code",
   "source": [
    "X_full = balanced_df['file_path'].values\n",
    "y_full = balanced_df['labels'].values\n",
    "\n",
    "X = balanced_df['file_path'].values\n",
    "y = balanced_df['labels'].values"
   ],
   "id": "f9be28f986bee99a",
   "outputs": [],
   "execution_count": null
  },
  {
   "metadata": {},
   "cell_type": "code",
   "source": "# del df, balanced_df",
   "id": "2c0fe020b3027e79",
   "outputs": [],
   "execution_count": null
  }
 ],
 "metadata": {
  "kernelspec": {
   "display_name": "Python 3",
   "language": "python",
   "name": "python3"
  },
  "language_info": {
   "codemirror_mode": {
    "name": "ipython",
    "version": 2
   },
   "file_extension": ".py",
   "mimetype": "text/x-python",
   "name": "python",
   "nbconvert_exporter": "python",
   "pygments_lexer": "ipython2",
   "version": "2.7.6"
  }
 },
 "nbformat": 4,
 "nbformat_minor": 5
}
