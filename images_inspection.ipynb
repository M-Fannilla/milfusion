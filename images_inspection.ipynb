{
 "cells": [
  {
   "cell_type": "code",
   "id": "initial_id",
   "metadata": {
    "collapsed": true,
    "ExecuteTime": {
     "end_time": "2024-05-30T10:01:00.949881Z",
     "start_time": "2024-05-30T10:01:00.666846Z"
    }
   },
   "source": [
    "import re\n",
    "import os\n",
    "import pandas as pd\n",
    "import concurrent.futures\n",
    "from tqdm import tqdm\n",
    "from pathlib import Path\n",
    "\n",
    "SRC_DIR = Path('./images')\n",
    "ACRONYMS = [\n",
    "    '69', 'BBC', 'BBW', 'BDSM', 'CFNM', 'DP', 'GILF', 'MILF', 'PAWG', 'POV'\n",
    "]"
   ],
   "outputs": [],
   "execution_count": 3
  },
  {
   "metadata": {
    "ExecuteTime": {
     "end_time": "2024-05-30T10:07:39.404243Z",
     "start_time": "2024-05-30T10:07:39.395606Z"
    }
   },
   "cell_type": "code",
   "source": [
    "def process_string(input_string):\n",
    "    word_list = re.findall('[A-Z][^A-Z]*', input_string)\n",
    "\n",
    "    joined_words = []\n",
    "    temp_word = \"\"\n",
    "    for word in word_list:\n",
    "        if word.endswith(\" \"):\n",
    "            temp_word += word\n",
    "        else:\n",
    "            if temp_word:\n",
    "                joined_words.append(temp_word + word)\n",
    "                temp_word = \"\"\n",
    "            else:\n",
    "                joined_words.append(word)\n",
    "\n",
    "    final_words = []\n",
    "    temp_word = \"\"\n",
    "    for word in joined_words:\n",
    "        if len(word) == 1 and word.isupper():\n",
    "            temp_word += word\n",
    "        elif len(word) > 1 and word[1] == \" \":\n",
    "            temp_word += word\n",
    "        elif len(word) > 1 and word[-2] == \" \":\n",
    "            final_words.append(temp_word)\n",
    "            temp_word = \"\"\n",
    "            temp_word += word\n",
    "\n",
    "        else:\n",
    "            if temp_word:\n",
    "                final_words.append(temp_word)\n",
    "                temp_word = \"\"\n",
    "            final_words.append(word)\n",
    "    if temp_word:\n",
    "        final_words.append(temp_word)\n",
    "\n",
    "    word_list = [w for w in final_words if w != \"\"]\n",
    "\n",
    "    new_list = []\n",
    "    for word in word_list:\n",
    "        match = re.match(r\"([a-zA-Z]+)([0-9]+)\", word)\n",
    "        if match:\n",
    "            new_list.append(match.group(1))\n",
    "            new_list.append(int(match.group(2)))\n",
    "        else:\n",
    "            new_list.append(word)\n",
    "    return new_list\n",
    "\n",
    "\n",
    "def split_and_verify_acronyms(words_list, acronyms):\n",
    "    out = []\n",
    "\n",
    "    for word in words_list:\n",
    "        word = str(word)\n",
    "        if word.isupper():\n",
    "            for acronym in acronyms:\n",
    "                if acronym in word:\n",
    "                    out.append(acronym)\n",
    "                    word = word.replace(acronym, \"\")\n",
    "        out.append(word)\n",
    "\n",
    "    return [w for w in out if w != \"\"]\n",
    "\n",
    "\n",
    "def split_and_unify_tags(tags_list: list[str]):\n",
    "    out = []\n",
    "    acronyms = []\n",
    "    for tag in tags_list:\n",
    "        for acronym in ACRONYMS:\n",
    "            if acronym in tag:\n",
    "                tag = tag.replace(acronym, \"\").strip()\n",
    "                if acronym not in acronyms:\n",
    "                    acronyms.append(acronym)\n",
    "        out.append(tag)\n",
    "\n",
    "    result = list(set(out + acronyms))\n",
    "    for tag in result:\n",
    "        if tag in out:\n",
    "            for other_tag in out:\n",
    "                if tag in other_tag and tag != other_tag:\n",
    "                    result.remove(tag)\n",
    "                    break\n",
    "\n",
    "    return result\n",
    "\n",
    "\n",
    "def process_line(line_string: str) -> list[str]:\n",
    "    words_list = process_string(line_string)\n",
    "    words_list = split_and_verify_acronyms(words_list, ACRONYMS)\n",
    "    return [word.replace(\"  \", \" \").strip() for word in words_list]"
   ],
   "id": "5debcc18da3e2325",
   "outputs": [],
   "execution_count": 28
  },
  {
   "metadata": {
    "ExecuteTime": {
     "end_time": "2024-05-30T10:07:39.966028Z",
     "start_time": "2024-05-30T10:07:39.962714Z"
    }
   },
   "cell_type": "code",
   "source": [
    "def parse_gallery_info(filepath: Path):\n",
    "    # Get all the filenames as list\n",
    "    filenames = []\n",
    "    for f in os.listdir(filepath.parent):\n",
    "        if not f.startswith(\".\") and not f.endswith(\".txt\"):\n",
    "            filenames.append(f)\n",
    "\n",
    "    with open(filepath, 'r') as file:\n",
    "        content = file.readlines()\n",
    "\n",
    "    info = {}\n",
    "    spl = filepath.as_posix().split(\"/\")\n",
    "    info['category'] = spl[1]\n",
    "    info['gallery_name'] = spl[2]\n",
    "    info['filenames'] = filenames\n",
    "    for line in content:\n",
    "        if line.startswith(\"Channel\"):\n",
    "            info['channel'] = line.removeprefix(\"Channel: : \").removesuffix(\"\\n\")\n",
    "        elif line.startswith(\"Models\"):\n",
    "            info['models'] = process_line(line.removeprefix(\"Models:: \").removesuffix(\" + Suggest\\n\"))\n",
    "        elif line.startswith(\"Categories\"):\n",
    "            info['categories'] = process_line(line.removeprefix(\"Categories:: \").removesuffix(\" + Suggest\\n\"))\n",
    "        elif line.startswith(\"Tags List\"):\n",
    "            info['tags_list'] = split_and_unify_tags(process_line(line.removeprefix(\"Tags List:: \").removesuffix(\"\\n\")))\n",
    "        elif line.startswith(\"Stats\"):\n",
    "            splitted = line.removeprefix(\"Stats:: \").removesuffix(\"\\n\").split(\"; \")\n",
    "            info['rating'] = splitted[0].removeprefix(\"Rating: \")\n",
    "            info['views'] = splitted[1].removeprefix(\"Views: \")\n",
    "\n",
    "    return info"
   ],
   "id": "f9bd581a52cba412",
   "outputs": [],
   "execution_count": 29
  },
  {
   "metadata": {
    "ExecuteTime": {
     "end_time": "2024-05-30T10:07:40.275518Z",
     "start_time": "2024-05-30T10:07:40.273203Z"
    }
   },
   "cell_type": "code",
   "source": [
    "def process_gallery(category_name: str, gallery: str):\n",
    "    gallery_info_path = SRC_DIR / category_name / gallery / 'gallery_info.txt'\n",
    "    if gallery_info_path.exists():\n",
    "        gallery_info = parse_gallery_info(gallery_info_path)\n",
    "        return gallery_info"
   ],
   "id": "f44491fada2060bd",
   "outputs": [],
   "execution_count": 30
  },
  {
   "metadata": {
    "ExecuteTime": {
     "end_time": "2024-05-30T10:07:40.449914Z",
     "start_time": "2024-05-30T10:07:40.447076Z"
    }
   },
   "cell_type": "code",
   "source": [
    "def process_category(category_name: str):\n",
    "    category_path = SRC_DIR / category_name\n",
    "    category_galleries = [\n",
    "        gallery\n",
    "        for gallery in os.listdir(category_path)\n",
    "        if (category_path / gallery).is_dir()\n",
    "    ]\n",
    "\n",
    "    results = []\n",
    "    with concurrent.futures.ThreadPoolExecutor() as executor:\n",
    "        future_to_gallery = [\n",
    "            executor.submit(process_gallery, category_name, gallery)\n",
    "            for gallery in category_galleries[:5]\n",
    "        ]\n",
    "\n",
    "        for future in tqdm(\n",
    "                concurrent.futures.as_completed(future_to_gallery),\n",
    "                total=len(future_to_gallery),\n",
    "                desc=f\"Processing {category_name}\",\n",
    "                unit=\"gallery\"\n",
    "        ):\n",
    "            gallery_info = future.result()\n",
    "            if gallery_info:\n",
    "                results.append(gallery_info)\n",
    "\n",
    "    return results"
   ],
   "id": "f2414508c8b9e7da",
   "outputs": [],
   "execution_count": 31
  },
  {
   "metadata": {
    "ExecuteTime": {
     "end_time": "2024-05-30T10:07:40.648574Z",
     "start_time": "2024-05-30T10:07:40.645960Z"
    }
   },
   "cell_type": "code",
   "source": [
    "def crawl_images_folder():\n",
    "    categories = [category for category in os.listdir(SRC_DIR) if (SRC_DIR / category).is_dir()]\n",
    "\n",
    "    all_galleries_info = []\n",
    "    with concurrent.futures.ThreadPoolExecutor() as executor:\n",
    "        future_to_category = [executor.submit(process_category, category) for category in categories]\n",
    "        for future in tqdm(concurrent.futures.as_completed(future_to_category), total=len(future_to_category),\n",
    "                           desc=\"Processing categories\", unit=\"category\"):\n",
    "            category_galleries_info = future.result()\n",
    "            all_galleries_info.extend(category_galleries_info)\n",
    "\n",
    "    return all_galleries_info"
   ],
   "id": "76e69a8a11f4a80f",
   "outputs": [],
   "execution_count": 32
  },
  {
   "metadata": {
    "ExecuteTime": {
     "end_time": "2024-05-30T10:07:41.473172Z",
     "start_time": "2024-05-30T10:07:40.809514Z"
    }
   },
   "cell_type": "code",
   "source": [
    "# Crawl the folder and get all galleries info\n",
    "all_galleries_info = crawl_images_folder()\n",
    "\n",
    "# Convert the data to a pandas DataFrame\n",
    "df = pd.DataFrame(all_galleries_info)"
   ],
   "id": "eb4e3a71e20d3cee",
   "outputs": [
    {
     "name": "stderr",
     "output_type": "stream",
     "text": [
      "Processing categories:   0%|          | 0/38 [00:00<?, ?category/s]\n",
      "Processing yoga-pants: 100%|██████████| 5/5 [00:00<00:00, 36157.79gallery/s]\n",
      "\n",
      "Processing uniform: 100%|██████████| 5/5 [00:00<00:00, 5040.02gallery/s]\n",
      "Processing categories:   5%|▌         | 2/38 [00:00<00:01, 18.91category/s]\n",
      "Processing teen: 100%|██████████| 5/5 [00:00<00:00, 9981.68gallery/s]\n",
      "\n",
      "Processing non-nude:   0%|          | 0/5 [00:00<?, ?gallery/s]\u001B[A\n",
      "\n",
      "Processing non-nude: 100%|██████████| 5/5 [00:00<00:00, 325.60gallery/s]\n",
      "\n",
      "Processing selfie:   0%|          | 0/5 [00:00<?, ?gallery/s]\u001B[A\n",
      "\n",
      "\n",
      "Processing nurse: 100%|██████████| 5/5 [00:00<00:00, 430.14gallery/s][A\u001B[A\n",
      "Processing selfie: 100%|██████████| 5/5 [00:00<00:00, 735.20gallery/s]\n",
      "Processing saggy-tits: 100%|██████████| 5/5 [00:00<00:00, 1348.13gallery/s]\n",
      "\n",
      "Processing smoking:   0%|          | 0/5 [00:00<?, ?gallery/s]\u001B[A\n",
      "\n",
      "Processing office: 100%|██████████| 5/5 [00:00<00:00, 2080.51gallery/s]\n",
      "Processing smoking: 100%|██████████| 5/5 [00:00<00:00, 347.03gallery/s]\n",
      "\n",
      "Processing categories:  21%|██        | 8/38 [00:00<00:00, 41.90category/s]\n",
      "\n",
      "Processing bondage: 100%|██████████| 5/5 [00:00<00:00, 277.22gallery/s]\n",
      "Processing homemade: 100%|██████████| 5/5 [00:00<00:00, 1517.92gallery/s]\n",
      "\n",
      "Processing spreading:   0%|          | 0/5 [00:00<?, ?gallery/s]\u001B[A\n",
      "\n",
      "Processing boots:   0%|          | 0/5 [00:00<?, ?gallery/s]\u001B[A\u001B[A\n",
      "\n",
      "\n",
      "Processing spreading: 100%|██████████| 5/5 [00:00<00:00, 217.36gallery/s]\n",
      "Processing boots: 100%|██████████| 5/5 [00:00<00:00, 338.84gallery/s]\n",
      "Processing maid: 100%|██████████| 5/5 [00:00<00:00, 626.31gallery/s]\n",
      "\n",
      "Processing jeans:   0%|          | 0/5 [00:00<?, ?gallery/s]\u001B[A\n",
      "\n",
      "Processing jeans: 100%|██████████| 5/5 [00:00<00:00, 331.39gallery/s]A\u001B[A\n",
      "Processing natural-tits: 100%|██████████| 5/5 [00:00<00:00, 1293.66gallery/s]\n",
      "Processing categories:  39%|███▉      | 15/38 [00:00<00:00, 51.28category/s]\n",
      "Processing tattoo:   0%|          | 0/5 [00:00<?, ?gallery/s]\u001B[A\n",
      "\n",
      "Processing tattoo: 100%|██████████| 5/5 [00:00<00:00, 548.43gallery/s]\n",
      "\n",
      "\n",
      "\n",
      "Processing granny: 100%|██████████| 5/5 [00:00<00:00, 464.22gallery/s]\u001B[A\n",
      "\n",
      "Processing curvy:   0%|          | 0/5 [00:00<?, ?gallery/s]\u001B[A\n",
      "\n",
      "Processing stockings: 100%|██████████| 5/5 [00:00<00:00, 346.41gallery/s]\n",
      "Processing curvy: 100%|██████████| 5/5 [00:00<00:00, 672.94gallery/s]\n",
      "Processing amateur: 100%|██████████| 5/5 [00:00<00:00, 938.83gallery/s]\n",
      "\n",
      "Processing thick: 100%|██████████| 5/5 [00:00<00:00, 9827.33gallery/s]\n",
      "\n",
      "Processing upskirt: 100%|██████████| 5/5 [00:00<00:00, 3124.95gallery/s]\n",
      "\n",
      "Processing glasses: 100%|██████████| 5/5 [00:00<00:00, 2436.85gallery/s]y/s]\n",
      "\n",
      "Processing sports: 100%|██████████| 5/5 [00:00<00:00, 44243.71gallery/s]\n",
      "\n",
      "Processing chubby:   0%|          | 0/5 [00:00<?, ?gallery/s]\u001B[A\n",
      "\n",
      "Processing chubby: 100%|██████████| 5/5 [00:00<00:00, 363.75gallery/s]\n",
      "Processing mature: 100%|██████████| 5/5 [00:00<00:00, 2293.47gallery/s]\n",
      "\n",
      "Processing clothed: 100%|██████████| 5/5 [00:00<00:00, 97541.95gallery/s]\n",
      "\n",
      "Processing christmas: 100%|██████████| 5/5 [00:00<00:00, 1359.05gallery/s]\n",
      "\n",
      "Processing doggystyle:   0%|          | 0/5 [00:00<?, ?gallery/s]\u001B[A\n",
      "\n",
      "Processing doggystyle: 100%|██████████| 5/5 [00:00<00:00, 750.40gallery/s]s]\n",
      "Processing housewife: 100%|██████████| 5/5 [00:00<00:00, 934.19gallery/s]\n",
      "\n",
      "Processing socks:   0%|          | 0/5 [00:00<?, ?gallery/s]\u001B[A\n",
      "\n",
      "Processing milf:   0%|          | 0/5 [00:00<?, ?gallery/s]\u001B[A\u001B[A\n",
      "\n",
      "\n",
      "Processing solo:   0%|          | 0/5 [00:00<?, ?gallery/s]\u001B[A\u001B[A\u001B[A\n",
      "\n",
      "\n",
      "\n",
      "Processing milf: 100%|██████████| 5/5 [00:00<00:00, 1238.50gallery/s]\u001B[A\n",
      "Processing socks: 100%|██████████| 5/5 [00:00<00:00, 599.31gallery/s]\n",
      "\n",
      "Processing undressing:   0%|          | 0/5 [00:00<?, ?gallery/s]\u001B[A\n",
      "\n",
      "Processing solo: 100%|██████████| 5/5 [00:00<00:00, 608.58gallery/s]A\n",
      "Processing white: 100%|██████████| 5/5 [00:00<00:00, 816.58gallery/s]\n",
      "Processing undressing: 100%|██████████| 5/5 [00:00<00:00, 1587.79gallery/s]\n",
      "Processing lingerie: 100%|██████████| 5/5 [00:00<00:00, 1329.41gallery/s]\n",
      "\n",
      "Processing high-heels: 100%|██████████| 5/5 [00:00<00:00, 12595.51gallery/s]\n",
      "Processing categories: 100%|██████████| 38/38 [00:00<00:00, 59.03category/s]\n"
     ]
    }
   ],
   "execution_count": 33
  },
  {
   "metadata": {
    "ExecuteTime": {
     "end_time": "2024-05-30T10:07:41.838275Z",
     "start_time": "2024-05-30T10:07:41.826712Z"
    }
   },
   "cell_type": "code",
   "source": "df",
   "id": "45fd535e29c985f2",
   "outputs": [
    {
     "data": {
      "text/plain": [
       "       category                                       gallery_name  \\\n",
       "0    yoga-pants  18-year-old-girl-exposes-big-tits-while-seduci...   \n",
       "1    yoga-pants  42-yo-brunette-kendra-lust-shows-off-her-big-a...   \n",
       "2    yoga-pants  39yo-mom-sybil-stallone-exposes-her-big-tits-a...   \n",
       "3    yoga-pants     18-eighteen-featuring-zaya-hot-photos-89473033   \n",
       "4       uniform  blonde-stewardess-chloe-temple-gets-blacked-by...   \n",
       "..          ...                                                ...   \n",
       "184  high-heels  naughty-lesbians-emily-willis-and-charlotte-st...   \n",
       "185  high-heels  tattooed-teen-laidylaixxoff-pulls-down-her-tho...   \n",
       "186  high-heels  sexy-czech-milf-anetta-keys-fingers-her-hot-pu...   \n",
       "187  high-heels                         only-tease-sara-a-26561005   \n",
       "188  high-heels  freya-parker-chanel-camryn-get-totally-naked-d...   \n",
       "\n",
       "                                             filenames  \\\n",
       "0    [33817413_011_2ae8.jpg, 33817413_009_3dd8.jpg,...   \n",
       "1    [41013268_008_ecde.jpg, 41013268_002_058b.jpg,...   \n",
       "2    [11272519_080_a691.jpg, 11272519_014_e446.jpg,...   \n",
       "3    [89473033_007_15b7.jpg, 89473033_002_9f37.jpg,...   \n",
       "4    [28804412_238_7829.jpg, 28804412_045_11ce.jpg,...   \n",
       "..                                                 ...   \n",
       "184  [25442866_065_47f9.jpg, 25442866_050_3ebb.jpg,...   \n",
       "185  [89854038_002_0e6c.jpg, 89854038_009_4524.jpg,...   \n",
       "186  [98688713_177_4414.jpg, 98688713_015_2f3c.jpg,...   \n",
       "187  [26561005_085_f9dd.jpg, 26561005_062_5116.jpg,...   \n",
       "188  [23311660_013_6706.jpg, 23311660_002_d982.jpg,...   \n",
       "\n",
       "                                        channel  \\\n",
       "0                                HD Sex 18 Pics   \n",
       "1                                Perv City Pics   \n",
       "2                            Reality Kings Pics   \n",
       "3                              18 Eighteen Pics   \n",
       "4    Dogfart Network PicsBlacks On Blondes Pics   \n",
       "..                                          ...   \n",
       "184                                 Slayed Pics   \n",
       "185                           Fitting Room Pics   \n",
       "186                       Hungarian Honeys Pics   \n",
       "187          Only All Sites PicsOnly Tease Pics   \n",
       "188       Nubile Films PicsGirls Only Porn Pics   \n",
       "\n",
       "                                            models  \\\n",
       "0                                      [Jeycy Fox]   \n",
       "1                      [Kendra Lust, Mike Adriano]   \n",
       "2                      [Alex Jett, Sybil Stallone]   \n",
       "3                                           [Zaya]   \n",
       "4    [Chloe Temple, Isiah Maxwell, Prince Yahshua]   \n",
       "..                                             ...   \n",
       "184              [Charlotte Stokely, Emily Willis]   \n",
       "185                                [Laidylaixxoff]   \n",
       "186                                  [Anetta Keys]   \n",
       "187                                       [Sara A]   \n",
       "188                  [Chanel Camryn, Freya Parker]   \n",
       "\n",
       "                                            categories  \\\n",
       "0    [Hardcore, Doggy Style, Yoga Pants, Teen, Ass,...   \n",
       "1    [MILF, Yoga Pants, Mature, Pornstar, Emo, Brun...   \n",
       "2    [Mom, Brazilian, Yoga Pants, Thick, MILF, Big ...   \n",
       "3    [Undressing, Yoga Pants, Babe, Clothed, Ass, A...   \n",
       "4    [Big Cock, Interracial, Groupsex, Cumshot, Uni...   \n",
       "..                                                 ...   \n",
       "184  [Pussy, Pornstar, Lesbian, Ass, Humping, Natur...   \n",
       "185  [Tattoo, Ass, Panties, Face, Model, Close Up, ...   \n",
       "186  [High Heels, MILF, Natural Tits, Spreading, Ti...   \n",
       "187  [Upskirt, Stockings, Skirt, Clothed, Feet, Und...   \n",
       "188  [PAWG, High Heels, Upskirt, Shorts, Ass, Reali...   \n",
       "\n",
       "                                             tags_list rating    views  \n",
       "0    [Leggings Ass, Big Natural Tits Teen, Teen Yog...    84%   14,267  \n",
       "1    [MILF, Perfect, Leggings, Sexy Mature Women, M...    94%  305,917  \n",
       "2    [MILF, Mom Ass Fuck, Big Ass Mom, Big Ass In Y...    84%  273,819  \n",
       "3    [Amateur Undressing, Flat Chested Teen, Skinny...    87%  115,190  \n",
       "4                                       [Monster Cock]    50%   46,867  \n",
       "..                                                 ...    ...      ...  \n",
       "184                                                NaN   100%   10,218  \n",
       "185                           [Bent Over Panties Down]   100%    1,835  \n",
       "186                                 [MILF, High Heels]   100%   18,305  \n",
       "187              [Feet Tease, Nylon Feet, Nylon Soles]   100%    5,026  \n",
       "188        [Ass In Shorts, Booty Shorts, Lesbian Feet]   100%    8,578  \n",
       "\n",
       "[189 rows x 9 columns]"
      ],
      "text/html": [
       "<div>\n",
       "<style scoped>\n",
       "    .dataframe tbody tr th:only-of-type {\n",
       "        vertical-align: middle;\n",
       "    }\n",
       "\n",
       "    .dataframe tbody tr th {\n",
       "        vertical-align: top;\n",
       "    }\n",
       "\n",
       "    .dataframe thead th {\n",
       "        text-align: right;\n",
       "    }\n",
       "</style>\n",
       "<table border=\"1\" class=\"dataframe\">\n",
       "  <thead>\n",
       "    <tr style=\"text-align: right;\">\n",
       "      <th></th>\n",
       "      <th>category</th>\n",
       "      <th>gallery_name</th>\n",
       "      <th>filenames</th>\n",
       "      <th>channel</th>\n",
       "      <th>models</th>\n",
       "      <th>categories</th>\n",
       "      <th>tags_list</th>\n",
       "      <th>rating</th>\n",
       "      <th>views</th>\n",
       "    </tr>\n",
       "  </thead>\n",
       "  <tbody>\n",
       "    <tr>\n",
       "      <th>0</th>\n",
       "      <td>yoga-pants</td>\n",
       "      <td>18-year-old-girl-exposes-big-tits-while-seduci...</td>\n",
       "      <td>[33817413_011_2ae8.jpg, 33817413_009_3dd8.jpg,...</td>\n",
       "      <td>HD Sex 18 Pics</td>\n",
       "      <td>[Jeycy Fox]</td>\n",
       "      <td>[Hardcore, Doggy Style, Yoga Pants, Teen, Ass,...</td>\n",
       "      <td>[Leggings Ass, Big Natural Tits Teen, Teen Yog...</td>\n",
       "      <td>84%</td>\n",
       "      <td>14,267</td>\n",
       "    </tr>\n",
       "    <tr>\n",
       "      <th>1</th>\n",
       "      <td>yoga-pants</td>\n",
       "      <td>42-yo-brunette-kendra-lust-shows-off-her-big-a...</td>\n",
       "      <td>[41013268_008_ecde.jpg, 41013268_002_058b.jpg,...</td>\n",
       "      <td>Perv City Pics</td>\n",
       "      <td>[Kendra Lust, Mike Adriano]</td>\n",
       "      <td>[MILF, Yoga Pants, Mature, Pornstar, Emo, Brun...</td>\n",
       "      <td>[MILF, Perfect, Leggings, Sexy Mature Women, M...</td>\n",
       "      <td>94%</td>\n",
       "      <td>305,917</td>\n",
       "    </tr>\n",
       "    <tr>\n",
       "      <th>2</th>\n",
       "      <td>yoga-pants</td>\n",
       "      <td>39yo-mom-sybil-stallone-exposes-her-big-tits-a...</td>\n",
       "      <td>[11272519_080_a691.jpg, 11272519_014_e446.jpg,...</td>\n",
       "      <td>Reality Kings Pics</td>\n",
       "      <td>[Alex Jett, Sybil Stallone]</td>\n",
       "      <td>[Mom, Brazilian, Yoga Pants, Thick, MILF, Big ...</td>\n",
       "      <td>[MILF, Mom Ass Fuck, Big Ass Mom, Big Ass In Y...</td>\n",
       "      <td>84%</td>\n",
       "      <td>273,819</td>\n",
       "    </tr>\n",
       "    <tr>\n",
       "      <th>3</th>\n",
       "      <td>yoga-pants</td>\n",
       "      <td>18-eighteen-featuring-zaya-hot-photos-89473033</td>\n",
       "      <td>[89473033_007_15b7.jpg, 89473033_002_9f37.jpg,...</td>\n",
       "      <td>18 Eighteen Pics</td>\n",
       "      <td>[Zaya]</td>\n",
       "      <td>[Undressing, Yoga Pants, Babe, Clothed, Ass, A...</td>\n",
       "      <td>[Amateur Undressing, Flat Chested Teen, Skinny...</td>\n",
       "      <td>87%</td>\n",
       "      <td>115,190</td>\n",
       "    </tr>\n",
       "    <tr>\n",
       "      <th>4</th>\n",
       "      <td>uniform</td>\n",
       "      <td>blonde-stewardess-chloe-temple-gets-blacked-by...</td>\n",
       "      <td>[28804412_238_7829.jpg, 28804412_045_11ce.jpg,...</td>\n",
       "      <td>Dogfart Network PicsBlacks On Blondes Pics</td>\n",
       "      <td>[Chloe Temple, Isiah Maxwell, Prince Yahshua]</td>\n",
       "      <td>[Big Cock, Interracial, Groupsex, Cumshot, Uni...</td>\n",
       "      <td>[Monster Cock]</td>\n",
       "      <td>50%</td>\n",
       "      <td>46,867</td>\n",
       "    </tr>\n",
       "    <tr>\n",
       "      <th>...</th>\n",
       "      <td>...</td>\n",
       "      <td>...</td>\n",
       "      <td>...</td>\n",
       "      <td>...</td>\n",
       "      <td>...</td>\n",
       "      <td>...</td>\n",
       "      <td>...</td>\n",
       "      <td>...</td>\n",
       "      <td>...</td>\n",
       "    </tr>\n",
       "    <tr>\n",
       "      <th>184</th>\n",
       "      <td>high-heels</td>\n",
       "      <td>naughty-lesbians-emily-willis-and-charlotte-st...</td>\n",
       "      <td>[25442866_065_47f9.jpg, 25442866_050_3ebb.jpg,...</td>\n",
       "      <td>Slayed Pics</td>\n",
       "      <td>[Charlotte Stokely, Emily Willis]</td>\n",
       "      <td>[Pussy, Pornstar, Lesbian, Ass, Humping, Natur...</td>\n",
       "      <td>NaN</td>\n",
       "      <td>100%</td>\n",
       "      <td>10,218</td>\n",
       "    </tr>\n",
       "    <tr>\n",
       "      <th>185</th>\n",
       "      <td>high-heels</td>\n",
       "      <td>tattooed-teen-laidylaixxoff-pulls-down-her-tho...</td>\n",
       "      <td>[89854038_002_0e6c.jpg, 89854038_009_4524.jpg,...</td>\n",
       "      <td>Fitting Room Pics</td>\n",
       "      <td>[Laidylaixxoff]</td>\n",
       "      <td>[Tattoo, Ass, Panties, Face, Model, Close Up, ...</td>\n",
       "      <td>[Bent Over Panties Down]</td>\n",
       "      <td>100%</td>\n",
       "      <td>1,835</td>\n",
       "    </tr>\n",
       "    <tr>\n",
       "      <th>186</th>\n",
       "      <td>high-heels</td>\n",
       "      <td>sexy-czech-milf-anetta-keys-fingers-her-hot-pu...</td>\n",
       "      <td>[98688713_177_4414.jpg, 98688713_015_2f3c.jpg,...</td>\n",
       "      <td>Hungarian Honeys Pics</td>\n",
       "      <td>[Anetta Keys]</td>\n",
       "      <td>[High Heels, MILF, Natural Tits, Spreading, Ti...</td>\n",
       "      <td>[MILF, High Heels]</td>\n",
       "      <td>100%</td>\n",
       "      <td>18,305</td>\n",
       "    </tr>\n",
       "    <tr>\n",
       "      <th>187</th>\n",
       "      <td>high-heels</td>\n",
       "      <td>only-tease-sara-a-26561005</td>\n",
       "      <td>[26561005_085_f9dd.jpg, 26561005_062_5116.jpg,...</td>\n",
       "      <td>Only All Sites PicsOnly Tease Pics</td>\n",
       "      <td>[Sara A]</td>\n",
       "      <td>[Upskirt, Stockings, Skirt, Clothed, Feet, Und...</td>\n",
       "      <td>[Feet Tease, Nylon Feet, Nylon Soles]</td>\n",
       "      <td>100%</td>\n",
       "      <td>5,026</td>\n",
       "    </tr>\n",
       "    <tr>\n",
       "      <th>188</th>\n",
       "      <td>high-heels</td>\n",
       "      <td>freya-parker-chanel-camryn-get-totally-naked-d...</td>\n",
       "      <td>[23311660_013_6706.jpg, 23311660_002_d982.jpg,...</td>\n",
       "      <td>Nubile Films PicsGirls Only Porn Pics</td>\n",
       "      <td>[Chanel Camryn, Freya Parker]</td>\n",
       "      <td>[PAWG, High Heels, Upskirt, Shorts, Ass, Reali...</td>\n",
       "      <td>[Ass In Shorts, Booty Shorts, Lesbian Feet]</td>\n",
       "      <td>100%</td>\n",
       "      <td>8,578</td>\n",
       "    </tr>\n",
       "  </tbody>\n",
       "</table>\n",
       "<p>189 rows × 9 columns</p>\n",
       "</div>"
      ]
     },
     "execution_count": 34,
     "metadata": {},
     "output_type": "execute_result"
    }
   ],
   "execution_count": 34
  },
  {
   "metadata": {
    "ExecuteTime": {
     "end_time": "2024-05-30T10:07:42.590661Z",
     "start_time": "2024-05-30T10:07:42.588432Z"
    }
   },
   "cell_type": "code",
   "source": [
    "from wordcloud import WordCloud\n",
    "import matplotlib.pyplot as plt"
   ],
   "id": "fbcfd6ff3a11b2b4",
   "outputs": [],
   "execution_count": 35
  },
  {
   "metadata": {
    "ExecuteTime": {
     "end_time": "2024-05-30T10:07:42.934653Z",
     "start_time": "2024-05-30T10:07:42.925402Z"
    }
   },
   "cell_type": "code",
   "source": [
    "all_tags = [sublist for sublist in df['tags_list'].values if sublist != [] and not isinstance(sublist, float)]\n",
    "all_tags"
   ],
   "id": "601c80ba076350cc",
   "outputs": [
    {
     "data": {
      "text/plain": [
       "[['Leggings Ass',\n",
       "  'Big Natural Tits Teen',\n",
       "  'Teen Yoga Pants',\n",
       "  'Big Ass In Yoga Pants',\n",
       "  'Busty Teen Fuck',\n",
       "  'Big Tits Teen',\n",
       "  'Big Tits Fuck',\n",
       "  'Yoga Pants Ass'],\n",
       " ['MILF',\n",
       "  'Perfect',\n",
       "  'Leggings',\n",
       "  'Sexy Mature Women',\n",
       "  'Mature Yoga Pants',\n",
       "  'Mature Solo'],\n",
       " ['MILF',\n",
       "  'Mom Ass Fuck',\n",
       "  'Big Ass Mom',\n",
       "  'Big Ass In Yoga Pants',\n",
       "  'Mom Fuck',\n",
       "  'Big Tits Mom',\n",
       "  'Latina Mom',\n",
       "  'Brazilian'],\n",
       " ['Amateur Undressing',\n",
       "  'Flat Chested Teen',\n",
       "  'Skinny Leggings',\n",
       "  'Teen Yoga Pants',\n",
       "  'Tiny Tits Teen',\n",
       "  'Amateur Yoga Pants',\n",
       "  'Teen Leggings'],\n",
       " ['Monster Cock'],\n",
       " ['Asian Teen',\n",
       "  'Hot Naked Women',\n",
       "  'Gloves',\n",
       "  'Asian Babe',\n",
       "  'Cute Asian',\n",
       "  'Asian Lingerie',\n",
       "  'Asian Boots',\n",
       "  'Asian Ass'],\n",
       " ['Upskirt Panties', 'Petite', 'Rough', 'Blowjob', 'BDSM', 'Office Upskirt'],\n",
       " ['Teen Feet',\n",
       "  'Flat Chested Teen',\n",
       "  'Shaved Teen Pussy',\n",
       "  'Perfect Ass',\n",
       "  'Teen Pussy Close Up',\n",
       "  'Tiny Tits Teen',\n",
       "  'Teen Ass Pussy'],\n",
       " ['Lingerie Stockings',\n",
       "  'Busty Secretary',\n",
       "  'Secretary Stockings',\n",
       "  'Upskirt No Panties',\n",
       "  'Big Ass Skirt',\n",
       "  'Bent Over Skirt',\n",
       "  'Secretary Ass',\n",
       "  'Big Tits Secretary'],\n",
       " ['Flat Chested Teen',\n",
       "  'Blonde Teen',\n",
       "  'Beautiful Teen',\n",
       "  'Teen Ass',\n",
       "  'Short Hair Skinny',\n",
       "  'Short Hair Teen',\n",
       "  'Skinny Small Tits',\n",
       "  'Short Hair Small Tits'],\n",
       " ['Hot Naked Girls', 'Very Skinny'],\n",
       " ['Asian Teen',\n",
       "  'Asian Babe',\n",
       "  'Cute Asian',\n",
       "  'Beautiful Asian',\n",
       "  'Asian Solo',\n",
       "  'Teen Babe',\n",
       "  'Hairy Asian Pussy',\n",
       "  'Perfect Teen Body'],\n",
       " ['Tight Ass',\n",
       "  'Amateur Ass',\n",
       "  'Big Tits Babe',\n",
       "  'Sexy Ass',\n",
       "  'Amateur Spreading',\n",
       "  'Big Tits Teen',\n",
       "  'Amateur Teen',\n",
       "  'Teen Jeans'],\n",
       " ['Amateur Latina'],\n",
       " ['Skirt And Stockings', 'Teen Nylon', 'Leather Skirt'],\n",
       " ['Upskirt Panties',\n",
       "  'Bent Over Panties',\n",
       "  'Beautiful Ass',\n",
       "  'Upskirt Stockings',\n",
       "  'Skirt And Stockings'],\n",
       " ['MILF', 'Outdoor Bikini', 'Redhead', 'Amateur Bikini'],\n",
       " ['Sexy Nurse'],\n",
       " ['MILF', 'Lingerie', 'Beautiful Face', 'Lesbian Fisting', 'BDSM'],\n",
       " ['Thick',\n",
       "  'Curvy',\n",
       "  'MILF',\n",
       "  'Big Ass  Ass Masturbation',\n",
       "  'Big Tits',\n",
       "  'Lingerie Panties'],\n",
       " ['Big Tits Hardcore',\n",
       "  'Short Hair Big Tits',\n",
       "  'MILF',\n",
       "  'Big Tits Nurse',\n",
       "  'Mature Nurse',\n",
       "  'Busty',\n",
       "  'Big Tits Riding',\n",
       "  'Big Tits Fuck'],\n",
       " ['MILF',\n",
       "  'Mom Pussy',\n",
       "  'Eating Moms Pussy',\n",
       "  'Lesbian Stepmom',\n",
       "  'Mature Pussy Licking',\n",
       "  'Mature Face',\n",
       "  'Lesbian Pussy Licking',\n",
       "  'Czech Mature'],\n",
       " ['Teen Saggy Tits',\n",
       "  'Cute Panties',\n",
       "  'Amateur Natural Tits',\n",
       "  'Big Tits Amateur',\n",
       "  'Big Saggy Tits',\n",
       "  'Bent Over Panties Down',\n",
       "  'Teen Lingerie',\n",
       "  'Teen Ass Pussy'],\n",
       " ['Blonde Big Tits',\n",
       "  'Big Natural Tits',\n",
       "  'Open Pussy',\n",
       "  'Big Tits Pussy',\n",
       "  'Big Tits Amateur',\n",
       "  'Huge Natural Tits',\n",
       "  'Hanging Tits',\n",
       "  'Beautiful Tits'],\n",
       " ['Big Tits Stockings',\n",
       "  'Blonde Big Tits',\n",
       "  'Big Natural Tits',\n",
       "  'Big Saggy Tits',\n",
       "  'Sexy Stockings',\n",
       "  'Blonde Tits',\n",
       "  'Sexy Big Tits'],\n",
       " ['Mature Handjob',\n",
       "  'Tall Skinny',\n",
       "  'Skinny Saggy Tits',\n",
       "  'Mature Saggy Tits',\n",
       "  'Mature Tits',\n",
       "  'American Mature',\n",
       "  'Skinny Mature',\n",
       "  'Mature Wife'],\n",
       " ['Mature Open Pussy',\n",
       "  'Mature Pussy',\n",
       "  'Mature Saggy Tits',\n",
       "  'Mature Spreading',\n",
       "  'Natural Mature',\n",
       "  'Sauna',\n",
       "  'Hairy Mature Spread',\n",
       "  'Mature Ass'],\n",
       " ['Homemade Selfie',\n",
       "  'Amateur Teen Selfie',\n",
       "  'Sexy Selfie',\n",
       "  'Boobs Selfie',\n",
       "  'Amateur Homemade',\n",
       "  'Bra',\n",
       "  'Amateur Selfie'],\n",
       " ['Fitness Body',\n",
       "  'Teen Fake Tits',\n",
       "  'Amateur Teen Selfie',\n",
       "  'Boobs Selfie',\n",
       "  'Amateur Selfie',\n",
       "  'Fit Ass',\n",
       "  'Big Pierced Tits'],\n",
       " ['Amateur Teen Selfie', 'Big Tits Selfie', 'Boobs Selfie', 'Amateur Selfie'],\n",
       " ['Homemade Selfie',\n",
       "  'Sexy Selfie',\n",
       "  'Busty Brunette',\n",
       "  'Big Tits Selfie',\n",
       "  'Big Tits Babe',\n",
       "  'Boobs Selfie',\n",
       "  'Big Tits Brunette',\n",
       "  'Big Tits Latina'],\n",
       " ['Chubby Redhead', 'Thick Amateur', 'Homemade Selfie', 'Chubby Amateur'],\n",
       " ['MILF',\n",
       "  'Feet Licking',\n",
       "  'Secretary Blowjob',\n",
       "  'Secretary Fuck',\n",
       "  'Secretary Seduction',\n",
       "  'Latina Fuck',\n",
       "  'Latina Feet',\n",
       "  'Latina Secretary'],\n",
       " ['Amateur Stockings', 'Nerdy  Skirt Glasses', 'Shaved', 'MILF'],\n",
       " ['Secretary Pussy',\n",
       "  'Secretary Blowjob',\n",
       "  'Stockings Fuck',\n",
       "  'Secretary Fuck',\n",
       "  'Secretary Cum',\n",
       "  'Secretary Stockings',\n",
       "  'Secretary Seduction',\n",
       "  'Boss And Secretary'],\n",
       " ['Stockings Fuck',\n",
       "  'Cum On Stockings',\n",
       "  'Pornstar Lingerie',\n",
       "  'Big Tits Titfuck',\n",
       "  'Beautiful Tits',\n",
       "  'Office Fuck',\n",
       "  'Cum On Tits',\n",
       "  'Big Tits Fuck'],\n",
       " ['Secretary Blowjob',\n",
       "  'Secretary Fuck',\n",
       "  'Secretary Cum',\n",
       "  'Blonde Secretary',\n",
       "  'Office Fuck',\n",
       "  'Cum On Tits',\n",
       "  'Secretary Handjob',\n",
       "  'Big Ass Doggystyle'],\n",
       " ['Sexy Redhead'],\n",
       " ['Amateur Small Tits',\n",
       "  'Blonde Small Tits',\n",
       "  'Amateur Solo',\n",
       "  'Short Hair Blonde',\n",
       "  'Short Hair Small Tits'],\n",
       " ['Stockings Solo', 'MILF', 'Big Tits Babe'],\n",
       " ['Big Tits Brunette', 'Busty Brunette'],\n",
       " ['Big Tits Latina', 'Bride'],\n",
       " ['Beautiful Face'],\n",
       " ['BDSM', 'Busty', 'Big Tits', 'Short Hair Redhead'],\n",
       " ['Homemade Selfie',\n",
       "  'Amateur Teen Selfie',\n",
       "  'Sexy Selfie',\n",
       "  'Boobs Selfie',\n",
       "  'Amateur Homemade',\n",
       "  'Bra',\n",
       "  'Amateur Selfie'],\n",
       " ['Amateur Anal', 'Amateur Homemade'],\n",
       " ['Amateur Homemade'],\n",
       " ['Amateur Homemade'],\n",
       " ['Amateur Homemade', 'Amateur Interracial'],\n",
       " ['Hairy Vagina', 'Hairy Asshole'],\n",
       " ['Hairy Teen Spreading',\n",
       "  'Pussy Ass',\n",
       "  'Hairy Vagina',\n",
       "  'Cute Face',\n",
       "  'Wet Pussy Close Up',\n",
       "  'Hairy Teen Pussy'],\n",
       " ['Hairy Teen', 'PAWG', 'Wet Pussy Close Up', 'Ass And Feet', 'Perfect Ass'],\n",
       " ['Sucking Dick',\n",
       "  'Blonde Glasses',\n",
       "  'Cum On Stockings',\n",
       "  'Cock In Pussy',\n",
       "  'Skirt And Stockings',\n",
       "  'Big Dick',\n",
       "  'Face Fuck'],\n",
       " ['Mature Open Pussy',\n",
       "  'Vagina',\n",
       "  'Mature Stockings',\n",
       "  'Mature Pussy',\n",
       "  'Beautiful Pussy',\n",
       "  'Mature Spreading',\n",
       "  'Mature Redhead',\n",
       "  'Mature Lingerie'],\n",
       " ['Thigh High Boots'],\n",
       " ['Thigh High Boots', 'Gloves'],\n",
       " ['Leggings Ass',\n",
       "  'Leggings Bent Over',\n",
       "  'Big Ass In Yoga Pants',\n",
       "  'Yoga Pants Ass'],\n",
       " ['MILF',\n",
       "  'Mini Skirt',\n",
       "  'Blonde',\n",
       "  'British',\n",
       "  'Nerdy',\n",
       "  'Sexy Stockings',\n",
       "  'Glasses Stockings Skirt'],\n",
       " ['Hot Naked Women',\n",
       "  'Pantyhose Ass',\n",
       "  'Sexy Blonde',\n",
       "  'Pantyhose Boots',\n",
       "  'Leather Skirt'],\n",
       " ['Stockings Fuck',\n",
       "  'French Maid',\n",
       "  'Upskirt No Panties',\n",
       "  'Cum On Panties',\n",
       "  'Maid Upskirt',\n",
       "  'Skinny Stockings',\n",
       "  'Cum In Panties',\n",
       "  'Sloppy Blowjob'],\n",
       " ['French Maid',\n",
       "  'Stockings Fuck',\n",
       "  'Interracial Cum In Mouth',\n",
       "  'PAWG',\n",
       "  'Panty Fuck',\n",
       "  'Mouth Full Of Cum'],\n",
       " ['MILF',\n",
       "  'Small Tits',\n",
       "  'Big Ass',\n",
       "  'Solo Pussy Stockings Lingerie',\n",
       "  'Maid Lingerie'],\n",
       " ['Handjob Cumshot', 'Latina Maid', 'Amateur Handjob', 'Teen Handjob'],\n",
       " ['Amateur Undressing',\n",
       "  'Big Natural Tits Teen',\n",
       "  'Spread Legs',\n",
       "  'Perfect Tits And Ass',\n",
       "  'Petite Teen Big Tits',\n",
       "  'Riding Dildo'],\n",
       " ['Amateur Undressing',\n",
       "  'Perfect Teen Body',\n",
       "  'Spread Legs Panties',\n",
       "  'Teen Ass'],\n",
       " ['Tight Jeans', 'Sexy Brunette'],\n",
       " ['First Time',\n",
       "  'Teen Ass',\n",
       "  'Jeans Ass',\n",
       "  'Sweater',\n",
       "  'Russian Teen',\n",
       "  'Beautiful Russian',\n",
       "  'Public Flashing'],\n",
       " ['Busty Hairy',\n",
       "  'Thick',\n",
       "  'Big Fat Tits',\n",
       "  'Cute Chubby',\n",
       "  'Curvy Hairy',\n",
       "  'Big Tits Amateur',\n",
       "  'BBW',\n",
       "  'PAWG'],\n",
       " ['Big Tits Doggystyle',\n",
       "  'Teen Blowjob',\n",
       "  'Big Tits Big Dick',\n",
       "  'Big Cock Blowjob',\n",
       "  'Topless In Jeans',\n",
       "  'Busty Teen Fuck',\n",
       "  'Teen Big Cock'],\n",
       " ['Flat Chested Teen',\n",
       "  'Perfect Teen Body',\n",
       "  'Petite Teen',\n",
       "  'Sneakers',\n",
       "  'Shaved Teen Pussy',\n",
       "  'Skinny Small Tits',\n",
       "  'Czech Teen'],\n",
       " ['Brunette Natural Tits', 'Spread Legs', 'Big Tits Shower'],\n",
       " ['Petite Blonde',\n",
       "  'Petite Anal',\n",
       "  'Teen Threesome',\n",
       "  'Anal Threesome',\n",
       "  'Trimmed Pussy'],\n",
       " ['MILF',\n",
       "  'Big Tits Pussy',\n",
       "  'Dildo Solo Masturbation',\n",
       "  'Big Tits Babe',\n",
       "  'Big Tits Nipples',\n",
       "  'Big Tits Masturbation'],\n",
       " ['MILF',\n",
       "  'Interracial Anal',\n",
       "  'Threesome',\n",
       "  'Big Tits Tattoo',\n",
       "  'Big Tits Threesome',\n",
       "  'Anal Threesome',\n",
       "  'DP'],\n",
       " ['Tongue',\n",
       "  'Ahegao',\n",
       "  'Pierced Nipples',\n",
       "  'Perky Tits',\n",
       "  'Redhead Freckles',\n",
       "  'Big Pierced Tits'],\n",
       " ['MILF', 'Pierced Nipples', 'Tattooed'],\n",
       " ['Big Tits Pornstar', 'Eating Hairy Pussy', 'Tongue', 'Ass Spread'],\n",
       " ['Granny Blowjob',\n",
       "  'Granny Fuck',\n",
       "  'Granny Sex',\n",
       "  'Granny Handjob',\n",
       "  'Granny Hardcore',\n",
       "  'Monster Cock',\n",
       "  'Beautiful Granny',\n",
       "  'Granny Lingerie'],\n",
       " ['Old Granny Tits',\n",
       "  'Nurse Upskirt',\n",
       "  'Granny Upskirt',\n",
       "  'Granny Spreading',\n",
       "  'Granny Over 70',\n",
       "  'Grandma',\n",
       "  'Very Old Granny',\n",
       "  'Granny Big Tits'],\n",
       " ['Very Hairy Granny',\n",
       "  'Old Hairy Granny',\n",
       "  'Petite Granny',\n",
       "  'Amateur Granny',\n",
       "  'Mature Hairy Pussy',\n",
       "  'Beautiful Granny',\n",
       "  'Hairy Mature'],\n",
       " ['Granny High Heels',\n",
       "  'Granny Big Tits',\n",
       "  'Granny Stockings',\n",
       "  'Granny Threesome',\n",
       "  'Granny Undressing',\n",
       "  'GILF',\n",
       "  'Granny Saggy Tits',\n",
       "  'Granny Lingerie'],\n",
       " ['MILF',\n",
       "  'Granny Over 70',\n",
       "  'Grandma',\n",
       "  'Amateur Granny',\n",
       "  'Mature Granny',\n",
       "  'Very Old Granny',\n",
       "  'Beautiful Granny'],\n",
       " ['Petite Anal',\n",
       "  'MILF',\n",
       "  'Gloves',\n",
       "  'Interracial Anal',\n",
       "  'Teen Bikini',\n",
       "  'High Heels Fuck',\n",
       "  'Petite Teen Fuck',\n",
       "  'Petite Bikini'],\n",
       " ['MILF', 'Lingerie', 'Natural  Handjob Upskirt'],\n",
       " ['High Heels Stockings', 'Nylon', 'Upskirt Stockings'],\n",
       " ['Curvy',\n",
       "  'POV',\n",
       "  'Thick Teen',\n",
       "  'Chubby Teen Ass',\n",
       "  'Chubby Teen Panties',\n",
       "  'Chubby Brunette',\n",
       "  'Big Tits Handjob'],\n",
       " ['Big Fat Tits',\n",
       "  'BBW',\n",
       "  'Mature Saggy Tits',\n",
       "  'Mature Big Tits',\n",
       "  'Busty Mature',\n",
       "  'Car',\n",
       "  'Legs',\n",
       "  'Chubby Mature'],\n",
       " ['Mature Handjob',\n",
       "  'Blowjob Cum',\n",
       "  'Chubby Blowjob',\n",
       "  'BBW',\n",
       "  'Mature Blowjob',\n",
       "  'Chubby Handjob'],\n",
       " ['Chubby Pussy',\n",
       "  'Fat Pussy',\n",
       "  'BBW',\n",
       "  'Thick Pussy',\n",
       "  'Fat Legs',\n",
       "  'Chubby Brunette',\n",
       "  'Solo',\n",
       "  'Thick Legs',\n",
       "  'Thick Amateur'],\n",
       " ['Lingerie',\n",
       "  'Chubby Blonde',\n",
       "  'MILF',\n",
       "  'BBW',\n",
       "  'British',\n",
       "  'High Heels Lingerie',\n",
       "  'Chubby Spreading',\n",
       "  'Wide Hips Thick Thighs'],\n",
       " ['Cute Amateur', 'Teen Group Sex', 'Teen Solo', 'Amateur Teen'],\n",
       " ['Panty Fuck', 'Innocent'],\n",
       " ['Petite Anal',\n",
       "  'Amateur Anal',\n",
       "  'POV',\n",
       "  'Petite Fuck',\n",
       "  'High Heels Fuck',\n",
       "  'Skinny Anal',\n",
       "  'Teen Anal',\n",
       "  'First Time Anal'],\n",
       " ['Mature Amateur',\n",
       "  'Big Tits Amateur',\n",
       "  'Mature Big Tits',\n",
       "  'Mature Outdoor',\n",
       "  'Mature Lingerie',\n",
       "  'Big Tits And Ass',\n",
       "  'Mature Ass'],\n",
       " ['Big Fat Tits',\n",
       "  'Hairy Lesbian',\n",
       "  'Mature Lesbian',\n",
       "  'BBW',\n",
       "  'Big Tits',\n",
       "  'Chubby Lesbian',\n",
       "  'Hairy  Mature'],\n",
       " ['Mature Fuck',\n",
       "  'Curvy Petite',\n",
       "  'Busty Petite',\n",
       "  'Mature Masturbation',\n",
       "  'Chubby Mature Latina',\n",
       "  'Mature Big Tits',\n",
       "  'Big Tits Latina'],\n",
       " ['Chubby Asian',\n",
       "  'Chubby Teen',\n",
       "  'Thick Teen',\n",
       "  'Thick Asian',\n",
       "  'Chubby Asian Teen',\n",
       "  'Petite Asian',\n",
       "  'Curvy Asian'],\n",
       " ['Amateur Outdoor',\n",
       "  'MILF',\n",
       "  'Homemade Pussy',\n",
       "  'Chubby Small Tits',\n",
       "  'Curvy Small Tits',\n",
       "  'BBW',\n",
       "  'Amateur Homemade',\n",
       "  'Chubby Asshole'],\n",
       " ['Natural Redhead',\n",
       "  'Short Skirt No Panties',\n",
       "  'Hairy Vagina',\n",
       "  'Teen Ass',\n",
       "  'Redhead Teen',\n",
       "  'Redhead Feet',\n",
       "  'Redhead Small Tits',\n",
       "  'Teen Feet'],\n",
       " ['Upskirt Panties',\n",
       "  'Asian Upskirt',\n",
       "  'Upskirt Pussy',\n",
       "  'Big Tits Pussy',\n",
       "  'Downblouse',\n",
       "  'Sexy Asian',\n",
       "  'Shaved Asian Pussy'],\n",
       " ['Chubby',\n",
       "  'MILF',\n",
       "  'Thick Mature',\n",
       "  'Curvy Blonde',\n",
       "  'Natural',\n",
       "  'Mature Upskirt',\n",
       "  'Amateur  Upskirt'],\n",
       " ['MILF',\n",
       "  'Cum On Stockings',\n",
       "  'British  Handjob',\n",
       "  'Group Cumshot',\n",
       "  'CFNM',\n",
       "  'Boss',\n",
       "  'Handjob Cumshot'],\n",
       " ['Sexy Lingerie'],\n",
       " ['Bent Over Upskirt',\n",
       "  'Sexy Nerd',\n",
       "  'Upskirt Panties',\n",
       "  'Brunette Glasses',\n",
       "  'Big Tits Glasses',\n",
       "  'Sexy Dress',\n",
       "  'Summer Dress'],\n",
       " ['Nerdy Glasses',\n",
       "  'Sexy Nerd',\n",
       "  'Hairy Armpits',\n",
       "  'Hairy Nerd',\n",
       "  'Beautiful Hairy',\n",
       "  'Amateur Hairy Pussy',\n",
       "  'Amateur Small Tits'],\n",
       " ['Chubby Legs',\n",
       "  'Big Tits Amateur',\n",
       "  'Chubby Amateur',\n",
       "  'Chubby Nerd',\n",
       "  'Chubby Glasses',\n",
       "  'British Big Tits',\n",
       "  'Chubby Skirt',\n",
       "  'Thick Legs'],\n",
       " ['MILF',\n",
       "  'Nerdy',\n",
       "  'Short Hair Glasses',\n",
       "  'Short Hair Blonde',\n",
       "  'Shaved  Shaved Pussy Panties'],\n",
       " ['Blonde Blowjob',\n",
       "  'Upskirt No Panties',\n",
       "  'Sexy Blonde',\n",
       "  'Short Skirt No Panties',\n",
       "  '69'],\n",
       " ['MILF',\n",
       "  'Wrestling',\n",
       "  'Lesbian Strapon',\n",
       "  'BBW',\n",
       "  'Bikini Bikini',\n",
       "  'Big Pierced Tits'],\n",
       " ['Busty Teen',\n",
       "  'Teen Outdoor',\n",
       "  'Teen Nudist',\n",
       "  'Gym Shorts',\n",
       "  'Fitness Model',\n",
       "  'Fitness Teen',\n",
       "  'Teen Sport',\n",
       "  'Perfect Teen Body'],\n",
       " ['Fitness Body'],\n",
       " ['Lingerie',\n",
       "  'Chubby Blonde',\n",
       "  'MILF',\n",
       "  'BBW',\n",
       "  'British',\n",
       "  'High Heels Lingerie',\n",
       "  'Chubby Spreading',\n",
       "  'Wide Hips Thick Thighs'],\n",
       " ['Big Tits Stockings',\n",
       "  'MILF',\n",
       "  'Big Tits Lingerie',\n",
       "  'Lingerie Stockings',\n",
       "  'Curvy Lingerie',\n",
       "  'BBW',\n",
       "  'Massive Tits',\n",
       "  'Big Tits And Ass'],\n",
       " ['Chubby Redhead', 'Thick Amateur', 'Homemade Selfie', 'Chubby Amateur'],\n",
       " ['Mature Handjob',\n",
       "  'Blowjob Cum',\n",
       "  'Chubby Blowjob',\n",
       "  'BBW',\n",
       "  'Mature Blowjob',\n",
       "  'Chubby Handjob'],\n",
       " ['MILF',\n",
       "  'Sexy',\n",
       "  'Mature Redhead',\n",
       "  'Over 40',\n",
       "  'American Mature',\n",
       "  'Mature Older Women',\n",
       "  'Over 60',\n",
       "  'Mature Massage'],\n",
       " ['Mature Amateur',\n",
       "  'Over 60',\n",
       "  'Natural Mature',\n",
       "  'Middle Aged Women',\n",
       "  'Mature Hairy Pussy',\n",
       "  'Hairy Mature',\n",
       "  'Horny Mature'],\n",
       " ['Mature Amateur', 'Mature Hairy Pussy', 'Hairy Mature'],\n",
       " ['MILF',\n",
       "  'Sexy Dress',\n",
       "  'Natural Mature',\n",
       "  'Hot',\n",
       "  'Mature Office',\n",
       "  'Mature High Heels'],\n",
       " ['Sexy Older Women',\n",
       "  'Over 50',\n",
       "  'Mature Redhead',\n",
       "  'Beautiful Mature',\n",
       "  'Mature Older Women',\n",
       "  'Over 60',\n",
       "  'British Mature'],\n",
       " ['Natural', 'MILF', 'Lingerie'],\n",
       " ['Stockings Amateur Spread Upskirt Upskirt Panties',\n",
       "  'Chubby Pussy',\n",
       "  'BBW',\n",
       "  'MILF'],\n",
       " ['MILF', 'Big Natural Tits', 'Busty', 'Big Tits', 'Santa'],\n",
       " ['BDSM', 'Lingerie'],\n",
       " ['Feet', 'Tight Ass', 'MILF', 'Big Ass  Stockings', 'Santa'],\n",
       " ['Big Fat Tits',\n",
       "  'Spread',\n",
       "  'BBW',\n",
       "  'Mature Big Tits',\n",
       "  'Chubby Big Tits',\n",
       "  'Mature Shaved Pussy'],\n",
       " ['Skinny Thong',\n",
       "  'Thong Bikini',\n",
       "  'Micro Bikini',\n",
       "  'Bikini Model',\n",
       "  'Sexy Thong',\n",
       "  'Santa',\n",
       "  'Bikini Ass',\n",
       "  'Sexy Ass'],\n",
       " ['Teen Facial', 'Oiled Ass'],\n",
       " ['Natural', 'MILF', 'Lingerie'],\n",
       " ['Kissing And Fucking', 'Teen Fuck', 'From Behind'],\n",
       " ['Cum On Tits', 'Cum On Face'],\n",
       " ['MILF',\n",
       "  'Busty Brunette',\n",
       "  'Open Asshole',\n",
       "  'Threesome',\n",
       "  'Big Ass  Ass',\n",
       "  'Penis',\n",
       "  'Big Dick In Pussy',\n",
       "  'Big Cock In Pussy'],\n",
       " ['Chubby Hairy Mature',\n",
       "  'Hairy Wife',\n",
       "  'Amateur Wife',\n",
       "  'Chubby Housewife',\n",
       "  'Hairy Housewife',\n",
       "  'Mature Hairy Pussy',\n",
       "  'Amateur Housewife',\n",
       "  'Mature Wife'],\n",
       " ['Wife Lingerie',\n",
       "  'Mature Amateur',\n",
       "  'Big Tits Amateur',\n",
       "  'Mature Big Tits',\n",
       "  'Amateur Wife',\n",
       "  'Big Tits Wife',\n",
       "  'Amateur Housewife',\n",
       "  'Mature Wife'],\n",
       " ['Sexy Older Women',\n",
       "  'Amateur Wife',\n",
       "  'Over 50',\n",
       "  'Beautiful Mature',\n",
       "  'Mature Older Women',\n",
       "  'Middle Aged Women',\n",
       "  'Amateur Housewife',\n",
       "  'Mature Wife'],\n",
       " ['Mature Housewives',\n",
       "  'Mature Masturbation',\n",
       "  'Mature Big Boobs',\n",
       "  'Mature Saggy Tits',\n",
       "  'Mature Big Tits',\n",
       "  'Mature Pussy',\n",
       "  'Mature Undressing',\n",
       "  'Amateur Housewife'],\n",
       " ['Mature Housewives', 'Amateur Housewife', 'Amateur Wife'],\n",
       " ['MILF', 'French'],\n",
       " ['MILF', 'Beautiful', 'Redhead', 'British', 'Sexy'],\n",
       " ['Natural  Upskirt Handjob', 'Lingerie', 'MILF'],\n",
       " ['Mature Pussy Spread',\n",
       "  'MILF',\n",
       "  'Mature Amateur',\n",
       "  'Mature Big Tits',\n",
       "  'Mature Feet',\n",
       "  'Mature Spreading',\n",
       "  'Beautiful Mature'],\n",
       " ['Spanish Pussy',\n",
       "  'Panties',\n",
       "  'Spread Legs',\n",
       "  'Spanish Teen',\n",
       "  'Teen Ass',\n",
       "  'PAWG',\n",
       "  'Teen Bent Over',\n",
       "  'Teen Model',\n",
       "  'Sexy Ass'],\n",
       " ['Sexy Pussy', 'Vagina', 'Close Up Blowjob', 'Small Pussy'],\n",
       " ['Ponytail'],\n",
       " ['Fitness Sex', 'Fitness Fuck', 'Wet Pussy Close Up'],\n",
       " ['Teen Blowjob',\n",
       "  'Skinny Ass Spread',\n",
       "  'Skinny Anal',\n",
       "  'Brunette Fuck',\n",
       "  'First Time Anal',\n",
       "  'Teen Ass Spread',\n",
       "  'Amateur Fuck'],\n",
       " ['Leggings Ass',\n",
       "  'Hot Naked Women',\n",
       "  'Hairy Vagina',\n",
       "  'Big Ass In Yoga Pants',\n",
       "  'Big Areolas',\n",
       "  'Sexy Ass',\n",
       "  'Brunette Ass',\n",
       "  'Yoga Pants Ass'],\n",
       " ['Tight Ass',\n",
       "  'Short Hair Big Tits',\n",
       "  'Skinny Teen',\n",
       "  'Bent Over No Panties',\n",
       "  'Pussy Ass',\n",
       "  'Skinny Big Tits',\n",
       "  'Short Hair Teen',\n",
       "  'Skinny Big Natural Tits'],\n",
       " ['Short Hair Brunette',\n",
       "  'C Cup Tits',\n",
       "  'B Cup Tits',\n",
       "  'Beautiful Face',\n",
       "  'Erect Nipples',\n",
       "  'Perky Tits',\n",
       "  'Pretty Face',\n",
       "  'Hard Nipples'],\n",
       " ['Chubby Redhead', 'Chubby Amateur'],\n",
       " ['Hot Naked Women', 'Beautiful Teen'],\n",
       " ['Hairy Ass Spread',\n",
       "  'Long Nipples',\n",
       "  'Vagina',\n",
       "  'Banana Tits',\n",
       "  'Pierced Nipples',\n",
       "  'Hairy Nipples',\n",
       "  'Bubble Butt'],\n",
       " ['Pale Brunette', 'Skinny Amateur'],\n",
       " ['Skinny Hairy',\n",
       "  'Amateur Petite',\n",
       "  'Hairy Petite',\n",
       "  'Hairy Amateur',\n",
       "  'Skinny Hairy Teen',\n",
       "  'Amateur Hairy Pussy',\n",
       "  'Hairy Teen Pussy'],\n",
       " ['Russian Teen', 'Beautiful Russian'],\n",
       " ['Teen Ass Pussy', 'Wet Pussy Close Up'],\n",
       " ['Nice Pussy',\n",
       "  'Sexy Pussy',\n",
       "  'Butt',\n",
       "  'Vagina',\n",
       "  'Beautiful Pussy',\n",
       "  'Wet Pussy',\n",
       "  'Cute Pussy',\n",
       "  'Teen Panties'],\n",
       " ['Pussy Feet', 'Busty Teen', 'Brunette Babe', 'Teen Feet'],\n",
       " ['Big Tits Pornstar',\n",
       "  'MILF',\n",
       "  'Centerfold Model',\n",
       "  'Asian Babe',\n",
       "  'Petite Big Tits',\n",
       "  'Petite Brunette',\n",
       "  'Asian Fake Tits',\n",
       "  'Asian Big Tits'],\n",
       " ['Lesbian Fingering',\n",
       "  'Pussy Ass',\n",
       "  'Nudist',\n",
       "  'Teen Nipples',\n",
       "  'Erect Nipples',\n",
       "  'Lesbian Ass',\n",
       "  'Lesbian Kissing'],\n",
       " ['MILF', 'Busty', 'Blonde  Big Tits', 'Blonde  Upskirt', 'Solo'],\n",
       " ['Natural  Upskirt Handjob', 'Lingerie', 'MILF'],\n",
       " ['Big Natural Tits'],\n",
       " ['Hot Naked Women',\n",
       "  'Perfect Tits',\n",
       "  'Pornstar Lingerie',\n",
       "  'Lingerie Ass',\n",
       "  'Trimmed Pussy',\n",
       "  'High Heels Stockings'],\n",
       " ['Bent Over Panties Down'],\n",
       " ['MILF', 'High Heels'],\n",
       " ['Feet Tease', 'Nylon Feet', 'Nylon Soles'],\n",
       " ['Ass In Shorts', 'Booty Shorts', 'Lesbian Feet']]"
      ]
     },
     "execution_count": 36,
     "metadata": {},
     "output_type": "execute_result"
    }
   ],
   "execution_count": 36
  },
  {
   "metadata": {
    "ExecuteTime": {
     "end_time": "2024-05-30T10:07:43.259394Z",
     "start_time": "2024-05-30T10:07:43.252032Z"
    }
   },
   "cell_type": "code",
   "source": [
    "merged_list = sorted([item for sublist in all_tags for item in sublist])\n",
    "merged_list"
   ],
   "id": "33cfd9633eb61697",
   "outputs": [
    {
     "data": {
      "text/plain": [
       "['69',\n",
       " 'Ahegao',\n",
       " 'Amateur  Upskirt',\n",
       " 'Amateur Anal',\n",
       " 'Amateur Anal',\n",
       " 'Amateur Ass',\n",
       " 'Amateur Bikini',\n",
       " 'Amateur Fuck',\n",
       " 'Amateur Granny',\n",
       " 'Amateur Granny',\n",
       " 'Amateur Hairy Pussy',\n",
       " 'Amateur Hairy Pussy',\n",
       " 'Amateur Handjob',\n",
       " 'Amateur Homemade',\n",
       " 'Amateur Homemade',\n",
       " 'Amateur Homemade',\n",
       " 'Amateur Homemade',\n",
       " 'Amateur Homemade',\n",
       " 'Amateur Homemade',\n",
       " 'Amateur Homemade',\n",
       " 'Amateur Housewife',\n",
       " 'Amateur Housewife',\n",
       " 'Amateur Housewife',\n",
       " 'Amateur Housewife',\n",
       " 'Amateur Housewife',\n",
       " 'Amateur Interracial',\n",
       " 'Amateur Latina',\n",
       " 'Amateur Natural Tits',\n",
       " 'Amateur Outdoor',\n",
       " 'Amateur Petite',\n",
       " 'Amateur Selfie',\n",
       " 'Amateur Selfie',\n",
       " 'Amateur Selfie',\n",
       " 'Amateur Selfie',\n",
       " 'Amateur Small Tits',\n",
       " 'Amateur Small Tits',\n",
       " 'Amateur Solo',\n",
       " 'Amateur Spreading',\n",
       " 'Amateur Stockings',\n",
       " 'Amateur Teen',\n",
       " 'Amateur Teen',\n",
       " 'Amateur Teen Selfie',\n",
       " 'Amateur Teen Selfie',\n",
       " 'Amateur Teen Selfie',\n",
       " 'Amateur Teen Selfie',\n",
       " 'Amateur Undressing',\n",
       " 'Amateur Undressing',\n",
       " 'Amateur Undressing',\n",
       " 'Amateur Wife',\n",
       " 'Amateur Wife',\n",
       " 'Amateur Wife',\n",
       " 'Amateur Wife',\n",
       " 'Amateur Yoga Pants',\n",
       " 'American Mature',\n",
       " 'American Mature',\n",
       " 'Anal Threesome',\n",
       " 'Anal Threesome',\n",
       " 'Asian Ass',\n",
       " 'Asian Babe',\n",
       " 'Asian Babe',\n",
       " 'Asian Babe',\n",
       " 'Asian Big Tits',\n",
       " 'Asian Boots',\n",
       " 'Asian Fake Tits',\n",
       " 'Asian Lingerie',\n",
       " 'Asian Solo',\n",
       " 'Asian Teen',\n",
       " 'Asian Teen',\n",
       " 'Asian Upskirt',\n",
       " 'Ass And Feet',\n",
       " 'Ass In Shorts',\n",
       " 'Ass Spread',\n",
       " 'B Cup Tits',\n",
       " 'BBW',\n",
       " 'BBW',\n",
       " 'BBW',\n",
       " 'BBW',\n",
       " 'BBW',\n",
       " 'BBW',\n",
       " 'BBW',\n",
       " 'BBW',\n",
       " 'BBW',\n",
       " 'BBW',\n",
       " 'BBW',\n",
       " 'BBW',\n",
       " 'BBW',\n",
       " 'BDSM',\n",
       " 'BDSM',\n",
       " 'BDSM',\n",
       " 'BDSM',\n",
       " 'Banana Tits',\n",
       " 'Beautiful',\n",
       " 'Beautiful Asian',\n",
       " 'Beautiful Ass',\n",
       " 'Beautiful Face',\n",
       " 'Beautiful Face',\n",
       " 'Beautiful Face',\n",
       " 'Beautiful Granny',\n",
       " 'Beautiful Granny',\n",
       " 'Beautiful Granny',\n",
       " 'Beautiful Hairy',\n",
       " 'Beautiful Mature',\n",
       " 'Beautiful Mature',\n",
       " 'Beautiful Mature',\n",
       " 'Beautiful Pussy',\n",
       " 'Beautiful Pussy',\n",
       " 'Beautiful Russian',\n",
       " 'Beautiful Russian',\n",
       " 'Beautiful Teen',\n",
       " 'Beautiful Teen',\n",
       " 'Beautiful Tits',\n",
       " 'Beautiful Tits',\n",
       " 'Bent Over No Panties',\n",
       " 'Bent Over Panties',\n",
       " 'Bent Over Panties Down',\n",
       " 'Bent Over Panties Down',\n",
       " 'Bent Over Skirt',\n",
       " 'Bent Over Upskirt',\n",
       " 'Big Areolas',\n",
       " 'Big Ass',\n",
       " 'Big Ass  Ass',\n",
       " 'Big Ass  Ass Masturbation',\n",
       " 'Big Ass  Stockings',\n",
       " 'Big Ass Doggystyle',\n",
       " 'Big Ass In Yoga Pants',\n",
       " 'Big Ass In Yoga Pants',\n",
       " 'Big Ass In Yoga Pants',\n",
       " 'Big Ass In Yoga Pants',\n",
       " 'Big Ass Mom',\n",
       " 'Big Ass Skirt',\n",
       " 'Big Cock Blowjob',\n",
       " 'Big Cock In Pussy',\n",
       " 'Big Dick',\n",
       " 'Big Dick In Pussy',\n",
       " 'Big Fat Tits',\n",
       " 'Big Fat Tits',\n",
       " 'Big Fat Tits',\n",
       " 'Big Fat Tits',\n",
       " 'Big Natural Tits',\n",
       " 'Big Natural Tits',\n",
       " 'Big Natural Tits',\n",
       " 'Big Natural Tits',\n",
       " 'Big Natural Tits Teen',\n",
       " 'Big Natural Tits Teen',\n",
       " 'Big Pierced Tits',\n",
       " 'Big Pierced Tits',\n",
       " 'Big Pierced Tits',\n",
       " 'Big Saggy Tits',\n",
       " 'Big Saggy Tits',\n",
       " 'Big Tits',\n",
       " 'Big Tits',\n",
       " 'Big Tits',\n",
       " 'Big Tits',\n",
       " 'Big Tits Amateur',\n",
       " 'Big Tits Amateur',\n",
       " 'Big Tits Amateur',\n",
       " 'Big Tits Amateur',\n",
       " 'Big Tits Amateur',\n",
       " 'Big Tits Amateur',\n",
       " 'Big Tits And Ass',\n",
       " 'Big Tits And Ass',\n",
       " 'Big Tits Babe',\n",
       " 'Big Tits Babe',\n",
       " 'Big Tits Babe',\n",
       " 'Big Tits Babe',\n",
       " 'Big Tits Big Dick',\n",
       " 'Big Tits Brunette',\n",
       " 'Big Tits Brunette',\n",
       " 'Big Tits Doggystyle',\n",
       " 'Big Tits Fuck',\n",
       " 'Big Tits Fuck',\n",
       " 'Big Tits Fuck',\n",
       " 'Big Tits Glasses',\n",
       " 'Big Tits Handjob',\n",
       " 'Big Tits Hardcore',\n",
       " 'Big Tits Latina',\n",
       " 'Big Tits Latina',\n",
       " 'Big Tits Latina',\n",
       " 'Big Tits Lingerie',\n",
       " 'Big Tits Masturbation',\n",
       " 'Big Tits Mom',\n",
       " 'Big Tits Nipples',\n",
       " 'Big Tits Nurse',\n",
       " 'Big Tits Pornstar',\n",
       " 'Big Tits Pornstar',\n",
       " 'Big Tits Pussy',\n",
       " 'Big Tits Pussy',\n",
       " 'Big Tits Pussy',\n",
       " 'Big Tits Riding',\n",
       " 'Big Tits Secretary',\n",
       " 'Big Tits Selfie',\n",
       " 'Big Tits Selfie',\n",
       " 'Big Tits Shower',\n",
       " 'Big Tits Stockings',\n",
       " 'Big Tits Stockings',\n",
       " 'Big Tits Tattoo',\n",
       " 'Big Tits Teen',\n",
       " 'Big Tits Teen',\n",
       " 'Big Tits Threesome',\n",
       " 'Big Tits Titfuck',\n",
       " 'Big Tits Wife',\n",
       " 'Bikini Ass',\n",
       " 'Bikini Bikini',\n",
       " 'Bikini Model',\n",
       " 'Blonde',\n",
       " 'Blonde  Big Tits',\n",
       " 'Blonde  Upskirt',\n",
       " 'Blonde Big Tits',\n",
       " 'Blonde Big Tits',\n",
       " 'Blonde Blowjob',\n",
       " 'Blonde Glasses',\n",
       " 'Blonde Secretary',\n",
       " 'Blonde Small Tits',\n",
       " 'Blonde Teen',\n",
       " 'Blonde Tits',\n",
       " 'Blowjob',\n",
       " 'Blowjob Cum',\n",
       " 'Blowjob Cum',\n",
       " 'Boobs Selfie',\n",
       " 'Boobs Selfie',\n",
       " 'Boobs Selfie',\n",
       " 'Boobs Selfie',\n",
       " 'Boobs Selfie',\n",
       " 'Booty Shorts',\n",
       " 'Boss',\n",
       " 'Boss And Secretary',\n",
       " 'Bra',\n",
       " 'Bra',\n",
       " 'Brazilian',\n",
       " 'Bride',\n",
       " 'British',\n",
       " 'British',\n",
       " 'British',\n",
       " 'British',\n",
       " 'British  Handjob',\n",
       " 'British Big Tits',\n",
       " 'British Mature',\n",
       " 'Brunette Ass',\n",
       " 'Brunette Babe',\n",
       " 'Brunette Fuck',\n",
       " 'Brunette Glasses',\n",
       " 'Brunette Natural Tits',\n",
       " 'Bubble Butt',\n",
       " 'Busty',\n",
       " 'Busty',\n",
       " 'Busty',\n",
       " 'Busty',\n",
       " 'Busty Brunette',\n",
       " 'Busty Brunette',\n",
       " 'Busty Brunette',\n",
       " 'Busty Hairy',\n",
       " 'Busty Mature',\n",
       " 'Busty Petite',\n",
       " 'Busty Secretary',\n",
       " 'Busty Teen',\n",
       " 'Busty Teen',\n",
       " 'Busty Teen Fuck',\n",
       " 'Busty Teen Fuck',\n",
       " 'Butt',\n",
       " 'C Cup Tits',\n",
       " 'CFNM',\n",
       " 'Car',\n",
       " 'Centerfold Model',\n",
       " 'Chubby',\n",
       " 'Chubby Amateur',\n",
       " 'Chubby Amateur',\n",
       " 'Chubby Amateur',\n",
       " 'Chubby Amateur',\n",
       " 'Chubby Asian',\n",
       " 'Chubby Asian Teen',\n",
       " 'Chubby Asshole',\n",
       " 'Chubby Big Tits',\n",
       " 'Chubby Blonde',\n",
       " 'Chubby Blonde',\n",
       " 'Chubby Blowjob',\n",
       " 'Chubby Blowjob',\n",
       " 'Chubby Brunette',\n",
       " 'Chubby Brunette',\n",
       " 'Chubby Glasses',\n",
       " 'Chubby Hairy Mature',\n",
       " 'Chubby Handjob',\n",
       " 'Chubby Handjob',\n",
       " 'Chubby Housewife',\n",
       " 'Chubby Legs',\n",
       " 'Chubby Lesbian',\n",
       " 'Chubby Mature',\n",
       " 'Chubby Mature Latina',\n",
       " 'Chubby Nerd',\n",
       " 'Chubby Pussy',\n",
       " 'Chubby Pussy',\n",
       " 'Chubby Redhead',\n",
       " 'Chubby Redhead',\n",
       " 'Chubby Redhead',\n",
       " 'Chubby Skirt',\n",
       " 'Chubby Small Tits',\n",
       " 'Chubby Spreading',\n",
       " 'Chubby Spreading',\n",
       " 'Chubby Teen',\n",
       " 'Chubby Teen Ass',\n",
       " 'Chubby Teen Panties',\n",
       " 'Close Up Blowjob',\n",
       " 'Cock In Pussy',\n",
       " 'Cum In Panties',\n",
       " 'Cum On Face',\n",
       " 'Cum On Panties',\n",
       " 'Cum On Stockings',\n",
       " 'Cum On Stockings',\n",
       " 'Cum On Stockings',\n",
       " 'Cum On Tits',\n",
       " 'Cum On Tits',\n",
       " 'Cum On Tits',\n",
       " 'Curvy',\n",
       " 'Curvy',\n",
       " 'Curvy Asian',\n",
       " 'Curvy Blonde',\n",
       " 'Curvy Hairy',\n",
       " 'Curvy Lingerie',\n",
       " 'Curvy Petite',\n",
       " 'Curvy Small Tits',\n",
       " 'Cute Amateur',\n",
       " 'Cute Asian',\n",
       " 'Cute Asian',\n",
       " 'Cute Chubby',\n",
       " 'Cute Face',\n",
       " 'Cute Panties',\n",
       " 'Cute Pussy',\n",
       " 'Czech Mature',\n",
       " 'Czech Teen',\n",
       " 'DP',\n",
       " 'Dildo Solo Masturbation',\n",
       " 'Downblouse',\n",
       " 'Eating Hairy Pussy',\n",
       " 'Eating Moms Pussy',\n",
       " 'Erect Nipples',\n",
       " 'Erect Nipples',\n",
       " 'Face Fuck',\n",
       " 'Fat Legs',\n",
       " 'Fat Pussy',\n",
       " 'Feet',\n",
       " 'Feet Licking',\n",
       " 'Feet Tease',\n",
       " 'First Time',\n",
       " 'First Time Anal',\n",
       " 'First Time Anal',\n",
       " 'Fit Ass',\n",
       " 'Fitness Body',\n",
       " 'Fitness Body',\n",
       " 'Fitness Fuck',\n",
       " 'Fitness Model',\n",
       " 'Fitness Sex',\n",
       " 'Fitness Teen',\n",
       " 'Flat Chested Teen',\n",
       " 'Flat Chested Teen',\n",
       " 'Flat Chested Teen',\n",
       " 'Flat Chested Teen',\n",
       " 'French',\n",
       " 'French Maid',\n",
       " 'French Maid',\n",
       " 'From Behind',\n",
       " 'GILF',\n",
       " 'Glasses Stockings Skirt',\n",
       " 'Gloves',\n",
       " 'Gloves',\n",
       " 'Gloves',\n",
       " 'Grandma',\n",
       " 'Grandma',\n",
       " 'Granny Big Tits',\n",
       " 'Granny Big Tits',\n",
       " 'Granny Blowjob',\n",
       " 'Granny Fuck',\n",
       " 'Granny Handjob',\n",
       " 'Granny Hardcore',\n",
       " 'Granny High Heels',\n",
       " 'Granny Lingerie',\n",
       " 'Granny Lingerie',\n",
       " 'Granny Over 70',\n",
       " 'Granny Over 70',\n",
       " 'Granny Saggy Tits',\n",
       " 'Granny Sex',\n",
       " 'Granny Spreading',\n",
       " 'Granny Stockings',\n",
       " 'Granny Threesome',\n",
       " 'Granny Undressing',\n",
       " 'Granny Upskirt',\n",
       " 'Group Cumshot',\n",
       " 'Gym Shorts',\n",
       " 'Hairy  Mature',\n",
       " 'Hairy Amateur',\n",
       " 'Hairy Armpits',\n",
       " 'Hairy Asian Pussy',\n",
       " 'Hairy Ass Spread',\n",
       " 'Hairy Asshole',\n",
       " 'Hairy Housewife',\n",
       " 'Hairy Lesbian',\n",
       " 'Hairy Mature',\n",
       " 'Hairy Mature',\n",
       " 'Hairy Mature',\n",
       " 'Hairy Mature Spread',\n",
       " 'Hairy Nerd',\n",
       " 'Hairy Nipples',\n",
       " 'Hairy Petite',\n",
       " 'Hairy Teen',\n",
       " 'Hairy Teen Pussy',\n",
       " 'Hairy Teen Pussy',\n",
       " 'Hairy Teen Spreading',\n",
       " 'Hairy Vagina',\n",
       " 'Hairy Vagina',\n",
       " 'Hairy Vagina',\n",
       " 'Hairy Vagina',\n",
       " 'Hairy Wife',\n",
       " 'Handjob Cumshot',\n",
       " 'Handjob Cumshot',\n",
       " 'Hanging Tits',\n",
       " 'Hard Nipples',\n",
       " 'High Heels',\n",
       " 'High Heels Fuck',\n",
       " 'High Heels Fuck',\n",
       " 'High Heels Lingerie',\n",
       " 'High Heels Lingerie',\n",
       " 'High Heels Stockings',\n",
       " 'High Heels Stockings',\n",
       " 'Homemade Pussy',\n",
       " 'Homemade Selfie',\n",
       " 'Homemade Selfie',\n",
       " 'Homemade Selfie',\n",
       " 'Homemade Selfie',\n",
       " 'Homemade Selfie',\n",
       " 'Horny Mature',\n",
       " 'Hot',\n",
       " 'Hot Naked Girls',\n",
       " 'Hot Naked Women',\n",
       " 'Hot Naked Women',\n",
       " 'Hot Naked Women',\n",
       " 'Hot Naked Women',\n",
       " 'Hot Naked Women',\n",
       " 'Huge Natural Tits',\n",
       " 'Innocent',\n",
       " 'Interracial Anal',\n",
       " 'Interracial Anal',\n",
       " 'Interracial Cum In Mouth',\n",
       " 'Jeans Ass',\n",
       " 'Kissing And Fucking',\n",
       " 'Latina Feet',\n",
       " 'Latina Fuck',\n",
       " 'Latina Maid',\n",
       " 'Latina Mom',\n",
       " 'Latina Secretary',\n",
       " 'Leather Skirt',\n",
       " 'Leather Skirt',\n",
       " 'Leggings',\n",
       " 'Leggings Ass',\n",
       " 'Leggings Ass',\n",
       " 'Leggings Ass',\n",
       " 'Leggings Bent Over',\n",
       " 'Legs',\n",
       " 'Lesbian Ass',\n",
       " 'Lesbian Feet',\n",
       " 'Lesbian Fingering',\n",
       " 'Lesbian Fisting',\n",
       " 'Lesbian Kissing',\n",
       " 'Lesbian Pussy Licking',\n",
       " 'Lesbian Stepmom',\n",
       " 'Lesbian Strapon',\n",
       " 'Lingerie',\n",
       " 'Lingerie',\n",
       " 'Lingerie',\n",
       " 'Lingerie',\n",
       " 'Lingerie',\n",
       " 'Lingerie',\n",
       " 'Lingerie',\n",
       " 'Lingerie',\n",
       " 'Lingerie',\n",
       " 'Lingerie Ass',\n",
       " 'Lingerie Panties',\n",
       " 'Lingerie Stockings',\n",
       " 'Lingerie Stockings',\n",
       " 'Long Nipples',\n",
       " 'MILF',\n",
       " 'MILF',\n",
       " 'MILF',\n",
       " 'MILF',\n",
       " 'MILF',\n",
       " 'MILF',\n",
       " 'MILF',\n",
       " 'MILF',\n",
       " 'MILF',\n",
       " 'MILF',\n",
       " 'MILF',\n",
       " 'MILF',\n",
       " 'MILF',\n",
       " 'MILF',\n",
       " 'MILF',\n",
       " 'MILF',\n",
       " 'MILF',\n",
       " 'MILF',\n",
       " 'MILF',\n",
       " 'MILF',\n",
       " 'MILF',\n",
       " 'MILF',\n",
       " 'MILF',\n",
       " 'MILF',\n",
       " 'MILF',\n",
       " 'MILF',\n",
       " 'MILF',\n",
       " 'MILF',\n",
       " 'MILF',\n",
       " 'MILF',\n",
       " 'MILF',\n",
       " 'MILF',\n",
       " 'MILF',\n",
       " 'MILF',\n",
       " 'MILF',\n",
       " 'MILF',\n",
       " 'MILF',\n",
       " 'MILF',\n",
       " 'MILF',\n",
       " 'MILF',\n",
       " 'MILF',\n",
       " 'MILF',\n",
       " 'Maid Lingerie',\n",
       " 'Maid Upskirt',\n",
       " 'Massive Tits',\n",
       " 'Mature Amateur',\n",
       " 'Mature Amateur',\n",
       " 'Mature Amateur',\n",
       " 'Mature Amateur',\n",
       " 'Mature Amateur',\n",
       " 'Mature Ass',\n",
       " 'Mature Ass',\n",
       " 'Mature Big Boobs',\n",
       " 'Mature Big Tits',\n",
       " 'Mature Big Tits',\n",
       " 'Mature Big Tits',\n",
       " 'Mature Big Tits',\n",
       " 'Mature Big Tits',\n",
       " 'Mature Big Tits',\n",
       " 'Mature Big Tits',\n",
       " 'Mature Blowjob',\n",
       " 'Mature Blowjob',\n",
       " 'Mature Face',\n",
       " 'Mature Feet',\n",
       " 'Mature Fuck',\n",
       " 'Mature Granny',\n",
       " 'Mature Hairy Pussy',\n",
       " 'Mature Hairy Pussy',\n",
       " 'Mature Hairy Pussy',\n",
       " 'Mature Hairy Pussy',\n",
       " 'Mature Handjob',\n",
       " 'Mature Handjob',\n",
       " 'Mature Handjob',\n",
       " 'Mature High Heels',\n",
       " 'Mature Housewives',\n",
       " 'Mature Housewives',\n",
       " 'Mature Lesbian',\n",
       " 'Mature Lingerie',\n",
       " 'Mature Lingerie',\n",
       " 'Mature Massage',\n",
       " 'Mature Masturbation',\n",
       " 'Mature Masturbation',\n",
       " 'Mature Nurse',\n",
       " 'Mature Office',\n",
       " 'Mature Older Women',\n",
       " 'Mature Older Women',\n",
       " 'Mature Older Women',\n",
       " 'Mature Open Pussy',\n",
       " 'Mature Open Pussy',\n",
       " 'Mature Outdoor',\n",
       " 'Mature Pussy',\n",
       " 'Mature Pussy',\n",
       " 'Mature Pussy',\n",
       " 'Mature Pussy Licking',\n",
       " 'Mature Pussy Spread',\n",
       " 'Mature Redhead',\n",
       " 'Mature Redhead',\n",
       " 'Mature Redhead',\n",
       " 'Mature Saggy Tits',\n",
       " 'Mature Saggy Tits',\n",
       " 'Mature Saggy Tits',\n",
       " 'Mature Saggy Tits',\n",
       " 'Mature Shaved Pussy',\n",
       " 'Mature Solo',\n",
       " 'Mature Spreading',\n",
       " 'Mature Spreading',\n",
       " 'Mature Spreading',\n",
       " 'Mature Stockings',\n",
       " 'Mature Tits',\n",
       " 'Mature Undressing',\n",
       " 'Mature Upskirt',\n",
       " 'Mature Wife',\n",
       " 'Mature Wife',\n",
       " 'Mature Wife',\n",
       " 'Mature Wife',\n",
       " 'Mature Yoga Pants',\n",
       " 'Micro Bikini',\n",
       " 'Middle Aged Women',\n",
       " 'Middle Aged Women',\n",
       " 'Mini Skirt',\n",
       " 'Mom Ass Fuck',\n",
       " 'Mom Fuck',\n",
       " 'Mom Pussy',\n",
       " 'Monster Cock',\n",
       " 'Monster Cock',\n",
       " 'Mouth Full Of Cum',\n",
       " 'Natural',\n",
       " 'Natural',\n",
       " 'Natural',\n",
       " 'Natural  Handjob Upskirt',\n",
       " 'Natural  Upskirt Handjob',\n",
       " 'Natural  Upskirt Handjob',\n",
       " 'Natural Mature',\n",
       " 'Natural Mature',\n",
       " 'Natural Mature',\n",
       " 'Natural Redhead',\n",
       " 'Nerdy',\n",
       " 'Nerdy',\n",
       " 'Nerdy  Skirt Glasses',\n",
       " 'Nerdy Glasses',\n",
       " 'Nice Pussy',\n",
       " 'Nudist',\n",
       " 'Nurse Upskirt',\n",
       " 'Nylon',\n",
       " 'Nylon Feet',\n",
       " 'Nylon Soles',\n",
       " 'Office Fuck',\n",
       " 'Office Fuck',\n",
       " 'Office Upskirt',\n",
       " 'Oiled Ass',\n",
       " 'Old Granny Tits',\n",
       " 'Old Hairy Granny',\n",
       " 'Open Asshole',\n",
       " 'Open Pussy',\n",
       " 'Outdoor Bikini',\n",
       " 'Over 40',\n",
       " 'Over 50',\n",
       " 'Over 50',\n",
       " 'Over 60',\n",
       " 'Over 60',\n",
       " 'Over 60',\n",
       " 'PAWG',\n",
       " 'PAWG',\n",
       " 'PAWG',\n",
       " 'PAWG',\n",
       " 'POV',\n",
       " 'POV',\n",
       " 'Pale Brunette',\n",
       " 'Panties',\n",
       " 'Panty Fuck',\n",
       " 'Panty Fuck',\n",
       " 'Pantyhose Ass',\n",
       " 'Pantyhose Boots',\n",
       " 'Penis',\n",
       " 'Perfect',\n",
       " 'Perfect Ass',\n",
       " 'Perfect Ass',\n",
       " 'Perfect Teen Body',\n",
       " 'Perfect Teen Body',\n",
       " 'Perfect Teen Body',\n",
       " 'Perfect Teen Body',\n",
       " 'Perfect Tits',\n",
       " 'Perfect Tits And Ass',\n",
       " 'Perky Tits',\n",
       " 'Perky Tits',\n",
       " 'Petite',\n",
       " 'Petite Anal',\n",
       " 'Petite Anal',\n",
       " 'Petite Anal',\n",
       " 'Petite Asian',\n",
       " 'Petite Big Tits',\n",
       " 'Petite Bikini',\n",
       " 'Petite Blonde',\n",
       " 'Petite Brunette',\n",
       " 'Petite Fuck',\n",
       " 'Petite Granny',\n",
       " 'Petite Teen',\n",
       " 'Petite Teen Big Tits',\n",
       " 'Petite Teen Fuck',\n",
       " 'Pierced Nipples',\n",
       " 'Pierced Nipples',\n",
       " 'Pierced Nipples',\n",
       " 'Ponytail',\n",
       " 'Pornstar Lingerie',\n",
       " 'Pornstar Lingerie',\n",
       " 'Pretty Face',\n",
       " 'Public Flashing',\n",
       " 'Pussy Ass',\n",
       " 'Pussy Ass',\n",
       " 'Pussy Ass',\n",
       " 'Pussy Feet',\n",
       " 'Redhead',\n",
       " 'Redhead',\n",
       " 'Redhead Feet',\n",
       " 'Redhead Freckles',\n",
       " 'Redhead Small Tits',\n",
       " 'Redhead Teen',\n",
       " 'Riding Dildo',\n",
       " 'Rough',\n",
       " 'Russian Teen',\n",
       " 'Russian Teen',\n",
       " 'Santa',\n",
       " 'Santa',\n",
       " 'Santa',\n",
       " 'Sauna',\n",
       " 'Secretary Ass',\n",
       " 'Secretary Blowjob',\n",
       " 'Secretary Blowjob',\n",
       " 'Secretary Blowjob',\n",
       " 'Secretary Cum',\n",
       " 'Secretary Cum',\n",
       " 'Secretary Fuck',\n",
       " 'Secretary Fuck',\n",
       " 'Secretary Fuck',\n",
       " 'Secretary Handjob',\n",
       " 'Secretary Pussy',\n",
       " 'Secretary Seduction',\n",
       " 'Secretary Seduction',\n",
       " 'Secretary Stockings',\n",
       " 'Secretary Stockings',\n",
       " 'Sexy',\n",
       " 'Sexy',\n",
       " 'Sexy Asian',\n",
       " 'Sexy Ass',\n",
       " 'Sexy Ass',\n",
       " 'Sexy Ass',\n",
       " 'Sexy Ass',\n",
       " 'Sexy Big Tits',\n",
       " 'Sexy Blonde',\n",
       " 'Sexy Blonde',\n",
       " 'Sexy Brunette',\n",
       " 'Sexy Dress',\n",
       " 'Sexy Dress',\n",
       " 'Sexy Lingerie',\n",
       " 'Sexy Mature Women',\n",
       " 'Sexy Nerd',\n",
       " 'Sexy Nerd',\n",
       " 'Sexy Nurse',\n",
       " 'Sexy Older Women',\n",
       " 'Sexy Older Women',\n",
       " 'Sexy Pussy',\n",
       " 'Sexy Pussy',\n",
       " 'Sexy Redhead',\n",
       " 'Sexy Selfie',\n",
       " 'Sexy Selfie',\n",
       " 'Sexy Selfie',\n",
       " 'Sexy Stockings',\n",
       " 'Sexy Stockings',\n",
       " 'Sexy Thong',\n",
       " 'Shaved',\n",
       " 'Shaved  Shaved Pussy Panties',\n",
       " 'Shaved Asian Pussy',\n",
       " 'Shaved Teen Pussy',\n",
       " 'Shaved Teen Pussy',\n",
       " 'Short Hair Big Tits',\n",
       " 'Short Hair Big Tits',\n",
       " 'Short Hair Blonde',\n",
       " 'Short Hair Blonde',\n",
       " 'Short Hair Brunette',\n",
       " 'Short Hair Glasses',\n",
       " 'Short Hair Redhead',\n",
       " 'Short Hair Skinny',\n",
       " 'Short Hair Small Tits',\n",
       " 'Short Hair Small Tits',\n",
       " 'Short Hair Teen',\n",
       " 'Short Hair Teen',\n",
       " 'Short Skirt No Panties',\n",
       " 'Short Skirt No Panties',\n",
       " 'Skinny Amateur',\n",
       " 'Skinny Anal',\n",
       " 'Skinny Anal',\n",
       " 'Skinny Ass Spread',\n",
       " 'Skinny Big Natural Tits',\n",
       " 'Skinny Big Tits',\n",
       " 'Skinny Hairy',\n",
       " 'Skinny Hairy Teen',\n",
       " 'Skinny Leggings',\n",
       " 'Skinny Mature',\n",
       " 'Skinny Saggy Tits',\n",
       " 'Skinny Small Tits',\n",
       " 'Skinny Small Tits',\n",
       " 'Skinny Stockings',\n",
       " 'Skinny Teen',\n",
       " 'Skinny Thong',\n",
       " 'Skirt And Stockings',\n",
       " 'Skirt And Stockings',\n",
       " 'Skirt And Stockings',\n",
       " 'Sloppy Blowjob',\n",
       " 'Small Pussy',\n",
       " 'Small Tits',\n",
       " 'Sneakers',\n",
       " 'Solo',\n",
       " 'Solo',\n",
       " 'Solo Pussy Stockings Lingerie',\n",
       " 'Spanish Pussy',\n",
       " 'Spanish Teen',\n",
       " 'Spread',\n",
       " 'Spread Legs',\n",
       " 'Spread Legs',\n",
       " 'Spread Legs',\n",
       " 'Spread Legs Panties',\n",
       " 'Stockings Amateur Spread Upskirt Upskirt Panties',\n",
       " 'Stockings Fuck',\n",
       " 'Stockings Fuck',\n",
       " 'Stockings Fuck',\n",
       " 'Stockings Fuck',\n",
       " 'Stockings Solo',\n",
       " 'Sucking Dick',\n",
       " 'Summer Dress',\n",
       " 'Sweater',\n",
       " 'Tall Skinny',\n",
       " 'Tattooed',\n",
       " 'Teen Anal',\n",
       " 'Teen Ass',\n",
       " 'Teen Ass',\n",
       " 'Teen Ass',\n",
       " 'Teen Ass',\n",
       " 'Teen Ass',\n",
       " 'Teen Ass Pussy',\n",
       " 'Teen Ass Pussy',\n",
       " 'Teen Ass Pussy',\n",
       " 'Teen Ass Spread',\n",
       " 'Teen Babe',\n",
       " 'Teen Bent Over',\n",
       " 'Teen Big Cock',\n",
       " 'Teen Bikini',\n",
       " 'Teen Blowjob',\n",
       " 'Teen Blowjob',\n",
       " 'Teen Facial',\n",
       " 'Teen Fake Tits',\n",
       " 'Teen Feet',\n",
       " 'Teen Feet',\n",
       " 'Teen Feet',\n",
       " 'Teen Fuck',\n",
       " 'Teen Group Sex',\n",
       " 'Teen Handjob',\n",
       " 'Teen Jeans',\n",
       " 'Teen Leggings',\n",
       " 'Teen Lingerie',\n",
       " 'Teen Model',\n",
       " 'Teen Nipples',\n",
       " 'Teen Nudist',\n",
       " 'Teen Nylon',\n",
       " 'Teen Outdoor',\n",
       " 'Teen Panties',\n",
       " 'Teen Pussy Close Up',\n",
       " 'Teen Saggy Tits',\n",
       " 'Teen Solo',\n",
       " 'Teen Sport',\n",
       " 'Teen Threesome',\n",
       " 'Teen Yoga Pants',\n",
       " 'Teen Yoga Pants',\n",
       " 'Thick',\n",
       " 'Thick',\n",
       " 'Thick Amateur',\n",
       " 'Thick Amateur',\n",
       " 'Thick Amateur',\n",
       " 'Thick Asian',\n",
       " 'Thick Legs',\n",
       " 'Thick Legs',\n",
       " 'Thick Mature',\n",
       " 'Thick Pussy',\n",
       " 'Thick Teen',\n",
       " 'Thick Teen',\n",
       " 'Thigh High Boots',\n",
       " 'Thigh High Boots',\n",
       " 'Thong Bikini',\n",
       " 'Threesome',\n",
       " 'Threesome',\n",
       " 'Tight Ass',\n",
       " 'Tight Ass',\n",
       " 'Tight Ass',\n",
       " 'Tight Jeans',\n",
       " 'Tiny Tits Teen',\n",
       " 'Tiny Tits Teen',\n",
       " 'Tongue',\n",
       " 'Tongue',\n",
       " 'Topless In Jeans',\n",
       " 'Trimmed Pussy',\n",
       " 'Trimmed Pussy',\n",
       " 'Upskirt No Panties',\n",
       " 'Upskirt No Panties',\n",
       " 'Upskirt No Panties',\n",
       " 'Upskirt Panties',\n",
       " 'Upskirt Panties',\n",
       " 'Upskirt Panties',\n",
       " 'Upskirt Panties',\n",
       " 'Upskirt Pussy',\n",
       " 'Upskirt Stockings',\n",
       " 'Upskirt Stockings',\n",
       " 'Vagina',\n",
       " 'Vagina',\n",
       " 'Vagina',\n",
       " 'Vagina',\n",
       " 'Very Hairy Granny',\n",
       " 'Very Old Granny',\n",
       " 'Very Old Granny',\n",
       " 'Very Skinny',\n",
       " 'Wet Pussy',\n",
       " 'Wet Pussy Close Up',\n",
       " 'Wet Pussy Close Up',\n",
       " 'Wet Pussy Close Up',\n",
       " 'Wet Pussy Close Up',\n",
       " 'Wide Hips Thick Thighs',\n",
       " 'Wide Hips Thick Thighs',\n",
       " 'Wife Lingerie',\n",
       " 'Wrestling',\n",
       " 'Yoga Pants Ass',\n",
       " 'Yoga Pants Ass',\n",
       " 'Yoga Pants Ass']"
      ]
     },
     "execution_count": 37,
     "metadata": {},
     "output_type": "execute_result"
    }
   ],
   "execution_count": 37
  },
  {
   "metadata": {
    "ExecuteTime": {
     "end_time": "2024-05-30T11:11:34.785764Z",
     "start_time": "2024-05-30T11:11:34.774469Z"
    }
   },
   "cell_type": "code",
   "source": [
    "from collections import Counter\n",
    "\n",
    "words_freq = Counter((\" \".join(merged_list)).split(\" \"))\n",
    "words_freq"
   ],
   "id": "3bfcd00bc8bc51c2",
   "outputs": [
    {
     "data": {
      "text/plain": [
       "Counter({'Tits': 131,\n",
       "         'Big': 108,\n",
       "         'Teen': 94,\n",
       "         'Mature': 94,\n",
       "         'Amateur': 73,\n",
       "         'Ass': 64,\n",
       "         'Pussy': 63,\n",
       "         'MILF': 42,\n",
       "         'Hairy': 39,\n",
       "         'Chubby': 38,\n",
       "         'Stockings': 31,\n",
       "         'Fuck': 30,\n",
       "         'Granny': 30,\n",
       "         'Lingerie': 29,\n",
       "         'Sexy': 29,\n",
       "         'Upskirt': 24,\n",
       "         'Selfie': 23,\n",
       "         'Asian': 23,\n",
       "         'Panties': 23,\n",
       "         'Beautiful': 21,\n",
       "         'Natural': 20,\n",
       "         'Secretary': 20,\n",
       "         'Blonde': 19,\n",
       "         'Skinny': 19,\n",
       "         'Petite': 18,\n",
       "         'Blowjob': 17,\n",
       "         'Handjob': 16,\n",
       "         'Over': 16,\n",
       "         'Brunette': 16,\n",
       "         'Cum': 15,\n",
       "         'Busty': 15,\n",
       "         'Redhead': 15,\n",
       "         'Anal': 14,\n",
       "         'Short': 14,\n",
       "         'Thick': 14,\n",
       "         '': 13,\n",
       "         'Homemade': 13,\n",
       "         'Feet': 13,\n",
       "         'BBW': 13,\n",
       "         'Skirt': 13,\n",
       "         'Women': 13,\n",
       "         'Small': 12,\n",
       "         'Spread': 12,\n",
       "         'Hair': 12,\n",
       "         'Wife': 11,\n",
       "         'Yoga': 11,\n",
       "         'Pants': 11,\n",
       "         'In': 11,\n",
       "         'Lesbian': 11,\n",
       "         'High': 11,\n",
       "         'Bikini': 10,\n",
       "         'Latina': 10,\n",
       "         'Nipples': 10,\n",
       "         'Solo': 9,\n",
       "         'Babe': 9,\n",
       "         'And': 9,\n",
       "         'Saggy': 9,\n",
       "         'Legs': 9,\n",
       "         'Heels': 9,\n",
       "         'Perfect': 9,\n",
       "         'Spreading': 8,\n",
       "         'Face': 8,\n",
       "         'Bent': 8,\n",
       "         'Glasses': 8,\n",
       "         'On': 8,\n",
       "         'Curvy': 8,\n",
       "         'Vagina': 8,\n",
       "         'Housewife': 7,\n",
       "         'Threesome': 7,\n",
       "         'British': 7,\n",
       "         'Cute': 7,\n",
       "         'Hot': 7,\n",
       "         'Leggings': 7,\n",
       "         'Shaved': 7,\n",
       "         'No': 6,\n",
       "         'Mom': 6,\n",
       "         'Cock': 6,\n",
       "         'Fat': 6,\n",
       "         'Pierced': 6,\n",
       "         'Boobs': 6,\n",
       "         'Close': 6,\n",
       "         'Up': 6,\n",
       "         'Fitness': 6,\n",
       "         'Body': 6,\n",
       "         'Naked': 6,\n",
       "         'Undressing': 5,\n",
       "         'Masturbation': 5,\n",
       "         'Maid': 5,\n",
       "         'Older': 5,\n",
       "         'Wet': 5,\n",
       "         'Interracial': 4,\n",
       "         'Outdoor': 4,\n",
       "         'Boots': 4,\n",
       "         'BDSM': 4,\n",
       "         'Russian': 4,\n",
       "         'Dick': 4,\n",
       "         'Nurse': 4,\n",
       "         'Pornstar': 4,\n",
       "         'Model': 4,\n",
       "         'Nerd': 4,\n",
       "         'Flat': 4,\n",
       "         'Chested': 4,\n",
       "         'Jeans': 4,\n",
       "         'Office': 4,\n",
       "         'Open': 4,\n",
       "         'Nerdy': 4,\n",
       "         'Nylon': 4,\n",
       "         'Old': 4,\n",
       "         'PAWG': 4,\n",
       "         'Tight': 4,\n",
       "         'Very': 4,\n",
       "         'Shorts': 3,\n",
       "         'Asshole': 3,\n",
       "         'Licking': 3,\n",
       "         'First': 3,\n",
       "         'Time': 3,\n",
       "         'Sex': 3,\n",
       "         'French': 3,\n",
       "         'Gloves': 3,\n",
       "         'Cumshot': 3,\n",
       "         '60': 3,\n",
       "         'Santa': 3,\n",
       "         'Dress': 3,\n",
       "         'Thong': 3,\n",
       "         'American': 2,\n",
       "         'Fake': 2,\n",
       "         'Cup': 2,\n",
       "         'Down': 2,\n",
       "         'Doggystyle': 2,\n",
       "         'Hardcore': 2,\n",
       "         'Riding': 2,\n",
       "         'Boss': 2,\n",
       "         'Bra': 2,\n",
       "         'Butt': 2,\n",
       "         'Czech': 2,\n",
       "         'Dildo': 2,\n",
       "         'Eating': 2,\n",
       "         'Erect': 2,\n",
       "         'Grandma': 2,\n",
       "         '70': 2,\n",
       "         'Group': 2,\n",
       "         'Mouth': 2,\n",
       "         'Kissing': 2,\n",
       "         'Leather': 2,\n",
       "         'Housewives': 2,\n",
       "         'Middle': 2,\n",
       "         'Aged': 2,\n",
       "         'Monster': 2,\n",
       "         'Nudist': 2,\n",
       "         '50': 2,\n",
       "         'POV': 2,\n",
       "         'Panty': 2,\n",
       "         'Pantyhose': 2,\n",
       "         'Perky': 2,\n",
       "         'Seduction': 2,\n",
       "         'Spanish': 2,\n",
       "         'Thigh': 2,\n",
       "         'Tiny': 2,\n",
       "         'Tongue': 2,\n",
       "         'Trimmed': 2,\n",
       "         'Wide': 2,\n",
       "         'Hips': 2,\n",
       "         'Thighs': 2,\n",
       "         '69': 1,\n",
       "         'Ahegao': 1,\n",
       "         'B': 1,\n",
       "         'Banana': 1,\n",
       "         'Areolas': 1,\n",
       "         'Shower': 1,\n",
       "         'Tattoo': 1,\n",
       "         'Titfuck': 1,\n",
       "         'Booty': 1,\n",
       "         'Brazilian': 1,\n",
       "         'Bride': 1,\n",
       "         'Bubble': 1,\n",
       "         'C': 1,\n",
       "         'CFNM': 1,\n",
       "         'Car': 1,\n",
       "         'Centerfold': 1,\n",
       "         'DP': 1,\n",
       "         'Downblouse': 1,\n",
       "         'Moms': 1,\n",
       "         'Tease': 1,\n",
       "         'Fit': 1,\n",
       "         'From': 1,\n",
       "         'Behind': 1,\n",
       "         'GILF': 1,\n",
       "         'Gym': 1,\n",
       "         'Armpits': 1,\n",
       "         'Hanging': 1,\n",
       "         'Hard': 1,\n",
       "         'Horny': 1,\n",
       "         'Girls': 1,\n",
       "         'Huge': 1,\n",
       "         'Innocent': 1,\n",
       "         'Fucking': 1,\n",
       "         'Fingering': 1,\n",
       "         'Fisting': 1,\n",
       "         'Stepmom': 1,\n",
       "         'Strapon': 1,\n",
       "         'Long': 1,\n",
       "         'Massive': 1,\n",
       "         'Massage': 1,\n",
       "         'Micro': 1,\n",
       "         'Mini': 1,\n",
       "         'Full': 1,\n",
       "         'Of': 1,\n",
       "         'Nice': 1,\n",
       "         'Soles': 1,\n",
       "         'Oiled': 1,\n",
       "         '40': 1,\n",
       "         'Pale': 1,\n",
       "         'Penis': 1,\n",
       "         'Ponytail': 1,\n",
       "         'Pretty': 1,\n",
       "         'Public': 1,\n",
       "         'Flashing': 1,\n",
       "         'Freckles': 1,\n",
       "         'Rough': 1,\n",
       "         'Sauna': 1,\n",
       "         'Sloppy': 1,\n",
       "         'Sneakers': 1,\n",
       "         'Sucking': 1,\n",
       "         'Summer': 1,\n",
       "         'Sweater': 1,\n",
       "         'Tall': 1,\n",
       "         'Tattooed': 1,\n",
       "         'Facial': 1,\n",
       "         'Sport': 1,\n",
       "         'Topless': 1,\n",
       "         'Wrestling': 1})"
      ]
     },
     "execution_count": 67,
     "metadata": {},
     "output_type": "execute_result"
    }
   ],
   "execution_count": 67
  },
  {
   "metadata": {
    "ExecuteTime": {
     "end_time": "2024-05-30T11:14:30.615976Z",
     "start_time": "2024-05-30T11:14:30.592451Z"
    }
   },
   "cell_type": "code",
   "source": [
    "words_to_remove = ['', 'In', 'And', 'On', 'No', 'Up', 'Open', 'First', 'Time', 'Down', 'B', 'C', 'Of', ]\n",
    "for word in words_to_remove:\n",
    "    words_freq.pop(word)"
   ],
   "id": "a630e71f82b3bd8c",
   "outputs": [],
   "execution_count": 68
  },
  {
   "metadata": {
    "ExecuteTime": {
     "end_time": "2024-05-30T11:18:29.217709Z",
     "start_time": "2024-05-30T11:18:28.864511Z"
    }
   },
   "cell_type": "code",
   "source": [
    "import plotly.express as px\n",
    "# Prepare data for the bubble plot\n",
    "data = {\n",
    "    'Word': list(words_freq.keys()),\n",
    "    'Occurrences': list(words_freq.values())\n",
    "}\n",
    "\n",
    "# Create a bubble plot\n",
    "fig = px.scatter(\n",
    "    data_frame=data,\n",
    "    x='Word',\n",
    "    y='Occurrences',\n",
    "    size='Occurrences',\n",
    "    color='Word',\n",
    "    hover_name='Word',\n",
    "    size_max=60,\n",
    "    title='Bubble Plot of Word Occurrences'\n",
    ")\n",
    "\n",
    "# Show the plot\n",
    "fig.show()"
   ],
   "id": "b82e9bd4ab0bae90",
   "outputs": [
    {
     "data": {
      "application/vnd.plotly.v1+json": {
       "data": [
        {
         "hovertemplate": "<b>%{hovertext}</b><br><br>Word=%{x}<br>Occurrences=%{marker.size}<extra></extra>",
         "hovertext": [
          "69"
         ],
         "legendgroup": "69",
         "marker": {
          "color": "#636efa",
          "size": [
           1
          ],
          "sizemode": "area",
          "sizeref": 0.03638888888888889,
          "symbol": "circle"
         },
         "mode": "markers",
         "name": "69",
         "orientation": "v",
         "showlegend": true,
         "x": [
          "69"
         ],
         "xaxis": "x",
         "y": [
          1
         ],
         "yaxis": "y",
         "type": "scatter"
        },
        {
         "hovertemplate": "<b>%{hovertext}</b><br><br>Word=%{x}<br>Occurrences=%{marker.size}<extra></extra>",
         "hovertext": [
          "Ahegao"
         ],
         "legendgroup": "Ahegao",
         "marker": {
          "color": "#EF553B",
          "size": [
           1
          ],
          "sizemode": "area",
          "sizeref": 0.03638888888888889,
          "symbol": "circle"
         },
         "mode": "markers",
         "name": "Ahegao",
         "orientation": "v",
         "showlegend": true,
         "x": [
          "Ahegao"
         ],
         "xaxis": "x",
         "y": [
          1
         ],
         "yaxis": "y",
         "type": "scatter"
        },
        {
         "hovertemplate": "<b>%{hovertext}</b><br><br>Word=%{x}<br>Occurrences=%{marker.size}<extra></extra>",
         "hovertext": [
          "Amateur"
         ],
         "legendgroup": "Amateur",
         "marker": {
          "color": "#00cc96",
          "size": [
           73
          ],
          "sizemode": "area",
          "sizeref": 0.03638888888888889,
          "symbol": "circle"
         },
         "mode": "markers",
         "name": "Amateur",
         "orientation": "v",
         "showlegend": true,
         "x": [
          "Amateur"
         ],
         "xaxis": "x",
         "y": [
          73
         ],
         "yaxis": "y",
         "type": "scatter"
        },
        {
         "hovertemplate": "<b>%{hovertext}</b><br><br>Word=%{x}<br>Occurrences=%{marker.size}<extra></extra>",
         "hovertext": [
          "Upskirt"
         ],
         "legendgroup": "Upskirt",
         "marker": {
          "color": "#ab63fa",
          "size": [
           24
          ],
          "sizemode": "area",
          "sizeref": 0.03638888888888889,
          "symbol": "circle"
         },
         "mode": "markers",
         "name": "Upskirt",
         "orientation": "v",
         "showlegend": true,
         "x": [
          "Upskirt"
         ],
         "xaxis": "x",
         "y": [
          24
         ],
         "yaxis": "y",
         "type": "scatter"
        },
        {
         "hovertemplate": "<b>%{hovertext}</b><br><br>Word=%{x}<br>Occurrences=%{marker.size}<extra></extra>",
         "hovertext": [
          "Anal"
         ],
         "legendgroup": "Anal",
         "marker": {
          "color": "#FFA15A",
          "size": [
           14
          ],
          "sizemode": "area",
          "sizeref": 0.03638888888888889,
          "symbol": "circle"
         },
         "mode": "markers",
         "name": "Anal",
         "orientation": "v",
         "showlegend": true,
         "x": [
          "Anal"
         ],
         "xaxis": "x",
         "y": [
          14
         ],
         "yaxis": "y",
         "type": "scatter"
        },
        {
         "hovertemplate": "<b>%{hovertext}</b><br><br>Word=%{x}<br>Occurrences=%{marker.size}<extra></extra>",
         "hovertext": [
          "Ass"
         ],
         "legendgroup": "Ass",
         "marker": {
          "color": "#19d3f3",
          "size": [
           64
          ],
          "sizemode": "area",
          "sizeref": 0.03638888888888889,
          "symbol": "circle"
         },
         "mode": "markers",
         "name": "Ass",
         "orientation": "v",
         "showlegend": true,
         "x": [
          "Ass"
         ],
         "xaxis": "x",
         "y": [
          64
         ],
         "yaxis": "y",
         "type": "scatter"
        },
        {
         "hovertemplate": "<b>%{hovertext}</b><br><br>Word=%{x}<br>Occurrences=%{marker.size}<extra></extra>",
         "hovertext": [
          "Bikini"
         ],
         "legendgroup": "Bikini",
         "marker": {
          "color": "#FF6692",
          "size": [
           10
          ],
          "sizemode": "area",
          "sizeref": 0.03638888888888889,
          "symbol": "circle"
         },
         "mode": "markers",
         "name": "Bikini",
         "orientation": "v",
         "showlegend": true,
         "x": [
          "Bikini"
         ],
         "xaxis": "x",
         "y": [
          10
         ],
         "yaxis": "y",
         "type": "scatter"
        },
        {
         "hovertemplate": "<b>%{hovertext}</b><br><br>Word=%{x}<br>Occurrences=%{marker.size}<extra></extra>",
         "hovertext": [
          "Fuck"
         ],
         "legendgroup": "Fuck",
         "marker": {
          "color": "#B6E880",
          "size": [
           30
          ],
          "sizemode": "area",
          "sizeref": 0.03638888888888889,
          "symbol": "circle"
         },
         "mode": "markers",
         "name": "Fuck",
         "orientation": "v",
         "showlegend": true,
         "x": [
          "Fuck"
         ],
         "xaxis": "x",
         "y": [
          30
         ],
         "yaxis": "y",
         "type": "scatter"
        },
        {
         "hovertemplate": "<b>%{hovertext}</b><br><br>Word=%{x}<br>Occurrences=%{marker.size}<extra></extra>",
         "hovertext": [
          "Granny"
         ],
         "legendgroup": "Granny",
         "marker": {
          "color": "#FF97FF",
          "size": [
           30
          ],
          "sizemode": "area",
          "sizeref": 0.03638888888888889,
          "symbol": "circle"
         },
         "mode": "markers",
         "name": "Granny",
         "orientation": "v",
         "showlegend": true,
         "x": [
          "Granny"
         ],
         "xaxis": "x",
         "y": [
          30
         ],
         "yaxis": "y",
         "type": "scatter"
        },
        {
         "hovertemplate": "<b>%{hovertext}</b><br><br>Word=%{x}<br>Occurrences=%{marker.size}<extra></extra>",
         "hovertext": [
          "Hairy"
         ],
         "legendgroup": "Hairy",
         "marker": {
          "color": "#FECB52",
          "size": [
           39
          ],
          "sizemode": "area",
          "sizeref": 0.03638888888888889,
          "symbol": "circle"
         },
         "mode": "markers",
         "name": "Hairy",
         "orientation": "v",
         "showlegend": true,
         "x": [
          "Hairy"
         ],
         "xaxis": "x",
         "y": [
          39
         ],
         "yaxis": "y",
         "type": "scatter"
        },
        {
         "hovertemplate": "<b>%{hovertext}</b><br><br>Word=%{x}<br>Occurrences=%{marker.size}<extra></extra>",
         "hovertext": [
          "Pussy"
         ],
         "legendgroup": "Pussy",
         "marker": {
          "color": "#636efa",
          "size": [
           63
          ],
          "sizemode": "area",
          "sizeref": 0.03638888888888889,
          "symbol": "circle"
         },
         "mode": "markers",
         "name": "Pussy",
         "orientation": "v",
         "showlegend": true,
         "x": [
          "Pussy"
         ],
         "xaxis": "x",
         "y": [
          63
         ],
         "yaxis": "y",
         "type": "scatter"
        },
        {
         "hovertemplate": "<b>%{hovertext}</b><br><br>Word=%{x}<br>Occurrences=%{marker.size}<extra></extra>",
         "hovertext": [
          "Handjob"
         ],
         "legendgroup": "Handjob",
         "marker": {
          "color": "#EF553B",
          "size": [
           16
          ],
          "sizemode": "area",
          "sizeref": 0.03638888888888889,
          "symbol": "circle"
         },
         "mode": "markers",
         "name": "Handjob",
         "orientation": "v",
         "showlegend": true,
         "x": [
          "Handjob"
         ],
         "xaxis": "x",
         "y": [
          16
         ],
         "yaxis": "y",
         "type": "scatter"
        },
        {
         "hovertemplate": "<b>%{hovertext}</b><br><br>Word=%{x}<br>Occurrences=%{marker.size}<extra></extra>",
         "hovertext": [
          "Homemade"
         ],
         "legendgroup": "Homemade",
         "marker": {
          "color": "#00cc96",
          "size": [
           13
          ],
          "sizemode": "area",
          "sizeref": 0.03638888888888889,
          "symbol": "circle"
         },
         "mode": "markers",
         "name": "Homemade",
         "orientation": "v",
         "showlegend": true,
         "x": [
          "Homemade"
         ],
         "xaxis": "x",
         "y": [
          13
         ],
         "yaxis": "y",
         "type": "scatter"
        },
        {
         "hovertemplate": "<b>%{hovertext}</b><br><br>Word=%{x}<br>Occurrences=%{marker.size}<extra></extra>",
         "hovertext": [
          "Housewife"
         ],
         "legendgroup": "Housewife",
         "marker": {
          "color": "#ab63fa",
          "size": [
           7
          ],
          "sizemode": "area",
          "sizeref": 0.03638888888888889,
          "symbol": "circle"
         },
         "mode": "markers",
         "name": "Housewife",
         "orientation": "v",
         "showlegend": true,
         "x": [
          "Housewife"
         ],
         "xaxis": "x",
         "y": [
          7
         ],
         "yaxis": "y",
         "type": "scatter"
        },
        {
         "hovertemplate": "<b>%{hovertext}</b><br><br>Word=%{x}<br>Occurrences=%{marker.size}<extra></extra>",
         "hovertext": [
          "Interracial"
         ],
         "legendgroup": "Interracial",
         "marker": {
          "color": "#FFA15A",
          "size": [
           4
          ],
          "sizemode": "area",
          "sizeref": 0.03638888888888889,
          "symbol": "circle"
         },
         "mode": "markers",
         "name": "Interracial",
         "orientation": "v",
         "showlegend": true,
         "x": [
          "Interracial"
         ],
         "xaxis": "x",
         "y": [
          4
         ],
         "yaxis": "y",
         "type": "scatter"
        },
        {
         "hovertemplate": "<b>%{hovertext}</b><br><br>Word=%{x}<br>Occurrences=%{marker.size}<extra></extra>",
         "hovertext": [
          "Latina"
         ],
         "legendgroup": "Latina",
         "marker": {
          "color": "#19d3f3",
          "size": [
           10
          ],
          "sizemode": "area",
          "sizeref": 0.03638888888888889,
          "symbol": "circle"
         },
         "mode": "markers",
         "name": "Latina",
         "orientation": "v",
         "showlegend": true,
         "x": [
          "Latina"
         ],
         "xaxis": "x",
         "y": [
          10
         ],
         "yaxis": "y",
         "type": "scatter"
        },
        {
         "hovertemplate": "<b>%{hovertext}</b><br><br>Word=%{x}<br>Occurrences=%{marker.size}<extra></extra>",
         "hovertext": [
          "Natural"
         ],
         "legendgroup": "Natural",
         "marker": {
          "color": "#FF6692",
          "size": [
           20
          ],
          "sizemode": "area",
          "sizeref": 0.03638888888888889,
          "symbol": "circle"
         },
         "mode": "markers",
         "name": "Natural",
         "orientation": "v",
         "showlegend": true,
         "x": [
          "Natural"
         ],
         "xaxis": "x",
         "y": [
          20
         ],
         "yaxis": "y",
         "type": "scatter"
        },
        {
         "hovertemplate": "<b>%{hovertext}</b><br><br>Word=%{x}<br>Occurrences=%{marker.size}<extra></extra>",
         "hovertext": [
          "Tits"
         ],
         "legendgroup": "Tits",
         "marker": {
          "color": "#B6E880",
          "size": [
           131
          ],
          "sizemode": "area",
          "sizeref": 0.03638888888888889,
          "symbol": "circle"
         },
         "mode": "markers",
         "name": "Tits",
         "orientation": "v",
         "showlegend": true,
         "x": [
          "Tits"
         ],
         "xaxis": "x",
         "y": [
          131
         ],
         "yaxis": "y",
         "type": "scatter"
        },
        {
         "hovertemplate": "<b>%{hovertext}</b><br><br>Word=%{x}<br>Occurrences=%{marker.size}<extra></extra>",
         "hovertext": [
          "Outdoor"
         ],
         "legendgroup": "Outdoor",
         "marker": {
          "color": "#FF97FF",
          "size": [
           4
          ],
          "sizemode": "area",
          "sizeref": 0.03638888888888889,
          "symbol": "circle"
         },
         "mode": "markers",
         "name": "Outdoor",
         "orientation": "v",
         "showlegend": true,
         "x": [
          "Outdoor"
         ],
         "xaxis": "x",
         "y": [
          4
         ],
         "yaxis": "y",
         "type": "scatter"
        },
        {
         "hovertemplate": "<b>%{hovertext}</b><br><br>Word=%{x}<br>Occurrences=%{marker.size}<extra></extra>",
         "hovertext": [
          "Petite"
         ],
         "legendgroup": "Petite",
         "marker": {
          "color": "#FECB52",
          "size": [
           18
          ],
          "sizemode": "area",
          "sizeref": 0.03638888888888889,
          "symbol": "circle"
         },
         "mode": "markers",
         "name": "Petite",
         "orientation": "v",
         "showlegend": true,
         "x": [
          "Petite"
         ],
         "xaxis": "x",
         "y": [
          18
         ],
         "yaxis": "y",
         "type": "scatter"
        },
        {
         "hovertemplate": "<b>%{hovertext}</b><br><br>Word=%{x}<br>Occurrences=%{marker.size}<extra></extra>",
         "hovertext": [
          "Selfie"
         ],
         "legendgroup": "Selfie",
         "marker": {
          "color": "#636efa",
          "size": [
           23
          ],
          "sizemode": "area",
          "sizeref": 0.03638888888888889,
          "symbol": "circle"
         },
         "mode": "markers",
         "name": "Selfie",
         "orientation": "v",
         "showlegend": true,
         "x": [
          "Selfie"
         ],
         "xaxis": "x",
         "y": [
          23
         ],
         "yaxis": "y",
         "type": "scatter"
        },
        {
         "hovertemplate": "<b>%{hovertext}</b><br><br>Word=%{x}<br>Occurrences=%{marker.size}<extra></extra>",
         "hovertext": [
          "Small"
         ],
         "legendgroup": "Small",
         "marker": {
          "color": "#EF553B",
          "size": [
           12
          ],
          "sizemode": "area",
          "sizeref": 0.03638888888888889,
          "symbol": "circle"
         },
         "mode": "markers",
         "name": "Small",
         "orientation": "v",
         "showlegend": true,
         "x": [
          "Small"
         ],
         "xaxis": "x",
         "y": [
          12
         ],
         "yaxis": "y",
         "type": "scatter"
        },
        {
         "hovertemplate": "<b>%{hovertext}</b><br><br>Word=%{x}<br>Occurrences=%{marker.size}<extra></extra>",
         "hovertext": [
          "Solo"
         ],
         "legendgroup": "Solo",
         "marker": {
          "color": "#00cc96",
          "size": [
           9
          ],
          "sizemode": "area",
          "sizeref": 0.03638888888888889,
          "symbol": "circle"
         },
         "mode": "markers",
         "name": "Solo",
         "orientation": "v",
         "showlegend": true,
         "x": [
          "Solo"
         ],
         "xaxis": "x",
         "y": [
          9
         ],
         "yaxis": "y",
         "type": "scatter"
        },
        {
         "hovertemplate": "<b>%{hovertext}</b><br><br>Word=%{x}<br>Occurrences=%{marker.size}<extra></extra>",
         "hovertext": [
          "Spreading"
         ],
         "legendgroup": "Spreading",
         "marker": {
          "color": "#ab63fa",
          "size": [
           8
          ],
          "sizemode": "area",
          "sizeref": 0.03638888888888889,
          "symbol": "circle"
         },
         "mode": "markers",
         "name": "Spreading",
         "orientation": "v",
         "showlegend": true,
         "x": [
          "Spreading"
         ],
         "xaxis": "x",
         "y": [
          8
         ],
         "yaxis": "y",
         "type": "scatter"
        },
        {
         "hovertemplate": "<b>%{hovertext}</b><br><br>Word=%{x}<br>Occurrences=%{marker.size}<extra></extra>",
         "hovertext": [
          "Stockings"
         ],
         "legendgroup": "Stockings",
         "marker": {
          "color": "#FFA15A",
          "size": [
           31
          ],
          "sizemode": "area",
          "sizeref": 0.03638888888888889,
          "symbol": "circle"
         },
         "mode": "markers",
         "name": "Stockings",
         "orientation": "v",
         "showlegend": true,
         "x": [
          "Stockings"
         ],
         "xaxis": "x",
         "y": [
          31
         ],
         "yaxis": "y",
         "type": "scatter"
        },
        {
         "hovertemplate": "<b>%{hovertext}</b><br><br>Word=%{x}<br>Occurrences=%{marker.size}<extra></extra>",
         "hovertext": [
          "Teen"
         ],
         "legendgroup": "Teen",
         "marker": {
          "color": "#19d3f3",
          "size": [
           94
          ],
          "sizemode": "area",
          "sizeref": 0.03638888888888889,
          "symbol": "circle"
         },
         "mode": "markers",
         "name": "Teen",
         "orientation": "v",
         "showlegend": true,
         "x": [
          "Teen"
         ],
         "xaxis": "x",
         "y": [
          94
         ],
         "yaxis": "y",
         "type": "scatter"
        },
        {
         "hovertemplate": "<b>%{hovertext}</b><br><br>Word=%{x}<br>Occurrences=%{marker.size}<extra></extra>",
         "hovertext": [
          "Undressing"
         ],
         "legendgroup": "Undressing",
         "marker": {
          "color": "#FF6692",
          "size": [
           5
          ],
          "sizemode": "area",
          "sizeref": 0.03638888888888889,
          "symbol": "circle"
         },
         "mode": "markers",
         "name": "Undressing",
         "orientation": "v",
         "showlegend": true,
         "x": [
          "Undressing"
         ],
         "xaxis": "x",
         "y": [
          5
         ],
         "yaxis": "y",
         "type": "scatter"
        },
        {
         "hovertemplate": "<b>%{hovertext}</b><br><br>Word=%{x}<br>Occurrences=%{marker.size}<extra></extra>",
         "hovertext": [
          "Wife"
         ],
         "legendgroup": "Wife",
         "marker": {
          "color": "#B6E880",
          "size": [
           11
          ],
          "sizemode": "area",
          "sizeref": 0.03638888888888889,
          "symbol": "circle"
         },
         "mode": "markers",
         "name": "Wife",
         "orientation": "v",
         "showlegend": true,
         "x": [
          "Wife"
         ],
         "xaxis": "x",
         "y": [
          11
         ],
         "yaxis": "y",
         "type": "scatter"
        },
        {
         "hovertemplate": "<b>%{hovertext}</b><br><br>Word=%{x}<br>Occurrences=%{marker.size}<extra></extra>",
         "hovertext": [
          "Yoga"
         ],
         "legendgroup": "Yoga",
         "marker": {
          "color": "#FF97FF",
          "size": [
           11
          ],
          "sizemode": "area",
          "sizeref": 0.03638888888888889,
          "symbol": "circle"
         },
         "mode": "markers",
         "name": "Yoga",
         "orientation": "v",
         "showlegend": true,
         "x": [
          "Yoga"
         ],
         "xaxis": "x",
         "y": [
          11
         ],
         "yaxis": "y",
         "type": "scatter"
        },
        {
         "hovertemplate": "<b>%{hovertext}</b><br><br>Word=%{x}<br>Occurrences=%{marker.size}<extra></extra>",
         "hovertext": [
          "Pants"
         ],
         "legendgroup": "Pants",
         "marker": {
          "color": "#FECB52",
          "size": [
           11
          ],
          "sizemode": "area",
          "sizeref": 0.03638888888888889,
          "symbol": "circle"
         },
         "mode": "markers",
         "name": "Pants",
         "orientation": "v",
         "showlegend": true,
         "x": [
          "Pants"
         ],
         "xaxis": "x",
         "y": [
          11
         ],
         "yaxis": "y",
         "type": "scatter"
        },
        {
         "hovertemplate": "<b>%{hovertext}</b><br><br>Word=%{x}<br>Occurrences=%{marker.size}<extra></extra>",
         "hovertext": [
          "American"
         ],
         "legendgroup": "American",
         "marker": {
          "color": "#636efa",
          "size": [
           2
          ],
          "sizemode": "area",
          "sizeref": 0.03638888888888889,
          "symbol": "circle"
         },
         "mode": "markers",
         "name": "American",
         "orientation": "v",
         "showlegend": true,
         "x": [
          "American"
         ],
         "xaxis": "x",
         "y": [
          2
         ],
         "yaxis": "y",
         "type": "scatter"
        },
        {
         "hovertemplate": "<b>%{hovertext}</b><br><br>Word=%{x}<br>Occurrences=%{marker.size}<extra></extra>",
         "hovertext": [
          "Mature"
         ],
         "legendgroup": "Mature",
         "marker": {
          "color": "#EF553B",
          "size": [
           94
          ],
          "sizemode": "area",
          "sizeref": 0.03638888888888889,
          "symbol": "circle"
         },
         "mode": "markers",
         "name": "Mature",
         "orientation": "v",
         "showlegend": true,
         "x": [
          "Mature"
         ],
         "xaxis": "x",
         "y": [
          94
         ],
         "yaxis": "y",
         "type": "scatter"
        },
        {
         "hovertemplate": "<b>%{hovertext}</b><br><br>Word=%{x}<br>Occurrences=%{marker.size}<extra></extra>",
         "hovertext": [
          "Threesome"
         ],
         "legendgroup": "Threesome",
         "marker": {
          "color": "#00cc96",
          "size": [
           7
          ],
          "sizemode": "area",
          "sizeref": 0.03638888888888889,
          "symbol": "circle"
         },
         "mode": "markers",
         "name": "Threesome",
         "orientation": "v",
         "showlegend": true,
         "x": [
          "Threesome"
         ],
         "xaxis": "x",
         "y": [
          7
         ],
         "yaxis": "y",
         "type": "scatter"
        },
        {
         "hovertemplate": "<b>%{hovertext}</b><br><br>Word=%{x}<br>Occurrences=%{marker.size}<extra></extra>",
         "hovertext": [
          "Asian"
         ],
         "legendgroup": "Asian",
         "marker": {
          "color": "#ab63fa",
          "size": [
           23
          ],
          "sizemode": "area",
          "sizeref": 0.03638888888888889,
          "symbol": "circle"
         },
         "mode": "markers",
         "name": "Asian",
         "orientation": "v",
         "showlegend": true,
         "x": [
          "Asian"
         ],
         "xaxis": "x",
         "y": [
          23
         ],
         "yaxis": "y",
         "type": "scatter"
        },
        {
         "hovertemplate": "<b>%{hovertext}</b><br><br>Word=%{x}<br>Occurrences=%{marker.size}<extra></extra>",
         "hovertext": [
          "Babe"
         ],
         "legendgroup": "Babe",
         "marker": {
          "color": "#FFA15A",
          "size": [
           9
          ],
          "sizemode": "area",
          "sizeref": 0.03638888888888889,
          "symbol": "circle"
         },
         "mode": "markers",
         "name": "Babe",
         "orientation": "v",
         "showlegend": true,
         "x": [
          "Babe"
         ],
         "xaxis": "x",
         "y": [
          9
         ],
         "yaxis": "y",
         "type": "scatter"
        },
        {
         "hovertemplate": "<b>%{hovertext}</b><br><br>Word=%{x}<br>Occurrences=%{marker.size}<extra></extra>",
         "hovertext": [
          "Big"
         ],
         "legendgroup": "Big",
         "marker": {
          "color": "#19d3f3",
          "size": [
           108
          ],
          "sizemode": "area",
          "sizeref": 0.03638888888888889,
          "symbol": "circle"
         },
         "mode": "markers",
         "name": "Big",
         "orientation": "v",
         "showlegend": true,
         "x": [
          "Big"
         ],
         "xaxis": "x",
         "y": [
          108
         ],
         "yaxis": "y",
         "type": "scatter"
        },
        {
         "hovertemplate": "<b>%{hovertext}</b><br><br>Word=%{x}<br>Occurrences=%{marker.size}<extra></extra>",
         "hovertext": [
          "Boots"
         ],
         "legendgroup": "Boots",
         "marker": {
          "color": "#FF6692",
          "size": [
           4
          ],
          "sizemode": "area",
          "sizeref": 0.03638888888888889,
          "symbol": "circle"
         },
         "mode": "markers",
         "name": "Boots",
         "orientation": "v",
         "showlegend": true,
         "x": [
          "Boots"
         ],
         "xaxis": "x",
         "y": [
          4
         ],
         "yaxis": "y",
         "type": "scatter"
        },
        {
         "hovertemplate": "<b>%{hovertext}</b><br><br>Word=%{x}<br>Occurrences=%{marker.size}<extra></extra>",
         "hovertext": [
          "Fake"
         ],
         "legendgroup": "Fake",
         "marker": {
          "color": "#B6E880",
          "size": [
           2
          ],
          "sizemode": "area",
          "sizeref": 0.03638888888888889,
          "symbol": "circle"
         },
         "mode": "markers",
         "name": "Fake",
         "orientation": "v",
         "showlegend": true,
         "x": [
          "Fake"
         ],
         "xaxis": "x",
         "y": [
          2
         ],
         "yaxis": "y",
         "type": "scatter"
        },
        {
         "hovertemplate": "<b>%{hovertext}</b><br><br>Word=%{x}<br>Occurrences=%{marker.size}<extra></extra>",
         "hovertext": [
          "Lingerie"
         ],
         "legendgroup": "Lingerie",
         "marker": {
          "color": "#FF97FF",
          "size": [
           29
          ],
          "sizemode": "area",
          "sizeref": 0.03638888888888889,
          "symbol": "circle"
         },
         "mode": "markers",
         "name": "Lingerie",
         "orientation": "v",
         "showlegend": true,
         "x": [
          "Lingerie"
         ],
         "xaxis": "x",
         "y": [
          29
         ],
         "yaxis": "y",
         "type": "scatter"
        },
        {
         "hovertemplate": "<b>%{hovertext}</b><br><br>Word=%{x}<br>Occurrences=%{marker.size}<extra></extra>",
         "hovertext": [
          "Feet"
         ],
         "legendgroup": "Feet",
         "marker": {
          "color": "#FECB52",
          "size": [
           13
          ],
          "sizemode": "area",
          "sizeref": 0.03638888888888889,
          "symbol": "circle"
         },
         "mode": "markers",
         "name": "Feet",
         "orientation": "v",
         "showlegend": true,
         "x": [
          "Feet"
         ],
         "xaxis": "x",
         "y": [
          13
         ],
         "yaxis": "y",
         "type": "scatter"
        },
        {
         "hovertemplate": "<b>%{hovertext}</b><br><br>Word=%{x}<br>Occurrences=%{marker.size}<extra></extra>",
         "hovertext": [
          "Shorts"
         ],
         "legendgroup": "Shorts",
         "marker": {
          "color": "#636efa",
          "size": [
           3
          ],
          "sizemode": "area",
          "sizeref": 0.03638888888888889,
          "symbol": "circle"
         },
         "mode": "markers",
         "name": "Shorts",
         "orientation": "v",
         "showlegend": true,
         "x": [
          "Shorts"
         ],
         "xaxis": "x",
         "y": [
          3
         ],
         "yaxis": "y",
         "type": "scatter"
        },
        {
         "hovertemplate": "<b>%{hovertext}</b><br><br>Word=%{x}<br>Occurrences=%{marker.size}<extra></extra>",
         "hovertext": [
          "Spread"
         ],
         "legendgroup": "Spread",
         "marker": {
          "color": "#EF553B",
          "size": [
           12
          ],
          "sizemode": "area",
          "sizeref": 0.03638888888888889,
          "symbol": "circle"
         },
         "mode": "markers",
         "name": "Spread",
         "orientation": "v",
         "showlegend": true,
         "x": [
          "Spread"
         ],
         "xaxis": "x",
         "y": [
          12
         ],
         "yaxis": "y",
         "type": "scatter"
        },
        {
         "hovertemplate": "<b>%{hovertext}</b><br><br>Word=%{x}<br>Occurrences=%{marker.size}<extra></extra>",
         "hovertext": [
          "Cup"
         ],
         "legendgroup": "Cup",
         "marker": {
          "color": "#00cc96",
          "size": [
           2
          ],
          "sizemode": "area",
          "sizeref": 0.03638888888888889,
          "symbol": "circle"
         },
         "mode": "markers",
         "name": "Cup",
         "orientation": "v",
         "showlegend": true,
         "x": [
          "Cup"
         ],
         "xaxis": "x",
         "y": [
          2
         ],
         "yaxis": "y",
         "type": "scatter"
        },
        {
         "hovertemplate": "<b>%{hovertext}</b><br><br>Word=%{x}<br>Occurrences=%{marker.size}<extra></extra>",
         "hovertext": [
          "BBW"
         ],
         "legendgroup": "BBW",
         "marker": {
          "color": "#ab63fa",
          "size": [
           13
          ],
          "sizemode": "area",
          "sizeref": 0.03638888888888889,
          "symbol": "circle"
         },
         "mode": "markers",
         "name": "BBW",
         "orientation": "v",
         "showlegend": true,
         "x": [
          "BBW"
         ],
         "xaxis": "x",
         "y": [
          13
         ],
         "yaxis": "y",
         "type": "scatter"
        },
        {
         "hovertemplate": "<b>%{hovertext}</b><br><br>Word=%{x}<br>Occurrences=%{marker.size}<extra></extra>",
         "hovertext": [
          "BDSM"
         ],
         "legendgroup": "BDSM",
         "marker": {
          "color": "#FFA15A",
          "size": [
           4
          ],
          "sizemode": "area",
          "sizeref": 0.03638888888888889,
          "symbol": "circle"
         },
         "mode": "markers",
         "name": "BDSM",
         "orientation": "v",
         "showlegend": true,
         "x": [
          "BDSM"
         ],
         "xaxis": "x",
         "y": [
          4
         ],
         "yaxis": "y",
         "type": "scatter"
        },
        {
         "hovertemplate": "<b>%{hovertext}</b><br><br>Word=%{x}<br>Occurrences=%{marker.size}<extra></extra>",
         "hovertext": [
          "Banana"
         ],
         "legendgroup": "Banana",
         "marker": {
          "color": "#19d3f3",
          "size": [
           1
          ],
          "sizemode": "area",
          "sizeref": 0.03638888888888889,
          "symbol": "circle"
         },
         "mode": "markers",
         "name": "Banana",
         "orientation": "v",
         "showlegend": true,
         "x": [
          "Banana"
         ],
         "xaxis": "x",
         "y": [
          1
         ],
         "yaxis": "y",
         "type": "scatter"
        },
        {
         "hovertemplate": "<b>%{hovertext}</b><br><br>Word=%{x}<br>Occurrences=%{marker.size}<extra></extra>",
         "hovertext": [
          "Beautiful"
         ],
         "legendgroup": "Beautiful",
         "marker": {
          "color": "#FF6692",
          "size": [
           21
          ],
          "sizemode": "area",
          "sizeref": 0.03638888888888889,
          "symbol": "circle"
         },
         "mode": "markers",
         "name": "Beautiful",
         "orientation": "v",
         "showlegend": true,
         "x": [
          "Beautiful"
         ],
         "xaxis": "x",
         "y": [
          21
         ],
         "yaxis": "y",
         "type": "scatter"
        },
        {
         "hovertemplate": "<b>%{hovertext}</b><br><br>Word=%{x}<br>Occurrences=%{marker.size}<extra></extra>",
         "hovertext": [
          "Face"
         ],
         "legendgroup": "Face",
         "marker": {
          "color": "#B6E880",
          "size": [
           8
          ],
          "sizemode": "area",
          "sizeref": 0.03638888888888889,
          "symbol": "circle"
         },
         "mode": "markers",
         "name": "Face",
         "orientation": "v",
         "showlegend": true,
         "x": [
          "Face"
         ],
         "xaxis": "x",
         "y": [
          8
         ],
         "yaxis": "y",
         "type": "scatter"
        },
        {
         "hovertemplate": "<b>%{hovertext}</b><br><br>Word=%{x}<br>Occurrences=%{marker.size}<extra></extra>",
         "hovertext": [
          "Russian"
         ],
         "legendgroup": "Russian",
         "marker": {
          "color": "#FF97FF",
          "size": [
           4
          ],
          "sizemode": "area",
          "sizeref": 0.03638888888888889,
          "symbol": "circle"
         },
         "mode": "markers",
         "name": "Russian",
         "orientation": "v",
         "showlegend": true,
         "x": [
          "Russian"
         ],
         "xaxis": "x",
         "y": [
          4
         ],
         "yaxis": "y",
         "type": "scatter"
        },
        {
         "hovertemplate": "<b>%{hovertext}</b><br><br>Word=%{x}<br>Occurrences=%{marker.size}<extra></extra>",
         "hovertext": [
          "Bent"
         ],
         "legendgroup": "Bent",
         "marker": {
          "color": "#FECB52",
          "size": [
           8
          ],
          "sizemode": "area",
          "sizeref": 0.03638888888888889,
          "symbol": "circle"
         },
         "mode": "markers",
         "name": "Bent",
         "orientation": "v",
         "showlegend": true,
         "x": [
          "Bent"
         ],
         "xaxis": "x",
         "y": [
          8
         ],
         "yaxis": "y",
         "type": "scatter"
        },
        {
         "hovertemplate": "<b>%{hovertext}</b><br><br>Word=%{x}<br>Occurrences=%{marker.size}<extra></extra>",
         "hovertext": [
          "Over"
         ],
         "legendgroup": "Over",
         "marker": {
          "color": "#636efa",
          "size": [
           16
          ],
          "sizemode": "area",
          "sizeref": 0.03638888888888889,
          "symbol": "circle"
         },
         "mode": "markers",
         "name": "Over",
         "orientation": "v",
         "showlegend": true,
         "x": [
          "Over"
         ],
         "xaxis": "x",
         "y": [
          16
         ],
         "yaxis": "y",
         "type": "scatter"
        },
        {
         "hovertemplate": "<b>%{hovertext}</b><br><br>Word=%{x}<br>Occurrences=%{marker.size}<extra></extra>",
         "hovertext": [
          "Panties"
         ],
         "legendgroup": "Panties",
         "marker": {
          "color": "#EF553B",
          "size": [
           23
          ],
          "sizemode": "area",
          "sizeref": 0.03638888888888889,
          "symbol": "circle"
         },
         "mode": "markers",
         "name": "Panties",
         "orientation": "v",
         "showlegend": true,
         "x": [
          "Panties"
         ],
         "xaxis": "x",
         "y": [
          23
         ],
         "yaxis": "y",
         "type": "scatter"
        },
        {
         "hovertemplate": "<b>%{hovertext}</b><br><br>Word=%{x}<br>Occurrences=%{marker.size}<extra></extra>",
         "hovertext": [
          "Skirt"
         ],
         "legendgroup": "Skirt",
         "marker": {
          "color": "#00cc96",
          "size": [
           13
          ],
          "sizemode": "area",
          "sizeref": 0.03638888888888889,
          "symbol": "circle"
         },
         "mode": "markers",
         "name": "Skirt",
         "orientation": "v",
         "showlegend": true,
         "x": [
          "Skirt"
         ],
         "xaxis": "x",
         "y": [
          13
         ],
         "yaxis": "y",
         "type": "scatter"
        },
        {
         "hovertemplate": "<b>%{hovertext}</b><br><br>Word=%{x}<br>Occurrences=%{marker.size}<extra></extra>",
         "hovertext": [
          "Areolas"
         ],
         "legendgroup": "Areolas",
         "marker": {
          "color": "#ab63fa",
          "size": [
           1
          ],
          "sizemode": "area",
          "sizeref": 0.03638888888888889,
          "symbol": "circle"
         },
         "mode": "markers",
         "name": "Areolas",
         "orientation": "v",
         "showlegend": true,
         "x": [
          "Areolas"
         ],
         "xaxis": "x",
         "y": [
          1
         ],
         "yaxis": "y",
         "type": "scatter"
        },
        {
         "hovertemplate": "<b>%{hovertext}</b><br><br>Word=%{x}<br>Occurrences=%{marker.size}<extra></extra>",
         "hovertext": [
          "Masturbation"
         ],
         "legendgroup": "Masturbation",
         "marker": {
          "color": "#FFA15A",
          "size": [
           5
          ],
          "sizemode": "area",
          "sizeref": 0.03638888888888889,
          "symbol": "circle"
         },
         "mode": "markers",
         "name": "Masturbation",
         "orientation": "v",
         "showlegend": true,
         "x": [
          "Masturbation"
         ],
         "xaxis": "x",
         "y": [
          5
         ],
         "yaxis": "y",
         "type": "scatter"
        },
        {
         "hovertemplate": "<b>%{hovertext}</b><br><br>Word=%{x}<br>Occurrences=%{marker.size}<extra></extra>",
         "hovertext": [
          "Doggystyle"
         ],
         "legendgroup": "Doggystyle",
         "marker": {
          "color": "#19d3f3",
          "size": [
           2
          ],
          "sizemode": "area",
          "sizeref": 0.03638888888888889,
          "symbol": "circle"
         },
         "mode": "markers",
         "name": "Doggystyle",
         "orientation": "v",
         "showlegend": true,
         "x": [
          "Doggystyle"
         ],
         "xaxis": "x",
         "y": [
          2
         ],
         "yaxis": "y",
         "type": "scatter"
        },
        {
         "hovertemplate": "<b>%{hovertext}</b><br><br>Word=%{x}<br>Occurrences=%{marker.size}<extra></extra>",
         "hovertext": [
          "Mom"
         ],
         "legendgroup": "Mom",
         "marker": {
          "color": "#FF6692",
          "size": [
           6
          ],
          "sizemode": "area",
          "sizeref": 0.03638888888888889,
          "symbol": "circle"
         },
         "mode": "markers",
         "name": "Mom",
         "orientation": "v",
         "showlegend": true,
         "x": [
          "Mom"
         ],
         "xaxis": "x",
         "y": [
          6
         ],
         "yaxis": "y",
         "type": "scatter"
        },
        {
         "hovertemplate": "<b>%{hovertext}</b><br><br>Word=%{x}<br>Occurrences=%{marker.size}<extra></extra>",
         "hovertext": [
          "Cock"
         ],
         "legendgroup": "Cock",
         "marker": {
          "color": "#B6E880",
          "size": [
           6
          ],
          "sizemode": "area",
          "sizeref": 0.03638888888888889,
          "symbol": "circle"
         },
         "mode": "markers",
         "name": "Cock",
         "orientation": "v",
         "showlegend": true,
         "x": [
          "Cock"
         ],
         "xaxis": "x",
         "y": [
          6
         ],
         "yaxis": "y",
         "type": "scatter"
        },
        {
         "hovertemplate": "<b>%{hovertext}</b><br><br>Word=%{x}<br>Occurrences=%{marker.size}<extra></extra>",
         "hovertext": [
          "Blowjob"
         ],
         "legendgroup": "Blowjob",
         "marker": {
          "color": "#FF97FF",
          "size": [
           17
          ],
          "sizemode": "area",
          "sizeref": 0.03638888888888889,
          "symbol": "circle"
         },
         "mode": "markers",
         "name": "Blowjob",
         "orientation": "v",
         "showlegend": true,
         "x": [
          "Blowjob"
         ],
         "xaxis": "x",
         "y": [
          17
         ],
         "yaxis": "y",
         "type": "scatter"
        },
        {
         "hovertemplate": "<b>%{hovertext}</b><br><br>Word=%{x}<br>Occurrences=%{marker.size}<extra></extra>",
         "hovertext": [
          "Dick"
         ],
         "legendgroup": "Dick",
         "marker": {
          "color": "#FECB52",
          "size": [
           4
          ],
          "sizemode": "area",
          "sizeref": 0.03638888888888889,
          "symbol": "circle"
         },
         "mode": "markers",
         "name": "Dick",
         "orientation": "v",
         "showlegend": true,
         "x": [
          "Dick"
         ],
         "xaxis": "x",
         "y": [
          4
         ],
         "yaxis": "y",
         "type": "scatter"
        },
        {
         "hovertemplate": "<b>%{hovertext}</b><br><br>Word=%{x}<br>Occurrences=%{marker.size}<extra></extra>",
         "hovertext": [
          "Fat"
         ],
         "legendgroup": "Fat",
         "marker": {
          "color": "#636efa",
          "size": [
           6
          ],
          "sizemode": "area",
          "sizeref": 0.03638888888888889,
          "symbol": "circle"
         },
         "mode": "markers",
         "name": "Fat",
         "orientation": "v",
         "showlegend": true,
         "x": [
          "Fat"
         ],
         "xaxis": "x",
         "y": [
          6
         ],
         "yaxis": "y",
         "type": "scatter"
        },
        {
         "hovertemplate": "<b>%{hovertext}</b><br><br>Word=%{x}<br>Occurrences=%{marker.size}<extra></extra>",
         "hovertext": [
          "Pierced"
         ],
         "legendgroup": "Pierced",
         "marker": {
          "color": "#EF553B",
          "size": [
           6
          ],
          "sizemode": "area",
          "sizeref": 0.03638888888888889,
          "symbol": "circle"
         },
         "mode": "markers",
         "name": "Pierced",
         "orientation": "v",
         "showlegend": true,
         "x": [
          "Pierced"
         ],
         "xaxis": "x",
         "y": [
          6
         ],
         "yaxis": "y",
         "type": "scatter"
        },
        {
         "hovertemplate": "<b>%{hovertext}</b><br><br>Word=%{x}<br>Occurrences=%{marker.size}<extra></extra>",
         "hovertext": [
          "Saggy"
         ],
         "legendgroup": "Saggy",
         "marker": {
          "color": "#00cc96",
          "size": [
           9
          ],
          "sizemode": "area",
          "sizeref": 0.03638888888888889,
          "symbol": "circle"
         },
         "mode": "markers",
         "name": "Saggy",
         "orientation": "v",
         "showlegend": true,
         "x": [
          "Saggy"
         ],
         "xaxis": "x",
         "y": [
          9
         ],
         "yaxis": "y",
         "type": "scatter"
        },
        {
         "hovertemplate": "<b>%{hovertext}</b><br><br>Word=%{x}<br>Occurrences=%{marker.size}<extra></extra>",
         "hovertext": [
          "Brunette"
         ],
         "legendgroup": "Brunette",
         "marker": {
          "color": "#ab63fa",
          "size": [
           16
          ],
          "sizemode": "area",
          "sizeref": 0.03638888888888889,
          "symbol": "circle"
         },
         "mode": "markers",
         "name": "Brunette",
         "orientation": "v",
         "showlegend": true,
         "x": [
          "Brunette"
         ],
         "xaxis": "x",
         "y": [
          16
         ],
         "yaxis": "y",
         "type": "scatter"
        },
        {
         "hovertemplate": "<b>%{hovertext}</b><br><br>Word=%{x}<br>Occurrences=%{marker.size}<extra></extra>",
         "hovertext": [
          "Glasses"
         ],
         "legendgroup": "Glasses",
         "marker": {
          "color": "#FFA15A",
          "size": [
           8
          ],
          "sizemode": "area",
          "sizeref": 0.03638888888888889,
          "symbol": "circle"
         },
         "mode": "markers",
         "name": "Glasses",
         "orientation": "v",
         "showlegend": true,
         "x": [
          "Glasses"
         ],
         "xaxis": "x",
         "y": [
          8
         ],
         "yaxis": "y",
         "type": "scatter"
        },
        {
         "hovertemplate": "<b>%{hovertext}</b><br><br>Word=%{x}<br>Occurrences=%{marker.size}<extra></extra>",
         "hovertext": [
          "Hardcore"
         ],
         "legendgroup": "Hardcore",
         "marker": {
          "color": "#19d3f3",
          "size": [
           2
          ],
          "sizemode": "area",
          "sizeref": 0.03638888888888889,
          "symbol": "circle"
         },
         "mode": "markers",
         "name": "Hardcore",
         "orientation": "v",
         "showlegend": true,
         "x": [
          "Hardcore"
         ],
         "xaxis": "x",
         "y": [
          2
         ],
         "yaxis": "y",
         "type": "scatter"
        },
        {
         "hovertemplate": "<b>%{hovertext}</b><br><br>Word=%{x}<br>Occurrences=%{marker.size}<extra></extra>",
         "hovertext": [
          "Nipples"
         ],
         "legendgroup": "Nipples",
         "marker": {
          "color": "#FF6692",
          "size": [
           10
          ],
          "sizemode": "area",
          "sizeref": 0.03638888888888889,
          "symbol": "circle"
         },
         "mode": "markers",
         "name": "Nipples",
         "orientation": "v",
         "showlegend": true,
         "x": [
          "Nipples"
         ],
         "xaxis": "x",
         "y": [
          10
         ],
         "yaxis": "y",
         "type": "scatter"
        },
        {
         "hovertemplate": "<b>%{hovertext}</b><br><br>Word=%{x}<br>Occurrences=%{marker.size}<extra></extra>",
         "hovertext": [
          "Nurse"
         ],
         "legendgroup": "Nurse",
         "marker": {
          "color": "#B6E880",
          "size": [
           4
          ],
          "sizemode": "area",
          "sizeref": 0.03638888888888889,
          "symbol": "circle"
         },
         "mode": "markers",
         "name": "Nurse",
         "orientation": "v",
         "showlegend": true,
         "x": [
          "Nurse"
         ],
         "xaxis": "x",
         "y": [
          4
         ],
         "yaxis": "y",
         "type": "scatter"
        },
        {
         "hovertemplate": "<b>%{hovertext}</b><br><br>Word=%{x}<br>Occurrences=%{marker.size}<extra></extra>",
         "hovertext": [
          "Pornstar"
         ],
         "legendgroup": "Pornstar",
         "marker": {
          "color": "#FF97FF",
          "size": [
           4
          ],
          "sizemode": "area",
          "sizeref": 0.03638888888888889,
          "symbol": "circle"
         },
         "mode": "markers",
         "name": "Pornstar",
         "orientation": "v",
         "showlegend": true,
         "x": [
          "Pornstar"
         ],
         "xaxis": "x",
         "y": [
          4
         ],
         "yaxis": "y",
         "type": "scatter"
        },
        {
         "hovertemplate": "<b>%{hovertext}</b><br><br>Word=%{x}<br>Occurrences=%{marker.size}<extra></extra>",
         "hovertext": [
          "Riding"
         ],
         "legendgroup": "Riding",
         "marker": {
          "color": "#FECB52",
          "size": [
           2
          ],
          "sizemode": "area",
          "sizeref": 0.03638888888888889,
          "symbol": "circle"
         },
         "mode": "markers",
         "name": "Riding",
         "orientation": "v",
         "showlegend": true,
         "x": [
          "Riding"
         ],
         "xaxis": "x",
         "y": [
          2
         ],
         "yaxis": "y",
         "type": "scatter"
        },
        {
         "hovertemplate": "<b>%{hovertext}</b><br><br>Word=%{x}<br>Occurrences=%{marker.size}<extra></extra>",
         "hovertext": [
          "Secretary"
         ],
         "legendgroup": "Secretary",
         "marker": {
          "color": "#636efa",
          "size": [
           20
          ],
          "sizemode": "area",
          "sizeref": 0.03638888888888889,
          "symbol": "circle"
         },
         "mode": "markers",
         "name": "Secretary",
         "orientation": "v",
         "showlegend": true,
         "x": [
          "Secretary"
         ],
         "xaxis": "x",
         "y": [
          20
         ],
         "yaxis": "y",
         "type": "scatter"
        },
        {
         "hovertemplate": "<b>%{hovertext}</b><br><br>Word=%{x}<br>Occurrences=%{marker.size}<extra></extra>",
         "hovertext": [
          "Shower"
         ],
         "legendgroup": "Shower",
         "marker": {
          "color": "#EF553B",
          "size": [
           1
          ],
          "sizemode": "area",
          "sizeref": 0.03638888888888889,
          "symbol": "circle"
         },
         "mode": "markers",
         "name": "Shower",
         "orientation": "v",
         "showlegend": true,
         "x": [
          "Shower"
         ],
         "xaxis": "x",
         "y": [
          1
         ],
         "yaxis": "y",
         "type": "scatter"
        },
        {
         "hovertemplate": "<b>%{hovertext}</b><br><br>Word=%{x}<br>Occurrences=%{marker.size}<extra></extra>",
         "hovertext": [
          "Tattoo"
         ],
         "legendgroup": "Tattoo",
         "marker": {
          "color": "#00cc96",
          "size": [
           1
          ],
          "sizemode": "area",
          "sizeref": 0.03638888888888889,
          "symbol": "circle"
         },
         "mode": "markers",
         "name": "Tattoo",
         "orientation": "v",
         "showlegend": true,
         "x": [
          "Tattoo"
         ],
         "xaxis": "x",
         "y": [
          1
         ],
         "yaxis": "y",
         "type": "scatter"
        },
        {
         "hovertemplate": "<b>%{hovertext}</b><br><br>Word=%{x}<br>Occurrences=%{marker.size}<extra></extra>",
         "hovertext": [
          "Titfuck"
         ],
         "legendgroup": "Titfuck",
         "marker": {
          "color": "#ab63fa",
          "size": [
           1
          ],
          "sizemode": "area",
          "sizeref": 0.03638888888888889,
          "symbol": "circle"
         },
         "mode": "markers",
         "name": "Titfuck",
         "orientation": "v",
         "showlegend": true,
         "x": [
          "Titfuck"
         ],
         "xaxis": "x",
         "y": [
          1
         ],
         "yaxis": "y",
         "type": "scatter"
        },
        {
         "hovertemplate": "<b>%{hovertext}</b><br><br>Word=%{x}<br>Occurrences=%{marker.size}<extra></extra>",
         "hovertext": [
          "Model"
         ],
         "legendgroup": "Model",
         "marker": {
          "color": "#FFA15A",
          "size": [
           4
          ],
          "sizemode": "area",
          "sizeref": 0.03638888888888889,
          "symbol": "circle"
         },
         "mode": "markers",
         "name": "Model",
         "orientation": "v",
         "showlegend": true,
         "x": [
          "Model"
         ],
         "xaxis": "x",
         "y": [
          4
         ],
         "yaxis": "y",
         "type": "scatter"
        },
        {
         "hovertemplate": "<b>%{hovertext}</b><br><br>Word=%{x}<br>Occurrences=%{marker.size}<extra></extra>",
         "hovertext": [
          "Blonde"
         ],
         "legendgroup": "Blonde",
         "marker": {
          "color": "#19d3f3",
          "size": [
           19
          ],
          "sizemode": "area",
          "sizeref": 0.03638888888888889,
          "symbol": "circle"
         },
         "mode": "markers",
         "name": "Blonde",
         "orientation": "v",
         "showlegend": true,
         "x": [
          "Blonde"
         ],
         "xaxis": "x",
         "y": [
          19
         ],
         "yaxis": "y",
         "type": "scatter"
        },
        {
         "hovertemplate": "<b>%{hovertext}</b><br><br>Word=%{x}<br>Occurrences=%{marker.size}<extra></extra>",
         "hovertext": [
          "Cum"
         ],
         "legendgroup": "Cum",
         "marker": {
          "color": "#FF6692",
          "size": [
           15
          ],
          "sizemode": "area",
          "sizeref": 0.03638888888888889,
          "symbol": "circle"
         },
         "mode": "markers",
         "name": "Cum",
         "orientation": "v",
         "showlegend": true,
         "x": [
          "Cum"
         ],
         "xaxis": "x",
         "y": [
          15
         ],
         "yaxis": "y",
         "type": "scatter"
        },
        {
         "hovertemplate": "<b>%{hovertext}</b><br><br>Word=%{x}<br>Occurrences=%{marker.size}<extra></extra>",
         "hovertext": [
          "Boobs"
         ],
         "legendgroup": "Boobs",
         "marker": {
          "color": "#B6E880",
          "size": [
           6
          ],
          "sizemode": "area",
          "sizeref": 0.03638888888888889,
          "symbol": "circle"
         },
         "mode": "markers",
         "name": "Boobs",
         "orientation": "v",
         "showlegend": true,
         "x": [
          "Boobs"
         ],
         "xaxis": "x",
         "y": [
          6
         ],
         "yaxis": "y",
         "type": "scatter"
        },
        {
         "hovertemplate": "<b>%{hovertext}</b><br><br>Word=%{x}<br>Occurrences=%{marker.size}<extra></extra>",
         "hovertext": [
          "Booty"
         ],
         "legendgroup": "Booty",
         "marker": {
          "color": "#FF97FF",
          "size": [
           1
          ],
          "sizemode": "area",
          "sizeref": 0.03638888888888889,
          "symbol": "circle"
         },
         "mode": "markers",
         "name": "Booty",
         "orientation": "v",
         "showlegend": true,
         "x": [
          "Booty"
         ],
         "xaxis": "x",
         "y": [
          1
         ],
         "yaxis": "y",
         "type": "scatter"
        },
        {
         "hovertemplate": "<b>%{hovertext}</b><br><br>Word=%{x}<br>Occurrences=%{marker.size}<extra></extra>",
         "hovertext": [
          "Boss"
         ],
         "legendgroup": "Boss",
         "marker": {
          "color": "#FECB52",
          "size": [
           2
          ],
          "sizemode": "area",
          "sizeref": 0.03638888888888889,
          "symbol": "circle"
         },
         "mode": "markers",
         "name": "Boss",
         "orientation": "v",
         "showlegend": true,
         "x": [
          "Boss"
         ],
         "xaxis": "x",
         "y": [
          2
         ],
         "yaxis": "y",
         "type": "scatter"
        },
        {
         "hovertemplate": "<b>%{hovertext}</b><br><br>Word=%{x}<br>Occurrences=%{marker.size}<extra></extra>",
         "hovertext": [
          "Bra"
         ],
         "legendgroup": "Bra",
         "marker": {
          "color": "#636efa",
          "size": [
           2
          ],
          "sizemode": "area",
          "sizeref": 0.03638888888888889,
          "symbol": "circle"
         },
         "mode": "markers",
         "name": "Bra",
         "orientation": "v",
         "showlegend": true,
         "x": [
          "Bra"
         ],
         "xaxis": "x",
         "y": [
          2
         ],
         "yaxis": "y",
         "type": "scatter"
        },
        {
         "hovertemplate": "<b>%{hovertext}</b><br><br>Word=%{x}<br>Occurrences=%{marker.size}<extra></extra>",
         "hovertext": [
          "Brazilian"
         ],
         "legendgroup": "Brazilian",
         "marker": {
          "color": "#EF553B",
          "size": [
           1
          ],
          "sizemode": "area",
          "sizeref": 0.03638888888888889,
          "symbol": "circle"
         },
         "mode": "markers",
         "name": "Brazilian",
         "orientation": "v",
         "showlegend": true,
         "x": [
          "Brazilian"
         ],
         "xaxis": "x",
         "y": [
          1
         ],
         "yaxis": "y",
         "type": "scatter"
        },
        {
         "hovertemplate": "<b>%{hovertext}</b><br><br>Word=%{x}<br>Occurrences=%{marker.size}<extra></extra>",
         "hovertext": [
          "Bride"
         ],
         "legendgroup": "Bride",
         "marker": {
          "color": "#00cc96",
          "size": [
           1
          ],
          "sizemode": "area",
          "sizeref": 0.03638888888888889,
          "symbol": "circle"
         },
         "mode": "markers",
         "name": "Bride",
         "orientation": "v",
         "showlegend": true,
         "x": [
          "Bride"
         ],
         "xaxis": "x",
         "y": [
          1
         ],
         "yaxis": "y",
         "type": "scatter"
        },
        {
         "hovertemplate": "<b>%{hovertext}</b><br><br>Word=%{x}<br>Occurrences=%{marker.size}<extra></extra>",
         "hovertext": [
          "British"
         ],
         "legendgroup": "British",
         "marker": {
          "color": "#ab63fa",
          "size": [
           7
          ],
          "sizemode": "area",
          "sizeref": 0.03638888888888889,
          "symbol": "circle"
         },
         "mode": "markers",
         "name": "British",
         "orientation": "v",
         "showlegend": true,
         "x": [
          "British"
         ],
         "xaxis": "x",
         "y": [
          7
         ],
         "yaxis": "y",
         "type": "scatter"
        },
        {
         "hovertemplate": "<b>%{hovertext}</b><br><br>Word=%{x}<br>Occurrences=%{marker.size}<extra></extra>",
         "hovertext": [
          "Bubble"
         ],
         "legendgroup": "Bubble",
         "marker": {
          "color": "#FFA15A",
          "size": [
           1
          ],
          "sizemode": "area",
          "sizeref": 0.03638888888888889,
          "symbol": "circle"
         },
         "mode": "markers",
         "name": "Bubble",
         "orientation": "v",
         "showlegend": true,
         "x": [
          "Bubble"
         ],
         "xaxis": "x",
         "y": [
          1
         ],
         "yaxis": "y",
         "type": "scatter"
        },
        {
         "hovertemplate": "<b>%{hovertext}</b><br><br>Word=%{x}<br>Occurrences=%{marker.size}<extra></extra>",
         "hovertext": [
          "Butt"
         ],
         "legendgroup": "Butt",
         "marker": {
          "color": "#19d3f3",
          "size": [
           2
          ],
          "sizemode": "area",
          "sizeref": 0.03638888888888889,
          "symbol": "circle"
         },
         "mode": "markers",
         "name": "Butt",
         "orientation": "v",
         "showlegend": true,
         "x": [
          "Butt"
         ],
         "xaxis": "x",
         "y": [
          2
         ],
         "yaxis": "y",
         "type": "scatter"
        },
        {
         "hovertemplate": "<b>%{hovertext}</b><br><br>Word=%{x}<br>Occurrences=%{marker.size}<extra></extra>",
         "hovertext": [
          "Busty"
         ],
         "legendgroup": "Busty",
         "marker": {
          "color": "#FF6692",
          "size": [
           15
          ],
          "sizemode": "area",
          "sizeref": 0.03638888888888889,
          "symbol": "circle"
         },
         "mode": "markers",
         "name": "Busty",
         "orientation": "v",
         "showlegend": true,
         "x": [
          "Busty"
         ],
         "xaxis": "x",
         "y": [
          15
         ],
         "yaxis": "y",
         "type": "scatter"
        },
        {
         "hovertemplate": "<b>%{hovertext}</b><br><br>Word=%{x}<br>Occurrences=%{marker.size}<extra></extra>",
         "hovertext": [
          "CFNM"
         ],
         "legendgroup": "CFNM",
         "marker": {
          "color": "#B6E880",
          "size": [
           1
          ],
          "sizemode": "area",
          "sizeref": 0.03638888888888889,
          "symbol": "circle"
         },
         "mode": "markers",
         "name": "CFNM",
         "orientation": "v",
         "showlegend": true,
         "x": [
          "CFNM"
         ],
         "xaxis": "x",
         "y": [
          1
         ],
         "yaxis": "y",
         "type": "scatter"
        },
        {
         "hovertemplate": "<b>%{hovertext}</b><br><br>Word=%{x}<br>Occurrences=%{marker.size}<extra></extra>",
         "hovertext": [
          "Car"
         ],
         "legendgroup": "Car",
         "marker": {
          "color": "#FF97FF",
          "size": [
           1
          ],
          "sizemode": "area",
          "sizeref": 0.03638888888888889,
          "symbol": "circle"
         },
         "mode": "markers",
         "name": "Car",
         "orientation": "v",
         "showlegend": true,
         "x": [
          "Car"
         ],
         "xaxis": "x",
         "y": [
          1
         ],
         "yaxis": "y",
         "type": "scatter"
        },
        {
         "hovertemplate": "<b>%{hovertext}</b><br><br>Word=%{x}<br>Occurrences=%{marker.size}<extra></extra>",
         "hovertext": [
          "Centerfold"
         ],
         "legendgroup": "Centerfold",
         "marker": {
          "color": "#FECB52",
          "size": [
           1
          ],
          "sizemode": "area",
          "sizeref": 0.03638888888888889,
          "symbol": "circle"
         },
         "mode": "markers",
         "name": "Centerfold",
         "orientation": "v",
         "showlegend": true,
         "x": [
          "Centerfold"
         ],
         "xaxis": "x",
         "y": [
          1
         ],
         "yaxis": "y",
         "type": "scatter"
        },
        {
         "hovertemplate": "<b>%{hovertext}</b><br><br>Word=%{x}<br>Occurrences=%{marker.size}<extra></extra>",
         "hovertext": [
          "Chubby"
         ],
         "legendgroup": "Chubby",
         "marker": {
          "color": "#636efa",
          "size": [
           38
          ],
          "sizemode": "area",
          "sizeref": 0.03638888888888889,
          "symbol": "circle"
         },
         "mode": "markers",
         "name": "Chubby",
         "orientation": "v",
         "showlegend": true,
         "x": [
          "Chubby"
         ],
         "xaxis": "x",
         "y": [
          38
         ],
         "yaxis": "y",
         "type": "scatter"
        },
        {
         "hovertemplate": "<b>%{hovertext}</b><br><br>Word=%{x}<br>Occurrences=%{marker.size}<extra></extra>",
         "hovertext": [
          "Asshole"
         ],
         "legendgroup": "Asshole",
         "marker": {
          "color": "#EF553B",
          "size": [
           3
          ],
          "sizemode": "area",
          "sizeref": 0.03638888888888889,
          "symbol": "circle"
         },
         "mode": "markers",
         "name": "Asshole",
         "orientation": "v",
         "showlegend": true,
         "x": [
          "Asshole"
         ],
         "xaxis": "x",
         "y": [
          3
         ],
         "yaxis": "y",
         "type": "scatter"
        },
        {
         "hovertemplate": "<b>%{hovertext}</b><br><br>Word=%{x}<br>Occurrences=%{marker.size}<extra></extra>",
         "hovertext": [
          "Legs"
         ],
         "legendgroup": "Legs",
         "marker": {
          "color": "#00cc96",
          "size": [
           9
          ],
          "sizemode": "area",
          "sizeref": 0.03638888888888889,
          "symbol": "circle"
         },
         "mode": "markers",
         "name": "Legs",
         "orientation": "v",
         "showlegend": true,
         "x": [
          "Legs"
         ],
         "xaxis": "x",
         "y": [
          9
         ],
         "yaxis": "y",
         "type": "scatter"
        },
        {
         "hovertemplate": "<b>%{hovertext}</b><br><br>Word=%{x}<br>Occurrences=%{marker.size}<extra></extra>",
         "hovertext": [
          "Lesbian"
         ],
         "legendgroup": "Lesbian",
         "marker": {
          "color": "#ab63fa",
          "size": [
           11
          ],
          "sizemode": "area",
          "sizeref": 0.03638888888888889,
          "symbol": "circle"
         },
         "mode": "markers",
         "name": "Lesbian",
         "orientation": "v",
         "showlegend": true,
         "x": [
          "Lesbian"
         ],
         "xaxis": "x",
         "y": [
          11
         ],
         "yaxis": "y",
         "type": "scatter"
        },
        {
         "hovertemplate": "<b>%{hovertext}</b><br><br>Word=%{x}<br>Occurrences=%{marker.size}<extra></extra>",
         "hovertext": [
          "Nerd"
         ],
         "legendgroup": "Nerd",
         "marker": {
          "color": "#FFA15A",
          "size": [
           4
          ],
          "sizemode": "area",
          "sizeref": 0.03638888888888889,
          "symbol": "circle"
         },
         "mode": "markers",
         "name": "Nerd",
         "orientation": "v",
         "showlegend": true,
         "x": [
          "Nerd"
         ],
         "xaxis": "x",
         "y": [
          4
         ],
         "yaxis": "y",
         "type": "scatter"
        },
        {
         "hovertemplate": "<b>%{hovertext}</b><br><br>Word=%{x}<br>Occurrences=%{marker.size}<extra></extra>",
         "hovertext": [
          "Redhead"
         ],
         "legendgroup": "Redhead",
         "marker": {
          "color": "#19d3f3",
          "size": [
           15
          ],
          "sizemode": "area",
          "sizeref": 0.03638888888888889,
          "symbol": "circle"
         },
         "mode": "markers",
         "name": "Redhead",
         "orientation": "v",
         "showlegend": true,
         "x": [
          "Redhead"
         ],
         "xaxis": "x",
         "y": [
          15
         ],
         "yaxis": "y",
         "type": "scatter"
        },
        {
         "hovertemplate": "<b>%{hovertext}</b><br><br>Word=%{x}<br>Occurrences=%{marker.size}<extra></extra>",
         "hovertext": [
          "Close"
         ],
         "legendgroup": "Close",
         "marker": {
          "color": "#FF6692",
          "size": [
           6
          ],
          "sizemode": "area",
          "sizeref": 0.03638888888888889,
          "symbol": "circle"
         },
         "mode": "markers",
         "name": "Close",
         "orientation": "v",
         "showlegend": true,
         "x": [
          "Close"
         ],
         "xaxis": "x",
         "y": [
          6
         ],
         "yaxis": "y",
         "type": "scatter"
        },
        {
         "hovertemplate": "<b>%{hovertext}</b><br><br>Word=%{x}<br>Occurrences=%{marker.size}<extra></extra>",
         "hovertext": [
          "Curvy"
         ],
         "legendgroup": "Curvy",
         "marker": {
          "color": "#B6E880",
          "size": [
           8
          ],
          "sizemode": "area",
          "sizeref": 0.03638888888888889,
          "symbol": "circle"
         },
         "mode": "markers",
         "name": "Curvy",
         "orientation": "v",
         "showlegend": true,
         "x": [
          "Curvy"
         ],
         "xaxis": "x",
         "y": [
          8
         ],
         "yaxis": "y",
         "type": "scatter"
        },
        {
         "hovertemplate": "<b>%{hovertext}</b><br><br>Word=%{x}<br>Occurrences=%{marker.size}<extra></extra>",
         "hovertext": [
          "Cute"
         ],
         "legendgroup": "Cute",
         "marker": {
          "color": "#FF97FF",
          "size": [
           7
          ],
          "sizemode": "area",
          "sizeref": 0.03638888888888889,
          "symbol": "circle"
         },
         "mode": "markers",
         "name": "Cute",
         "orientation": "v",
         "showlegend": true,
         "x": [
          "Cute"
         ],
         "xaxis": "x",
         "y": [
          7
         ],
         "yaxis": "y",
         "type": "scatter"
        },
        {
         "hovertemplate": "<b>%{hovertext}</b><br><br>Word=%{x}<br>Occurrences=%{marker.size}<extra></extra>",
         "hovertext": [
          "Czech"
         ],
         "legendgroup": "Czech",
         "marker": {
          "color": "#FECB52",
          "size": [
           2
          ],
          "sizemode": "area",
          "sizeref": 0.03638888888888889,
          "symbol": "circle"
         },
         "mode": "markers",
         "name": "Czech",
         "orientation": "v",
         "showlegend": true,
         "x": [
          "Czech"
         ],
         "xaxis": "x",
         "y": [
          2
         ],
         "yaxis": "y",
         "type": "scatter"
        },
        {
         "hovertemplate": "<b>%{hovertext}</b><br><br>Word=%{x}<br>Occurrences=%{marker.size}<extra></extra>",
         "hovertext": [
          "DP"
         ],
         "legendgroup": "DP",
         "marker": {
          "color": "#636efa",
          "size": [
           1
          ],
          "sizemode": "area",
          "sizeref": 0.03638888888888889,
          "symbol": "circle"
         },
         "mode": "markers",
         "name": "DP",
         "orientation": "v",
         "showlegend": true,
         "x": [
          "DP"
         ],
         "xaxis": "x",
         "y": [
          1
         ],
         "yaxis": "y",
         "type": "scatter"
        },
        {
         "hovertemplate": "<b>%{hovertext}</b><br><br>Word=%{x}<br>Occurrences=%{marker.size}<extra></extra>",
         "hovertext": [
          "Dildo"
         ],
         "legendgroup": "Dildo",
         "marker": {
          "color": "#EF553B",
          "size": [
           2
          ],
          "sizemode": "area",
          "sizeref": 0.03638888888888889,
          "symbol": "circle"
         },
         "mode": "markers",
         "name": "Dildo",
         "orientation": "v",
         "showlegend": true,
         "x": [
          "Dildo"
         ],
         "xaxis": "x",
         "y": [
          2
         ],
         "yaxis": "y",
         "type": "scatter"
        },
        {
         "hovertemplate": "<b>%{hovertext}</b><br><br>Word=%{x}<br>Occurrences=%{marker.size}<extra></extra>",
         "hovertext": [
          "Downblouse"
         ],
         "legendgroup": "Downblouse",
         "marker": {
          "color": "#00cc96",
          "size": [
           1
          ],
          "sizemode": "area",
          "sizeref": 0.03638888888888889,
          "symbol": "circle"
         },
         "mode": "markers",
         "name": "Downblouse",
         "orientation": "v",
         "showlegend": true,
         "x": [
          "Downblouse"
         ],
         "xaxis": "x",
         "y": [
          1
         ],
         "yaxis": "y",
         "type": "scatter"
        },
        {
         "hovertemplate": "<b>%{hovertext}</b><br><br>Word=%{x}<br>Occurrences=%{marker.size}<extra></extra>",
         "hovertext": [
          "Eating"
         ],
         "legendgroup": "Eating",
         "marker": {
          "color": "#ab63fa",
          "size": [
           2
          ],
          "sizemode": "area",
          "sizeref": 0.03638888888888889,
          "symbol": "circle"
         },
         "mode": "markers",
         "name": "Eating",
         "orientation": "v",
         "showlegend": true,
         "x": [
          "Eating"
         ],
         "xaxis": "x",
         "y": [
          2
         ],
         "yaxis": "y",
         "type": "scatter"
        },
        {
         "hovertemplate": "<b>%{hovertext}</b><br><br>Word=%{x}<br>Occurrences=%{marker.size}<extra></extra>",
         "hovertext": [
          "Moms"
         ],
         "legendgroup": "Moms",
         "marker": {
          "color": "#FFA15A",
          "size": [
           1
          ],
          "sizemode": "area",
          "sizeref": 0.03638888888888889,
          "symbol": "circle"
         },
         "mode": "markers",
         "name": "Moms",
         "orientation": "v",
         "showlegend": true,
         "x": [
          "Moms"
         ],
         "xaxis": "x",
         "y": [
          1
         ],
         "yaxis": "y",
         "type": "scatter"
        },
        {
         "hovertemplate": "<b>%{hovertext}</b><br><br>Word=%{x}<br>Occurrences=%{marker.size}<extra></extra>",
         "hovertext": [
          "Erect"
         ],
         "legendgroup": "Erect",
         "marker": {
          "color": "#19d3f3",
          "size": [
           2
          ],
          "sizemode": "area",
          "sizeref": 0.03638888888888889,
          "symbol": "circle"
         },
         "mode": "markers",
         "name": "Erect",
         "orientation": "v",
         "showlegend": true,
         "x": [
          "Erect"
         ],
         "xaxis": "x",
         "y": [
          2
         ],
         "yaxis": "y",
         "type": "scatter"
        },
        {
         "hovertemplate": "<b>%{hovertext}</b><br><br>Word=%{x}<br>Occurrences=%{marker.size}<extra></extra>",
         "hovertext": [
          "Licking"
         ],
         "legendgroup": "Licking",
         "marker": {
          "color": "#FF6692",
          "size": [
           3
          ],
          "sizemode": "area",
          "sizeref": 0.03638888888888889,
          "symbol": "circle"
         },
         "mode": "markers",
         "name": "Licking",
         "orientation": "v",
         "showlegend": true,
         "x": [
          "Licking"
         ],
         "xaxis": "x",
         "y": [
          3
         ],
         "yaxis": "y",
         "type": "scatter"
        },
        {
         "hovertemplate": "<b>%{hovertext}</b><br><br>Word=%{x}<br>Occurrences=%{marker.size}<extra></extra>",
         "hovertext": [
          "Tease"
         ],
         "legendgroup": "Tease",
         "marker": {
          "color": "#B6E880",
          "size": [
           1
          ],
          "sizemode": "area",
          "sizeref": 0.03638888888888889,
          "symbol": "circle"
         },
         "mode": "markers",
         "name": "Tease",
         "orientation": "v",
         "showlegend": true,
         "x": [
          "Tease"
         ],
         "xaxis": "x",
         "y": [
          1
         ],
         "yaxis": "y",
         "type": "scatter"
        },
        {
         "hovertemplate": "<b>%{hovertext}</b><br><br>Word=%{x}<br>Occurrences=%{marker.size}<extra></extra>",
         "hovertext": [
          "Fit"
         ],
         "legendgroup": "Fit",
         "marker": {
          "color": "#FF97FF",
          "size": [
           1
          ],
          "sizemode": "area",
          "sizeref": 0.03638888888888889,
          "symbol": "circle"
         },
         "mode": "markers",
         "name": "Fit",
         "orientation": "v",
         "showlegend": true,
         "x": [
          "Fit"
         ],
         "xaxis": "x",
         "y": [
          1
         ],
         "yaxis": "y",
         "type": "scatter"
        },
        {
         "hovertemplate": "<b>%{hovertext}</b><br><br>Word=%{x}<br>Occurrences=%{marker.size}<extra></extra>",
         "hovertext": [
          "Fitness"
         ],
         "legendgroup": "Fitness",
         "marker": {
          "color": "#FECB52",
          "size": [
           6
          ],
          "sizemode": "area",
          "sizeref": 0.03638888888888889,
          "symbol": "circle"
         },
         "mode": "markers",
         "name": "Fitness",
         "orientation": "v",
         "showlegend": true,
         "x": [
          "Fitness"
         ],
         "xaxis": "x",
         "y": [
          6
         ],
         "yaxis": "y",
         "type": "scatter"
        },
        {
         "hovertemplate": "<b>%{hovertext}</b><br><br>Word=%{x}<br>Occurrences=%{marker.size}<extra></extra>",
         "hovertext": [
          "Body"
         ],
         "legendgroup": "Body",
         "marker": {
          "color": "#636efa",
          "size": [
           6
          ],
          "sizemode": "area",
          "sizeref": 0.03638888888888889,
          "symbol": "circle"
         },
         "mode": "markers",
         "name": "Body",
         "orientation": "v",
         "showlegend": true,
         "x": [
          "Body"
         ],
         "xaxis": "x",
         "y": [
          6
         ],
         "yaxis": "y",
         "type": "scatter"
        },
        {
         "hovertemplate": "<b>%{hovertext}</b><br><br>Word=%{x}<br>Occurrences=%{marker.size}<extra></extra>",
         "hovertext": [
          "Sex"
         ],
         "legendgroup": "Sex",
         "marker": {
          "color": "#EF553B",
          "size": [
           3
          ],
          "sizemode": "area",
          "sizeref": 0.03638888888888889,
          "symbol": "circle"
         },
         "mode": "markers",
         "name": "Sex",
         "orientation": "v",
         "showlegend": true,
         "x": [
          "Sex"
         ],
         "xaxis": "x",
         "y": [
          3
         ],
         "yaxis": "y",
         "type": "scatter"
        },
        {
         "hovertemplate": "<b>%{hovertext}</b><br><br>Word=%{x}<br>Occurrences=%{marker.size}<extra></extra>",
         "hovertext": [
          "Flat"
         ],
         "legendgroup": "Flat",
         "marker": {
          "color": "#00cc96",
          "size": [
           4
          ],
          "sizemode": "area",
          "sizeref": 0.03638888888888889,
          "symbol": "circle"
         },
         "mode": "markers",
         "name": "Flat",
         "orientation": "v",
         "showlegend": true,
         "x": [
          "Flat"
         ],
         "xaxis": "x",
         "y": [
          4
         ],
         "yaxis": "y",
         "type": "scatter"
        },
        {
         "hovertemplate": "<b>%{hovertext}</b><br><br>Word=%{x}<br>Occurrences=%{marker.size}<extra></extra>",
         "hovertext": [
          "Chested"
         ],
         "legendgroup": "Chested",
         "marker": {
          "color": "#ab63fa",
          "size": [
           4
          ],
          "sizemode": "area",
          "sizeref": 0.03638888888888889,
          "symbol": "circle"
         },
         "mode": "markers",
         "name": "Chested",
         "orientation": "v",
         "showlegend": true,
         "x": [
          "Chested"
         ],
         "xaxis": "x",
         "y": [
          4
         ],
         "yaxis": "y",
         "type": "scatter"
        },
        {
         "hovertemplate": "<b>%{hovertext}</b><br><br>Word=%{x}<br>Occurrences=%{marker.size}<extra></extra>",
         "hovertext": [
          "French"
         ],
         "legendgroup": "French",
         "marker": {
          "color": "#FFA15A",
          "size": [
           3
          ],
          "sizemode": "area",
          "sizeref": 0.03638888888888889,
          "symbol": "circle"
         },
         "mode": "markers",
         "name": "French",
         "orientation": "v",
         "showlegend": true,
         "x": [
          "French"
         ],
         "xaxis": "x",
         "y": [
          3
         ],
         "yaxis": "y",
         "type": "scatter"
        },
        {
         "hovertemplate": "<b>%{hovertext}</b><br><br>Word=%{x}<br>Occurrences=%{marker.size}<extra></extra>",
         "hovertext": [
          "Maid"
         ],
         "legendgroup": "Maid",
         "marker": {
          "color": "#19d3f3",
          "size": [
           5
          ],
          "sizemode": "area",
          "sizeref": 0.03638888888888889,
          "symbol": "circle"
         },
         "mode": "markers",
         "name": "Maid",
         "orientation": "v",
         "showlegend": true,
         "x": [
          "Maid"
         ],
         "xaxis": "x",
         "y": [
          5
         ],
         "yaxis": "y",
         "type": "scatter"
        },
        {
         "hovertemplate": "<b>%{hovertext}</b><br><br>Word=%{x}<br>Occurrences=%{marker.size}<extra></extra>",
         "hovertext": [
          "From"
         ],
         "legendgroup": "From",
         "marker": {
          "color": "#FF6692",
          "size": [
           1
          ],
          "sizemode": "area",
          "sizeref": 0.03638888888888889,
          "symbol": "circle"
         },
         "mode": "markers",
         "name": "From",
         "orientation": "v",
         "showlegend": true,
         "x": [
          "From"
         ],
         "xaxis": "x",
         "y": [
          1
         ],
         "yaxis": "y",
         "type": "scatter"
        },
        {
         "hovertemplate": "<b>%{hovertext}</b><br><br>Word=%{x}<br>Occurrences=%{marker.size}<extra></extra>",
         "hovertext": [
          "Behind"
         ],
         "legendgroup": "Behind",
         "marker": {
          "color": "#B6E880",
          "size": [
           1
          ],
          "sizemode": "area",
          "sizeref": 0.03638888888888889,
          "symbol": "circle"
         },
         "mode": "markers",
         "name": "Behind",
         "orientation": "v",
         "showlegend": true,
         "x": [
          "Behind"
         ],
         "xaxis": "x",
         "y": [
          1
         ],
         "yaxis": "y",
         "type": "scatter"
        },
        {
         "hovertemplate": "<b>%{hovertext}</b><br><br>Word=%{x}<br>Occurrences=%{marker.size}<extra></extra>",
         "hovertext": [
          "GILF"
         ],
         "legendgroup": "GILF",
         "marker": {
          "color": "#FF97FF",
          "size": [
           1
          ],
          "sizemode": "area",
          "sizeref": 0.03638888888888889,
          "symbol": "circle"
         },
         "mode": "markers",
         "name": "GILF",
         "orientation": "v",
         "showlegend": true,
         "x": [
          "GILF"
         ],
         "xaxis": "x",
         "y": [
          1
         ],
         "yaxis": "y",
         "type": "scatter"
        },
        {
         "hovertemplate": "<b>%{hovertext}</b><br><br>Word=%{x}<br>Occurrences=%{marker.size}<extra></extra>",
         "hovertext": [
          "Gloves"
         ],
         "legendgroup": "Gloves",
         "marker": {
          "color": "#FECB52",
          "size": [
           3
          ],
          "sizemode": "area",
          "sizeref": 0.03638888888888889,
          "symbol": "circle"
         },
         "mode": "markers",
         "name": "Gloves",
         "orientation": "v",
         "showlegend": true,
         "x": [
          "Gloves"
         ],
         "xaxis": "x",
         "y": [
          3
         ],
         "yaxis": "y",
         "type": "scatter"
        },
        {
         "hovertemplate": "<b>%{hovertext}</b><br><br>Word=%{x}<br>Occurrences=%{marker.size}<extra></extra>",
         "hovertext": [
          "Grandma"
         ],
         "legendgroup": "Grandma",
         "marker": {
          "color": "#636efa",
          "size": [
           2
          ],
          "sizemode": "area",
          "sizeref": 0.03638888888888889,
          "symbol": "circle"
         },
         "mode": "markers",
         "name": "Grandma",
         "orientation": "v",
         "showlegend": true,
         "x": [
          "Grandma"
         ],
         "xaxis": "x",
         "y": [
          2
         ],
         "yaxis": "y",
         "type": "scatter"
        },
        {
         "hovertemplate": "<b>%{hovertext}</b><br><br>Word=%{x}<br>Occurrences=%{marker.size}<extra></extra>",
         "hovertext": [
          "High"
         ],
         "legendgroup": "High",
         "marker": {
          "color": "#EF553B",
          "size": [
           11
          ],
          "sizemode": "area",
          "sizeref": 0.03638888888888889,
          "symbol": "circle"
         },
         "mode": "markers",
         "name": "High",
         "orientation": "v",
         "showlegend": true,
         "x": [
          "High"
         ],
         "xaxis": "x",
         "y": [
          11
         ],
         "yaxis": "y",
         "type": "scatter"
        },
        {
         "hovertemplate": "<b>%{hovertext}</b><br><br>Word=%{x}<br>Occurrences=%{marker.size}<extra></extra>",
         "hovertext": [
          "Heels"
         ],
         "legendgroup": "Heels",
         "marker": {
          "color": "#00cc96",
          "size": [
           9
          ],
          "sizemode": "area",
          "sizeref": 0.03638888888888889,
          "symbol": "circle"
         },
         "mode": "markers",
         "name": "Heels",
         "orientation": "v",
         "showlegend": true,
         "x": [
          "Heels"
         ],
         "xaxis": "x",
         "y": [
          9
         ],
         "yaxis": "y",
         "type": "scatter"
        },
        {
         "hovertemplate": "<b>%{hovertext}</b><br><br>Word=%{x}<br>Occurrences=%{marker.size}<extra></extra>",
         "hovertext": [
          "70"
         ],
         "legendgroup": "70",
         "marker": {
          "color": "#ab63fa",
          "size": [
           2
          ],
          "sizemode": "area",
          "sizeref": 0.03638888888888889,
          "symbol": "circle"
         },
         "mode": "markers",
         "name": "70",
         "orientation": "v",
         "showlegend": true,
         "x": [
          "70"
         ],
         "xaxis": "x",
         "y": [
          2
         ],
         "yaxis": "y",
         "type": "scatter"
        },
        {
         "hovertemplate": "<b>%{hovertext}</b><br><br>Word=%{x}<br>Occurrences=%{marker.size}<extra></extra>",
         "hovertext": [
          "Group"
         ],
         "legendgroup": "Group",
         "marker": {
          "color": "#FFA15A",
          "size": [
           2
          ],
          "sizemode": "area",
          "sizeref": 0.03638888888888889,
          "symbol": "circle"
         },
         "mode": "markers",
         "name": "Group",
         "orientation": "v",
         "showlegend": true,
         "x": [
          "Group"
         ],
         "xaxis": "x",
         "y": [
          2
         ],
         "yaxis": "y",
         "type": "scatter"
        },
        {
         "hovertemplate": "<b>%{hovertext}</b><br><br>Word=%{x}<br>Occurrences=%{marker.size}<extra></extra>",
         "hovertext": [
          "Cumshot"
         ],
         "legendgroup": "Cumshot",
         "marker": {
          "color": "#19d3f3",
          "size": [
           3
          ],
          "sizemode": "area",
          "sizeref": 0.03638888888888889,
          "symbol": "circle"
         },
         "mode": "markers",
         "name": "Cumshot",
         "orientation": "v",
         "showlegend": true,
         "x": [
          "Cumshot"
         ],
         "xaxis": "x",
         "y": [
          3
         ],
         "yaxis": "y",
         "type": "scatter"
        },
        {
         "hovertemplate": "<b>%{hovertext}</b><br><br>Word=%{x}<br>Occurrences=%{marker.size}<extra></extra>",
         "hovertext": [
          "Gym"
         ],
         "legendgroup": "Gym",
         "marker": {
          "color": "#FF6692",
          "size": [
           1
          ],
          "sizemode": "area",
          "sizeref": 0.03638888888888889,
          "symbol": "circle"
         },
         "mode": "markers",
         "name": "Gym",
         "orientation": "v",
         "showlegend": true,
         "x": [
          "Gym"
         ],
         "xaxis": "x",
         "y": [
          1
         ],
         "yaxis": "y",
         "type": "scatter"
        },
        {
         "hovertemplate": "<b>%{hovertext}</b><br><br>Word=%{x}<br>Occurrences=%{marker.size}<extra></extra>",
         "hovertext": [
          "Armpits"
         ],
         "legendgroup": "Armpits",
         "marker": {
          "color": "#B6E880",
          "size": [
           1
          ],
          "sizemode": "area",
          "sizeref": 0.03638888888888889,
          "symbol": "circle"
         },
         "mode": "markers",
         "name": "Armpits",
         "orientation": "v",
         "showlegend": true,
         "x": [
          "Armpits"
         ],
         "xaxis": "x",
         "y": [
          1
         ],
         "yaxis": "y",
         "type": "scatter"
        },
        {
         "hovertemplate": "<b>%{hovertext}</b><br><br>Word=%{x}<br>Occurrences=%{marker.size}<extra></extra>",
         "hovertext": [
          "Vagina"
         ],
         "legendgroup": "Vagina",
         "marker": {
          "color": "#FF97FF",
          "size": [
           8
          ],
          "sizemode": "area",
          "sizeref": 0.03638888888888889,
          "symbol": "circle"
         },
         "mode": "markers",
         "name": "Vagina",
         "orientation": "v",
         "showlegend": true,
         "x": [
          "Vagina"
         ],
         "xaxis": "x",
         "y": [
          8
         ],
         "yaxis": "y",
         "type": "scatter"
        },
        {
         "hovertemplate": "<b>%{hovertext}</b><br><br>Word=%{x}<br>Occurrences=%{marker.size}<extra></extra>",
         "hovertext": [
          "Hanging"
         ],
         "legendgroup": "Hanging",
         "marker": {
          "color": "#FECB52",
          "size": [
           1
          ],
          "sizemode": "area",
          "sizeref": 0.03638888888888889,
          "symbol": "circle"
         },
         "mode": "markers",
         "name": "Hanging",
         "orientation": "v",
         "showlegend": true,
         "x": [
          "Hanging"
         ],
         "xaxis": "x",
         "y": [
          1
         ],
         "yaxis": "y",
         "type": "scatter"
        },
        {
         "hovertemplate": "<b>%{hovertext}</b><br><br>Word=%{x}<br>Occurrences=%{marker.size}<extra></extra>",
         "hovertext": [
          "Hard"
         ],
         "legendgroup": "Hard",
         "marker": {
          "color": "#636efa",
          "size": [
           1
          ],
          "sizemode": "area",
          "sizeref": 0.03638888888888889,
          "symbol": "circle"
         },
         "mode": "markers",
         "name": "Hard",
         "orientation": "v",
         "showlegend": true,
         "x": [
          "Hard"
         ],
         "xaxis": "x",
         "y": [
          1
         ],
         "yaxis": "y",
         "type": "scatter"
        },
        {
         "hovertemplate": "<b>%{hovertext}</b><br><br>Word=%{x}<br>Occurrences=%{marker.size}<extra></extra>",
         "hovertext": [
          "Horny"
         ],
         "legendgroup": "Horny",
         "marker": {
          "color": "#EF553B",
          "size": [
           1
          ],
          "sizemode": "area",
          "sizeref": 0.03638888888888889,
          "symbol": "circle"
         },
         "mode": "markers",
         "name": "Horny",
         "orientation": "v",
         "showlegend": true,
         "x": [
          "Horny"
         ],
         "xaxis": "x",
         "y": [
          1
         ],
         "yaxis": "y",
         "type": "scatter"
        },
        {
         "hovertemplate": "<b>%{hovertext}</b><br><br>Word=%{x}<br>Occurrences=%{marker.size}<extra></extra>",
         "hovertext": [
          "Hot"
         ],
         "legendgroup": "Hot",
         "marker": {
          "color": "#00cc96",
          "size": [
           7
          ],
          "sizemode": "area",
          "sizeref": 0.03638888888888889,
          "symbol": "circle"
         },
         "mode": "markers",
         "name": "Hot",
         "orientation": "v",
         "showlegend": true,
         "x": [
          "Hot"
         ],
         "xaxis": "x",
         "y": [
          7
         ],
         "yaxis": "y",
         "type": "scatter"
        },
        {
         "hovertemplate": "<b>%{hovertext}</b><br><br>Word=%{x}<br>Occurrences=%{marker.size}<extra></extra>",
         "hovertext": [
          "Naked"
         ],
         "legendgroup": "Naked",
         "marker": {
          "color": "#ab63fa",
          "size": [
           6
          ],
          "sizemode": "area",
          "sizeref": 0.03638888888888889,
          "symbol": "circle"
         },
         "mode": "markers",
         "name": "Naked",
         "orientation": "v",
         "showlegend": true,
         "x": [
          "Naked"
         ],
         "xaxis": "x",
         "y": [
          6
         ],
         "yaxis": "y",
         "type": "scatter"
        },
        {
         "hovertemplate": "<b>%{hovertext}</b><br><br>Word=%{x}<br>Occurrences=%{marker.size}<extra></extra>",
         "hovertext": [
          "Girls"
         ],
         "legendgroup": "Girls",
         "marker": {
          "color": "#FFA15A",
          "size": [
           1
          ],
          "sizemode": "area",
          "sizeref": 0.03638888888888889,
          "symbol": "circle"
         },
         "mode": "markers",
         "name": "Girls",
         "orientation": "v",
         "showlegend": true,
         "x": [
          "Girls"
         ],
         "xaxis": "x",
         "y": [
          1
         ],
         "yaxis": "y",
         "type": "scatter"
        },
        {
         "hovertemplate": "<b>%{hovertext}</b><br><br>Word=%{x}<br>Occurrences=%{marker.size}<extra></extra>",
         "hovertext": [
          "Women"
         ],
         "legendgroup": "Women",
         "marker": {
          "color": "#19d3f3",
          "size": [
           13
          ],
          "sizemode": "area",
          "sizeref": 0.03638888888888889,
          "symbol": "circle"
         },
         "mode": "markers",
         "name": "Women",
         "orientation": "v",
         "showlegend": true,
         "x": [
          "Women"
         ],
         "xaxis": "x",
         "y": [
          13
         ],
         "yaxis": "y",
         "type": "scatter"
        },
        {
         "hovertemplate": "<b>%{hovertext}</b><br><br>Word=%{x}<br>Occurrences=%{marker.size}<extra></extra>",
         "hovertext": [
          "Huge"
         ],
         "legendgroup": "Huge",
         "marker": {
          "color": "#FF6692",
          "size": [
           1
          ],
          "sizemode": "area",
          "sizeref": 0.03638888888888889,
          "symbol": "circle"
         },
         "mode": "markers",
         "name": "Huge",
         "orientation": "v",
         "showlegend": true,
         "x": [
          "Huge"
         ],
         "xaxis": "x",
         "y": [
          1
         ],
         "yaxis": "y",
         "type": "scatter"
        },
        {
         "hovertemplate": "<b>%{hovertext}</b><br><br>Word=%{x}<br>Occurrences=%{marker.size}<extra></extra>",
         "hovertext": [
          "Innocent"
         ],
         "legendgroup": "Innocent",
         "marker": {
          "color": "#B6E880",
          "size": [
           1
          ],
          "sizemode": "area",
          "sizeref": 0.03638888888888889,
          "symbol": "circle"
         },
         "mode": "markers",
         "name": "Innocent",
         "orientation": "v",
         "showlegend": true,
         "x": [
          "Innocent"
         ],
         "xaxis": "x",
         "y": [
          1
         ],
         "yaxis": "y",
         "type": "scatter"
        },
        {
         "hovertemplate": "<b>%{hovertext}</b><br><br>Word=%{x}<br>Occurrences=%{marker.size}<extra></extra>",
         "hovertext": [
          "Mouth"
         ],
         "legendgroup": "Mouth",
         "marker": {
          "color": "#FF97FF",
          "size": [
           2
          ],
          "sizemode": "area",
          "sizeref": 0.03638888888888889,
          "symbol": "circle"
         },
         "mode": "markers",
         "name": "Mouth",
         "orientation": "v",
         "showlegend": true,
         "x": [
          "Mouth"
         ],
         "xaxis": "x",
         "y": [
          2
         ],
         "yaxis": "y",
         "type": "scatter"
        },
        {
         "hovertemplate": "<b>%{hovertext}</b><br><br>Word=%{x}<br>Occurrences=%{marker.size}<extra></extra>",
         "hovertext": [
          "Jeans"
         ],
         "legendgroup": "Jeans",
         "marker": {
          "color": "#FECB52",
          "size": [
           4
          ],
          "sizemode": "area",
          "sizeref": 0.03638888888888889,
          "symbol": "circle"
         },
         "mode": "markers",
         "name": "Jeans",
         "orientation": "v",
         "showlegend": true,
         "x": [
          "Jeans"
         ],
         "xaxis": "x",
         "y": [
          4
         ],
         "yaxis": "y",
         "type": "scatter"
        },
        {
         "hovertemplate": "<b>%{hovertext}</b><br><br>Word=%{x}<br>Occurrences=%{marker.size}<extra></extra>",
         "hovertext": [
          "Kissing"
         ],
         "legendgroup": "Kissing",
         "marker": {
          "color": "#636efa",
          "size": [
           2
          ],
          "sizemode": "area",
          "sizeref": 0.03638888888888889,
          "symbol": "circle"
         },
         "mode": "markers",
         "name": "Kissing",
         "orientation": "v",
         "showlegend": true,
         "x": [
          "Kissing"
         ],
         "xaxis": "x",
         "y": [
          2
         ],
         "yaxis": "y",
         "type": "scatter"
        },
        {
         "hovertemplate": "<b>%{hovertext}</b><br><br>Word=%{x}<br>Occurrences=%{marker.size}<extra></extra>",
         "hovertext": [
          "Fucking"
         ],
         "legendgroup": "Fucking",
         "marker": {
          "color": "#EF553B",
          "size": [
           1
          ],
          "sizemode": "area",
          "sizeref": 0.03638888888888889,
          "symbol": "circle"
         },
         "mode": "markers",
         "name": "Fucking",
         "orientation": "v",
         "showlegend": true,
         "x": [
          "Fucking"
         ],
         "xaxis": "x",
         "y": [
          1
         ],
         "yaxis": "y",
         "type": "scatter"
        },
        {
         "hovertemplate": "<b>%{hovertext}</b><br><br>Word=%{x}<br>Occurrences=%{marker.size}<extra></extra>",
         "hovertext": [
          "Leather"
         ],
         "legendgroup": "Leather",
         "marker": {
          "color": "#00cc96",
          "size": [
           2
          ],
          "sizemode": "area",
          "sizeref": 0.03638888888888889,
          "symbol": "circle"
         },
         "mode": "markers",
         "name": "Leather",
         "orientation": "v",
         "showlegend": true,
         "x": [
          "Leather"
         ],
         "xaxis": "x",
         "y": [
          2
         ],
         "yaxis": "y",
         "type": "scatter"
        },
        {
         "hovertemplate": "<b>%{hovertext}</b><br><br>Word=%{x}<br>Occurrences=%{marker.size}<extra></extra>",
         "hovertext": [
          "Leggings"
         ],
         "legendgroup": "Leggings",
         "marker": {
          "color": "#ab63fa",
          "size": [
           7
          ],
          "sizemode": "area",
          "sizeref": 0.03638888888888889,
          "symbol": "circle"
         },
         "mode": "markers",
         "name": "Leggings",
         "orientation": "v",
         "showlegend": true,
         "x": [
          "Leggings"
         ],
         "xaxis": "x",
         "y": [
          7
         ],
         "yaxis": "y",
         "type": "scatter"
        },
        {
         "hovertemplate": "<b>%{hovertext}</b><br><br>Word=%{x}<br>Occurrences=%{marker.size}<extra></extra>",
         "hovertext": [
          "Fingering"
         ],
         "legendgroup": "Fingering",
         "marker": {
          "color": "#FFA15A",
          "size": [
           1
          ],
          "sizemode": "area",
          "sizeref": 0.03638888888888889,
          "symbol": "circle"
         },
         "mode": "markers",
         "name": "Fingering",
         "orientation": "v",
         "showlegend": true,
         "x": [
          "Fingering"
         ],
         "xaxis": "x",
         "y": [
          1
         ],
         "yaxis": "y",
         "type": "scatter"
        },
        {
         "hovertemplate": "<b>%{hovertext}</b><br><br>Word=%{x}<br>Occurrences=%{marker.size}<extra></extra>",
         "hovertext": [
          "Fisting"
         ],
         "legendgroup": "Fisting",
         "marker": {
          "color": "#19d3f3",
          "size": [
           1
          ],
          "sizemode": "area",
          "sizeref": 0.03638888888888889,
          "symbol": "circle"
         },
         "mode": "markers",
         "name": "Fisting",
         "orientation": "v",
         "showlegend": true,
         "x": [
          "Fisting"
         ],
         "xaxis": "x",
         "y": [
          1
         ],
         "yaxis": "y",
         "type": "scatter"
        },
        {
         "hovertemplate": "<b>%{hovertext}</b><br><br>Word=%{x}<br>Occurrences=%{marker.size}<extra></extra>",
         "hovertext": [
          "Stepmom"
         ],
         "legendgroup": "Stepmom",
         "marker": {
          "color": "#FF6692",
          "size": [
           1
          ],
          "sizemode": "area",
          "sizeref": 0.03638888888888889,
          "symbol": "circle"
         },
         "mode": "markers",
         "name": "Stepmom",
         "orientation": "v",
         "showlegend": true,
         "x": [
          "Stepmom"
         ],
         "xaxis": "x",
         "y": [
          1
         ],
         "yaxis": "y",
         "type": "scatter"
        },
        {
         "hovertemplate": "<b>%{hovertext}</b><br><br>Word=%{x}<br>Occurrences=%{marker.size}<extra></extra>",
         "hovertext": [
          "Strapon"
         ],
         "legendgroup": "Strapon",
         "marker": {
          "color": "#B6E880",
          "size": [
           1
          ],
          "sizemode": "area",
          "sizeref": 0.03638888888888889,
          "symbol": "circle"
         },
         "mode": "markers",
         "name": "Strapon",
         "orientation": "v",
         "showlegend": true,
         "x": [
          "Strapon"
         ],
         "xaxis": "x",
         "y": [
          1
         ],
         "yaxis": "y",
         "type": "scatter"
        },
        {
         "hovertemplate": "<b>%{hovertext}</b><br><br>Word=%{x}<br>Occurrences=%{marker.size}<extra></extra>",
         "hovertext": [
          "Long"
         ],
         "legendgroup": "Long",
         "marker": {
          "color": "#FF97FF",
          "size": [
           1
          ],
          "sizemode": "area",
          "sizeref": 0.03638888888888889,
          "symbol": "circle"
         },
         "mode": "markers",
         "name": "Long",
         "orientation": "v",
         "showlegend": true,
         "x": [
          "Long"
         ],
         "xaxis": "x",
         "y": [
          1
         ],
         "yaxis": "y",
         "type": "scatter"
        },
        {
         "hovertemplate": "<b>%{hovertext}</b><br><br>Word=%{x}<br>Occurrences=%{marker.size}<extra></extra>",
         "hovertext": [
          "MILF"
         ],
         "legendgroup": "MILF",
         "marker": {
          "color": "#FECB52",
          "size": [
           42
          ],
          "sizemode": "area",
          "sizeref": 0.03638888888888889,
          "symbol": "circle"
         },
         "mode": "markers",
         "name": "MILF",
         "orientation": "v",
         "showlegend": true,
         "x": [
          "MILF"
         ],
         "xaxis": "x",
         "y": [
          42
         ],
         "yaxis": "y",
         "type": "scatter"
        },
        {
         "hovertemplate": "<b>%{hovertext}</b><br><br>Word=%{x}<br>Occurrences=%{marker.size}<extra></extra>",
         "hovertext": [
          "Massive"
         ],
         "legendgroup": "Massive",
         "marker": {
          "color": "#636efa",
          "size": [
           1
          ],
          "sizemode": "area",
          "sizeref": 0.03638888888888889,
          "symbol": "circle"
         },
         "mode": "markers",
         "name": "Massive",
         "orientation": "v",
         "showlegend": true,
         "x": [
          "Massive"
         ],
         "xaxis": "x",
         "y": [
          1
         ],
         "yaxis": "y",
         "type": "scatter"
        },
        {
         "hovertemplate": "<b>%{hovertext}</b><br><br>Word=%{x}<br>Occurrences=%{marker.size}<extra></extra>",
         "hovertext": [
          "Housewives"
         ],
         "legendgroup": "Housewives",
         "marker": {
          "color": "#EF553B",
          "size": [
           2
          ],
          "sizemode": "area",
          "sizeref": 0.03638888888888889,
          "symbol": "circle"
         },
         "mode": "markers",
         "name": "Housewives",
         "orientation": "v",
         "showlegend": true,
         "x": [
          "Housewives"
         ],
         "xaxis": "x",
         "y": [
          2
         ],
         "yaxis": "y",
         "type": "scatter"
        },
        {
         "hovertemplate": "<b>%{hovertext}</b><br><br>Word=%{x}<br>Occurrences=%{marker.size}<extra></extra>",
         "hovertext": [
          "Massage"
         ],
         "legendgroup": "Massage",
         "marker": {
          "color": "#00cc96",
          "size": [
           1
          ],
          "sizemode": "area",
          "sizeref": 0.03638888888888889,
          "symbol": "circle"
         },
         "mode": "markers",
         "name": "Massage",
         "orientation": "v",
         "showlegend": true,
         "x": [
          "Massage"
         ],
         "xaxis": "x",
         "y": [
          1
         ],
         "yaxis": "y",
         "type": "scatter"
        },
        {
         "hovertemplate": "<b>%{hovertext}</b><br><br>Word=%{x}<br>Occurrences=%{marker.size}<extra></extra>",
         "hovertext": [
          "Office"
         ],
         "legendgroup": "Office",
         "marker": {
          "color": "#ab63fa",
          "size": [
           4
          ],
          "sizemode": "area",
          "sizeref": 0.03638888888888889,
          "symbol": "circle"
         },
         "mode": "markers",
         "name": "Office",
         "orientation": "v",
         "showlegend": true,
         "x": [
          "Office"
         ],
         "xaxis": "x",
         "y": [
          4
         ],
         "yaxis": "y",
         "type": "scatter"
        },
        {
         "hovertemplate": "<b>%{hovertext}</b><br><br>Word=%{x}<br>Occurrences=%{marker.size}<extra></extra>",
         "hovertext": [
          "Older"
         ],
         "legendgroup": "Older",
         "marker": {
          "color": "#FFA15A",
          "size": [
           5
          ],
          "sizemode": "area",
          "sizeref": 0.03638888888888889,
          "symbol": "circle"
         },
         "mode": "markers",
         "name": "Older",
         "orientation": "v",
         "showlegend": true,
         "x": [
          "Older"
         ],
         "xaxis": "x",
         "y": [
          5
         ],
         "yaxis": "y",
         "type": "scatter"
        },
        {
         "hovertemplate": "<b>%{hovertext}</b><br><br>Word=%{x}<br>Occurrences=%{marker.size}<extra></extra>",
         "hovertext": [
          "Shaved"
         ],
         "legendgroup": "Shaved",
         "marker": {
          "color": "#19d3f3",
          "size": [
           7
          ],
          "sizemode": "area",
          "sizeref": 0.03638888888888889,
          "symbol": "circle"
         },
         "mode": "markers",
         "name": "Shaved",
         "orientation": "v",
         "showlegend": true,
         "x": [
          "Shaved"
         ],
         "xaxis": "x",
         "y": [
          7
         ],
         "yaxis": "y",
         "type": "scatter"
        },
        {
         "hovertemplate": "<b>%{hovertext}</b><br><br>Word=%{x}<br>Occurrences=%{marker.size}<extra></extra>",
         "hovertext": [
          "Micro"
         ],
         "legendgroup": "Micro",
         "marker": {
          "color": "#FF6692",
          "size": [
           1
          ],
          "sizemode": "area",
          "sizeref": 0.03638888888888889,
          "symbol": "circle"
         },
         "mode": "markers",
         "name": "Micro",
         "orientation": "v",
         "showlegend": true,
         "x": [
          "Micro"
         ],
         "xaxis": "x",
         "y": [
          1
         ],
         "yaxis": "y",
         "type": "scatter"
        },
        {
         "hovertemplate": "<b>%{hovertext}</b><br><br>Word=%{x}<br>Occurrences=%{marker.size}<extra></extra>",
         "hovertext": [
          "Middle"
         ],
         "legendgroup": "Middle",
         "marker": {
          "color": "#B6E880",
          "size": [
           2
          ],
          "sizemode": "area",
          "sizeref": 0.03638888888888889,
          "symbol": "circle"
         },
         "mode": "markers",
         "name": "Middle",
         "orientation": "v",
         "showlegend": true,
         "x": [
          "Middle"
         ],
         "xaxis": "x",
         "y": [
          2
         ],
         "yaxis": "y",
         "type": "scatter"
        },
        {
         "hovertemplate": "<b>%{hovertext}</b><br><br>Word=%{x}<br>Occurrences=%{marker.size}<extra></extra>",
         "hovertext": [
          "Aged"
         ],
         "legendgroup": "Aged",
         "marker": {
          "color": "#FF97FF",
          "size": [
           2
          ],
          "sizemode": "area",
          "sizeref": 0.03638888888888889,
          "symbol": "circle"
         },
         "mode": "markers",
         "name": "Aged",
         "orientation": "v",
         "showlegend": true,
         "x": [
          "Aged"
         ],
         "xaxis": "x",
         "y": [
          2
         ],
         "yaxis": "y",
         "type": "scatter"
        },
        {
         "hovertemplate": "<b>%{hovertext}</b><br><br>Word=%{x}<br>Occurrences=%{marker.size}<extra></extra>",
         "hovertext": [
          "Mini"
         ],
         "legendgroup": "Mini",
         "marker": {
          "color": "#FECB52",
          "size": [
           1
          ],
          "sizemode": "area",
          "sizeref": 0.03638888888888889,
          "symbol": "circle"
         },
         "mode": "markers",
         "name": "Mini",
         "orientation": "v",
         "showlegend": true,
         "x": [
          "Mini"
         ],
         "xaxis": "x",
         "y": [
          1
         ],
         "yaxis": "y",
         "type": "scatter"
        },
        {
         "hovertemplate": "<b>%{hovertext}</b><br><br>Word=%{x}<br>Occurrences=%{marker.size}<extra></extra>",
         "hovertext": [
          "Monster"
         ],
         "legendgroup": "Monster",
         "marker": {
          "color": "#636efa",
          "size": [
           2
          ],
          "sizemode": "area",
          "sizeref": 0.03638888888888889,
          "symbol": "circle"
         },
         "mode": "markers",
         "name": "Monster",
         "orientation": "v",
         "showlegend": true,
         "x": [
          "Monster"
         ],
         "xaxis": "x",
         "y": [
          2
         ],
         "yaxis": "y",
         "type": "scatter"
        },
        {
         "hovertemplate": "<b>%{hovertext}</b><br><br>Word=%{x}<br>Occurrences=%{marker.size}<extra></extra>",
         "hovertext": [
          "Full"
         ],
         "legendgroup": "Full",
         "marker": {
          "color": "#EF553B",
          "size": [
           1
          ],
          "sizemode": "area",
          "sizeref": 0.03638888888888889,
          "symbol": "circle"
         },
         "mode": "markers",
         "name": "Full",
         "orientation": "v",
         "showlegend": true,
         "x": [
          "Full"
         ],
         "xaxis": "x",
         "y": [
          1
         ],
         "yaxis": "y",
         "type": "scatter"
        },
        {
         "hovertemplate": "<b>%{hovertext}</b><br><br>Word=%{x}<br>Occurrences=%{marker.size}<extra></extra>",
         "hovertext": [
          "Nerdy"
         ],
         "legendgroup": "Nerdy",
         "marker": {
          "color": "#00cc96",
          "size": [
           4
          ],
          "sizemode": "area",
          "sizeref": 0.03638888888888889,
          "symbol": "circle"
         },
         "mode": "markers",
         "name": "Nerdy",
         "orientation": "v",
         "showlegend": true,
         "x": [
          "Nerdy"
         ],
         "xaxis": "x",
         "y": [
          4
         ],
         "yaxis": "y",
         "type": "scatter"
        },
        {
         "hovertemplate": "<b>%{hovertext}</b><br><br>Word=%{x}<br>Occurrences=%{marker.size}<extra></extra>",
         "hovertext": [
          "Nice"
         ],
         "legendgroup": "Nice",
         "marker": {
          "color": "#ab63fa",
          "size": [
           1
          ],
          "sizemode": "area",
          "sizeref": 0.03638888888888889,
          "symbol": "circle"
         },
         "mode": "markers",
         "name": "Nice",
         "orientation": "v",
         "showlegend": true,
         "x": [
          "Nice"
         ],
         "xaxis": "x",
         "y": [
          1
         ],
         "yaxis": "y",
         "type": "scatter"
        },
        {
         "hovertemplate": "<b>%{hovertext}</b><br><br>Word=%{x}<br>Occurrences=%{marker.size}<extra></extra>",
         "hovertext": [
          "Nudist"
         ],
         "legendgroup": "Nudist",
         "marker": {
          "color": "#FFA15A",
          "size": [
           2
          ],
          "sizemode": "area",
          "sizeref": 0.03638888888888889,
          "symbol": "circle"
         },
         "mode": "markers",
         "name": "Nudist",
         "orientation": "v",
         "showlegend": true,
         "x": [
          "Nudist"
         ],
         "xaxis": "x",
         "y": [
          2
         ],
         "yaxis": "y",
         "type": "scatter"
        },
        {
         "hovertemplate": "<b>%{hovertext}</b><br><br>Word=%{x}<br>Occurrences=%{marker.size}<extra></extra>",
         "hovertext": [
          "Nylon"
         ],
         "legendgroup": "Nylon",
         "marker": {
          "color": "#19d3f3",
          "size": [
           4
          ],
          "sizemode": "area",
          "sizeref": 0.03638888888888889,
          "symbol": "circle"
         },
         "mode": "markers",
         "name": "Nylon",
         "orientation": "v",
         "showlegend": true,
         "x": [
          "Nylon"
         ],
         "xaxis": "x",
         "y": [
          4
         ],
         "yaxis": "y",
         "type": "scatter"
        },
        {
         "hovertemplate": "<b>%{hovertext}</b><br><br>Word=%{x}<br>Occurrences=%{marker.size}<extra></extra>",
         "hovertext": [
          "Soles"
         ],
         "legendgroup": "Soles",
         "marker": {
          "color": "#FF6692",
          "size": [
           1
          ],
          "sizemode": "area",
          "sizeref": 0.03638888888888889,
          "symbol": "circle"
         },
         "mode": "markers",
         "name": "Soles",
         "orientation": "v",
         "showlegend": true,
         "x": [
          "Soles"
         ],
         "xaxis": "x",
         "y": [
          1
         ],
         "yaxis": "y",
         "type": "scatter"
        },
        {
         "hovertemplate": "<b>%{hovertext}</b><br><br>Word=%{x}<br>Occurrences=%{marker.size}<extra></extra>",
         "hovertext": [
          "Oiled"
         ],
         "legendgroup": "Oiled",
         "marker": {
          "color": "#B6E880",
          "size": [
           1
          ],
          "sizemode": "area",
          "sizeref": 0.03638888888888889,
          "symbol": "circle"
         },
         "mode": "markers",
         "name": "Oiled",
         "orientation": "v",
         "showlegend": true,
         "x": [
          "Oiled"
         ],
         "xaxis": "x",
         "y": [
          1
         ],
         "yaxis": "y",
         "type": "scatter"
        },
        {
         "hovertemplate": "<b>%{hovertext}</b><br><br>Word=%{x}<br>Occurrences=%{marker.size}<extra></extra>",
         "hovertext": [
          "Old"
         ],
         "legendgroup": "Old",
         "marker": {
          "color": "#FF97FF",
          "size": [
           4
          ],
          "sizemode": "area",
          "sizeref": 0.03638888888888889,
          "symbol": "circle"
         },
         "mode": "markers",
         "name": "Old",
         "orientation": "v",
         "showlegend": true,
         "x": [
          "Old"
         ],
         "xaxis": "x",
         "y": [
          4
         ],
         "yaxis": "y",
         "type": "scatter"
        },
        {
         "hovertemplate": "<b>%{hovertext}</b><br><br>Word=%{x}<br>Occurrences=%{marker.size}<extra></extra>",
         "hovertext": [
          "40"
         ],
         "legendgroup": "40",
         "marker": {
          "color": "#FECB52",
          "size": [
           1
          ],
          "sizemode": "area",
          "sizeref": 0.03638888888888889,
          "symbol": "circle"
         },
         "mode": "markers",
         "name": "40",
         "orientation": "v",
         "showlegend": true,
         "x": [
          "40"
         ],
         "xaxis": "x",
         "y": [
          1
         ],
         "yaxis": "y",
         "type": "scatter"
        },
        {
         "hovertemplate": "<b>%{hovertext}</b><br><br>Word=%{x}<br>Occurrences=%{marker.size}<extra></extra>",
         "hovertext": [
          "50"
         ],
         "legendgroup": "50",
         "marker": {
          "color": "#636efa",
          "size": [
           2
          ],
          "sizemode": "area",
          "sizeref": 0.03638888888888889,
          "symbol": "circle"
         },
         "mode": "markers",
         "name": "50",
         "orientation": "v",
         "showlegend": true,
         "x": [
          "50"
         ],
         "xaxis": "x",
         "y": [
          2
         ],
         "yaxis": "y",
         "type": "scatter"
        },
        {
         "hovertemplate": "<b>%{hovertext}</b><br><br>Word=%{x}<br>Occurrences=%{marker.size}<extra></extra>",
         "hovertext": [
          "60"
         ],
         "legendgroup": "60",
         "marker": {
          "color": "#EF553B",
          "size": [
           3
          ],
          "sizemode": "area",
          "sizeref": 0.03638888888888889,
          "symbol": "circle"
         },
         "mode": "markers",
         "name": "60",
         "orientation": "v",
         "showlegend": true,
         "x": [
          "60"
         ],
         "xaxis": "x",
         "y": [
          3
         ],
         "yaxis": "y",
         "type": "scatter"
        },
        {
         "hovertemplate": "<b>%{hovertext}</b><br><br>Word=%{x}<br>Occurrences=%{marker.size}<extra></extra>",
         "hovertext": [
          "PAWG"
         ],
         "legendgroup": "PAWG",
         "marker": {
          "color": "#00cc96",
          "size": [
           4
          ],
          "sizemode": "area",
          "sizeref": 0.03638888888888889,
          "symbol": "circle"
         },
         "mode": "markers",
         "name": "PAWG",
         "orientation": "v",
         "showlegend": true,
         "x": [
          "PAWG"
         ],
         "xaxis": "x",
         "y": [
          4
         ],
         "yaxis": "y",
         "type": "scatter"
        },
        {
         "hovertemplate": "<b>%{hovertext}</b><br><br>Word=%{x}<br>Occurrences=%{marker.size}<extra></extra>",
         "hovertext": [
          "POV"
         ],
         "legendgroup": "POV",
         "marker": {
          "color": "#ab63fa",
          "size": [
           2
          ],
          "sizemode": "area",
          "sizeref": 0.03638888888888889,
          "symbol": "circle"
         },
         "mode": "markers",
         "name": "POV",
         "orientation": "v",
         "showlegend": true,
         "x": [
          "POV"
         ],
         "xaxis": "x",
         "y": [
          2
         ],
         "yaxis": "y",
         "type": "scatter"
        },
        {
         "hovertemplate": "<b>%{hovertext}</b><br><br>Word=%{x}<br>Occurrences=%{marker.size}<extra></extra>",
         "hovertext": [
          "Pale"
         ],
         "legendgroup": "Pale",
         "marker": {
          "color": "#FFA15A",
          "size": [
           1
          ],
          "sizemode": "area",
          "sizeref": 0.03638888888888889,
          "symbol": "circle"
         },
         "mode": "markers",
         "name": "Pale",
         "orientation": "v",
         "showlegend": true,
         "x": [
          "Pale"
         ],
         "xaxis": "x",
         "y": [
          1
         ],
         "yaxis": "y",
         "type": "scatter"
        },
        {
         "hovertemplate": "<b>%{hovertext}</b><br><br>Word=%{x}<br>Occurrences=%{marker.size}<extra></extra>",
         "hovertext": [
          "Panty"
         ],
         "legendgroup": "Panty",
         "marker": {
          "color": "#19d3f3",
          "size": [
           2
          ],
          "sizemode": "area",
          "sizeref": 0.03638888888888889,
          "symbol": "circle"
         },
         "mode": "markers",
         "name": "Panty",
         "orientation": "v",
         "showlegend": true,
         "x": [
          "Panty"
         ],
         "xaxis": "x",
         "y": [
          2
         ],
         "yaxis": "y",
         "type": "scatter"
        },
        {
         "hovertemplate": "<b>%{hovertext}</b><br><br>Word=%{x}<br>Occurrences=%{marker.size}<extra></extra>",
         "hovertext": [
          "Pantyhose"
         ],
         "legendgroup": "Pantyhose",
         "marker": {
          "color": "#FF6692",
          "size": [
           2
          ],
          "sizemode": "area",
          "sizeref": 0.03638888888888889,
          "symbol": "circle"
         },
         "mode": "markers",
         "name": "Pantyhose",
         "orientation": "v",
         "showlegend": true,
         "x": [
          "Pantyhose"
         ],
         "xaxis": "x",
         "y": [
          2
         ],
         "yaxis": "y",
         "type": "scatter"
        },
        {
         "hovertemplate": "<b>%{hovertext}</b><br><br>Word=%{x}<br>Occurrences=%{marker.size}<extra></extra>",
         "hovertext": [
          "Penis"
         ],
         "legendgroup": "Penis",
         "marker": {
          "color": "#B6E880",
          "size": [
           1
          ],
          "sizemode": "area",
          "sizeref": 0.03638888888888889,
          "symbol": "circle"
         },
         "mode": "markers",
         "name": "Penis",
         "orientation": "v",
         "showlegend": true,
         "x": [
          "Penis"
         ],
         "xaxis": "x",
         "y": [
          1
         ],
         "yaxis": "y",
         "type": "scatter"
        },
        {
         "hovertemplate": "<b>%{hovertext}</b><br><br>Word=%{x}<br>Occurrences=%{marker.size}<extra></extra>",
         "hovertext": [
          "Perfect"
         ],
         "legendgroup": "Perfect",
         "marker": {
          "color": "#FF97FF",
          "size": [
           9
          ],
          "sizemode": "area",
          "sizeref": 0.03638888888888889,
          "symbol": "circle"
         },
         "mode": "markers",
         "name": "Perfect",
         "orientation": "v",
         "showlegend": true,
         "x": [
          "Perfect"
         ],
         "xaxis": "x",
         "y": [
          9
         ],
         "yaxis": "y",
         "type": "scatter"
        },
        {
         "hovertemplate": "<b>%{hovertext}</b><br><br>Word=%{x}<br>Occurrences=%{marker.size}<extra></extra>",
         "hovertext": [
          "Perky"
         ],
         "legendgroup": "Perky",
         "marker": {
          "color": "#FECB52",
          "size": [
           2
          ],
          "sizemode": "area",
          "sizeref": 0.03638888888888889,
          "symbol": "circle"
         },
         "mode": "markers",
         "name": "Perky",
         "orientation": "v",
         "showlegend": true,
         "x": [
          "Perky"
         ],
         "xaxis": "x",
         "y": [
          2
         ],
         "yaxis": "y",
         "type": "scatter"
        },
        {
         "hovertemplate": "<b>%{hovertext}</b><br><br>Word=%{x}<br>Occurrences=%{marker.size}<extra></extra>",
         "hovertext": [
          "Ponytail"
         ],
         "legendgroup": "Ponytail",
         "marker": {
          "color": "#636efa",
          "size": [
           1
          ],
          "sizemode": "area",
          "sizeref": 0.03638888888888889,
          "symbol": "circle"
         },
         "mode": "markers",
         "name": "Ponytail",
         "orientation": "v",
         "showlegend": true,
         "x": [
          "Ponytail"
         ],
         "xaxis": "x",
         "y": [
          1
         ],
         "yaxis": "y",
         "type": "scatter"
        },
        {
         "hovertemplate": "<b>%{hovertext}</b><br><br>Word=%{x}<br>Occurrences=%{marker.size}<extra></extra>",
         "hovertext": [
          "Pretty"
         ],
         "legendgroup": "Pretty",
         "marker": {
          "color": "#EF553B",
          "size": [
           1
          ],
          "sizemode": "area",
          "sizeref": 0.03638888888888889,
          "symbol": "circle"
         },
         "mode": "markers",
         "name": "Pretty",
         "orientation": "v",
         "showlegend": true,
         "x": [
          "Pretty"
         ],
         "xaxis": "x",
         "y": [
          1
         ],
         "yaxis": "y",
         "type": "scatter"
        },
        {
         "hovertemplate": "<b>%{hovertext}</b><br><br>Word=%{x}<br>Occurrences=%{marker.size}<extra></extra>",
         "hovertext": [
          "Public"
         ],
         "legendgroup": "Public",
         "marker": {
          "color": "#00cc96",
          "size": [
           1
          ],
          "sizemode": "area",
          "sizeref": 0.03638888888888889,
          "symbol": "circle"
         },
         "mode": "markers",
         "name": "Public",
         "orientation": "v",
         "showlegend": true,
         "x": [
          "Public"
         ],
         "xaxis": "x",
         "y": [
          1
         ],
         "yaxis": "y",
         "type": "scatter"
        },
        {
         "hovertemplate": "<b>%{hovertext}</b><br><br>Word=%{x}<br>Occurrences=%{marker.size}<extra></extra>",
         "hovertext": [
          "Flashing"
         ],
         "legendgroup": "Flashing",
         "marker": {
          "color": "#ab63fa",
          "size": [
           1
          ],
          "sizemode": "area",
          "sizeref": 0.03638888888888889,
          "symbol": "circle"
         },
         "mode": "markers",
         "name": "Flashing",
         "orientation": "v",
         "showlegend": true,
         "x": [
          "Flashing"
         ],
         "xaxis": "x",
         "y": [
          1
         ],
         "yaxis": "y",
         "type": "scatter"
        },
        {
         "hovertemplate": "<b>%{hovertext}</b><br><br>Word=%{x}<br>Occurrences=%{marker.size}<extra></extra>",
         "hovertext": [
          "Freckles"
         ],
         "legendgroup": "Freckles",
         "marker": {
          "color": "#FFA15A",
          "size": [
           1
          ],
          "sizemode": "area",
          "sizeref": 0.03638888888888889,
          "symbol": "circle"
         },
         "mode": "markers",
         "name": "Freckles",
         "orientation": "v",
         "showlegend": true,
         "x": [
          "Freckles"
         ],
         "xaxis": "x",
         "y": [
          1
         ],
         "yaxis": "y",
         "type": "scatter"
        },
        {
         "hovertemplate": "<b>%{hovertext}</b><br><br>Word=%{x}<br>Occurrences=%{marker.size}<extra></extra>",
         "hovertext": [
          "Rough"
         ],
         "legendgroup": "Rough",
         "marker": {
          "color": "#19d3f3",
          "size": [
           1
          ],
          "sizemode": "area",
          "sizeref": 0.03638888888888889,
          "symbol": "circle"
         },
         "mode": "markers",
         "name": "Rough",
         "orientation": "v",
         "showlegend": true,
         "x": [
          "Rough"
         ],
         "xaxis": "x",
         "y": [
          1
         ],
         "yaxis": "y",
         "type": "scatter"
        },
        {
         "hovertemplate": "<b>%{hovertext}</b><br><br>Word=%{x}<br>Occurrences=%{marker.size}<extra></extra>",
         "hovertext": [
          "Santa"
         ],
         "legendgroup": "Santa",
         "marker": {
          "color": "#FF6692",
          "size": [
           3
          ],
          "sizemode": "area",
          "sizeref": 0.03638888888888889,
          "symbol": "circle"
         },
         "mode": "markers",
         "name": "Santa",
         "orientation": "v",
         "showlegend": true,
         "x": [
          "Santa"
         ],
         "xaxis": "x",
         "y": [
          3
         ],
         "yaxis": "y",
         "type": "scatter"
        },
        {
         "hovertemplate": "<b>%{hovertext}</b><br><br>Word=%{x}<br>Occurrences=%{marker.size}<extra></extra>",
         "hovertext": [
          "Sauna"
         ],
         "legendgroup": "Sauna",
         "marker": {
          "color": "#B6E880",
          "size": [
           1
          ],
          "sizemode": "area",
          "sizeref": 0.03638888888888889,
          "symbol": "circle"
         },
         "mode": "markers",
         "name": "Sauna",
         "orientation": "v",
         "showlegend": true,
         "x": [
          "Sauna"
         ],
         "xaxis": "x",
         "y": [
          1
         ],
         "yaxis": "y",
         "type": "scatter"
        },
        {
         "hovertemplate": "<b>%{hovertext}</b><br><br>Word=%{x}<br>Occurrences=%{marker.size}<extra></extra>",
         "hovertext": [
          "Seduction"
         ],
         "legendgroup": "Seduction",
         "marker": {
          "color": "#FF97FF",
          "size": [
           2
          ],
          "sizemode": "area",
          "sizeref": 0.03638888888888889,
          "symbol": "circle"
         },
         "mode": "markers",
         "name": "Seduction",
         "orientation": "v",
         "showlegend": true,
         "x": [
          "Seduction"
         ],
         "xaxis": "x",
         "y": [
          2
         ],
         "yaxis": "y",
         "type": "scatter"
        },
        {
         "hovertemplate": "<b>%{hovertext}</b><br><br>Word=%{x}<br>Occurrences=%{marker.size}<extra></extra>",
         "hovertext": [
          "Sexy"
         ],
         "legendgroup": "Sexy",
         "marker": {
          "color": "#FECB52",
          "size": [
           29
          ],
          "sizemode": "area",
          "sizeref": 0.03638888888888889,
          "symbol": "circle"
         },
         "mode": "markers",
         "name": "Sexy",
         "orientation": "v",
         "showlegend": true,
         "x": [
          "Sexy"
         ],
         "xaxis": "x",
         "y": [
          29
         ],
         "yaxis": "y",
         "type": "scatter"
        },
        {
         "hovertemplate": "<b>%{hovertext}</b><br><br>Word=%{x}<br>Occurrences=%{marker.size}<extra></extra>",
         "hovertext": [
          "Dress"
         ],
         "legendgroup": "Dress",
         "marker": {
          "color": "#636efa",
          "size": [
           3
          ],
          "sizemode": "area",
          "sizeref": 0.03638888888888889,
          "symbol": "circle"
         },
         "mode": "markers",
         "name": "Dress",
         "orientation": "v",
         "showlegend": true,
         "x": [
          "Dress"
         ],
         "xaxis": "x",
         "y": [
          3
         ],
         "yaxis": "y",
         "type": "scatter"
        },
        {
         "hovertemplate": "<b>%{hovertext}</b><br><br>Word=%{x}<br>Occurrences=%{marker.size}<extra></extra>",
         "hovertext": [
          "Thong"
         ],
         "legendgroup": "Thong",
         "marker": {
          "color": "#EF553B",
          "size": [
           3
          ],
          "sizemode": "area",
          "sizeref": 0.03638888888888889,
          "symbol": "circle"
         },
         "mode": "markers",
         "name": "Thong",
         "orientation": "v",
         "showlegend": true,
         "x": [
          "Thong"
         ],
         "xaxis": "x",
         "y": [
          3
         ],
         "yaxis": "y",
         "type": "scatter"
        },
        {
         "hovertemplate": "<b>%{hovertext}</b><br><br>Word=%{x}<br>Occurrences=%{marker.size}<extra></extra>",
         "hovertext": [
          "Short"
         ],
         "legendgroup": "Short",
         "marker": {
          "color": "#00cc96",
          "size": [
           14
          ],
          "sizemode": "area",
          "sizeref": 0.03638888888888889,
          "symbol": "circle"
         },
         "mode": "markers",
         "name": "Short",
         "orientation": "v",
         "showlegend": true,
         "x": [
          "Short"
         ],
         "xaxis": "x",
         "y": [
          14
         ],
         "yaxis": "y",
         "type": "scatter"
        },
        {
         "hovertemplate": "<b>%{hovertext}</b><br><br>Word=%{x}<br>Occurrences=%{marker.size}<extra></extra>",
         "hovertext": [
          "Hair"
         ],
         "legendgroup": "Hair",
         "marker": {
          "color": "#ab63fa",
          "size": [
           12
          ],
          "sizemode": "area",
          "sizeref": 0.03638888888888889,
          "symbol": "circle"
         },
         "mode": "markers",
         "name": "Hair",
         "orientation": "v",
         "showlegend": true,
         "x": [
          "Hair"
         ],
         "xaxis": "x",
         "y": [
          12
         ],
         "yaxis": "y",
         "type": "scatter"
        },
        {
         "hovertemplate": "<b>%{hovertext}</b><br><br>Word=%{x}<br>Occurrences=%{marker.size}<extra></extra>",
         "hovertext": [
          "Skinny"
         ],
         "legendgroup": "Skinny",
         "marker": {
          "color": "#FFA15A",
          "size": [
           19
          ],
          "sizemode": "area",
          "sizeref": 0.03638888888888889,
          "symbol": "circle"
         },
         "mode": "markers",
         "name": "Skinny",
         "orientation": "v",
         "showlegend": true,
         "x": [
          "Skinny"
         ],
         "xaxis": "x",
         "y": [
          19
         ],
         "yaxis": "y",
         "type": "scatter"
        },
        {
         "hovertemplate": "<b>%{hovertext}</b><br><br>Word=%{x}<br>Occurrences=%{marker.size}<extra></extra>",
         "hovertext": [
          "Sloppy"
         ],
         "legendgroup": "Sloppy",
         "marker": {
          "color": "#19d3f3",
          "size": [
           1
          ],
          "sizemode": "area",
          "sizeref": 0.03638888888888889,
          "symbol": "circle"
         },
         "mode": "markers",
         "name": "Sloppy",
         "orientation": "v",
         "showlegend": true,
         "x": [
          "Sloppy"
         ],
         "xaxis": "x",
         "y": [
          1
         ],
         "yaxis": "y",
         "type": "scatter"
        },
        {
         "hovertemplate": "<b>%{hovertext}</b><br><br>Word=%{x}<br>Occurrences=%{marker.size}<extra></extra>",
         "hovertext": [
          "Sneakers"
         ],
         "legendgroup": "Sneakers",
         "marker": {
          "color": "#FF6692",
          "size": [
           1
          ],
          "sizemode": "area",
          "sizeref": 0.03638888888888889,
          "symbol": "circle"
         },
         "mode": "markers",
         "name": "Sneakers",
         "orientation": "v",
         "showlegend": true,
         "x": [
          "Sneakers"
         ],
         "xaxis": "x",
         "y": [
          1
         ],
         "yaxis": "y",
         "type": "scatter"
        },
        {
         "hovertemplate": "<b>%{hovertext}</b><br><br>Word=%{x}<br>Occurrences=%{marker.size}<extra></extra>",
         "hovertext": [
          "Spanish"
         ],
         "legendgroup": "Spanish",
         "marker": {
          "color": "#B6E880",
          "size": [
           2
          ],
          "sizemode": "area",
          "sizeref": 0.03638888888888889,
          "symbol": "circle"
         },
         "mode": "markers",
         "name": "Spanish",
         "orientation": "v",
         "showlegend": true,
         "x": [
          "Spanish"
         ],
         "xaxis": "x",
         "y": [
          2
         ],
         "yaxis": "y",
         "type": "scatter"
        },
        {
         "hovertemplate": "<b>%{hovertext}</b><br><br>Word=%{x}<br>Occurrences=%{marker.size}<extra></extra>",
         "hovertext": [
          "Sucking"
         ],
         "legendgroup": "Sucking",
         "marker": {
          "color": "#FF97FF",
          "size": [
           1
          ],
          "sizemode": "area",
          "sizeref": 0.03638888888888889,
          "symbol": "circle"
         },
         "mode": "markers",
         "name": "Sucking",
         "orientation": "v",
         "showlegend": true,
         "x": [
          "Sucking"
         ],
         "xaxis": "x",
         "y": [
          1
         ],
         "yaxis": "y",
         "type": "scatter"
        },
        {
         "hovertemplate": "<b>%{hovertext}</b><br><br>Word=%{x}<br>Occurrences=%{marker.size}<extra></extra>",
         "hovertext": [
          "Summer"
         ],
         "legendgroup": "Summer",
         "marker": {
          "color": "#FECB52",
          "size": [
           1
          ],
          "sizemode": "area",
          "sizeref": 0.03638888888888889,
          "symbol": "circle"
         },
         "mode": "markers",
         "name": "Summer",
         "orientation": "v",
         "showlegend": true,
         "x": [
          "Summer"
         ],
         "xaxis": "x",
         "y": [
          1
         ],
         "yaxis": "y",
         "type": "scatter"
        },
        {
         "hovertemplate": "<b>%{hovertext}</b><br><br>Word=%{x}<br>Occurrences=%{marker.size}<extra></extra>",
         "hovertext": [
          "Sweater"
         ],
         "legendgroup": "Sweater",
         "marker": {
          "color": "#636efa",
          "size": [
           1
          ],
          "sizemode": "area",
          "sizeref": 0.03638888888888889,
          "symbol": "circle"
         },
         "mode": "markers",
         "name": "Sweater",
         "orientation": "v",
         "showlegend": true,
         "x": [
          "Sweater"
         ],
         "xaxis": "x",
         "y": [
          1
         ],
         "yaxis": "y",
         "type": "scatter"
        },
        {
         "hovertemplate": "<b>%{hovertext}</b><br><br>Word=%{x}<br>Occurrences=%{marker.size}<extra></extra>",
         "hovertext": [
          "Tall"
         ],
         "legendgroup": "Tall",
         "marker": {
          "color": "#EF553B",
          "size": [
           1
          ],
          "sizemode": "area",
          "sizeref": 0.03638888888888889,
          "symbol": "circle"
         },
         "mode": "markers",
         "name": "Tall",
         "orientation": "v",
         "showlegend": true,
         "x": [
          "Tall"
         ],
         "xaxis": "x",
         "y": [
          1
         ],
         "yaxis": "y",
         "type": "scatter"
        },
        {
         "hovertemplate": "<b>%{hovertext}</b><br><br>Word=%{x}<br>Occurrences=%{marker.size}<extra></extra>",
         "hovertext": [
          "Tattooed"
         ],
         "legendgroup": "Tattooed",
         "marker": {
          "color": "#00cc96",
          "size": [
           1
          ],
          "sizemode": "area",
          "sizeref": 0.03638888888888889,
          "symbol": "circle"
         },
         "mode": "markers",
         "name": "Tattooed",
         "orientation": "v",
         "showlegend": true,
         "x": [
          "Tattooed"
         ],
         "xaxis": "x",
         "y": [
          1
         ],
         "yaxis": "y",
         "type": "scatter"
        },
        {
         "hovertemplate": "<b>%{hovertext}</b><br><br>Word=%{x}<br>Occurrences=%{marker.size}<extra></extra>",
         "hovertext": [
          "Facial"
         ],
         "legendgroup": "Facial",
         "marker": {
          "color": "#ab63fa",
          "size": [
           1
          ],
          "sizemode": "area",
          "sizeref": 0.03638888888888889,
          "symbol": "circle"
         },
         "mode": "markers",
         "name": "Facial",
         "orientation": "v",
         "showlegend": true,
         "x": [
          "Facial"
         ],
         "xaxis": "x",
         "y": [
          1
         ],
         "yaxis": "y",
         "type": "scatter"
        },
        {
         "hovertemplate": "<b>%{hovertext}</b><br><br>Word=%{x}<br>Occurrences=%{marker.size}<extra></extra>",
         "hovertext": [
          "Sport"
         ],
         "legendgroup": "Sport",
         "marker": {
          "color": "#FFA15A",
          "size": [
           1
          ],
          "sizemode": "area",
          "sizeref": 0.03638888888888889,
          "symbol": "circle"
         },
         "mode": "markers",
         "name": "Sport",
         "orientation": "v",
         "showlegend": true,
         "x": [
          "Sport"
         ],
         "xaxis": "x",
         "y": [
          1
         ],
         "yaxis": "y",
         "type": "scatter"
        },
        {
         "hovertemplate": "<b>%{hovertext}</b><br><br>Word=%{x}<br>Occurrences=%{marker.size}<extra></extra>",
         "hovertext": [
          "Thick"
         ],
         "legendgroup": "Thick",
         "marker": {
          "color": "#19d3f3",
          "size": [
           14
          ],
          "sizemode": "area",
          "sizeref": 0.03638888888888889,
          "symbol": "circle"
         },
         "mode": "markers",
         "name": "Thick",
         "orientation": "v",
         "showlegend": true,
         "x": [
          "Thick"
         ],
         "xaxis": "x",
         "y": [
          14
         ],
         "yaxis": "y",
         "type": "scatter"
        },
        {
         "hovertemplate": "<b>%{hovertext}</b><br><br>Word=%{x}<br>Occurrences=%{marker.size}<extra></extra>",
         "hovertext": [
          "Thigh"
         ],
         "legendgroup": "Thigh",
         "marker": {
          "color": "#FF6692",
          "size": [
           2
          ],
          "sizemode": "area",
          "sizeref": 0.03638888888888889,
          "symbol": "circle"
         },
         "mode": "markers",
         "name": "Thigh",
         "orientation": "v",
         "showlegend": true,
         "x": [
          "Thigh"
         ],
         "xaxis": "x",
         "y": [
          2
         ],
         "yaxis": "y",
         "type": "scatter"
        },
        {
         "hovertemplate": "<b>%{hovertext}</b><br><br>Word=%{x}<br>Occurrences=%{marker.size}<extra></extra>",
         "hovertext": [
          "Tight"
         ],
         "legendgroup": "Tight",
         "marker": {
          "color": "#B6E880",
          "size": [
           4
          ],
          "sizemode": "area",
          "sizeref": 0.03638888888888889,
          "symbol": "circle"
         },
         "mode": "markers",
         "name": "Tight",
         "orientation": "v",
         "showlegend": true,
         "x": [
          "Tight"
         ],
         "xaxis": "x",
         "y": [
          4
         ],
         "yaxis": "y",
         "type": "scatter"
        },
        {
         "hovertemplate": "<b>%{hovertext}</b><br><br>Word=%{x}<br>Occurrences=%{marker.size}<extra></extra>",
         "hovertext": [
          "Tiny"
         ],
         "legendgroup": "Tiny",
         "marker": {
          "color": "#FF97FF",
          "size": [
           2
          ],
          "sizemode": "area",
          "sizeref": 0.03638888888888889,
          "symbol": "circle"
         },
         "mode": "markers",
         "name": "Tiny",
         "orientation": "v",
         "showlegend": true,
         "x": [
          "Tiny"
         ],
         "xaxis": "x",
         "y": [
          2
         ],
         "yaxis": "y",
         "type": "scatter"
        },
        {
         "hovertemplate": "<b>%{hovertext}</b><br><br>Word=%{x}<br>Occurrences=%{marker.size}<extra></extra>",
         "hovertext": [
          "Tongue"
         ],
         "legendgroup": "Tongue",
         "marker": {
          "color": "#FECB52",
          "size": [
           2
          ],
          "sizemode": "area",
          "sizeref": 0.03638888888888889,
          "symbol": "circle"
         },
         "mode": "markers",
         "name": "Tongue",
         "orientation": "v",
         "showlegend": true,
         "x": [
          "Tongue"
         ],
         "xaxis": "x",
         "y": [
          2
         ],
         "yaxis": "y",
         "type": "scatter"
        },
        {
         "hovertemplate": "<b>%{hovertext}</b><br><br>Word=%{x}<br>Occurrences=%{marker.size}<extra></extra>",
         "hovertext": [
          "Topless"
         ],
         "legendgroup": "Topless",
         "marker": {
          "color": "#636efa",
          "size": [
           1
          ],
          "sizemode": "area",
          "sizeref": 0.03638888888888889,
          "symbol": "circle"
         },
         "mode": "markers",
         "name": "Topless",
         "orientation": "v",
         "showlegend": true,
         "x": [
          "Topless"
         ],
         "xaxis": "x",
         "y": [
          1
         ],
         "yaxis": "y",
         "type": "scatter"
        },
        {
         "hovertemplate": "<b>%{hovertext}</b><br><br>Word=%{x}<br>Occurrences=%{marker.size}<extra></extra>",
         "hovertext": [
          "Trimmed"
         ],
         "legendgroup": "Trimmed",
         "marker": {
          "color": "#EF553B",
          "size": [
           2
          ],
          "sizemode": "area",
          "sizeref": 0.03638888888888889,
          "symbol": "circle"
         },
         "mode": "markers",
         "name": "Trimmed",
         "orientation": "v",
         "showlegend": true,
         "x": [
          "Trimmed"
         ],
         "xaxis": "x",
         "y": [
          2
         ],
         "yaxis": "y",
         "type": "scatter"
        },
        {
         "hovertemplate": "<b>%{hovertext}</b><br><br>Word=%{x}<br>Occurrences=%{marker.size}<extra></extra>",
         "hovertext": [
          "Very"
         ],
         "legendgroup": "Very",
         "marker": {
          "color": "#00cc96",
          "size": [
           4
          ],
          "sizemode": "area",
          "sizeref": 0.03638888888888889,
          "symbol": "circle"
         },
         "mode": "markers",
         "name": "Very",
         "orientation": "v",
         "showlegend": true,
         "x": [
          "Very"
         ],
         "xaxis": "x",
         "y": [
          4
         ],
         "yaxis": "y",
         "type": "scatter"
        },
        {
         "hovertemplate": "<b>%{hovertext}</b><br><br>Word=%{x}<br>Occurrences=%{marker.size}<extra></extra>",
         "hovertext": [
          "Wet"
         ],
         "legendgroup": "Wet",
         "marker": {
          "color": "#ab63fa",
          "size": [
           5
          ],
          "sizemode": "area",
          "sizeref": 0.03638888888888889,
          "symbol": "circle"
         },
         "mode": "markers",
         "name": "Wet",
         "orientation": "v",
         "showlegend": true,
         "x": [
          "Wet"
         ],
         "xaxis": "x",
         "y": [
          5
         ],
         "yaxis": "y",
         "type": "scatter"
        },
        {
         "hovertemplate": "<b>%{hovertext}</b><br><br>Word=%{x}<br>Occurrences=%{marker.size}<extra></extra>",
         "hovertext": [
          "Wide"
         ],
         "legendgroup": "Wide",
         "marker": {
          "color": "#FFA15A",
          "size": [
           2
          ],
          "sizemode": "area",
          "sizeref": 0.03638888888888889,
          "symbol": "circle"
         },
         "mode": "markers",
         "name": "Wide",
         "orientation": "v",
         "showlegend": true,
         "x": [
          "Wide"
         ],
         "xaxis": "x",
         "y": [
          2
         ],
         "yaxis": "y",
         "type": "scatter"
        },
        {
         "hovertemplate": "<b>%{hovertext}</b><br><br>Word=%{x}<br>Occurrences=%{marker.size}<extra></extra>",
         "hovertext": [
          "Hips"
         ],
         "legendgroup": "Hips",
         "marker": {
          "color": "#19d3f3",
          "size": [
           2
          ],
          "sizemode": "area",
          "sizeref": 0.03638888888888889,
          "symbol": "circle"
         },
         "mode": "markers",
         "name": "Hips",
         "orientation": "v",
         "showlegend": true,
         "x": [
          "Hips"
         ],
         "xaxis": "x",
         "y": [
          2
         ],
         "yaxis": "y",
         "type": "scatter"
        },
        {
         "hovertemplate": "<b>%{hovertext}</b><br><br>Word=%{x}<br>Occurrences=%{marker.size}<extra></extra>",
         "hovertext": [
          "Thighs"
         ],
         "legendgroup": "Thighs",
         "marker": {
          "color": "#FF6692",
          "size": [
           2
          ],
          "sizemode": "area",
          "sizeref": 0.03638888888888889,
          "symbol": "circle"
         },
         "mode": "markers",
         "name": "Thighs",
         "orientation": "v",
         "showlegend": true,
         "x": [
          "Thighs"
         ],
         "xaxis": "x",
         "y": [
          2
         ],
         "yaxis": "y",
         "type": "scatter"
        },
        {
         "hovertemplate": "<b>%{hovertext}</b><br><br>Word=%{x}<br>Occurrences=%{marker.size}<extra></extra>",
         "hovertext": [
          "Wrestling"
         ],
         "legendgroup": "Wrestling",
         "marker": {
          "color": "#B6E880",
          "size": [
           1
          ],
          "sizemode": "area",
          "sizeref": 0.03638888888888889,
          "symbol": "circle"
         },
         "mode": "markers",
         "name": "Wrestling",
         "orientation": "v",
         "showlegend": true,
         "x": [
          "Wrestling"
         ],
         "xaxis": "x",
         "y": [
          1
         ],
         "yaxis": "y",
         "type": "scatter"
        }
       ],
       "layout": {
        "template": {
         "data": {
          "histogram2dcontour": [
           {
            "type": "histogram2dcontour",
            "colorbar": {
             "outlinewidth": 0,
             "ticks": ""
            },
            "colorscale": [
             [
              0.0,
              "#0d0887"
             ],
             [
              0.1111111111111111,
              "#46039f"
             ],
             [
              0.2222222222222222,
              "#7201a8"
             ],
             [
              0.3333333333333333,
              "#9c179e"
             ],
             [
              0.4444444444444444,
              "#bd3786"
             ],
             [
              0.5555555555555556,
              "#d8576b"
             ],
             [
              0.6666666666666666,
              "#ed7953"
             ],
             [
              0.7777777777777778,
              "#fb9f3a"
             ],
             [
              0.8888888888888888,
              "#fdca26"
             ],
             [
              1.0,
              "#f0f921"
             ]
            ]
           }
          ],
          "choropleth": [
           {
            "type": "choropleth",
            "colorbar": {
             "outlinewidth": 0,
             "ticks": ""
            }
           }
          ],
          "histogram2d": [
           {
            "type": "histogram2d",
            "colorbar": {
             "outlinewidth": 0,
             "ticks": ""
            },
            "colorscale": [
             [
              0.0,
              "#0d0887"
             ],
             [
              0.1111111111111111,
              "#46039f"
             ],
             [
              0.2222222222222222,
              "#7201a8"
             ],
             [
              0.3333333333333333,
              "#9c179e"
             ],
             [
              0.4444444444444444,
              "#bd3786"
             ],
             [
              0.5555555555555556,
              "#d8576b"
             ],
             [
              0.6666666666666666,
              "#ed7953"
             ],
             [
              0.7777777777777778,
              "#fb9f3a"
             ],
             [
              0.8888888888888888,
              "#fdca26"
             ],
             [
              1.0,
              "#f0f921"
             ]
            ]
           }
          ],
          "heatmap": [
           {
            "type": "heatmap",
            "colorbar": {
             "outlinewidth": 0,
             "ticks": ""
            },
            "colorscale": [
             [
              0.0,
              "#0d0887"
             ],
             [
              0.1111111111111111,
              "#46039f"
             ],
             [
              0.2222222222222222,
              "#7201a8"
             ],
             [
              0.3333333333333333,
              "#9c179e"
             ],
             [
              0.4444444444444444,
              "#bd3786"
             ],
             [
              0.5555555555555556,
              "#d8576b"
             ],
             [
              0.6666666666666666,
              "#ed7953"
             ],
             [
              0.7777777777777778,
              "#fb9f3a"
             ],
             [
              0.8888888888888888,
              "#fdca26"
             ],
             [
              1.0,
              "#f0f921"
             ]
            ]
           }
          ],
          "heatmapgl": [
           {
            "type": "heatmapgl",
            "colorbar": {
             "outlinewidth": 0,
             "ticks": ""
            },
            "colorscale": [
             [
              0.0,
              "#0d0887"
             ],
             [
              0.1111111111111111,
              "#46039f"
             ],
             [
              0.2222222222222222,
              "#7201a8"
             ],
             [
              0.3333333333333333,
              "#9c179e"
             ],
             [
              0.4444444444444444,
              "#bd3786"
             ],
             [
              0.5555555555555556,
              "#d8576b"
             ],
             [
              0.6666666666666666,
              "#ed7953"
             ],
             [
              0.7777777777777778,
              "#fb9f3a"
             ],
             [
              0.8888888888888888,
              "#fdca26"
             ],
             [
              1.0,
              "#f0f921"
             ]
            ]
           }
          ],
          "contourcarpet": [
           {
            "type": "contourcarpet",
            "colorbar": {
             "outlinewidth": 0,
             "ticks": ""
            }
           }
          ],
          "contour": [
           {
            "type": "contour",
            "colorbar": {
             "outlinewidth": 0,
             "ticks": ""
            },
            "colorscale": [
             [
              0.0,
              "#0d0887"
             ],
             [
              0.1111111111111111,
              "#46039f"
             ],
             [
              0.2222222222222222,
              "#7201a8"
             ],
             [
              0.3333333333333333,
              "#9c179e"
             ],
             [
              0.4444444444444444,
              "#bd3786"
             ],
             [
              0.5555555555555556,
              "#d8576b"
             ],
             [
              0.6666666666666666,
              "#ed7953"
             ],
             [
              0.7777777777777778,
              "#fb9f3a"
             ],
             [
              0.8888888888888888,
              "#fdca26"
             ],
             [
              1.0,
              "#f0f921"
             ]
            ]
           }
          ],
          "surface": [
           {
            "type": "surface",
            "colorbar": {
             "outlinewidth": 0,
             "ticks": ""
            },
            "colorscale": [
             [
              0.0,
              "#0d0887"
             ],
             [
              0.1111111111111111,
              "#46039f"
             ],
             [
              0.2222222222222222,
              "#7201a8"
             ],
             [
              0.3333333333333333,
              "#9c179e"
             ],
             [
              0.4444444444444444,
              "#bd3786"
             ],
             [
              0.5555555555555556,
              "#d8576b"
             ],
             [
              0.6666666666666666,
              "#ed7953"
             ],
             [
              0.7777777777777778,
              "#fb9f3a"
             ],
             [
              0.8888888888888888,
              "#fdca26"
             ],
             [
              1.0,
              "#f0f921"
             ]
            ]
           }
          ],
          "mesh3d": [
           {
            "type": "mesh3d",
            "colorbar": {
             "outlinewidth": 0,
             "ticks": ""
            }
           }
          ],
          "scatter": [
           {
            "fillpattern": {
             "fillmode": "overlay",
             "size": 10,
             "solidity": 0.2
            },
            "type": "scatter"
           }
          ],
          "parcoords": [
           {
            "type": "parcoords",
            "line": {
             "colorbar": {
              "outlinewidth": 0,
              "ticks": ""
             }
            }
           }
          ],
          "scatterpolargl": [
           {
            "type": "scatterpolargl",
            "marker": {
             "colorbar": {
              "outlinewidth": 0,
              "ticks": ""
             }
            }
           }
          ],
          "bar": [
           {
            "error_x": {
             "color": "#2a3f5f"
            },
            "error_y": {
             "color": "#2a3f5f"
            },
            "marker": {
             "line": {
              "color": "#E5ECF6",
              "width": 0.5
             },
             "pattern": {
              "fillmode": "overlay",
              "size": 10,
              "solidity": 0.2
             }
            },
            "type": "bar"
           }
          ],
          "scattergeo": [
           {
            "type": "scattergeo",
            "marker": {
             "colorbar": {
              "outlinewidth": 0,
              "ticks": ""
             }
            }
           }
          ],
          "scatterpolar": [
           {
            "type": "scatterpolar",
            "marker": {
             "colorbar": {
              "outlinewidth": 0,
              "ticks": ""
             }
            }
           }
          ],
          "histogram": [
           {
            "marker": {
             "pattern": {
              "fillmode": "overlay",
              "size": 10,
              "solidity": 0.2
             }
            },
            "type": "histogram"
           }
          ],
          "scattergl": [
           {
            "type": "scattergl",
            "marker": {
             "colorbar": {
              "outlinewidth": 0,
              "ticks": ""
             }
            }
           }
          ],
          "scatter3d": [
           {
            "type": "scatter3d",
            "line": {
             "colorbar": {
              "outlinewidth": 0,
              "ticks": ""
             }
            },
            "marker": {
             "colorbar": {
              "outlinewidth": 0,
              "ticks": ""
             }
            }
           }
          ],
          "scattermapbox": [
           {
            "type": "scattermapbox",
            "marker": {
             "colorbar": {
              "outlinewidth": 0,
              "ticks": ""
             }
            }
           }
          ],
          "scatterternary": [
           {
            "type": "scatterternary",
            "marker": {
             "colorbar": {
              "outlinewidth": 0,
              "ticks": ""
             }
            }
           }
          ],
          "scattercarpet": [
           {
            "type": "scattercarpet",
            "marker": {
             "colorbar": {
              "outlinewidth": 0,
              "ticks": ""
             }
            }
           }
          ],
          "carpet": [
           {
            "aaxis": {
             "endlinecolor": "#2a3f5f",
             "gridcolor": "white",
             "linecolor": "white",
             "minorgridcolor": "white",
             "startlinecolor": "#2a3f5f"
            },
            "baxis": {
             "endlinecolor": "#2a3f5f",
             "gridcolor": "white",
             "linecolor": "white",
             "minorgridcolor": "white",
             "startlinecolor": "#2a3f5f"
            },
            "type": "carpet"
           }
          ],
          "table": [
           {
            "cells": {
             "fill": {
              "color": "#EBF0F8"
             },
             "line": {
              "color": "white"
             }
            },
            "header": {
             "fill": {
              "color": "#C8D4E3"
             },
             "line": {
              "color": "white"
             }
            },
            "type": "table"
           }
          ],
          "barpolar": [
           {
            "marker": {
             "line": {
              "color": "#E5ECF6",
              "width": 0.5
             },
             "pattern": {
              "fillmode": "overlay",
              "size": 10,
              "solidity": 0.2
             }
            },
            "type": "barpolar"
           }
          ],
          "pie": [
           {
            "automargin": true,
            "type": "pie"
           }
          ]
         },
         "layout": {
          "autotypenumbers": "strict",
          "colorway": [
           "#636efa",
           "#EF553B",
           "#00cc96",
           "#ab63fa",
           "#FFA15A",
           "#19d3f3",
           "#FF6692",
           "#B6E880",
           "#FF97FF",
           "#FECB52"
          ],
          "font": {
           "color": "#2a3f5f"
          },
          "hovermode": "closest",
          "hoverlabel": {
           "align": "left"
          },
          "paper_bgcolor": "white",
          "plot_bgcolor": "#E5ECF6",
          "polar": {
           "bgcolor": "#E5ECF6",
           "angularaxis": {
            "gridcolor": "white",
            "linecolor": "white",
            "ticks": ""
           },
           "radialaxis": {
            "gridcolor": "white",
            "linecolor": "white",
            "ticks": ""
           }
          },
          "ternary": {
           "bgcolor": "#E5ECF6",
           "aaxis": {
            "gridcolor": "white",
            "linecolor": "white",
            "ticks": ""
           },
           "baxis": {
            "gridcolor": "white",
            "linecolor": "white",
            "ticks": ""
           },
           "caxis": {
            "gridcolor": "white",
            "linecolor": "white",
            "ticks": ""
           }
          },
          "coloraxis": {
           "colorbar": {
            "outlinewidth": 0,
            "ticks": ""
           }
          },
          "colorscale": {
           "sequential": [
            [
             0.0,
             "#0d0887"
            ],
            [
             0.1111111111111111,
             "#46039f"
            ],
            [
             0.2222222222222222,
             "#7201a8"
            ],
            [
             0.3333333333333333,
             "#9c179e"
            ],
            [
             0.4444444444444444,
             "#bd3786"
            ],
            [
             0.5555555555555556,
             "#d8576b"
            ],
            [
             0.6666666666666666,
             "#ed7953"
            ],
            [
             0.7777777777777778,
             "#fb9f3a"
            ],
            [
             0.8888888888888888,
             "#fdca26"
            ],
            [
             1.0,
             "#f0f921"
            ]
           ],
           "sequentialminus": [
            [
             0.0,
             "#0d0887"
            ],
            [
             0.1111111111111111,
             "#46039f"
            ],
            [
             0.2222222222222222,
             "#7201a8"
            ],
            [
             0.3333333333333333,
             "#9c179e"
            ],
            [
             0.4444444444444444,
             "#bd3786"
            ],
            [
             0.5555555555555556,
             "#d8576b"
            ],
            [
             0.6666666666666666,
             "#ed7953"
            ],
            [
             0.7777777777777778,
             "#fb9f3a"
            ],
            [
             0.8888888888888888,
             "#fdca26"
            ],
            [
             1.0,
             "#f0f921"
            ]
           ],
           "diverging": [
            [
             0,
             "#8e0152"
            ],
            [
             0.1,
             "#c51b7d"
            ],
            [
             0.2,
             "#de77ae"
            ],
            [
             0.3,
             "#f1b6da"
            ],
            [
             0.4,
             "#fde0ef"
            ],
            [
             0.5,
             "#f7f7f7"
            ],
            [
             0.6,
             "#e6f5d0"
            ],
            [
             0.7,
             "#b8e186"
            ],
            [
             0.8,
             "#7fbc41"
            ],
            [
             0.9,
             "#4d9221"
            ],
            [
             1,
             "#276419"
            ]
           ]
          },
          "xaxis": {
           "gridcolor": "white",
           "linecolor": "white",
           "ticks": "",
           "title": {
            "standoff": 15
           },
           "zerolinecolor": "white",
           "automargin": true,
           "zerolinewidth": 2
          },
          "yaxis": {
           "gridcolor": "white",
           "linecolor": "white",
           "ticks": "",
           "title": {
            "standoff": 15
           },
           "zerolinecolor": "white",
           "automargin": true,
           "zerolinewidth": 2
          },
          "scene": {
           "xaxis": {
            "backgroundcolor": "#E5ECF6",
            "gridcolor": "white",
            "linecolor": "white",
            "showbackground": true,
            "ticks": "",
            "zerolinecolor": "white",
            "gridwidth": 2
           },
           "yaxis": {
            "backgroundcolor": "#E5ECF6",
            "gridcolor": "white",
            "linecolor": "white",
            "showbackground": true,
            "ticks": "",
            "zerolinecolor": "white",
            "gridwidth": 2
           },
           "zaxis": {
            "backgroundcolor": "#E5ECF6",
            "gridcolor": "white",
            "linecolor": "white",
            "showbackground": true,
            "ticks": "",
            "zerolinecolor": "white",
            "gridwidth": 2
           }
          },
          "shapedefaults": {
           "line": {
            "color": "#2a3f5f"
           }
          },
          "annotationdefaults": {
           "arrowcolor": "#2a3f5f",
           "arrowhead": 0,
           "arrowwidth": 1
          },
          "geo": {
           "bgcolor": "white",
           "landcolor": "#E5ECF6",
           "subunitcolor": "white",
           "showland": true,
           "showlakes": true,
           "lakecolor": "white"
          },
          "title": {
           "x": 0.05
          },
          "mapbox": {
           "style": "light"
          }
         }
        },
        "xaxis": {
         "anchor": "y",
         "domain": [
          0.0,
          1.0
         ],
         "title": {
          "text": "Word"
         },
         "categoryorder": "array",
         "categoryarray": [
          "69",
          "Ahegao",
          "Amateur",
          "Upskirt",
          "Anal",
          "Ass",
          "Bikini",
          "Fuck",
          "Granny",
          "Hairy",
          "Pussy",
          "Handjob",
          "Homemade",
          "Housewife",
          "Interracial",
          "Latina",
          "Natural",
          "Tits",
          "Outdoor",
          "Petite",
          "Selfie",
          "Small",
          "Solo",
          "Spreading",
          "Stockings",
          "Teen",
          "Undressing",
          "Wife",
          "Yoga",
          "Pants",
          "American",
          "Mature",
          "Threesome",
          "Asian",
          "Babe",
          "Big",
          "Boots",
          "Fake",
          "Lingerie",
          "Feet",
          "Shorts",
          "Spread",
          "Cup",
          "BBW",
          "BDSM",
          "Banana",
          "Beautiful",
          "Face",
          "Russian",
          "Bent",
          "Over",
          "Panties",
          "Skirt",
          "Areolas",
          "Masturbation",
          "Doggystyle",
          "Mom",
          "Cock",
          "Blowjob",
          "Dick",
          "Fat",
          "Pierced",
          "Saggy",
          "Brunette",
          "Glasses",
          "Hardcore",
          "Nipples",
          "Nurse",
          "Pornstar",
          "Riding",
          "Secretary",
          "Shower",
          "Tattoo",
          "Titfuck",
          "Model",
          "Blonde",
          "Cum",
          "Boobs",
          "Booty",
          "Boss",
          "Bra",
          "Brazilian",
          "Bride",
          "British",
          "Bubble",
          "Butt",
          "Busty",
          "CFNM",
          "Car",
          "Centerfold",
          "Chubby",
          "Asshole",
          "Legs",
          "Lesbian",
          "Nerd",
          "Redhead",
          "Close",
          "Curvy",
          "Cute",
          "Czech",
          "DP",
          "Dildo",
          "Downblouse",
          "Eating",
          "Moms",
          "Erect",
          "Licking",
          "Tease",
          "Fit",
          "Fitness",
          "Body",
          "Sex",
          "Flat",
          "Chested",
          "French",
          "Maid",
          "From",
          "Behind",
          "GILF",
          "Gloves",
          "Grandma",
          "High",
          "Heels",
          "70",
          "Group",
          "Cumshot",
          "Gym",
          "Armpits",
          "Vagina",
          "Hanging",
          "Hard",
          "Horny",
          "Hot",
          "Naked",
          "Girls",
          "Women",
          "Huge",
          "Innocent",
          "Mouth",
          "Jeans",
          "Kissing",
          "Fucking",
          "Leather",
          "Leggings",
          "Fingering",
          "Fisting",
          "Stepmom",
          "Strapon",
          "Long",
          "MILF",
          "Massive",
          "Housewives",
          "Massage",
          "Office",
          "Older",
          "Shaved",
          "Micro",
          "Middle",
          "Aged",
          "Mini",
          "Monster",
          "Full",
          "Nerdy",
          "Nice",
          "Nudist",
          "Nylon",
          "Soles",
          "Oiled",
          "Old",
          "40",
          "50",
          "60",
          "PAWG",
          "POV",
          "Pale",
          "Panty",
          "Pantyhose",
          "Penis",
          "Perfect",
          "Perky",
          "Ponytail",
          "Pretty",
          "Public",
          "Flashing",
          "Freckles",
          "Rough",
          "Santa",
          "Sauna",
          "Seduction",
          "Sexy",
          "Dress",
          "Thong",
          "Short",
          "Hair",
          "Skinny",
          "Sloppy",
          "Sneakers",
          "Spanish",
          "Sucking",
          "Summer",
          "Sweater",
          "Tall",
          "Tattooed",
          "Facial",
          "Sport",
          "Thick",
          "Thigh",
          "Tight",
          "Tiny",
          "Tongue",
          "Topless",
          "Trimmed",
          "Very",
          "Wet",
          "Wide",
          "Hips",
          "Thighs",
          "Wrestling"
         ]
        },
        "yaxis": {
         "anchor": "x",
         "domain": [
          0.0,
          1.0
         ],
         "title": {
          "text": "Occurrences"
         }
        },
        "legend": {
         "title": {
          "text": "Word"
         },
         "tracegroupgap": 0,
         "itemsizing": "constant"
        },
        "title": {
         "text": "Bubble Plot of Word Occurrences"
        }
       },
       "config": {
        "plotlyServerURL": "https://plot.ly"
       }
      },
      "text/html": [
       "<div>                            <div id=\"7d1ee532-292b-4756-a88a-16e329347f02\" class=\"plotly-graph-div\" style=\"height:525px; width:100%;\"></div>            <script type=\"text/javascript\">                require([\"plotly\"], function(Plotly) {                    window.PLOTLYENV=window.PLOTLYENV || {};                                    if (document.getElementById(\"7d1ee532-292b-4756-a88a-16e329347f02\")) {                    Plotly.newPlot(                        \"7d1ee532-292b-4756-a88a-16e329347f02\",                        [{\"hovertemplate\":\"\\u003cb\\u003e%{hovertext}\\u003c\\u002fb\\u003e\\u003cbr\\u003e\\u003cbr\\u003eWord=%{x}\\u003cbr\\u003eOccurrences=%{marker.size}\\u003cextra\\u003e\\u003c\\u002fextra\\u003e\",\"hovertext\":[\"69\"],\"legendgroup\":\"69\",\"marker\":{\"color\":\"#636efa\",\"size\":[1],\"sizemode\":\"area\",\"sizeref\":0.03638888888888889,\"symbol\":\"circle\"},\"mode\":\"markers\",\"name\":\"69\",\"orientation\":\"v\",\"showlegend\":true,\"x\":[\"69\"],\"xaxis\":\"x\",\"y\":[1],\"yaxis\":\"y\",\"type\":\"scatter\"},{\"hovertemplate\":\"\\u003cb\\u003e%{hovertext}\\u003c\\u002fb\\u003e\\u003cbr\\u003e\\u003cbr\\u003eWord=%{x}\\u003cbr\\u003eOccurrences=%{marker.size}\\u003cextra\\u003e\\u003c\\u002fextra\\u003e\",\"hovertext\":[\"Ahegao\"],\"legendgroup\":\"Ahegao\",\"marker\":{\"color\":\"#EF553B\",\"size\":[1],\"sizemode\":\"area\",\"sizeref\":0.03638888888888889,\"symbol\":\"circle\"},\"mode\":\"markers\",\"name\":\"Ahegao\",\"orientation\":\"v\",\"showlegend\":true,\"x\":[\"Ahegao\"],\"xaxis\":\"x\",\"y\":[1],\"yaxis\":\"y\",\"type\":\"scatter\"},{\"hovertemplate\":\"\\u003cb\\u003e%{hovertext}\\u003c\\u002fb\\u003e\\u003cbr\\u003e\\u003cbr\\u003eWord=%{x}\\u003cbr\\u003eOccurrences=%{marker.size}\\u003cextra\\u003e\\u003c\\u002fextra\\u003e\",\"hovertext\":[\"Amateur\"],\"legendgroup\":\"Amateur\",\"marker\":{\"color\":\"#00cc96\",\"size\":[73],\"sizemode\":\"area\",\"sizeref\":0.03638888888888889,\"symbol\":\"circle\"},\"mode\":\"markers\",\"name\":\"Amateur\",\"orientation\":\"v\",\"showlegend\":true,\"x\":[\"Amateur\"],\"xaxis\":\"x\",\"y\":[73],\"yaxis\":\"y\",\"type\":\"scatter\"},{\"hovertemplate\":\"\\u003cb\\u003e%{hovertext}\\u003c\\u002fb\\u003e\\u003cbr\\u003e\\u003cbr\\u003eWord=%{x}\\u003cbr\\u003eOccurrences=%{marker.size}\\u003cextra\\u003e\\u003c\\u002fextra\\u003e\",\"hovertext\":[\"Upskirt\"],\"legendgroup\":\"Upskirt\",\"marker\":{\"color\":\"#ab63fa\",\"size\":[24],\"sizemode\":\"area\",\"sizeref\":0.03638888888888889,\"symbol\":\"circle\"},\"mode\":\"markers\",\"name\":\"Upskirt\",\"orientation\":\"v\",\"showlegend\":true,\"x\":[\"Upskirt\"],\"xaxis\":\"x\",\"y\":[24],\"yaxis\":\"y\",\"type\":\"scatter\"},{\"hovertemplate\":\"\\u003cb\\u003e%{hovertext}\\u003c\\u002fb\\u003e\\u003cbr\\u003e\\u003cbr\\u003eWord=%{x}\\u003cbr\\u003eOccurrences=%{marker.size}\\u003cextra\\u003e\\u003c\\u002fextra\\u003e\",\"hovertext\":[\"Anal\"],\"legendgroup\":\"Anal\",\"marker\":{\"color\":\"#FFA15A\",\"size\":[14],\"sizemode\":\"area\",\"sizeref\":0.03638888888888889,\"symbol\":\"circle\"},\"mode\":\"markers\",\"name\":\"Anal\",\"orientation\":\"v\",\"showlegend\":true,\"x\":[\"Anal\"],\"xaxis\":\"x\",\"y\":[14],\"yaxis\":\"y\",\"type\":\"scatter\"},{\"hovertemplate\":\"\\u003cb\\u003e%{hovertext}\\u003c\\u002fb\\u003e\\u003cbr\\u003e\\u003cbr\\u003eWord=%{x}\\u003cbr\\u003eOccurrences=%{marker.size}\\u003cextra\\u003e\\u003c\\u002fextra\\u003e\",\"hovertext\":[\"Ass\"],\"legendgroup\":\"Ass\",\"marker\":{\"color\":\"#19d3f3\",\"size\":[64],\"sizemode\":\"area\",\"sizeref\":0.03638888888888889,\"symbol\":\"circle\"},\"mode\":\"markers\",\"name\":\"Ass\",\"orientation\":\"v\",\"showlegend\":true,\"x\":[\"Ass\"],\"xaxis\":\"x\",\"y\":[64],\"yaxis\":\"y\",\"type\":\"scatter\"},{\"hovertemplate\":\"\\u003cb\\u003e%{hovertext}\\u003c\\u002fb\\u003e\\u003cbr\\u003e\\u003cbr\\u003eWord=%{x}\\u003cbr\\u003eOccurrences=%{marker.size}\\u003cextra\\u003e\\u003c\\u002fextra\\u003e\",\"hovertext\":[\"Bikini\"],\"legendgroup\":\"Bikini\",\"marker\":{\"color\":\"#FF6692\",\"size\":[10],\"sizemode\":\"area\",\"sizeref\":0.03638888888888889,\"symbol\":\"circle\"},\"mode\":\"markers\",\"name\":\"Bikini\",\"orientation\":\"v\",\"showlegend\":true,\"x\":[\"Bikini\"],\"xaxis\":\"x\",\"y\":[10],\"yaxis\":\"y\",\"type\":\"scatter\"},{\"hovertemplate\":\"\\u003cb\\u003e%{hovertext}\\u003c\\u002fb\\u003e\\u003cbr\\u003e\\u003cbr\\u003eWord=%{x}\\u003cbr\\u003eOccurrences=%{marker.size}\\u003cextra\\u003e\\u003c\\u002fextra\\u003e\",\"hovertext\":[\"Fuck\"],\"legendgroup\":\"Fuck\",\"marker\":{\"color\":\"#B6E880\",\"size\":[30],\"sizemode\":\"area\",\"sizeref\":0.03638888888888889,\"symbol\":\"circle\"},\"mode\":\"markers\",\"name\":\"Fuck\",\"orientation\":\"v\",\"showlegend\":true,\"x\":[\"Fuck\"],\"xaxis\":\"x\",\"y\":[30],\"yaxis\":\"y\",\"type\":\"scatter\"},{\"hovertemplate\":\"\\u003cb\\u003e%{hovertext}\\u003c\\u002fb\\u003e\\u003cbr\\u003e\\u003cbr\\u003eWord=%{x}\\u003cbr\\u003eOccurrences=%{marker.size}\\u003cextra\\u003e\\u003c\\u002fextra\\u003e\",\"hovertext\":[\"Granny\"],\"legendgroup\":\"Granny\",\"marker\":{\"color\":\"#FF97FF\",\"size\":[30],\"sizemode\":\"area\",\"sizeref\":0.03638888888888889,\"symbol\":\"circle\"},\"mode\":\"markers\",\"name\":\"Granny\",\"orientation\":\"v\",\"showlegend\":true,\"x\":[\"Granny\"],\"xaxis\":\"x\",\"y\":[30],\"yaxis\":\"y\",\"type\":\"scatter\"},{\"hovertemplate\":\"\\u003cb\\u003e%{hovertext}\\u003c\\u002fb\\u003e\\u003cbr\\u003e\\u003cbr\\u003eWord=%{x}\\u003cbr\\u003eOccurrences=%{marker.size}\\u003cextra\\u003e\\u003c\\u002fextra\\u003e\",\"hovertext\":[\"Hairy\"],\"legendgroup\":\"Hairy\",\"marker\":{\"color\":\"#FECB52\",\"size\":[39],\"sizemode\":\"area\",\"sizeref\":0.03638888888888889,\"symbol\":\"circle\"},\"mode\":\"markers\",\"name\":\"Hairy\",\"orientation\":\"v\",\"showlegend\":true,\"x\":[\"Hairy\"],\"xaxis\":\"x\",\"y\":[39],\"yaxis\":\"y\",\"type\":\"scatter\"},{\"hovertemplate\":\"\\u003cb\\u003e%{hovertext}\\u003c\\u002fb\\u003e\\u003cbr\\u003e\\u003cbr\\u003eWord=%{x}\\u003cbr\\u003eOccurrences=%{marker.size}\\u003cextra\\u003e\\u003c\\u002fextra\\u003e\",\"hovertext\":[\"Pussy\"],\"legendgroup\":\"Pussy\",\"marker\":{\"color\":\"#636efa\",\"size\":[63],\"sizemode\":\"area\",\"sizeref\":0.03638888888888889,\"symbol\":\"circle\"},\"mode\":\"markers\",\"name\":\"Pussy\",\"orientation\":\"v\",\"showlegend\":true,\"x\":[\"Pussy\"],\"xaxis\":\"x\",\"y\":[63],\"yaxis\":\"y\",\"type\":\"scatter\"},{\"hovertemplate\":\"\\u003cb\\u003e%{hovertext}\\u003c\\u002fb\\u003e\\u003cbr\\u003e\\u003cbr\\u003eWord=%{x}\\u003cbr\\u003eOccurrences=%{marker.size}\\u003cextra\\u003e\\u003c\\u002fextra\\u003e\",\"hovertext\":[\"Handjob\"],\"legendgroup\":\"Handjob\",\"marker\":{\"color\":\"#EF553B\",\"size\":[16],\"sizemode\":\"area\",\"sizeref\":0.03638888888888889,\"symbol\":\"circle\"},\"mode\":\"markers\",\"name\":\"Handjob\",\"orientation\":\"v\",\"showlegend\":true,\"x\":[\"Handjob\"],\"xaxis\":\"x\",\"y\":[16],\"yaxis\":\"y\",\"type\":\"scatter\"},{\"hovertemplate\":\"\\u003cb\\u003e%{hovertext}\\u003c\\u002fb\\u003e\\u003cbr\\u003e\\u003cbr\\u003eWord=%{x}\\u003cbr\\u003eOccurrences=%{marker.size}\\u003cextra\\u003e\\u003c\\u002fextra\\u003e\",\"hovertext\":[\"Homemade\"],\"legendgroup\":\"Homemade\",\"marker\":{\"color\":\"#00cc96\",\"size\":[13],\"sizemode\":\"area\",\"sizeref\":0.03638888888888889,\"symbol\":\"circle\"},\"mode\":\"markers\",\"name\":\"Homemade\",\"orientation\":\"v\",\"showlegend\":true,\"x\":[\"Homemade\"],\"xaxis\":\"x\",\"y\":[13],\"yaxis\":\"y\",\"type\":\"scatter\"},{\"hovertemplate\":\"\\u003cb\\u003e%{hovertext}\\u003c\\u002fb\\u003e\\u003cbr\\u003e\\u003cbr\\u003eWord=%{x}\\u003cbr\\u003eOccurrences=%{marker.size}\\u003cextra\\u003e\\u003c\\u002fextra\\u003e\",\"hovertext\":[\"Housewife\"],\"legendgroup\":\"Housewife\",\"marker\":{\"color\":\"#ab63fa\",\"size\":[7],\"sizemode\":\"area\",\"sizeref\":0.03638888888888889,\"symbol\":\"circle\"},\"mode\":\"markers\",\"name\":\"Housewife\",\"orientation\":\"v\",\"showlegend\":true,\"x\":[\"Housewife\"],\"xaxis\":\"x\",\"y\":[7],\"yaxis\":\"y\",\"type\":\"scatter\"},{\"hovertemplate\":\"\\u003cb\\u003e%{hovertext}\\u003c\\u002fb\\u003e\\u003cbr\\u003e\\u003cbr\\u003eWord=%{x}\\u003cbr\\u003eOccurrences=%{marker.size}\\u003cextra\\u003e\\u003c\\u002fextra\\u003e\",\"hovertext\":[\"Interracial\"],\"legendgroup\":\"Interracial\",\"marker\":{\"color\":\"#FFA15A\",\"size\":[4],\"sizemode\":\"area\",\"sizeref\":0.03638888888888889,\"symbol\":\"circle\"},\"mode\":\"markers\",\"name\":\"Interracial\",\"orientation\":\"v\",\"showlegend\":true,\"x\":[\"Interracial\"],\"xaxis\":\"x\",\"y\":[4],\"yaxis\":\"y\",\"type\":\"scatter\"},{\"hovertemplate\":\"\\u003cb\\u003e%{hovertext}\\u003c\\u002fb\\u003e\\u003cbr\\u003e\\u003cbr\\u003eWord=%{x}\\u003cbr\\u003eOccurrences=%{marker.size}\\u003cextra\\u003e\\u003c\\u002fextra\\u003e\",\"hovertext\":[\"Latina\"],\"legendgroup\":\"Latina\",\"marker\":{\"color\":\"#19d3f3\",\"size\":[10],\"sizemode\":\"area\",\"sizeref\":0.03638888888888889,\"symbol\":\"circle\"},\"mode\":\"markers\",\"name\":\"Latina\",\"orientation\":\"v\",\"showlegend\":true,\"x\":[\"Latina\"],\"xaxis\":\"x\",\"y\":[10],\"yaxis\":\"y\",\"type\":\"scatter\"},{\"hovertemplate\":\"\\u003cb\\u003e%{hovertext}\\u003c\\u002fb\\u003e\\u003cbr\\u003e\\u003cbr\\u003eWord=%{x}\\u003cbr\\u003eOccurrences=%{marker.size}\\u003cextra\\u003e\\u003c\\u002fextra\\u003e\",\"hovertext\":[\"Natural\"],\"legendgroup\":\"Natural\",\"marker\":{\"color\":\"#FF6692\",\"size\":[20],\"sizemode\":\"area\",\"sizeref\":0.03638888888888889,\"symbol\":\"circle\"},\"mode\":\"markers\",\"name\":\"Natural\",\"orientation\":\"v\",\"showlegend\":true,\"x\":[\"Natural\"],\"xaxis\":\"x\",\"y\":[20],\"yaxis\":\"y\",\"type\":\"scatter\"},{\"hovertemplate\":\"\\u003cb\\u003e%{hovertext}\\u003c\\u002fb\\u003e\\u003cbr\\u003e\\u003cbr\\u003eWord=%{x}\\u003cbr\\u003eOccurrences=%{marker.size}\\u003cextra\\u003e\\u003c\\u002fextra\\u003e\",\"hovertext\":[\"Tits\"],\"legendgroup\":\"Tits\",\"marker\":{\"color\":\"#B6E880\",\"size\":[131],\"sizemode\":\"area\",\"sizeref\":0.03638888888888889,\"symbol\":\"circle\"},\"mode\":\"markers\",\"name\":\"Tits\",\"orientation\":\"v\",\"showlegend\":true,\"x\":[\"Tits\"],\"xaxis\":\"x\",\"y\":[131],\"yaxis\":\"y\",\"type\":\"scatter\"},{\"hovertemplate\":\"\\u003cb\\u003e%{hovertext}\\u003c\\u002fb\\u003e\\u003cbr\\u003e\\u003cbr\\u003eWord=%{x}\\u003cbr\\u003eOccurrences=%{marker.size}\\u003cextra\\u003e\\u003c\\u002fextra\\u003e\",\"hovertext\":[\"Outdoor\"],\"legendgroup\":\"Outdoor\",\"marker\":{\"color\":\"#FF97FF\",\"size\":[4],\"sizemode\":\"area\",\"sizeref\":0.03638888888888889,\"symbol\":\"circle\"},\"mode\":\"markers\",\"name\":\"Outdoor\",\"orientation\":\"v\",\"showlegend\":true,\"x\":[\"Outdoor\"],\"xaxis\":\"x\",\"y\":[4],\"yaxis\":\"y\",\"type\":\"scatter\"},{\"hovertemplate\":\"\\u003cb\\u003e%{hovertext}\\u003c\\u002fb\\u003e\\u003cbr\\u003e\\u003cbr\\u003eWord=%{x}\\u003cbr\\u003eOccurrences=%{marker.size}\\u003cextra\\u003e\\u003c\\u002fextra\\u003e\",\"hovertext\":[\"Petite\"],\"legendgroup\":\"Petite\",\"marker\":{\"color\":\"#FECB52\",\"size\":[18],\"sizemode\":\"area\",\"sizeref\":0.03638888888888889,\"symbol\":\"circle\"},\"mode\":\"markers\",\"name\":\"Petite\",\"orientation\":\"v\",\"showlegend\":true,\"x\":[\"Petite\"],\"xaxis\":\"x\",\"y\":[18],\"yaxis\":\"y\",\"type\":\"scatter\"},{\"hovertemplate\":\"\\u003cb\\u003e%{hovertext}\\u003c\\u002fb\\u003e\\u003cbr\\u003e\\u003cbr\\u003eWord=%{x}\\u003cbr\\u003eOccurrences=%{marker.size}\\u003cextra\\u003e\\u003c\\u002fextra\\u003e\",\"hovertext\":[\"Selfie\"],\"legendgroup\":\"Selfie\",\"marker\":{\"color\":\"#636efa\",\"size\":[23],\"sizemode\":\"area\",\"sizeref\":0.03638888888888889,\"symbol\":\"circle\"},\"mode\":\"markers\",\"name\":\"Selfie\",\"orientation\":\"v\",\"showlegend\":true,\"x\":[\"Selfie\"],\"xaxis\":\"x\",\"y\":[23],\"yaxis\":\"y\",\"type\":\"scatter\"},{\"hovertemplate\":\"\\u003cb\\u003e%{hovertext}\\u003c\\u002fb\\u003e\\u003cbr\\u003e\\u003cbr\\u003eWord=%{x}\\u003cbr\\u003eOccurrences=%{marker.size}\\u003cextra\\u003e\\u003c\\u002fextra\\u003e\",\"hovertext\":[\"Small\"],\"legendgroup\":\"Small\",\"marker\":{\"color\":\"#EF553B\",\"size\":[12],\"sizemode\":\"area\",\"sizeref\":0.03638888888888889,\"symbol\":\"circle\"},\"mode\":\"markers\",\"name\":\"Small\",\"orientation\":\"v\",\"showlegend\":true,\"x\":[\"Small\"],\"xaxis\":\"x\",\"y\":[12],\"yaxis\":\"y\",\"type\":\"scatter\"},{\"hovertemplate\":\"\\u003cb\\u003e%{hovertext}\\u003c\\u002fb\\u003e\\u003cbr\\u003e\\u003cbr\\u003eWord=%{x}\\u003cbr\\u003eOccurrences=%{marker.size}\\u003cextra\\u003e\\u003c\\u002fextra\\u003e\",\"hovertext\":[\"Solo\"],\"legendgroup\":\"Solo\",\"marker\":{\"color\":\"#00cc96\",\"size\":[9],\"sizemode\":\"area\",\"sizeref\":0.03638888888888889,\"symbol\":\"circle\"},\"mode\":\"markers\",\"name\":\"Solo\",\"orientation\":\"v\",\"showlegend\":true,\"x\":[\"Solo\"],\"xaxis\":\"x\",\"y\":[9],\"yaxis\":\"y\",\"type\":\"scatter\"},{\"hovertemplate\":\"\\u003cb\\u003e%{hovertext}\\u003c\\u002fb\\u003e\\u003cbr\\u003e\\u003cbr\\u003eWord=%{x}\\u003cbr\\u003eOccurrences=%{marker.size}\\u003cextra\\u003e\\u003c\\u002fextra\\u003e\",\"hovertext\":[\"Spreading\"],\"legendgroup\":\"Spreading\",\"marker\":{\"color\":\"#ab63fa\",\"size\":[8],\"sizemode\":\"area\",\"sizeref\":0.03638888888888889,\"symbol\":\"circle\"},\"mode\":\"markers\",\"name\":\"Spreading\",\"orientation\":\"v\",\"showlegend\":true,\"x\":[\"Spreading\"],\"xaxis\":\"x\",\"y\":[8],\"yaxis\":\"y\",\"type\":\"scatter\"},{\"hovertemplate\":\"\\u003cb\\u003e%{hovertext}\\u003c\\u002fb\\u003e\\u003cbr\\u003e\\u003cbr\\u003eWord=%{x}\\u003cbr\\u003eOccurrences=%{marker.size}\\u003cextra\\u003e\\u003c\\u002fextra\\u003e\",\"hovertext\":[\"Stockings\"],\"legendgroup\":\"Stockings\",\"marker\":{\"color\":\"#FFA15A\",\"size\":[31],\"sizemode\":\"area\",\"sizeref\":0.03638888888888889,\"symbol\":\"circle\"},\"mode\":\"markers\",\"name\":\"Stockings\",\"orientation\":\"v\",\"showlegend\":true,\"x\":[\"Stockings\"],\"xaxis\":\"x\",\"y\":[31],\"yaxis\":\"y\",\"type\":\"scatter\"},{\"hovertemplate\":\"\\u003cb\\u003e%{hovertext}\\u003c\\u002fb\\u003e\\u003cbr\\u003e\\u003cbr\\u003eWord=%{x}\\u003cbr\\u003eOccurrences=%{marker.size}\\u003cextra\\u003e\\u003c\\u002fextra\\u003e\",\"hovertext\":[\"Teen\"],\"legendgroup\":\"Teen\",\"marker\":{\"color\":\"#19d3f3\",\"size\":[94],\"sizemode\":\"area\",\"sizeref\":0.03638888888888889,\"symbol\":\"circle\"},\"mode\":\"markers\",\"name\":\"Teen\",\"orientation\":\"v\",\"showlegend\":true,\"x\":[\"Teen\"],\"xaxis\":\"x\",\"y\":[94],\"yaxis\":\"y\",\"type\":\"scatter\"},{\"hovertemplate\":\"\\u003cb\\u003e%{hovertext}\\u003c\\u002fb\\u003e\\u003cbr\\u003e\\u003cbr\\u003eWord=%{x}\\u003cbr\\u003eOccurrences=%{marker.size}\\u003cextra\\u003e\\u003c\\u002fextra\\u003e\",\"hovertext\":[\"Undressing\"],\"legendgroup\":\"Undressing\",\"marker\":{\"color\":\"#FF6692\",\"size\":[5],\"sizemode\":\"area\",\"sizeref\":0.03638888888888889,\"symbol\":\"circle\"},\"mode\":\"markers\",\"name\":\"Undressing\",\"orientation\":\"v\",\"showlegend\":true,\"x\":[\"Undressing\"],\"xaxis\":\"x\",\"y\":[5],\"yaxis\":\"y\",\"type\":\"scatter\"},{\"hovertemplate\":\"\\u003cb\\u003e%{hovertext}\\u003c\\u002fb\\u003e\\u003cbr\\u003e\\u003cbr\\u003eWord=%{x}\\u003cbr\\u003eOccurrences=%{marker.size}\\u003cextra\\u003e\\u003c\\u002fextra\\u003e\",\"hovertext\":[\"Wife\"],\"legendgroup\":\"Wife\",\"marker\":{\"color\":\"#B6E880\",\"size\":[11],\"sizemode\":\"area\",\"sizeref\":0.03638888888888889,\"symbol\":\"circle\"},\"mode\":\"markers\",\"name\":\"Wife\",\"orientation\":\"v\",\"showlegend\":true,\"x\":[\"Wife\"],\"xaxis\":\"x\",\"y\":[11],\"yaxis\":\"y\",\"type\":\"scatter\"},{\"hovertemplate\":\"\\u003cb\\u003e%{hovertext}\\u003c\\u002fb\\u003e\\u003cbr\\u003e\\u003cbr\\u003eWord=%{x}\\u003cbr\\u003eOccurrences=%{marker.size}\\u003cextra\\u003e\\u003c\\u002fextra\\u003e\",\"hovertext\":[\"Yoga\"],\"legendgroup\":\"Yoga\",\"marker\":{\"color\":\"#FF97FF\",\"size\":[11],\"sizemode\":\"area\",\"sizeref\":0.03638888888888889,\"symbol\":\"circle\"},\"mode\":\"markers\",\"name\":\"Yoga\",\"orientation\":\"v\",\"showlegend\":true,\"x\":[\"Yoga\"],\"xaxis\":\"x\",\"y\":[11],\"yaxis\":\"y\",\"type\":\"scatter\"},{\"hovertemplate\":\"\\u003cb\\u003e%{hovertext}\\u003c\\u002fb\\u003e\\u003cbr\\u003e\\u003cbr\\u003eWord=%{x}\\u003cbr\\u003eOccurrences=%{marker.size}\\u003cextra\\u003e\\u003c\\u002fextra\\u003e\",\"hovertext\":[\"Pants\"],\"legendgroup\":\"Pants\",\"marker\":{\"color\":\"#FECB52\",\"size\":[11],\"sizemode\":\"area\",\"sizeref\":0.03638888888888889,\"symbol\":\"circle\"},\"mode\":\"markers\",\"name\":\"Pants\",\"orientation\":\"v\",\"showlegend\":true,\"x\":[\"Pants\"],\"xaxis\":\"x\",\"y\":[11],\"yaxis\":\"y\",\"type\":\"scatter\"},{\"hovertemplate\":\"\\u003cb\\u003e%{hovertext}\\u003c\\u002fb\\u003e\\u003cbr\\u003e\\u003cbr\\u003eWord=%{x}\\u003cbr\\u003eOccurrences=%{marker.size}\\u003cextra\\u003e\\u003c\\u002fextra\\u003e\",\"hovertext\":[\"American\"],\"legendgroup\":\"American\",\"marker\":{\"color\":\"#636efa\",\"size\":[2],\"sizemode\":\"area\",\"sizeref\":0.03638888888888889,\"symbol\":\"circle\"},\"mode\":\"markers\",\"name\":\"American\",\"orientation\":\"v\",\"showlegend\":true,\"x\":[\"American\"],\"xaxis\":\"x\",\"y\":[2],\"yaxis\":\"y\",\"type\":\"scatter\"},{\"hovertemplate\":\"\\u003cb\\u003e%{hovertext}\\u003c\\u002fb\\u003e\\u003cbr\\u003e\\u003cbr\\u003eWord=%{x}\\u003cbr\\u003eOccurrences=%{marker.size}\\u003cextra\\u003e\\u003c\\u002fextra\\u003e\",\"hovertext\":[\"Mature\"],\"legendgroup\":\"Mature\",\"marker\":{\"color\":\"#EF553B\",\"size\":[94],\"sizemode\":\"area\",\"sizeref\":0.03638888888888889,\"symbol\":\"circle\"},\"mode\":\"markers\",\"name\":\"Mature\",\"orientation\":\"v\",\"showlegend\":true,\"x\":[\"Mature\"],\"xaxis\":\"x\",\"y\":[94],\"yaxis\":\"y\",\"type\":\"scatter\"},{\"hovertemplate\":\"\\u003cb\\u003e%{hovertext}\\u003c\\u002fb\\u003e\\u003cbr\\u003e\\u003cbr\\u003eWord=%{x}\\u003cbr\\u003eOccurrences=%{marker.size}\\u003cextra\\u003e\\u003c\\u002fextra\\u003e\",\"hovertext\":[\"Threesome\"],\"legendgroup\":\"Threesome\",\"marker\":{\"color\":\"#00cc96\",\"size\":[7],\"sizemode\":\"area\",\"sizeref\":0.03638888888888889,\"symbol\":\"circle\"},\"mode\":\"markers\",\"name\":\"Threesome\",\"orientation\":\"v\",\"showlegend\":true,\"x\":[\"Threesome\"],\"xaxis\":\"x\",\"y\":[7],\"yaxis\":\"y\",\"type\":\"scatter\"},{\"hovertemplate\":\"\\u003cb\\u003e%{hovertext}\\u003c\\u002fb\\u003e\\u003cbr\\u003e\\u003cbr\\u003eWord=%{x}\\u003cbr\\u003eOccurrences=%{marker.size}\\u003cextra\\u003e\\u003c\\u002fextra\\u003e\",\"hovertext\":[\"Asian\"],\"legendgroup\":\"Asian\",\"marker\":{\"color\":\"#ab63fa\",\"size\":[23],\"sizemode\":\"area\",\"sizeref\":0.03638888888888889,\"symbol\":\"circle\"},\"mode\":\"markers\",\"name\":\"Asian\",\"orientation\":\"v\",\"showlegend\":true,\"x\":[\"Asian\"],\"xaxis\":\"x\",\"y\":[23],\"yaxis\":\"y\",\"type\":\"scatter\"},{\"hovertemplate\":\"\\u003cb\\u003e%{hovertext}\\u003c\\u002fb\\u003e\\u003cbr\\u003e\\u003cbr\\u003eWord=%{x}\\u003cbr\\u003eOccurrences=%{marker.size}\\u003cextra\\u003e\\u003c\\u002fextra\\u003e\",\"hovertext\":[\"Babe\"],\"legendgroup\":\"Babe\",\"marker\":{\"color\":\"#FFA15A\",\"size\":[9],\"sizemode\":\"area\",\"sizeref\":0.03638888888888889,\"symbol\":\"circle\"},\"mode\":\"markers\",\"name\":\"Babe\",\"orientation\":\"v\",\"showlegend\":true,\"x\":[\"Babe\"],\"xaxis\":\"x\",\"y\":[9],\"yaxis\":\"y\",\"type\":\"scatter\"},{\"hovertemplate\":\"\\u003cb\\u003e%{hovertext}\\u003c\\u002fb\\u003e\\u003cbr\\u003e\\u003cbr\\u003eWord=%{x}\\u003cbr\\u003eOccurrences=%{marker.size}\\u003cextra\\u003e\\u003c\\u002fextra\\u003e\",\"hovertext\":[\"Big\"],\"legendgroup\":\"Big\",\"marker\":{\"color\":\"#19d3f3\",\"size\":[108],\"sizemode\":\"area\",\"sizeref\":0.03638888888888889,\"symbol\":\"circle\"},\"mode\":\"markers\",\"name\":\"Big\",\"orientation\":\"v\",\"showlegend\":true,\"x\":[\"Big\"],\"xaxis\":\"x\",\"y\":[108],\"yaxis\":\"y\",\"type\":\"scatter\"},{\"hovertemplate\":\"\\u003cb\\u003e%{hovertext}\\u003c\\u002fb\\u003e\\u003cbr\\u003e\\u003cbr\\u003eWord=%{x}\\u003cbr\\u003eOccurrences=%{marker.size}\\u003cextra\\u003e\\u003c\\u002fextra\\u003e\",\"hovertext\":[\"Boots\"],\"legendgroup\":\"Boots\",\"marker\":{\"color\":\"#FF6692\",\"size\":[4],\"sizemode\":\"area\",\"sizeref\":0.03638888888888889,\"symbol\":\"circle\"},\"mode\":\"markers\",\"name\":\"Boots\",\"orientation\":\"v\",\"showlegend\":true,\"x\":[\"Boots\"],\"xaxis\":\"x\",\"y\":[4],\"yaxis\":\"y\",\"type\":\"scatter\"},{\"hovertemplate\":\"\\u003cb\\u003e%{hovertext}\\u003c\\u002fb\\u003e\\u003cbr\\u003e\\u003cbr\\u003eWord=%{x}\\u003cbr\\u003eOccurrences=%{marker.size}\\u003cextra\\u003e\\u003c\\u002fextra\\u003e\",\"hovertext\":[\"Fake\"],\"legendgroup\":\"Fake\",\"marker\":{\"color\":\"#B6E880\",\"size\":[2],\"sizemode\":\"area\",\"sizeref\":0.03638888888888889,\"symbol\":\"circle\"},\"mode\":\"markers\",\"name\":\"Fake\",\"orientation\":\"v\",\"showlegend\":true,\"x\":[\"Fake\"],\"xaxis\":\"x\",\"y\":[2],\"yaxis\":\"y\",\"type\":\"scatter\"},{\"hovertemplate\":\"\\u003cb\\u003e%{hovertext}\\u003c\\u002fb\\u003e\\u003cbr\\u003e\\u003cbr\\u003eWord=%{x}\\u003cbr\\u003eOccurrences=%{marker.size}\\u003cextra\\u003e\\u003c\\u002fextra\\u003e\",\"hovertext\":[\"Lingerie\"],\"legendgroup\":\"Lingerie\",\"marker\":{\"color\":\"#FF97FF\",\"size\":[29],\"sizemode\":\"area\",\"sizeref\":0.03638888888888889,\"symbol\":\"circle\"},\"mode\":\"markers\",\"name\":\"Lingerie\",\"orientation\":\"v\",\"showlegend\":true,\"x\":[\"Lingerie\"],\"xaxis\":\"x\",\"y\":[29],\"yaxis\":\"y\",\"type\":\"scatter\"},{\"hovertemplate\":\"\\u003cb\\u003e%{hovertext}\\u003c\\u002fb\\u003e\\u003cbr\\u003e\\u003cbr\\u003eWord=%{x}\\u003cbr\\u003eOccurrences=%{marker.size}\\u003cextra\\u003e\\u003c\\u002fextra\\u003e\",\"hovertext\":[\"Feet\"],\"legendgroup\":\"Feet\",\"marker\":{\"color\":\"#FECB52\",\"size\":[13],\"sizemode\":\"area\",\"sizeref\":0.03638888888888889,\"symbol\":\"circle\"},\"mode\":\"markers\",\"name\":\"Feet\",\"orientation\":\"v\",\"showlegend\":true,\"x\":[\"Feet\"],\"xaxis\":\"x\",\"y\":[13],\"yaxis\":\"y\",\"type\":\"scatter\"},{\"hovertemplate\":\"\\u003cb\\u003e%{hovertext}\\u003c\\u002fb\\u003e\\u003cbr\\u003e\\u003cbr\\u003eWord=%{x}\\u003cbr\\u003eOccurrences=%{marker.size}\\u003cextra\\u003e\\u003c\\u002fextra\\u003e\",\"hovertext\":[\"Shorts\"],\"legendgroup\":\"Shorts\",\"marker\":{\"color\":\"#636efa\",\"size\":[3],\"sizemode\":\"area\",\"sizeref\":0.03638888888888889,\"symbol\":\"circle\"},\"mode\":\"markers\",\"name\":\"Shorts\",\"orientation\":\"v\",\"showlegend\":true,\"x\":[\"Shorts\"],\"xaxis\":\"x\",\"y\":[3],\"yaxis\":\"y\",\"type\":\"scatter\"},{\"hovertemplate\":\"\\u003cb\\u003e%{hovertext}\\u003c\\u002fb\\u003e\\u003cbr\\u003e\\u003cbr\\u003eWord=%{x}\\u003cbr\\u003eOccurrences=%{marker.size}\\u003cextra\\u003e\\u003c\\u002fextra\\u003e\",\"hovertext\":[\"Spread\"],\"legendgroup\":\"Spread\",\"marker\":{\"color\":\"#EF553B\",\"size\":[12],\"sizemode\":\"area\",\"sizeref\":0.03638888888888889,\"symbol\":\"circle\"},\"mode\":\"markers\",\"name\":\"Spread\",\"orientation\":\"v\",\"showlegend\":true,\"x\":[\"Spread\"],\"xaxis\":\"x\",\"y\":[12],\"yaxis\":\"y\",\"type\":\"scatter\"},{\"hovertemplate\":\"\\u003cb\\u003e%{hovertext}\\u003c\\u002fb\\u003e\\u003cbr\\u003e\\u003cbr\\u003eWord=%{x}\\u003cbr\\u003eOccurrences=%{marker.size}\\u003cextra\\u003e\\u003c\\u002fextra\\u003e\",\"hovertext\":[\"Cup\"],\"legendgroup\":\"Cup\",\"marker\":{\"color\":\"#00cc96\",\"size\":[2],\"sizemode\":\"area\",\"sizeref\":0.03638888888888889,\"symbol\":\"circle\"},\"mode\":\"markers\",\"name\":\"Cup\",\"orientation\":\"v\",\"showlegend\":true,\"x\":[\"Cup\"],\"xaxis\":\"x\",\"y\":[2],\"yaxis\":\"y\",\"type\":\"scatter\"},{\"hovertemplate\":\"\\u003cb\\u003e%{hovertext}\\u003c\\u002fb\\u003e\\u003cbr\\u003e\\u003cbr\\u003eWord=%{x}\\u003cbr\\u003eOccurrences=%{marker.size}\\u003cextra\\u003e\\u003c\\u002fextra\\u003e\",\"hovertext\":[\"BBW\"],\"legendgroup\":\"BBW\",\"marker\":{\"color\":\"#ab63fa\",\"size\":[13],\"sizemode\":\"area\",\"sizeref\":0.03638888888888889,\"symbol\":\"circle\"},\"mode\":\"markers\",\"name\":\"BBW\",\"orientation\":\"v\",\"showlegend\":true,\"x\":[\"BBW\"],\"xaxis\":\"x\",\"y\":[13],\"yaxis\":\"y\",\"type\":\"scatter\"},{\"hovertemplate\":\"\\u003cb\\u003e%{hovertext}\\u003c\\u002fb\\u003e\\u003cbr\\u003e\\u003cbr\\u003eWord=%{x}\\u003cbr\\u003eOccurrences=%{marker.size}\\u003cextra\\u003e\\u003c\\u002fextra\\u003e\",\"hovertext\":[\"BDSM\"],\"legendgroup\":\"BDSM\",\"marker\":{\"color\":\"#FFA15A\",\"size\":[4],\"sizemode\":\"area\",\"sizeref\":0.03638888888888889,\"symbol\":\"circle\"},\"mode\":\"markers\",\"name\":\"BDSM\",\"orientation\":\"v\",\"showlegend\":true,\"x\":[\"BDSM\"],\"xaxis\":\"x\",\"y\":[4],\"yaxis\":\"y\",\"type\":\"scatter\"},{\"hovertemplate\":\"\\u003cb\\u003e%{hovertext}\\u003c\\u002fb\\u003e\\u003cbr\\u003e\\u003cbr\\u003eWord=%{x}\\u003cbr\\u003eOccurrences=%{marker.size}\\u003cextra\\u003e\\u003c\\u002fextra\\u003e\",\"hovertext\":[\"Banana\"],\"legendgroup\":\"Banana\",\"marker\":{\"color\":\"#19d3f3\",\"size\":[1],\"sizemode\":\"area\",\"sizeref\":0.03638888888888889,\"symbol\":\"circle\"},\"mode\":\"markers\",\"name\":\"Banana\",\"orientation\":\"v\",\"showlegend\":true,\"x\":[\"Banana\"],\"xaxis\":\"x\",\"y\":[1],\"yaxis\":\"y\",\"type\":\"scatter\"},{\"hovertemplate\":\"\\u003cb\\u003e%{hovertext}\\u003c\\u002fb\\u003e\\u003cbr\\u003e\\u003cbr\\u003eWord=%{x}\\u003cbr\\u003eOccurrences=%{marker.size}\\u003cextra\\u003e\\u003c\\u002fextra\\u003e\",\"hovertext\":[\"Beautiful\"],\"legendgroup\":\"Beautiful\",\"marker\":{\"color\":\"#FF6692\",\"size\":[21],\"sizemode\":\"area\",\"sizeref\":0.03638888888888889,\"symbol\":\"circle\"},\"mode\":\"markers\",\"name\":\"Beautiful\",\"orientation\":\"v\",\"showlegend\":true,\"x\":[\"Beautiful\"],\"xaxis\":\"x\",\"y\":[21],\"yaxis\":\"y\",\"type\":\"scatter\"},{\"hovertemplate\":\"\\u003cb\\u003e%{hovertext}\\u003c\\u002fb\\u003e\\u003cbr\\u003e\\u003cbr\\u003eWord=%{x}\\u003cbr\\u003eOccurrences=%{marker.size}\\u003cextra\\u003e\\u003c\\u002fextra\\u003e\",\"hovertext\":[\"Face\"],\"legendgroup\":\"Face\",\"marker\":{\"color\":\"#B6E880\",\"size\":[8],\"sizemode\":\"area\",\"sizeref\":0.03638888888888889,\"symbol\":\"circle\"},\"mode\":\"markers\",\"name\":\"Face\",\"orientation\":\"v\",\"showlegend\":true,\"x\":[\"Face\"],\"xaxis\":\"x\",\"y\":[8],\"yaxis\":\"y\",\"type\":\"scatter\"},{\"hovertemplate\":\"\\u003cb\\u003e%{hovertext}\\u003c\\u002fb\\u003e\\u003cbr\\u003e\\u003cbr\\u003eWord=%{x}\\u003cbr\\u003eOccurrences=%{marker.size}\\u003cextra\\u003e\\u003c\\u002fextra\\u003e\",\"hovertext\":[\"Russian\"],\"legendgroup\":\"Russian\",\"marker\":{\"color\":\"#FF97FF\",\"size\":[4],\"sizemode\":\"area\",\"sizeref\":0.03638888888888889,\"symbol\":\"circle\"},\"mode\":\"markers\",\"name\":\"Russian\",\"orientation\":\"v\",\"showlegend\":true,\"x\":[\"Russian\"],\"xaxis\":\"x\",\"y\":[4],\"yaxis\":\"y\",\"type\":\"scatter\"},{\"hovertemplate\":\"\\u003cb\\u003e%{hovertext}\\u003c\\u002fb\\u003e\\u003cbr\\u003e\\u003cbr\\u003eWord=%{x}\\u003cbr\\u003eOccurrences=%{marker.size}\\u003cextra\\u003e\\u003c\\u002fextra\\u003e\",\"hovertext\":[\"Bent\"],\"legendgroup\":\"Bent\",\"marker\":{\"color\":\"#FECB52\",\"size\":[8],\"sizemode\":\"area\",\"sizeref\":0.03638888888888889,\"symbol\":\"circle\"},\"mode\":\"markers\",\"name\":\"Bent\",\"orientation\":\"v\",\"showlegend\":true,\"x\":[\"Bent\"],\"xaxis\":\"x\",\"y\":[8],\"yaxis\":\"y\",\"type\":\"scatter\"},{\"hovertemplate\":\"\\u003cb\\u003e%{hovertext}\\u003c\\u002fb\\u003e\\u003cbr\\u003e\\u003cbr\\u003eWord=%{x}\\u003cbr\\u003eOccurrences=%{marker.size}\\u003cextra\\u003e\\u003c\\u002fextra\\u003e\",\"hovertext\":[\"Over\"],\"legendgroup\":\"Over\",\"marker\":{\"color\":\"#636efa\",\"size\":[16],\"sizemode\":\"area\",\"sizeref\":0.03638888888888889,\"symbol\":\"circle\"},\"mode\":\"markers\",\"name\":\"Over\",\"orientation\":\"v\",\"showlegend\":true,\"x\":[\"Over\"],\"xaxis\":\"x\",\"y\":[16],\"yaxis\":\"y\",\"type\":\"scatter\"},{\"hovertemplate\":\"\\u003cb\\u003e%{hovertext}\\u003c\\u002fb\\u003e\\u003cbr\\u003e\\u003cbr\\u003eWord=%{x}\\u003cbr\\u003eOccurrences=%{marker.size}\\u003cextra\\u003e\\u003c\\u002fextra\\u003e\",\"hovertext\":[\"Panties\"],\"legendgroup\":\"Panties\",\"marker\":{\"color\":\"#EF553B\",\"size\":[23],\"sizemode\":\"area\",\"sizeref\":0.03638888888888889,\"symbol\":\"circle\"},\"mode\":\"markers\",\"name\":\"Panties\",\"orientation\":\"v\",\"showlegend\":true,\"x\":[\"Panties\"],\"xaxis\":\"x\",\"y\":[23],\"yaxis\":\"y\",\"type\":\"scatter\"},{\"hovertemplate\":\"\\u003cb\\u003e%{hovertext}\\u003c\\u002fb\\u003e\\u003cbr\\u003e\\u003cbr\\u003eWord=%{x}\\u003cbr\\u003eOccurrences=%{marker.size}\\u003cextra\\u003e\\u003c\\u002fextra\\u003e\",\"hovertext\":[\"Skirt\"],\"legendgroup\":\"Skirt\",\"marker\":{\"color\":\"#00cc96\",\"size\":[13],\"sizemode\":\"area\",\"sizeref\":0.03638888888888889,\"symbol\":\"circle\"},\"mode\":\"markers\",\"name\":\"Skirt\",\"orientation\":\"v\",\"showlegend\":true,\"x\":[\"Skirt\"],\"xaxis\":\"x\",\"y\":[13],\"yaxis\":\"y\",\"type\":\"scatter\"},{\"hovertemplate\":\"\\u003cb\\u003e%{hovertext}\\u003c\\u002fb\\u003e\\u003cbr\\u003e\\u003cbr\\u003eWord=%{x}\\u003cbr\\u003eOccurrences=%{marker.size}\\u003cextra\\u003e\\u003c\\u002fextra\\u003e\",\"hovertext\":[\"Areolas\"],\"legendgroup\":\"Areolas\",\"marker\":{\"color\":\"#ab63fa\",\"size\":[1],\"sizemode\":\"area\",\"sizeref\":0.03638888888888889,\"symbol\":\"circle\"},\"mode\":\"markers\",\"name\":\"Areolas\",\"orientation\":\"v\",\"showlegend\":true,\"x\":[\"Areolas\"],\"xaxis\":\"x\",\"y\":[1],\"yaxis\":\"y\",\"type\":\"scatter\"},{\"hovertemplate\":\"\\u003cb\\u003e%{hovertext}\\u003c\\u002fb\\u003e\\u003cbr\\u003e\\u003cbr\\u003eWord=%{x}\\u003cbr\\u003eOccurrences=%{marker.size}\\u003cextra\\u003e\\u003c\\u002fextra\\u003e\",\"hovertext\":[\"Masturbation\"],\"legendgroup\":\"Masturbation\",\"marker\":{\"color\":\"#FFA15A\",\"size\":[5],\"sizemode\":\"area\",\"sizeref\":0.03638888888888889,\"symbol\":\"circle\"},\"mode\":\"markers\",\"name\":\"Masturbation\",\"orientation\":\"v\",\"showlegend\":true,\"x\":[\"Masturbation\"],\"xaxis\":\"x\",\"y\":[5],\"yaxis\":\"y\",\"type\":\"scatter\"},{\"hovertemplate\":\"\\u003cb\\u003e%{hovertext}\\u003c\\u002fb\\u003e\\u003cbr\\u003e\\u003cbr\\u003eWord=%{x}\\u003cbr\\u003eOccurrences=%{marker.size}\\u003cextra\\u003e\\u003c\\u002fextra\\u003e\",\"hovertext\":[\"Doggystyle\"],\"legendgroup\":\"Doggystyle\",\"marker\":{\"color\":\"#19d3f3\",\"size\":[2],\"sizemode\":\"area\",\"sizeref\":0.03638888888888889,\"symbol\":\"circle\"},\"mode\":\"markers\",\"name\":\"Doggystyle\",\"orientation\":\"v\",\"showlegend\":true,\"x\":[\"Doggystyle\"],\"xaxis\":\"x\",\"y\":[2],\"yaxis\":\"y\",\"type\":\"scatter\"},{\"hovertemplate\":\"\\u003cb\\u003e%{hovertext}\\u003c\\u002fb\\u003e\\u003cbr\\u003e\\u003cbr\\u003eWord=%{x}\\u003cbr\\u003eOccurrences=%{marker.size}\\u003cextra\\u003e\\u003c\\u002fextra\\u003e\",\"hovertext\":[\"Mom\"],\"legendgroup\":\"Mom\",\"marker\":{\"color\":\"#FF6692\",\"size\":[6],\"sizemode\":\"area\",\"sizeref\":0.03638888888888889,\"symbol\":\"circle\"},\"mode\":\"markers\",\"name\":\"Mom\",\"orientation\":\"v\",\"showlegend\":true,\"x\":[\"Mom\"],\"xaxis\":\"x\",\"y\":[6],\"yaxis\":\"y\",\"type\":\"scatter\"},{\"hovertemplate\":\"\\u003cb\\u003e%{hovertext}\\u003c\\u002fb\\u003e\\u003cbr\\u003e\\u003cbr\\u003eWord=%{x}\\u003cbr\\u003eOccurrences=%{marker.size}\\u003cextra\\u003e\\u003c\\u002fextra\\u003e\",\"hovertext\":[\"Cock\"],\"legendgroup\":\"Cock\",\"marker\":{\"color\":\"#B6E880\",\"size\":[6],\"sizemode\":\"area\",\"sizeref\":0.03638888888888889,\"symbol\":\"circle\"},\"mode\":\"markers\",\"name\":\"Cock\",\"orientation\":\"v\",\"showlegend\":true,\"x\":[\"Cock\"],\"xaxis\":\"x\",\"y\":[6],\"yaxis\":\"y\",\"type\":\"scatter\"},{\"hovertemplate\":\"\\u003cb\\u003e%{hovertext}\\u003c\\u002fb\\u003e\\u003cbr\\u003e\\u003cbr\\u003eWord=%{x}\\u003cbr\\u003eOccurrences=%{marker.size}\\u003cextra\\u003e\\u003c\\u002fextra\\u003e\",\"hovertext\":[\"Blowjob\"],\"legendgroup\":\"Blowjob\",\"marker\":{\"color\":\"#FF97FF\",\"size\":[17],\"sizemode\":\"area\",\"sizeref\":0.03638888888888889,\"symbol\":\"circle\"},\"mode\":\"markers\",\"name\":\"Blowjob\",\"orientation\":\"v\",\"showlegend\":true,\"x\":[\"Blowjob\"],\"xaxis\":\"x\",\"y\":[17],\"yaxis\":\"y\",\"type\":\"scatter\"},{\"hovertemplate\":\"\\u003cb\\u003e%{hovertext}\\u003c\\u002fb\\u003e\\u003cbr\\u003e\\u003cbr\\u003eWord=%{x}\\u003cbr\\u003eOccurrences=%{marker.size}\\u003cextra\\u003e\\u003c\\u002fextra\\u003e\",\"hovertext\":[\"Dick\"],\"legendgroup\":\"Dick\",\"marker\":{\"color\":\"#FECB52\",\"size\":[4],\"sizemode\":\"area\",\"sizeref\":0.03638888888888889,\"symbol\":\"circle\"},\"mode\":\"markers\",\"name\":\"Dick\",\"orientation\":\"v\",\"showlegend\":true,\"x\":[\"Dick\"],\"xaxis\":\"x\",\"y\":[4],\"yaxis\":\"y\",\"type\":\"scatter\"},{\"hovertemplate\":\"\\u003cb\\u003e%{hovertext}\\u003c\\u002fb\\u003e\\u003cbr\\u003e\\u003cbr\\u003eWord=%{x}\\u003cbr\\u003eOccurrences=%{marker.size}\\u003cextra\\u003e\\u003c\\u002fextra\\u003e\",\"hovertext\":[\"Fat\"],\"legendgroup\":\"Fat\",\"marker\":{\"color\":\"#636efa\",\"size\":[6],\"sizemode\":\"area\",\"sizeref\":0.03638888888888889,\"symbol\":\"circle\"},\"mode\":\"markers\",\"name\":\"Fat\",\"orientation\":\"v\",\"showlegend\":true,\"x\":[\"Fat\"],\"xaxis\":\"x\",\"y\":[6],\"yaxis\":\"y\",\"type\":\"scatter\"},{\"hovertemplate\":\"\\u003cb\\u003e%{hovertext}\\u003c\\u002fb\\u003e\\u003cbr\\u003e\\u003cbr\\u003eWord=%{x}\\u003cbr\\u003eOccurrences=%{marker.size}\\u003cextra\\u003e\\u003c\\u002fextra\\u003e\",\"hovertext\":[\"Pierced\"],\"legendgroup\":\"Pierced\",\"marker\":{\"color\":\"#EF553B\",\"size\":[6],\"sizemode\":\"area\",\"sizeref\":0.03638888888888889,\"symbol\":\"circle\"},\"mode\":\"markers\",\"name\":\"Pierced\",\"orientation\":\"v\",\"showlegend\":true,\"x\":[\"Pierced\"],\"xaxis\":\"x\",\"y\":[6],\"yaxis\":\"y\",\"type\":\"scatter\"},{\"hovertemplate\":\"\\u003cb\\u003e%{hovertext}\\u003c\\u002fb\\u003e\\u003cbr\\u003e\\u003cbr\\u003eWord=%{x}\\u003cbr\\u003eOccurrences=%{marker.size}\\u003cextra\\u003e\\u003c\\u002fextra\\u003e\",\"hovertext\":[\"Saggy\"],\"legendgroup\":\"Saggy\",\"marker\":{\"color\":\"#00cc96\",\"size\":[9],\"sizemode\":\"area\",\"sizeref\":0.03638888888888889,\"symbol\":\"circle\"},\"mode\":\"markers\",\"name\":\"Saggy\",\"orientation\":\"v\",\"showlegend\":true,\"x\":[\"Saggy\"],\"xaxis\":\"x\",\"y\":[9],\"yaxis\":\"y\",\"type\":\"scatter\"},{\"hovertemplate\":\"\\u003cb\\u003e%{hovertext}\\u003c\\u002fb\\u003e\\u003cbr\\u003e\\u003cbr\\u003eWord=%{x}\\u003cbr\\u003eOccurrences=%{marker.size}\\u003cextra\\u003e\\u003c\\u002fextra\\u003e\",\"hovertext\":[\"Brunette\"],\"legendgroup\":\"Brunette\",\"marker\":{\"color\":\"#ab63fa\",\"size\":[16],\"sizemode\":\"area\",\"sizeref\":0.03638888888888889,\"symbol\":\"circle\"},\"mode\":\"markers\",\"name\":\"Brunette\",\"orientation\":\"v\",\"showlegend\":true,\"x\":[\"Brunette\"],\"xaxis\":\"x\",\"y\":[16],\"yaxis\":\"y\",\"type\":\"scatter\"},{\"hovertemplate\":\"\\u003cb\\u003e%{hovertext}\\u003c\\u002fb\\u003e\\u003cbr\\u003e\\u003cbr\\u003eWord=%{x}\\u003cbr\\u003eOccurrences=%{marker.size}\\u003cextra\\u003e\\u003c\\u002fextra\\u003e\",\"hovertext\":[\"Glasses\"],\"legendgroup\":\"Glasses\",\"marker\":{\"color\":\"#FFA15A\",\"size\":[8],\"sizemode\":\"area\",\"sizeref\":0.03638888888888889,\"symbol\":\"circle\"},\"mode\":\"markers\",\"name\":\"Glasses\",\"orientation\":\"v\",\"showlegend\":true,\"x\":[\"Glasses\"],\"xaxis\":\"x\",\"y\":[8],\"yaxis\":\"y\",\"type\":\"scatter\"},{\"hovertemplate\":\"\\u003cb\\u003e%{hovertext}\\u003c\\u002fb\\u003e\\u003cbr\\u003e\\u003cbr\\u003eWord=%{x}\\u003cbr\\u003eOccurrences=%{marker.size}\\u003cextra\\u003e\\u003c\\u002fextra\\u003e\",\"hovertext\":[\"Hardcore\"],\"legendgroup\":\"Hardcore\",\"marker\":{\"color\":\"#19d3f3\",\"size\":[2],\"sizemode\":\"area\",\"sizeref\":0.03638888888888889,\"symbol\":\"circle\"},\"mode\":\"markers\",\"name\":\"Hardcore\",\"orientation\":\"v\",\"showlegend\":true,\"x\":[\"Hardcore\"],\"xaxis\":\"x\",\"y\":[2],\"yaxis\":\"y\",\"type\":\"scatter\"},{\"hovertemplate\":\"\\u003cb\\u003e%{hovertext}\\u003c\\u002fb\\u003e\\u003cbr\\u003e\\u003cbr\\u003eWord=%{x}\\u003cbr\\u003eOccurrences=%{marker.size}\\u003cextra\\u003e\\u003c\\u002fextra\\u003e\",\"hovertext\":[\"Nipples\"],\"legendgroup\":\"Nipples\",\"marker\":{\"color\":\"#FF6692\",\"size\":[10],\"sizemode\":\"area\",\"sizeref\":0.03638888888888889,\"symbol\":\"circle\"},\"mode\":\"markers\",\"name\":\"Nipples\",\"orientation\":\"v\",\"showlegend\":true,\"x\":[\"Nipples\"],\"xaxis\":\"x\",\"y\":[10],\"yaxis\":\"y\",\"type\":\"scatter\"},{\"hovertemplate\":\"\\u003cb\\u003e%{hovertext}\\u003c\\u002fb\\u003e\\u003cbr\\u003e\\u003cbr\\u003eWord=%{x}\\u003cbr\\u003eOccurrences=%{marker.size}\\u003cextra\\u003e\\u003c\\u002fextra\\u003e\",\"hovertext\":[\"Nurse\"],\"legendgroup\":\"Nurse\",\"marker\":{\"color\":\"#B6E880\",\"size\":[4],\"sizemode\":\"area\",\"sizeref\":0.03638888888888889,\"symbol\":\"circle\"},\"mode\":\"markers\",\"name\":\"Nurse\",\"orientation\":\"v\",\"showlegend\":true,\"x\":[\"Nurse\"],\"xaxis\":\"x\",\"y\":[4],\"yaxis\":\"y\",\"type\":\"scatter\"},{\"hovertemplate\":\"\\u003cb\\u003e%{hovertext}\\u003c\\u002fb\\u003e\\u003cbr\\u003e\\u003cbr\\u003eWord=%{x}\\u003cbr\\u003eOccurrences=%{marker.size}\\u003cextra\\u003e\\u003c\\u002fextra\\u003e\",\"hovertext\":[\"Pornstar\"],\"legendgroup\":\"Pornstar\",\"marker\":{\"color\":\"#FF97FF\",\"size\":[4],\"sizemode\":\"area\",\"sizeref\":0.03638888888888889,\"symbol\":\"circle\"},\"mode\":\"markers\",\"name\":\"Pornstar\",\"orientation\":\"v\",\"showlegend\":true,\"x\":[\"Pornstar\"],\"xaxis\":\"x\",\"y\":[4],\"yaxis\":\"y\",\"type\":\"scatter\"},{\"hovertemplate\":\"\\u003cb\\u003e%{hovertext}\\u003c\\u002fb\\u003e\\u003cbr\\u003e\\u003cbr\\u003eWord=%{x}\\u003cbr\\u003eOccurrences=%{marker.size}\\u003cextra\\u003e\\u003c\\u002fextra\\u003e\",\"hovertext\":[\"Riding\"],\"legendgroup\":\"Riding\",\"marker\":{\"color\":\"#FECB52\",\"size\":[2],\"sizemode\":\"area\",\"sizeref\":0.03638888888888889,\"symbol\":\"circle\"},\"mode\":\"markers\",\"name\":\"Riding\",\"orientation\":\"v\",\"showlegend\":true,\"x\":[\"Riding\"],\"xaxis\":\"x\",\"y\":[2],\"yaxis\":\"y\",\"type\":\"scatter\"},{\"hovertemplate\":\"\\u003cb\\u003e%{hovertext}\\u003c\\u002fb\\u003e\\u003cbr\\u003e\\u003cbr\\u003eWord=%{x}\\u003cbr\\u003eOccurrences=%{marker.size}\\u003cextra\\u003e\\u003c\\u002fextra\\u003e\",\"hovertext\":[\"Secretary\"],\"legendgroup\":\"Secretary\",\"marker\":{\"color\":\"#636efa\",\"size\":[20],\"sizemode\":\"area\",\"sizeref\":0.03638888888888889,\"symbol\":\"circle\"},\"mode\":\"markers\",\"name\":\"Secretary\",\"orientation\":\"v\",\"showlegend\":true,\"x\":[\"Secretary\"],\"xaxis\":\"x\",\"y\":[20],\"yaxis\":\"y\",\"type\":\"scatter\"},{\"hovertemplate\":\"\\u003cb\\u003e%{hovertext}\\u003c\\u002fb\\u003e\\u003cbr\\u003e\\u003cbr\\u003eWord=%{x}\\u003cbr\\u003eOccurrences=%{marker.size}\\u003cextra\\u003e\\u003c\\u002fextra\\u003e\",\"hovertext\":[\"Shower\"],\"legendgroup\":\"Shower\",\"marker\":{\"color\":\"#EF553B\",\"size\":[1],\"sizemode\":\"area\",\"sizeref\":0.03638888888888889,\"symbol\":\"circle\"},\"mode\":\"markers\",\"name\":\"Shower\",\"orientation\":\"v\",\"showlegend\":true,\"x\":[\"Shower\"],\"xaxis\":\"x\",\"y\":[1],\"yaxis\":\"y\",\"type\":\"scatter\"},{\"hovertemplate\":\"\\u003cb\\u003e%{hovertext}\\u003c\\u002fb\\u003e\\u003cbr\\u003e\\u003cbr\\u003eWord=%{x}\\u003cbr\\u003eOccurrences=%{marker.size}\\u003cextra\\u003e\\u003c\\u002fextra\\u003e\",\"hovertext\":[\"Tattoo\"],\"legendgroup\":\"Tattoo\",\"marker\":{\"color\":\"#00cc96\",\"size\":[1],\"sizemode\":\"area\",\"sizeref\":0.03638888888888889,\"symbol\":\"circle\"},\"mode\":\"markers\",\"name\":\"Tattoo\",\"orientation\":\"v\",\"showlegend\":true,\"x\":[\"Tattoo\"],\"xaxis\":\"x\",\"y\":[1],\"yaxis\":\"y\",\"type\":\"scatter\"},{\"hovertemplate\":\"\\u003cb\\u003e%{hovertext}\\u003c\\u002fb\\u003e\\u003cbr\\u003e\\u003cbr\\u003eWord=%{x}\\u003cbr\\u003eOccurrences=%{marker.size}\\u003cextra\\u003e\\u003c\\u002fextra\\u003e\",\"hovertext\":[\"Titfuck\"],\"legendgroup\":\"Titfuck\",\"marker\":{\"color\":\"#ab63fa\",\"size\":[1],\"sizemode\":\"area\",\"sizeref\":0.03638888888888889,\"symbol\":\"circle\"},\"mode\":\"markers\",\"name\":\"Titfuck\",\"orientation\":\"v\",\"showlegend\":true,\"x\":[\"Titfuck\"],\"xaxis\":\"x\",\"y\":[1],\"yaxis\":\"y\",\"type\":\"scatter\"},{\"hovertemplate\":\"\\u003cb\\u003e%{hovertext}\\u003c\\u002fb\\u003e\\u003cbr\\u003e\\u003cbr\\u003eWord=%{x}\\u003cbr\\u003eOccurrences=%{marker.size}\\u003cextra\\u003e\\u003c\\u002fextra\\u003e\",\"hovertext\":[\"Model\"],\"legendgroup\":\"Model\",\"marker\":{\"color\":\"#FFA15A\",\"size\":[4],\"sizemode\":\"area\",\"sizeref\":0.03638888888888889,\"symbol\":\"circle\"},\"mode\":\"markers\",\"name\":\"Model\",\"orientation\":\"v\",\"showlegend\":true,\"x\":[\"Model\"],\"xaxis\":\"x\",\"y\":[4],\"yaxis\":\"y\",\"type\":\"scatter\"},{\"hovertemplate\":\"\\u003cb\\u003e%{hovertext}\\u003c\\u002fb\\u003e\\u003cbr\\u003e\\u003cbr\\u003eWord=%{x}\\u003cbr\\u003eOccurrences=%{marker.size}\\u003cextra\\u003e\\u003c\\u002fextra\\u003e\",\"hovertext\":[\"Blonde\"],\"legendgroup\":\"Blonde\",\"marker\":{\"color\":\"#19d3f3\",\"size\":[19],\"sizemode\":\"area\",\"sizeref\":0.03638888888888889,\"symbol\":\"circle\"},\"mode\":\"markers\",\"name\":\"Blonde\",\"orientation\":\"v\",\"showlegend\":true,\"x\":[\"Blonde\"],\"xaxis\":\"x\",\"y\":[19],\"yaxis\":\"y\",\"type\":\"scatter\"},{\"hovertemplate\":\"\\u003cb\\u003e%{hovertext}\\u003c\\u002fb\\u003e\\u003cbr\\u003e\\u003cbr\\u003eWord=%{x}\\u003cbr\\u003eOccurrences=%{marker.size}\\u003cextra\\u003e\\u003c\\u002fextra\\u003e\",\"hovertext\":[\"Cum\"],\"legendgroup\":\"Cum\",\"marker\":{\"color\":\"#FF6692\",\"size\":[15],\"sizemode\":\"area\",\"sizeref\":0.03638888888888889,\"symbol\":\"circle\"},\"mode\":\"markers\",\"name\":\"Cum\",\"orientation\":\"v\",\"showlegend\":true,\"x\":[\"Cum\"],\"xaxis\":\"x\",\"y\":[15],\"yaxis\":\"y\",\"type\":\"scatter\"},{\"hovertemplate\":\"\\u003cb\\u003e%{hovertext}\\u003c\\u002fb\\u003e\\u003cbr\\u003e\\u003cbr\\u003eWord=%{x}\\u003cbr\\u003eOccurrences=%{marker.size}\\u003cextra\\u003e\\u003c\\u002fextra\\u003e\",\"hovertext\":[\"Boobs\"],\"legendgroup\":\"Boobs\",\"marker\":{\"color\":\"#B6E880\",\"size\":[6],\"sizemode\":\"area\",\"sizeref\":0.03638888888888889,\"symbol\":\"circle\"},\"mode\":\"markers\",\"name\":\"Boobs\",\"orientation\":\"v\",\"showlegend\":true,\"x\":[\"Boobs\"],\"xaxis\":\"x\",\"y\":[6],\"yaxis\":\"y\",\"type\":\"scatter\"},{\"hovertemplate\":\"\\u003cb\\u003e%{hovertext}\\u003c\\u002fb\\u003e\\u003cbr\\u003e\\u003cbr\\u003eWord=%{x}\\u003cbr\\u003eOccurrences=%{marker.size}\\u003cextra\\u003e\\u003c\\u002fextra\\u003e\",\"hovertext\":[\"Booty\"],\"legendgroup\":\"Booty\",\"marker\":{\"color\":\"#FF97FF\",\"size\":[1],\"sizemode\":\"area\",\"sizeref\":0.03638888888888889,\"symbol\":\"circle\"},\"mode\":\"markers\",\"name\":\"Booty\",\"orientation\":\"v\",\"showlegend\":true,\"x\":[\"Booty\"],\"xaxis\":\"x\",\"y\":[1],\"yaxis\":\"y\",\"type\":\"scatter\"},{\"hovertemplate\":\"\\u003cb\\u003e%{hovertext}\\u003c\\u002fb\\u003e\\u003cbr\\u003e\\u003cbr\\u003eWord=%{x}\\u003cbr\\u003eOccurrences=%{marker.size}\\u003cextra\\u003e\\u003c\\u002fextra\\u003e\",\"hovertext\":[\"Boss\"],\"legendgroup\":\"Boss\",\"marker\":{\"color\":\"#FECB52\",\"size\":[2],\"sizemode\":\"area\",\"sizeref\":0.03638888888888889,\"symbol\":\"circle\"},\"mode\":\"markers\",\"name\":\"Boss\",\"orientation\":\"v\",\"showlegend\":true,\"x\":[\"Boss\"],\"xaxis\":\"x\",\"y\":[2],\"yaxis\":\"y\",\"type\":\"scatter\"},{\"hovertemplate\":\"\\u003cb\\u003e%{hovertext}\\u003c\\u002fb\\u003e\\u003cbr\\u003e\\u003cbr\\u003eWord=%{x}\\u003cbr\\u003eOccurrences=%{marker.size}\\u003cextra\\u003e\\u003c\\u002fextra\\u003e\",\"hovertext\":[\"Bra\"],\"legendgroup\":\"Bra\",\"marker\":{\"color\":\"#636efa\",\"size\":[2],\"sizemode\":\"area\",\"sizeref\":0.03638888888888889,\"symbol\":\"circle\"},\"mode\":\"markers\",\"name\":\"Bra\",\"orientation\":\"v\",\"showlegend\":true,\"x\":[\"Bra\"],\"xaxis\":\"x\",\"y\":[2],\"yaxis\":\"y\",\"type\":\"scatter\"},{\"hovertemplate\":\"\\u003cb\\u003e%{hovertext}\\u003c\\u002fb\\u003e\\u003cbr\\u003e\\u003cbr\\u003eWord=%{x}\\u003cbr\\u003eOccurrences=%{marker.size}\\u003cextra\\u003e\\u003c\\u002fextra\\u003e\",\"hovertext\":[\"Brazilian\"],\"legendgroup\":\"Brazilian\",\"marker\":{\"color\":\"#EF553B\",\"size\":[1],\"sizemode\":\"area\",\"sizeref\":0.03638888888888889,\"symbol\":\"circle\"},\"mode\":\"markers\",\"name\":\"Brazilian\",\"orientation\":\"v\",\"showlegend\":true,\"x\":[\"Brazilian\"],\"xaxis\":\"x\",\"y\":[1],\"yaxis\":\"y\",\"type\":\"scatter\"},{\"hovertemplate\":\"\\u003cb\\u003e%{hovertext}\\u003c\\u002fb\\u003e\\u003cbr\\u003e\\u003cbr\\u003eWord=%{x}\\u003cbr\\u003eOccurrences=%{marker.size}\\u003cextra\\u003e\\u003c\\u002fextra\\u003e\",\"hovertext\":[\"Bride\"],\"legendgroup\":\"Bride\",\"marker\":{\"color\":\"#00cc96\",\"size\":[1],\"sizemode\":\"area\",\"sizeref\":0.03638888888888889,\"symbol\":\"circle\"},\"mode\":\"markers\",\"name\":\"Bride\",\"orientation\":\"v\",\"showlegend\":true,\"x\":[\"Bride\"],\"xaxis\":\"x\",\"y\":[1],\"yaxis\":\"y\",\"type\":\"scatter\"},{\"hovertemplate\":\"\\u003cb\\u003e%{hovertext}\\u003c\\u002fb\\u003e\\u003cbr\\u003e\\u003cbr\\u003eWord=%{x}\\u003cbr\\u003eOccurrences=%{marker.size}\\u003cextra\\u003e\\u003c\\u002fextra\\u003e\",\"hovertext\":[\"British\"],\"legendgroup\":\"British\",\"marker\":{\"color\":\"#ab63fa\",\"size\":[7],\"sizemode\":\"area\",\"sizeref\":0.03638888888888889,\"symbol\":\"circle\"},\"mode\":\"markers\",\"name\":\"British\",\"orientation\":\"v\",\"showlegend\":true,\"x\":[\"British\"],\"xaxis\":\"x\",\"y\":[7],\"yaxis\":\"y\",\"type\":\"scatter\"},{\"hovertemplate\":\"\\u003cb\\u003e%{hovertext}\\u003c\\u002fb\\u003e\\u003cbr\\u003e\\u003cbr\\u003eWord=%{x}\\u003cbr\\u003eOccurrences=%{marker.size}\\u003cextra\\u003e\\u003c\\u002fextra\\u003e\",\"hovertext\":[\"Bubble\"],\"legendgroup\":\"Bubble\",\"marker\":{\"color\":\"#FFA15A\",\"size\":[1],\"sizemode\":\"area\",\"sizeref\":0.03638888888888889,\"symbol\":\"circle\"},\"mode\":\"markers\",\"name\":\"Bubble\",\"orientation\":\"v\",\"showlegend\":true,\"x\":[\"Bubble\"],\"xaxis\":\"x\",\"y\":[1],\"yaxis\":\"y\",\"type\":\"scatter\"},{\"hovertemplate\":\"\\u003cb\\u003e%{hovertext}\\u003c\\u002fb\\u003e\\u003cbr\\u003e\\u003cbr\\u003eWord=%{x}\\u003cbr\\u003eOccurrences=%{marker.size}\\u003cextra\\u003e\\u003c\\u002fextra\\u003e\",\"hovertext\":[\"Butt\"],\"legendgroup\":\"Butt\",\"marker\":{\"color\":\"#19d3f3\",\"size\":[2],\"sizemode\":\"area\",\"sizeref\":0.03638888888888889,\"symbol\":\"circle\"},\"mode\":\"markers\",\"name\":\"Butt\",\"orientation\":\"v\",\"showlegend\":true,\"x\":[\"Butt\"],\"xaxis\":\"x\",\"y\":[2],\"yaxis\":\"y\",\"type\":\"scatter\"},{\"hovertemplate\":\"\\u003cb\\u003e%{hovertext}\\u003c\\u002fb\\u003e\\u003cbr\\u003e\\u003cbr\\u003eWord=%{x}\\u003cbr\\u003eOccurrences=%{marker.size}\\u003cextra\\u003e\\u003c\\u002fextra\\u003e\",\"hovertext\":[\"Busty\"],\"legendgroup\":\"Busty\",\"marker\":{\"color\":\"#FF6692\",\"size\":[15],\"sizemode\":\"area\",\"sizeref\":0.03638888888888889,\"symbol\":\"circle\"},\"mode\":\"markers\",\"name\":\"Busty\",\"orientation\":\"v\",\"showlegend\":true,\"x\":[\"Busty\"],\"xaxis\":\"x\",\"y\":[15],\"yaxis\":\"y\",\"type\":\"scatter\"},{\"hovertemplate\":\"\\u003cb\\u003e%{hovertext}\\u003c\\u002fb\\u003e\\u003cbr\\u003e\\u003cbr\\u003eWord=%{x}\\u003cbr\\u003eOccurrences=%{marker.size}\\u003cextra\\u003e\\u003c\\u002fextra\\u003e\",\"hovertext\":[\"CFNM\"],\"legendgroup\":\"CFNM\",\"marker\":{\"color\":\"#B6E880\",\"size\":[1],\"sizemode\":\"area\",\"sizeref\":0.03638888888888889,\"symbol\":\"circle\"},\"mode\":\"markers\",\"name\":\"CFNM\",\"orientation\":\"v\",\"showlegend\":true,\"x\":[\"CFNM\"],\"xaxis\":\"x\",\"y\":[1],\"yaxis\":\"y\",\"type\":\"scatter\"},{\"hovertemplate\":\"\\u003cb\\u003e%{hovertext}\\u003c\\u002fb\\u003e\\u003cbr\\u003e\\u003cbr\\u003eWord=%{x}\\u003cbr\\u003eOccurrences=%{marker.size}\\u003cextra\\u003e\\u003c\\u002fextra\\u003e\",\"hovertext\":[\"Car\"],\"legendgroup\":\"Car\",\"marker\":{\"color\":\"#FF97FF\",\"size\":[1],\"sizemode\":\"area\",\"sizeref\":0.03638888888888889,\"symbol\":\"circle\"},\"mode\":\"markers\",\"name\":\"Car\",\"orientation\":\"v\",\"showlegend\":true,\"x\":[\"Car\"],\"xaxis\":\"x\",\"y\":[1],\"yaxis\":\"y\",\"type\":\"scatter\"},{\"hovertemplate\":\"\\u003cb\\u003e%{hovertext}\\u003c\\u002fb\\u003e\\u003cbr\\u003e\\u003cbr\\u003eWord=%{x}\\u003cbr\\u003eOccurrences=%{marker.size}\\u003cextra\\u003e\\u003c\\u002fextra\\u003e\",\"hovertext\":[\"Centerfold\"],\"legendgroup\":\"Centerfold\",\"marker\":{\"color\":\"#FECB52\",\"size\":[1],\"sizemode\":\"area\",\"sizeref\":0.03638888888888889,\"symbol\":\"circle\"},\"mode\":\"markers\",\"name\":\"Centerfold\",\"orientation\":\"v\",\"showlegend\":true,\"x\":[\"Centerfold\"],\"xaxis\":\"x\",\"y\":[1],\"yaxis\":\"y\",\"type\":\"scatter\"},{\"hovertemplate\":\"\\u003cb\\u003e%{hovertext}\\u003c\\u002fb\\u003e\\u003cbr\\u003e\\u003cbr\\u003eWord=%{x}\\u003cbr\\u003eOccurrences=%{marker.size}\\u003cextra\\u003e\\u003c\\u002fextra\\u003e\",\"hovertext\":[\"Chubby\"],\"legendgroup\":\"Chubby\",\"marker\":{\"color\":\"#636efa\",\"size\":[38],\"sizemode\":\"area\",\"sizeref\":0.03638888888888889,\"symbol\":\"circle\"},\"mode\":\"markers\",\"name\":\"Chubby\",\"orientation\":\"v\",\"showlegend\":true,\"x\":[\"Chubby\"],\"xaxis\":\"x\",\"y\":[38],\"yaxis\":\"y\",\"type\":\"scatter\"},{\"hovertemplate\":\"\\u003cb\\u003e%{hovertext}\\u003c\\u002fb\\u003e\\u003cbr\\u003e\\u003cbr\\u003eWord=%{x}\\u003cbr\\u003eOccurrences=%{marker.size}\\u003cextra\\u003e\\u003c\\u002fextra\\u003e\",\"hovertext\":[\"Asshole\"],\"legendgroup\":\"Asshole\",\"marker\":{\"color\":\"#EF553B\",\"size\":[3],\"sizemode\":\"area\",\"sizeref\":0.03638888888888889,\"symbol\":\"circle\"},\"mode\":\"markers\",\"name\":\"Asshole\",\"orientation\":\"v\",\"showlegend\":true,\"x\":[\"Asshole\"],\"xaxis\":\"x\",\"y\":[3],\"yaxis\":\"y\",\"type\":\"scatter\"},{\"hovertemplate\":\"\\u003cb\\u003e%{hovertext}\\u003c\\u002fb\\u003e\\u003cbr\\u003e\\u003cbr\\u003eWord=%{x}\\u003cbr\\u003eOccurrences=%{marker.size}\\u003cextra\\u003e\\u003c\\u002fextra\\u003e\",\"hovertext\":[\"Legs\"],\"legendgroup\":\"Legs\",\"marker\":{\"color\":\"#00cc96\",\"size\":[9],\"sizemode\":\"area\",\"sizeref\":0.03638888888888889,\"symbol\":\"circle\"},\"mode\":\"markers\",\"name\":\"Legs\",\"orientation\":\"v\",\"showlegend\":true,\"x\":[\"Legs\"],\"xaxis\":\"x\",\"y\":[9],\"yaxis\":\"y\",\"type\":\"scatter\"},{\"hovertemplate\":\"\\u003cb\\u003e%{hovertext}\\u003c\\u002fb\\u003e\\u003cbr\\u003e\\u003cbr\\u003eWord=%{x}\\u003cbr\\u003eOccurrences=%{marker.size}\\u003cextra\\u003e\\u003c\\u002fextra\\u003e\",\"hovertext\":[\"Lesbian\"],\"legendgroup\":\"Lesbian\",\"marker\":{\"color\":\"#ab63fa\",\"size\":[11],\"sizemode\":\"area\",\"sizeref\":0.03638888888888889,\"symbol\":\"circle\"},\"mode\":\"markers\",\"name\":\"Lesbian\",\"orientation\":\"v\",\"showlegend\":true,\"x\":[\"Lesbian\"],\"xaxis\":\"x\",\"y\":[11],\"yaxis\":\"y\",\"type\":\"scatter\"},{\"hovertemplate\":\"\\u003cb\\u003e%{hovertext}\\u003c\\u002fb\\u003e\\u003cbr\\u003e\\u003cbr\\u003eWord=%{x}\\u003cbr\\u003eOccurrences=%{marker.size}\\u003cextra\\u003e\\u003c\\u002fextra\\u003e\",\"hovertext\":[\"Nerd\"],\"legendgroup\":\"Nerd\",\"marker\":{\"color\":\"#FFA15A\",\"size\":[4],\"sizemode\":\"area\",\"sizeref\":0.03638888888888889,\"symbol\":\"circle\"},\"mode\":\"markers\",\"name\":\"Nerd\",\"orientation\":\"v\",\"showlegend\":true,\"x\":[\"Nerd\"],\"xaxis\":\"x\",\"y\":[4],\"yaxis\":\"y\",\"type\":\"scatter\"},{\"hovertemplate\":\"\\u003cb\\u003e%{hovertext}\\u003c\\u002fb\\u003e\\u003cbr\\u003e\\u003cbr\\u003eWord=%{x}\\u003cbr\\u003eOccurrences=%{marker.size}\\u003cextra\\u003e\\u003c\\u002fextra\\u003e\",\"hovertext\":[\"Redhead\"],\"legendgroup\":\"Redhead\",\"marker\":{\"color\":\"#19d3f3\",\"size\":[15],\"sizemode\":\"area\",\"sizeref\":0.03638888888888889,\"symbol\":\"circle\"},\"mode\":\"markers\",\"name\":\"Redhead\",\"orientation\":\"v\",\"showlegend\":true,\"x\":[\"Redhead\"],\"xaxis\":\"x\",\"y\":[15],\"yaxis\":\"y\",\"type\":\"scatter\"},{\"hovertemplate\":\"\\u003cb\\u003e%{hovertext}\\u003c\\u002fb\\u003e\\u003cbr\\u003e\\u003cbr\\u003eWord=%{x}\\u003cbr\\u003eOccurrences=%{marker.size}\\u003cextra\\u003e\\u003c\\u002fextra\\u003e\",\"hovertext\":[\"Close\"],\"legendgroup\":\"Close\",\"marker\":{\"color\":\"#FF6692\",\"size\":[6],\"sizemode\":\"area\",\"sizeref\":0.03638888888888889,\"symbol\":\"circle\"},\"mode\":\"markers\",\"name\":\"Close\",\"orientation\":\"v\",\"showlegend\":true,\"x\":[\"Close\"],\"xaxis\":\"x\",\"y\":[6],\"yaxis\":\"y\",\"type\":\"scatter\"},{\"hovertemplate\":\"\\u003cb\\u003e%{hovertext}\\u003c\\u002fb\\u003e\\u003cbr\\u003e\\u003cbr\\u003eWord=%{x}\\u003cbr\\u003eOccurrences=%{marker.size}\\u003cextra\\u003e\\u003c\\u002fextra\\u003e\",\"hovertext\":[\"Curvy\"],\"legendgroup\":\"Curvy\",\"marker\":{\"color\":\"#B6E880\",\"size\":[8],\"sizemode\":\"area\",\"sizeref\":0.03638888888888889,\"symbol\":\"circle\"},\"mode\":\"markers\",\"name\":\"Curvy\",\"orientation\":\"v\",\"showlegend\":true,\"x\":[\"Curvy\"],\"xaxis\":\"x\",\"y\":[8],\"yaxis\":\"y\",\"type\":\"scatter\"},{\"hovertemplate\":\"\\u003cb\\u003e%{hovertext}\\u003c\\u002fb\\u003e\\u003cbr\\u003e\\u003cbr\\u003eWord=%{x}\\u003cbr\\u003eOccurrences=%{marker.size}\\u003cextra\\u003e\\u003c\\u002fextra\\u003e\",\"hovertext\":[\"Cute\"],\"legendgroup\":\"Cute\",\"marker\":{\"color\":\"#FF97FF\",\"size\":[7],\"sizemode\":\"area\",\"sizeref\":0.03638888888888889,\"symbol\":\"circle\"},\"mode\":\"markers\",\"name\":\"Cute\",\"orientation\":\"v\",\"showlegend\":true,\"x\":[\"Cute\"],\"xaxis\":\"x\",\"y\":[7],\"yaxis\":\"y\",\"type\":\"scatter\"},{\"hovertemplate\":\"\\u003cb\\u003e%{hovertext}\\u003c\\u002fb\\u003e\\u003cbr\\u003e\\u003cbr\\u003eWord=%{x}\\u003cbr\\u003eOccurrences=%{marker.size}\\u003cextra\\u003e\\u003c\\u002fextra\\u003e\",\"hovertext\":[\"Czech\"],\"legendgroup\":\"Czech\",\"marker\":{\"color\":\"#FECB52\",\"size\":[2],\"sizemode\":\"area\",\"sizeref\":0.03638888888888889,\"symbol\":\"circle\"},\"mode\":\"markers\",\"name\":\"Czech\",\"orientation\":\"v\",\"showlegend\":true,\"x\":[\"Czech\"],\"xaxis\":\"x\",\"y\":[2],\"yaxis\":\"y\",\"type\":\"scatter\"},{\"hovertemplate\":\"\\u003cb\\u003e%{hovertext}\\u003c\\u002fb\\u003e\\u003cbr\\u003e\\u003cbr\\u003eWord=%{x}\\u003cbr\\u003eOccurrences=%{marker.size}\\u003cextra\\u003e\\u003c\\u002fextra\\u003e\",\"hovertext\":[\"DP\"],\"legendgroup\":\"DP\",\"marker\":{\"color\":\"#636efa\",\"size\":[1],\"sizemode\":\"area\",\"sizeref\":0.03638888888888889,\"symbol\":\"circle\"},\"mode\":\"markers\",\"name\":\"DP\",\"orientation\":\"v\",\"showlegend\":true,\"x\":[\"DP\"],\"xaxis\":\"x\",\"y\":[1],\"yaxis\":\"y\",\"type\":\"scatter\"},{\"hovertemplate\":\"\\u003cb\\u003e%{hovertext}\\u003c\\u002fb\\u003e\\u003cbr\\u003e\\u003cbr\\u003eWord=%{x}\\u003cbr\\u003eOccurrences=%{marker.size}\\u003cextra\\u003e\\u003c\\u002fextra\\u003e\",\"hovertext\":[\"Dildo\"],\"legendgroup\":\"Dildo\",\"marker\":{\"color\":\"#EF553B\",\"size\":[2],\"sizemode\":\"area\",\"sizeref\":0.03638888888888889,\"symbol\":\"circle\"},\"mode\":\"markers\",\"name\":\"Dildo\",\"orientation\":\"v\",\"showlegend\":true,\"x\":[\"Dildo\"],\"xaxis\":\"x\",\"y\":[2],\"yaxis\":\"y\",\"type\":\"scatter\"},{\"hovertemplate\":\"\\u003cb\\u003e%{hovertext}\\u003c\\u002fb\\u003e\\u003cbr\\u003e\\u003cbr\\u003eWord=%{x}\\u003cbr\\u003eOccurrences=%{marker.size}\\u003cextra\\u003e\\u003c\\u002fextra\\u003e\",\"hovertext\":[\"Downblouse\"],\"legendgroup\":\"Downblouse\",\"marker\":{\"color\":\"#00cc96\",\"size\":[1],\"sizemode\":\"area\",\"sizeref\":0.03638888888888889,\"symbol\":\"circle\"},\"mode\":\"markers\",\"name\":\"Downblouse\",\"orientation\":\"v\",\"showlegend\":true,\"x\":[\"Downblouse\"],\"xaxis\":\"x\",\"y\":[1],\"yaxis\":\"y\",\"type\":\"scatter\"},{\"hovertemplate\":\"\\u003cb\\u003e%{hovertext}\\u003c\\u002fb\\u003e\\u003cbr\\u003e\\u003cbr\\u003eWord=%{x}\\u003cbr\\u003eOccurrences=%{marker.size}\\u003cextra\\u003e\\u003c\\u002fextra\\u003e\",\"hovertext\":[\"Eating\"],\"legendgroup\":\"Eating\",\"marker\":{\"color\":\"#ab63fa\",\"size\":[2],\"sizemode\":\"area\",\"sizeref\":0.03638888888888889,\"symbol\":\"circle\"},\"mode\":\"markers\",\"name\":\"Eating\",\"orientation\":\"v\",\"showlegend\":true,\"x\":[\"Eating\"],\"xaxis\":\"x\",\"y\":[2],\"yaxis\":\"y\",\"type\":\"scatter\"},{\"hovertemplate\":\"\\u003cb\\u003e%{hovertext}\\u003c\\u002fb\\u003e\\u003cbr\\u003e\\u003cbr\\u003eWord=%{x}\\u003cbr\\u003eOccurrences=%{marker.size}\\u003cextra\\u003e\\u003c\\u002fextra\\u003e\",\"hovertext\":[\"Moms\"],\"legendgroup\":\"Moms\",\"marker\":{\"color\":\"#FFA15A\",\"size\":[1],\"sizemode\":\"area\",\"sizeref\":0.03638888888888889,\"symbol\":\"circle\"},\"mode\":\"markers\",\"name\":\"Moms\",\"orientation\":\"v\",\"showlegend\":true,\"x\":[\"Moms\"],\"xaxis\":\"x\",\"y\":[1],\"yaxis\":\"y\",\"type\":\"scatter\"},{\"hovertemplate\":\"\\u003cb\\u003e%{hovertext}\\u003c\\u002fb\\u003e\\u003cbr\\u003e\\u003cbr\\u003eWord=%{x}\\u003cbr\\u003eOccurrences=%{marker.size}\\u003cextra\\u003e\\u003c\\u002fextra\\u003e\",\"hovertext\":[\"Erect\"],\"legendgroup\":\"Erect\",\"marker\":{\"color\":\"#19d3f3\",\"size\":[2],\"sizemode\":\"area\",\"sizeref\":0.03638888888888889,\"symbol\":\"circle\"},\"mode\":\"markers\",\"name\":\"Erect\",\"orientation\":\"v\",\"showlegend\":true,\"x\":[\"Erect\"],\"xaxis\":\"x\",\"y\":[2],\"yaxis\":\"y\",\"type\":\"scatter\"},{\"hovertemplate\":\"\\u003cb\\u003e%{hovertext}\\u003c\\u002fb\\u003e\\u003cbr\\u003e\\u003cbr\\u003eWord=%{x}\\u003cbr\\u003eOccurrences=%{marker.size}\\u003cextra\\u003e\\u003c\\u002fextra\\u003e\",\"hovertext\":[\"Licking\"],\"legendgroup\":\"Licking\",\"marker\":{\"color\":\"#FF6692\",\"size\":[3],\"sizemode\":\"area\",\"sizeref\":0.03638888888888889,\"symbol\":\"circle\"},\"mode\":\"markers\",\"name\":\"Licking\",\"orientation\":\"v\",\"showlegend\":true,\"x\":[\"Licking\"],\"xaxis\":\"x\",\"y\":[3],\"yaxis\":\"y\",\"type\":\"scatter\"},{\"hovertemplate\":\"\\u003cb\\u003e%{hovertext}\\u003c\\u002fb\\u003e\\u003cbr\\u003e\\u003cbr\\u003eWord=%{x}\\u003cbr\\u003eOccurrences=%{marker.size}\\u003cextra\\u003e\\u003c\\u002fextra\\u003e\",\"hovertext\":[\"Tease\"],\"legendgroup\":\"Tease\",\"marker\":{\"color\":\"#B6E880\",\"size\":[1],\"sizemode\":\"area\",\"sizeref\":0.03638888888888889,\"symbol\":\"circle\"},\"mode\":\"markers\",\"name\":\"Tease\",\"orientation\":\"v\",\"showlegend\":true,\"x\":[\"Tease\"],\"xaxis\":\"x\",\"y\":[1],\"yaxis\":\"y\",\"type\":\"scatter\"},{\"hovertemplate\":\"\\u003cb\\u003e%{hovertext}\\u003c\\u002fb\\u003e\\u003cbr\\u003e\\u003cbr\\u003eWord=%{x}\\u003cbr\\u003eOccurrences=%{marker.size}\\u003cextra\\u003e\\u003c\\u002fextra\\u003e\",\"hovertext\":[\"Fit\"],\"legendgroup\":\"Fit\",\"marker\":{\"color\":\"#FF97FF\",\"size\":[1],\"sizemode\":\"area\",\"sizeref\":0.03638888888888889,\"symbol\":\"circle\"},\"mode\":\"markers\",\"name\":\"Fit\",\"orientation\":\"v\",\"showlegend\":true,\"x\":[\"Fit\"],\"xaxis\":\"x\",\"y\":[1],\"yaxis\":\"y\",\"type\":\"scatter\"},{\"hovertemplate\":\"\\u003cb\\u003e%{hovertext}\\u003c\\u002fb\\u003e\\u003cbr\\u003e\\u003cbr\\u003eWord=%{x}\\u003cbr\\u003eOccurrences=%{marker.size}\\u003cextra\\u003e\\u003c\\u002fextra\\u003e\",\"hovertext\":[\"Fitness\"],\"legendgroup\":\"Fitness\",\"marker\":{\"color\":\"#FECB52\",\"size\":[6],\"sizemode\":\"area\",\"sizeref\":0.03638888888888889,\"symbol\":\"circle\"},\"mode\":\"markers\",\"name\":\"Fitness\",\"orientation\":\"v\",\"showlegend\":true,\"x\":[\"Fitness\"],\"xaxis\":\"x\",\"y\":[6],\"yaxis\":\"y\",\"type\":\"scatter\"},{\"hovertemplate\":\"\\u003cb\\u003e%{hovertext}\\u003c\\u002fb\\u003e\\u003cbr\\u003e\\u003cbr\\u003eWord=%{x}\\u003cbr\\u003eOccurrences=%{marker.size}\\u003cextra\\u003e\\u003c\\u002fextra\\u003e\",\"hovertext\":[\"Body\"],\"legendgroup\":\"Body\",\"marker\":{\"color\":\"#636efa\",\"size\":[6],\"sizemode\":\"area\",\"sizeref\":0.03638888888888889,\"symbol\":\"circle\"},\"mode\":\"markers\",\"name\":\"Body\",\"orientation\":\"v\",\"showlegend\":true,\"x\":[\"Body\"],\"xaxis\":\"x\",\"y\":[6],\"yaxis\":\"y\",\"type\":\"scatter\"},{\"hovertemplate\":\"\\u003cb\\u003e%{hovertext}\\u003c\\u002fb\\u003e\\u003cbr\\u003e\\u003cbr\\u003eWord=%{x}\\u003cbr\\u003eOccurrences=%{marker.size}\\u003cextra\\u003e\\u003c\\u002fextra\\u003e\",\"hovertext\":[\"Sex\"],\"legendgroup\":\"Sex\",\"marker\":{\"color\":\"#EF553B\",\"size\":[3],\"sizemode\":\"area\",\"sizeref\":0.03638888888888889,\"symbol\":\"circle\"},\"mode\":\"markers\",\"name\":\"Sex\",\"orientation\":\"v\",\"showlegend\":true,\"x\":[\"Sex\"],\"xaxis\":\"x\",\"y\":[3],\"yaxis\":\"y\",\"type\":\"scatter\"},{\"hovertemplate\":\"\\u003cb\\u003e%{hovertext}\\u003c\\u002fb\\u003e\\u003cbr\\u003e\\u003cbr\\u003eWord=%{x}\\u003cbr\\u003eOccurrences=%{marker.size}\\u003cextra\\u003e\\u003c\\u002fextra\\u003e\",\"hovertext\":[\"Flat\"],\"legendgroup\":\"Flat\",\"marker\":{\"color\":\"#00cc96\",\"size\":[4],\"sizemode\":\"area\",\"sizeref\":0.03638888888888889,\"symbol\":\"circle\"},\"mode\":\"markers\",\"name\":\"Flat\",\"orientation\":\"v\",\"showlegend\":true,\"x\":[\"Flat\"],\"xaxis\":\"x\",\"y\":[4],\"yaxis\":\"y\",\"type\":\"scatter\"},{\"hovertemplate\":\"\\u003cb\\u003e%{hovertext}\\u003c\\u002fb\\u003e\\u003cbr\\u003e\\u003cbr\\u003eWord=%{x}\\u003cbr\\u003eOccurrences=%{marker.size}\\u003cextra\\u003e\\u003c\\u002fextra\\u003e\",\"hovertext\":[\"Chested\"],\"legendgroup\":\"Chested\",\"marker\":{\"color\":\"#ab63fa\",\"size\":[4],\"sizemode\":\"area\",\"sizeref\":0.03638888888888889,\"symbol\":\"circle\"},\"mode\":\"markers\",\"name\":\"Chested\",\"orientation\":\"v\",\"showlegend\":true,\"x\":[\"Chested\"],\"xaxis\":\"x\",\"y\":[4],\"yaxis\":\"y\",\"type\":\"scatter\"},{\"hovertemplate\":\"\\u003cb\\u003e%{hovertext}\\u003c\\u002fb\\u003e\\u003cbr\\u003e\\u003cbr\\u003eWord=%{x}\\u003cbr\\u003eOccurrences=%{marker.size}\\u003cextra\\u003e\\u003c\\u002fextra\\u003e\",\"hovertext\":[\"French\"],\"legendgroup\":\"French\",\"marker\":{\"color\":\"#FFA15A\",\"size\":[3],\"sizemode\":\"area\",\"sizeref\":0.03638888888888889,\"symbol\":\"circle\"},\"mode\":\"markers\",\"name\":\"French\",\"orientation\":\"v\",\"showlegend\":true,\"x\":[\"French\"],\"xaxis\":\"x\",\"y\":[3],\"yaxis\":\"y\",\"type\":\"scatter\"},{\"hovertemplate\":\"\\u003cb\\u003e%{hovertext}\\u003c\\u002fb\\u003e\\u003cbr\\u003e\\u003cbr\\u003eWord=%{x}\\u003cbr\\u003eOccurrences=%{marker.size}\\u003cextra\\u003e\\u003c\\u002fextra\\u003e\",\"hovertext\":[\"Maid\"],\"legendgroup\":\"Maid\",\"marker\":{\"color\":\"#19d3f3\",\"size\":[5],\"sizemode\":\"area\",\"sizeref\":0.03638888888888889,\"symbol\":\"circle\"},\"mode\":\"markers\",\"name\":\"Maid\",\"orientation\":\"v\",\"showlegend\":true,\"x\":[\"Maid\"],\"xaxis\":\"x\",\"y\":[5],\"yaxis\":\"y\",\"type\":\"scatter\"},{\"hovertemplate\":\"\\u003cb\\u003e%{hovertext}\\u003c\\u002fb\\u003e\\u003cbr\\u003e\\u003cbr\\u003eWord=%{x}\\u003cbr\\u003eOccurrences=%{marker.size}\\u003cextra\\u003e\\u003c\\u002fextra\\u003e\",\"hovertext\":[\"From\"],\"legendgroup\":\"From\",\"marker\":{\"color\":\"#FF6692\",\"size\":[1],\"sizemode\":\"area\",\"sizeref\":0.03638888888888889,\"symbol\":\"circle\"},\"mode\":\"markers\",\"name\":\"From\",\"orientation\":\"v\",\"showlegend\":true,\"x\":[\"From\"],\"xaxis\":\"x\",\"y\":[1],\"yaxis\":\"y\",\"type\":\"scatter\"},{\"hovertemplate\":\"\\u003cb\\u003e%{hovertext}\\u003c\\u002fb\\u003e\\u003cbr\\u003e\\u003cbr\\u003eWord=%{x}\\u003cbr\\u003eOccurrences=%{marker.size}\\u003cextra\\u003e\\u003c\\u002fextra\\u003e\",\"hovertext\":[\"Behind\"],\"legendgroup\":\"Behind\",\"marker\":{\"color\":\"#B6E880\",\"size\":[1],\"sizemode\":\"area\",\"sizeref\":0.03638888888888889,\"symbol\":\"circle\"},\"mode\":\"markers\",\"name\":\"Behind\",\"orientation\":\"v\",\"showlegend\":true,\"x\":[\"Behind\"],\"xaxis\":\"x\",\"y\":[1],\"yaxis\":\"y\",\"type\":\"scatter\"},{\"hovertemplate\":\"\\u003cb\\u003e%{hovertext}\\u003c\\u002fb\\u003e\\u003cbr\\u003e\\u003cbr\\u003eWord=%{x}\\u003cbr\\u003eOccurrences=%{marker.size}\\u003cextra\\u003e\\u003c\\u002fextra\\u003e\",\"hovertext\":[\"GILF\"],\"legendgroup\":\"GILF\",\"marker\":{\"color\":\"#FF97FF\",\"size\":[1],\"sizemode\":\"area\",\"sizeref\":0.03638888888888889,\"symbol\":\"circle\"},\"mode\":\"markers\",\"name\":\"GILF\",\"orientation\":\"v\",\"showlegend\":true,\"x\":[\"GILF\"],\"xaxis\":\"x\",\"y\":[1],\"yaxis\":\"y\",\"type\":\"scatter\"},{\"hovertemplate\":\"\\u003cb\\u003e%{hovertext}\\u003c\\u002fb\\u003e\\u003cbr\\u003e\\u003cbr\\u003eWord=%{x}\\u003cbr\\u003eOccurrences=%{marker.size}\\u003cextra\\u003e\\u003c\\u002fextra\\u003e\",\"hovertext\":[\"Gloves\"],\"legendgroup\":\"Gloves\",\"marker\":{\"color\":\"#FECB52\",\"size\":[3],\"sizemode\":\"area\",\"sizeref\":0.03638888888888889,\"symbol\":\"circle\"},\"mode\":\"markers\",\"name\":\"Gloves\",\"orientation\":\"v\",\"showlegend\":true,\"x\":[\"Gloves\"],\"xaxis\":\"x\",\"y\":[3],\"yaxis\":\"y\",\"type\":\"scatter\"},{\"hovertemplate\":\"\\u003cb\\u003e%{hovertext}\\u003c\\u002fb\\u003e\\u003cbr\\u003e\\u003cbr\\u003eWord=%{x}\\u003cbr\\u003eOccurrences=%{marker.size}\\u003cextra\\u003e\\u003c\\u002fextra\\u003e\",\"hovertext\":[\"Grandma\"],\"legendgroup\":\"Grandma\",\"marker\":{\"color\":\"#636efa\",\"size\":[2],\"sizemode\":\"area\",\"sizeref\":0.03638888888888889,\"symbol\":\"circle\"},\"mode\":\"markers\",\"name\":\"Grandma\",\"orientation\":\"v\",\"showlegend\":true,\"x\":[\"Grandma\"],\"xaxis\":\"x\",\"y\":[2],\"yaxis\":\"y\",\"type\":\"scatter\"},{\"hovertemplate\":\"\\u003cb\\u003e%{hovertext}\\u003c\\u002fb\\u003e\\u003cbr\\u003e\\u003cbr\\u003eWord=%{x}\\u003cbr\\u003eOccurrences=%{marker.size}\\u003cextra\\u003e\\u003c\\u002fextra\\u003e\",\"hovertext\":[\"High\"],\"legendgroup\":\"High\",\"marker\":{\"color\":\"#EF553B\",\"size\":[11],\"sizemode\":\"area\",\"sizeref\":0.03638888888888889,\"symbol\":\"circle\"},\"mode\":\"markers\",\"name\":\"High\",\"orientation\":\"v\",\"showlegend\":true,\"x\":[\"High\"],\"xaxis\":\"x\",\"y\":[11],\"yaxis\":\"y\",\"type\":\"scatter\"},{\"hovertemplate\":\"\\u003cb\\u003e%{hovertext}\\u003c\\u002fb\\u003e\\u003cbr\\u003e\\u003cbr\\u003eWord=%{x}\\u003cbr\\u003eOccurrences=%{marker.size}\\u003cextra\\u003e\\u003c\\u002fextra\\u003e\",\"hovertext\":[\"Heels\"],\"legendgroup\":\"Heels\",\"marker\":{\"color\":\"#00cc96\",\"size\":[9],\"sizemode\":\"area\",\"sizeref\":0.03638888888888889,\"symbol\":\"circle\"},\"mode\":\"markers\",\"name\":\"Heels\",\"orientation\":\"v\",\"showlegend\":true,\"x\":[\"Heels\"],\"xaxis\":\"x\",\"y\":[9],\"yaxis\":\"y\",\"type\":\"scatter\"},{\"hovertemplate\":\"\\u003cb\\u003e%{hovertext}\\u003c\\u002fb\\u003e\\u003cbr\\u003e\\u003cbr\\u003eWord=%{x}\\u003cbr\\u003eOccurrences=%{marker.size}\\u003cextra\\u003e\\u003c\\u002fextra\\u003e\",\"hovertext\":[\"70\"],\"legendgroup\":\"70\",\"marker\":{\"color\":\"#ab63fa\",\"size\":[2],\"sizemode\":\"area\",\"sizeref\":0.03638888888888889,\"symbol\":\"circle\"},\"mode\":\"markers\",\"name\":\"70\",\"orientation\":\"v\",\"showlegend\":true,\"x\":[\"70\"],\"xaxis\":\"x\",\"y\":[2],\"yaxis\":\"y\",\"type\":\"scatter\"},{\"hovertemplate\":\"\\u003cb\\u003e%{hovertext}\\u003c\\u002fb\\u003e\\u003cbr\\u003e\\u003cbr\\u003eWord=%{x}\\u003cbr\\u003eOccurrences=%{marker.size}\\u003cextra\\u003e\\u003c\\u002fextra\\u003e\",\"hovertext\":[\"Group\"],\"legendgroup\":\"Group\",\"marker\":{\"color\":\"#FFA15A\",\"size\":[2],\"sizemode\":\"area\",\"sizeref\":0.03638888888888889,\"symbol\":\"circle\"},\"mode\":\"markers\",\"name\":\"Group\",\"orientation\":\"v\",\"showlegend\":true,\"x\":[\"Group\"],\"xaxis\":\"x\",\"y\":[2],\"yaxis\":\"y\",\"type\":\"scatter\"},{\"hovertemplate\":\"\\u003cb\\u003e%{hovertext}\\u003c\\u002fb\\u003e\\u003cbr\\u003e\\u003cbr\\u003eWord=%{x}\\u003cbr\\u003eOccurrences=%{marker.size}\\u003cextra\\u003e\\u003c\\u002fextra\\u003e\",\"hovertext\":[\"Cumshot\"],\"legendgroup\":\"Cumshot\",\"marker\":{\"color\":\"#19d3f3\",\"size\":[3],\"sizemode\":\"area\",\"sizeref\":0.03638888888888889,\"symbol\":\"circle\"},\"mode\":\"markers\",\"name\":\"Cumshot\",\"orientation\":\"v\",\"showlegend\":true,\"x\":[\"Cumshot\"],\"xaxis\":\"x\",\"y\":[3],\"yaxis\":\"y\",\"type\":\"scatter\"},{\"hovertemplate\":\"\\u003cb\\u003e%{hovertext}\\u003c\\u002fb\\u003e\\u003cbr\\u003e\\u003cbr\\u003eWord=%{x}\\u003cbr\\u003eOccurrences=%{marker.size}\\u003cextra\\u003e\\u003c\\u002fextra\\u003e\",\"hovertext\":[\"Gym\"],\"legendgroup\":\"Gym\",\"marker\":{\"color\":\"#FF6692\",\"size\":[1],\"sizemode\":\"area\",\"sizeref\":0.03638888888888889,\"symbol\":\"circle\"},\"mode\":\"markers\",\"name\":\"Gym\",\"orientation\":\"v\",\"showlegend\":true,\"x\":[\"Gym\"],\"xaxis\":\"x\",\"y\":[1],\"yaxis\":\"y\",\"type\":\"scatter\"},{\"hovertemplate\":\"\\u003cb\\u003e%{hovertext}\\u003c\\u002fb\\u003e\\u003cbr\\u003e\\u003cbr\\u003eWord=%{x}\\u003cbr\\u003eOccurrences=%{marker.size}\\u003cextra\\u003e\\u003c\\u002fextra\\u003e\",\"hovertext\":[\"Armpits\"],\"legendgroup\":\"Armpits\",\"marker\":{\"color\":\"#B6E880\",\"size\":[1],\"sizemode\":\"area\",\"sizeref\":0.03638888888888889,\"symbol\":\"circle\"},\"mode\":\"markers\",\"name\":\"Armpits\",\"orientation\":\"v\",\"showlegend\":true,\"x\":[\"Armpits\"],\"xaxis\":\"x\",\"y\":[1],\"yaxis\":\"y\",\"type\":\"scatter\"},{\"hovertemplate\":\"\\u003cb\\u003e%{hovertext}\\u003c\\u002fb\\u003e\\u003cbr\\u003e\\u003cbr\\u003eWord=%{x}\\u003cbr\\u003eOccurrences=%{marker.size}\\u003cextra\\u003e\\u003c\\u002fextra\\u003e\",\"hovertext\":[\"Vagina\"],\"legendgroup\":\"Vagina\",\"marker\":{\"color\":\"#FF97FF\",\"size\":[8],\"sizemode\":\"area\",\"sizeref\":0.03638888888888889,\"symbol\":\"circle\"},\"mode\":\"markers\",\"name\":\"Vagina\",\"orientation\":\"v\",\"showlegend\":true,\"x\":[\"Vagina\"],\"xaxis\":\"x\",\"y\":[8],\"yaxis\":\"y\",\"type\":\"scatter\"},{\"hovertemplate\":\"\\u003cb\\u003e%{hovertext}\\u003c\\u002fb\\u003e\\u003cbr\\u003e\\u003cbr\\u003eWord=%{x}\\u003cbr\\u003eOccurrences=%{marker.size}\\u003cextra\\u003e\\u003c\\u002fextra\\u003e\",\"hovertext\":[\"Hanging\"],\"legendgroup\":\"Hanging\",\"marker\":{\"color\":\"#FECB52\",\"size\":[1],\"sizemode\":\"area\",\"sizeref\":0.03638888888888889,\"symbol\":\"circle\"},\"mode\":\"markers\",\"name\":\"Hanging\",\"orientation\":\"v\",\"showlegend\":true,\"x\":[\"Hanging\"],\"xaxis\":\"x\",\"y\":[1],\"yaxis\":\"y\",\"type\":\"scatter\"},{\"hovertemplate\":\"\\u003cb\\u003e%{hovertext}\\u003c\\u002fb\\u003e\\u003cbr\\u003e\\u003cbr\\u003eWord=%{x}\\u003cbr\\u003eOccurrences=%{marker.size}\\u003cextra\\u003e\\u003c\\u002fextra\\u003e\",\"hovertext\":[\"Hard\"],\"legendgroup\":\"Hard\",\"marker\":{\"color\":\"#636efa\",\"size\":[1],\"sizemode\":\"area\",\"sizeref\":0.03638888888888889,\"symbol\":\"circle\"},\"mode\":\"markers\",\"name\":\"Hard\",\"orientation\":\"v\",\"showlegend\":true,\"x\":[\"Hard\"],\"xaxis\":\"x\",\"y\":[1],\"yaxis\":\"y\",\"type\":\"scatter\"},{\"hovertemplate\":\"\\u003cb\\u003e%{hovertext}\\u003c\\u002fb\\u003e\\u003cbr\\u003e\\u003cbr\\u003eWord=%{x}\\u003cbr\\u003eOccurrences=%{marker.size}\\u003cextra\\u003e\\u003c\\u002fextra\\u003e\",\"hovertext\":[\"Horny\"],\"legendgroup\":\"Horny\",\"marker\":{\"color\":\"#EF553B\",\"size\":[1],\"sizemode\":\"area\",\"sizeref\":0.03638888888888889,\"symbol\":\"circle\"},\"mode\":\"markers\",\"name\":\"Horny\",\"orientation\":\"v\",\"showlegend\":true,\"x\":[\"Horny\"],\"xaxis\":\"x\",\"y\":[1],\"yaxis\":\"y\",\"type\":\"scatter\"},{\"hovertemplate\":\"\\u003cb\\u003e%{hovertext}\\u003c\\u002fb\\u003e\\u003cbr\\u003e\\u003cbr\\u003eWord=%{x}\\u003cbr\\u003eOccurrences=%{marker.size}\\u003cextra\\u003e\\u003c\\u002fextra\\u003e\",\"hovertext\":[\"Hot\"],\"legendgroup\":\"Hot\",\"marker\":{\"color\":\"#00cc96\",\"size\":[7],\"sizemode\":\"area\",\"sizeref\":0.03638888888888889,\"symbol\":\"circle\"},\"mode\":\"markers\",\"name\":\"Hot\",\"orientation\":\"v\",\"showlegend\":true,\"x\":[\"Hot\"],\"xaxis\":\"x\",\"y\":[7],\"yaxis\":\"y\",\"type\":\"scatter\"},{\"hovertemplate\":\"\\u003cb\\u003e%{hovertext}\\u003c\\u002fb\\u003e\\u003cbr\\u003e\\u003cbr\\u003eWord=%{x}\\u003cbr\\u003eOccurrences=%{marker.size}\\u003cextra\\u003e\\u003c\\u002fextra\\u003e\",\"hovertext\":[\"Naked\"],\"legendgroup\":\"Naked\",\"marker\":{\"color\":\"#ab63fa\",\"size\":[6],\"sizemode\":\"area\",\"sizeref\":0.03638888888888889,\"symbol\":\"circle\"},\"mode\":\"markers\",\"name\":\"Naked\",\"orientation\":\"v\",\"showlegend\":true,\"x\":[\"Naked\"],\"xaxis\":\"x\",\"y\":[6],\"yaxis\":\"y\",\"type\":\"scatter\"},{\"hovertemplate\":\"\\u003cb\\u003e%{hovertext}\\u003c\\u002fb\\u003e\\u003cbr\\u003e\\u003cbr\\u003eWord=%{x}\\u003cbr\\u003eOccurrences=%{marker.size}\\u003cextra\\u003e\\u003c\\u002fextra\\u003e\",\"hovertext\":[\"Girls\"],\"legendgroup\":\"Girls\",\"marker\":{\"color\":\"#FFA15A\",\"size\":[1],\"sizemode\":\"area\",\"sizeref\":0.03638888888888889,\"symbol\":\"circle\"},\"mode\":\"markers\",\"name\":\"Girls\",\"orientation\":\"v\",\"showlegend\":true,\"x\":[\"Girls\"],\"xaxis\":\"x\",\"y\":[1],\"yaxis\":\"y\",\"type\":\"scatter\"},{\"hovertemplate\":\"\\u003cb\\u003e%{hovertext}\\u003c\\u002fb\\u003e\\u003cbr\\u003e\\u003cbr\\u003eWord=%{x}\\u003cbr\\u003eOccurrences=%{marker.size}\\u003cextra\\u003e\\u003c\\u002fextra\\u003e\",\"hovertext\":[\"Women\"],\"legendgroup\":\"Women\",\"marker\":{\"color\":\"#19d3f3\",\"size\":[13],\"sizemode\":\"area\",\"sizeref\":0.03638888888888889,\"symbol\":\"circle\"},\"mode\":\"markers\",\"name\":\"Women\",\"orientation\":\"v\",\"showlegend\":true,\"x\":[\"Women\"],\"xaxis\":\"x\",\"y\":[13],\"yaxis\":\"y\",\"type\":\"scatter\"},{\"hovertemplate\":\"\\u003cb\\u003e%{hovertext}\\u003c\\u002fb\\u003e\\u003cbr\\u003e\\u003cbr\\u003eWord=%{x}\\u003cbr\\u003eOccurrences=%{marker.size}\\u003cextra\\u003e\\u003c\\u002fextra\\u003e\",\"hovertext\":[\"Huge\"],\"legendgroup\":\"Huge\",\"marker\":{\"color\":\"#FF6692\",\"size\":[1],\"sizemode\":\"area\",\"sizeref\":0.03638888888888889,\"symbol\":\"circle\"},\"mode\":\"markers\",\"name\":\"Huge\",\"orientation\":\"v\",\"showlegend\":true,\"x\":[\"Huge\"],\"xaxis\":\"x\",\"y\":[1],\"yaxis\":\"y\",\"type\":\"scatter\"},{\"hovertemplate\":\"\\u003cb\\u003e%{hovertext}\\u003c\\u002fb\\u003e\\u003cbr\\u003e\\u003cbr\\u003eWord=%{x}\\u003cbr\\u003eOccurrences=%{marker.size}\\u003cextra\\u003e\\u003c\\u002fextra\\u003e\",\"hovertext\":[\"Innocent\"],\"legendgroup\":\"Innocent\",\"marker\":{\"color\":\"#B6E880\",\"size\":[1],\"sizemode\":\"area\",\"sizeref\":0.03638888888888889,\"symbol\":\"circle\"},\"mode\":\"markers\",\"name\":\"Innocent\",\"orientation\":\"v\",\"showlegend\":true,\"x\":[\"Innocent\"],\"xaxis\":\"x\",\"y\":[1],\"yaxis\":\"y\",\"type\":\"scatter\"},{\"hovertemplate\":\"\\u003cb\\u003e%{hovertext}\\u003c\\u002fb\\u003e\\u003cbr\\u003e\\u003cbr\\u003eWord=%{x}\\u003cbr\\u003eOccurrences=%{marker.size}\\u003cextra\\u003e\\u003c\\u002fextra\\u003e\",\"hovertext\":[\"Mouth\"],\"legendgroup\":\"Mouth\",\"marker\":{\"color\":\"#FF97FF\",\"size\":[2],\"sizemode\":\"area\",\"sizeref\":0.03638888888888889,\"symbol\":\"circle\"},\"mode\":\"markers\",\"name\":\"Mouth\",\"orientation\":\"v\",\"showlegend\":true,\"x\":[\"Mouth\"],\"xaxis\":\"x\",\"y\":[2],\"yaxis\":\"y\",\"type\":\"scatter\"},{\"hovertemplate\":\"\\u003cb\\u003e%{hovertext}\\u003c\\u002fb\\u003e\\u003cbr\\u003e\\u003cbr\\u003eWord=%{x}\\u003cbr\\u003eOccurrences=%{marker.size}\\u003cextra\\u003e\\u003c\\u002fextra\\u003e\",\"hovertext\":[\"Jeans\"],\"legendgroup\":\"Jeans\",\"marker\":{\"color\":\"#FECB52\",\"size\":[4],\"sizemode\":\"area\",\"sizeref\":0.03638888888888889,\"symbol\":\"circle\"},\"mode\":\"markers\",\"name\":\"Jeans\",\"orientation\":\"v\",\"showlegend\":true,\"x\":[\"Jeans\"],\"xaxis\":\"x\",\"y\":[4],\"yaxis\":\"y\",\"type\":\"scatter\"},{\"hovertemplate\":\"\\u003cb\\u003e%{hovertext}\\u003c\\u002fb\\u003e\\u003cbr\\u003e\\u003cbr\\u003eWord=%{x}\\u003cbr\\u003eOccurrences=%{marker.size}\\u003cextra\\u003e\\u003c\\u002fextra\\u003e\",\"hovertext\":[\"Kissing\"],\"legendgroup\":\"Kissing\",\"marker\":{\"color\":\"#636efa\",\"size\":[2],\"sizemode\":\"area\",\"sizeref\":0.03638888888888889,\"symbol\":\"circle\"},\"mode\":\"markers\",\"name\":\"Kissing\",\"orientation\":\"v\",\"showlegend\":true,\"x\":[\"Kissing\"],\"xaxis\":\"x\",\"y\":[2],\"yaxis\":\"y\",\"type\":\"scatter\"},{\"hovertemplate\":\"\\u003cb\\u003e%{hovertext}\\u003c\\u002fb\\u003e\\u003cbr\\u003e\\u003cbr\\u003eWord=%{x}\\u003cbr\\u003eOccurrences=%{marker.size}\\u003cextra\\u003e\\u003c\\u002fextra\\u003e\",\"hovertext\":[\"Fucking\"],\"legendgroup\":\"Fucking\",\"marker\":{\"color\":\"#EF553B\",\"size\":[1],\"sizemode\":\"area\",\"sizeref\":0.03638888888888889,\"symbol\":\"circle\"},\"mode\":\"markers\",\"name\":\"Fucking\",\"orientation\":\"v\",\"showlegend\":true,\"x\":[\"Fucking\"],\"xaxis\":\"x\",\"y\":[1],\"yaxis\":\"y\",\"type\":\"scatter\"},{\"hovertemplate\":\"\\u003cb\\u003e%{hovertext}\\u003c\\u002fb\\u003e\\u003cbr\\u003e\\u003cbr\\u003eWord=%{x}\\u003cbr\\u003eOccurrences=%{marker.size}\\u003cextra\\u003e\\u003c\\u002fextra\\u003e\",\"hovertext\":[\"Leather\"],\"legendgroup\":\"Leather\",\"marker\":{\"color\":\"#00cc96\",\"size\":[2],\"sizemode\":\"area\",\"sizeref\":0.03638888888888889,\"symbol\":\"circle\"},\"mode\":\"markers\",\"name\":\"Leather\",\"orientation\":\"v\",\"showlegend\":true,\"x\":[\"Leather\"],\"xaxis\":\"x\",\"y\":[2],\"yaxis\":\"y\",\"type\":\"scatter\"},{\"hovertemplate\":\"\\u003cb\\u003e%{hovertext}\\u003c\\u002fb\\u003e\\u003cbr\\u003e\\u003cbr\\u003eWord=%{x}\\u003cbr\\u003eOccurrences=%{marker.size}\\u003cextra\\u003e\\u003c\\u002fextra\\u003e\",\"hovertext\":[\"Leggings\"],\"legendgroup\":\"Leggings\",\"marker\":{\"color\":\"#ab63fa\",\"size\":[7],\"sizemode\":\"area\",\"sizeref\":0.03638888888888889,\"symbol\":\"circle\"},\"mode\":\"markers\",\"name\":\"Leggings\",\"orientation\":\"v\",\"showlegend\":true,\"x\":[\"Leggings\"],\"xaxis\":\"x\",\"y\":[7],\"yaxis\":\"y\",\"type\":\"scatter\"},{\"hovertemplate\":\"\\u003cb\\u003e%{hovertext}\\u003c\\u002fb\\u003e\\u003cbr\\u003e\\u003cbr\\u003eWord=%{x}\\u003cbr\\u003eOccurrences=%{marker.size}\\u003cextra\\u003e\\u003c\\u002fextra\\u003e\",\"hovertext\":[\"Fingering\"],\"legendgroup\":\"Fingering\",\"marker\":{\"color\":\"#FFA15A\",\"size\":[1],\"sizemode\":\"area\",\"sizeref\":0.03638888888888889,\"symbol\":\"circle\"},\"mode\":\"markers\",\"name\":\"Fingering\",\"orientation\":\"v\",\"showlegend\":true,\"x\":[\"Fingering\"],\"xaxis\":\"x\",\"y\":[1],\"yaxis\":\"y\",\"type\":\"scatter\"},{\"hovertemplate\":\"\\u003cb\\u003e%{hovertext}\\u003c\\u002fb\\u003e\\u003cbr\\u003e\\u003cbr\\u003eWord=%{x}\\u003cbr\\u003eOccurrences=%{marker.size}\\u003cextra\\u003e\\u003c\\u002fextra\\u003e\",\"hovertext\":[\"Fisting\"],\"legendgroup\":\"Fisting\",\"marker\":{\"color\":\"#19d3f3\",\"size\":[1],\"sizemode\":\"area\",\"sizeref\":0.03638888888888889,\"symbol\":\"circle\"},\"mode\":\"markers\",\"name\":\"Fisting\",\"orientation\":\"v\",\"showlegend\":true,\"x\":[\"Fisting\"],\"xaxis\":\"x\",\"y\":[1],\"yaxis\":\"y\",\"type\":\"scatter\"},{\"hovertemplate\":\"\\u003cb\\u003e%{hovertext}\\u003c\\u002fb\\u003e\\u003cbr\\u003e\\u003cbr\\u003eWord=%{x}\\u003cbr\\u003eOccurrences=%{marker.size}\\u003cextra\\u003e\\u003c\\u002fextra\\u003e\",\"hovertext\":[\"Stepmom\"],\"legendgroup\":\"Stepmom\",\"marker\":{\"color\":\"#FF6692\",\"size\":[1],\"sizemode\":\"area\",\"sizeref\":0.03638888888888889,\"symbol\":\"circle\"},\"mode\":\"markers\",\"name\":\"Stepmom\",\"orientation\":\"v\",\"showlegend\":true,\"x\":[\"Stepmom\"],\"xaxis\":\"x\",\"y\":[1],\"yaxis\":\"y\",\"type\":\"scatter\"},{\"hovertemplate\":\"\\u003cb\\u003e%{hovertext}\\u003c\\u002fb\\u003e\\u003cbr\\u003e\\u003cbr\\u003eWord=%{x}\\u003cbr\\u003eOccurrences=%{marker.size}\\u003cextra\\u003e\\u003c\\u002fextra\\u003e\",\"hovertext\":[\"Strapon\"],\"legendgroup\":\"Strapon\",\"marker\":{\"color\":\"#B6E880\",\"size\":[1],\"sizemode\":\"area\",\"sizeref\":0.03638888888888889,\"symbol\":\"circle\"},\"mode\":\"markers\",\"name\":\"Strapon\",\"orientation\":\"v\",\"showlegend\":true,\"x\":[\"Strapon\"],\"xaxis\":\"x\",\"y\":[1],\"yaxis\":\"y\",\"type\":\"scatter\"},{\"hovertemplate\":\"\\u003cb\\u003e%{hovertext}\\u003c\\u002fb\\u003e\\u003cbr\\u003e\\u003cbr\\u003eWord=%{x}\\u003cbr\\u003eOccurrences=%{marker.size}\\u003cextra\\u003e\\u003c\\u002fextra\\u003e\",\"hovertext\":[\"Long\"],\"legendgroup\":\"Long\",\"marker\":{\"color\":\"#FF97FF\",\"size\":[1],\"sizemode\":\"area\",\"sizeref\":0.03638888888888889,\"symbol\":\"circle\"},\"mode\":\"markers\",\"name\":\"Long\",\"orientation\":\"v\",\"showlegend\":true,\"x\":[\"Long\"],\"xaxis\":\"x\",\"y\":[1],\"yaxis\":\"y\",\"type\":\"scatter\"},{\"hovertemplate\":\"\\u003cb\\u003e%{hovertext}\\u003c\\u002fb\\u003e\\u003cbr\\u003e\\u003cbr\\u003eWord=%{x}\\u003cbr\\u003eOccurrences=%{marker.size}\\u003cextra\\u003e\\u003c\\u002fextra\\u003e\",\"hovertext\":[\"MILF\"],\"legendgroup\":\"MILF\",\"marker\":{\"color\":\"#FECB52\",\"size\":[42],\"sizemode\":\"area\",\"sizeref\":0.03638888888888889,\"symbol\":\"circle\"},\"mode\":\"markers\",\"name\":\"MILF\",\"orientation\":\"v\",\"showlegend\":true,\"x\":[\"MILF\"],\"xaxis\":\"x\",\"y\":[42],\"yaxis\":\"y\",\"type\":\"scatter\"},{\"hovertemplate\":\"\\u003cb\\u003e%{hovertext}\\u003c\\u002fb\\u003e\\u003cbr\\u003e\\u003cbr\\u003eWord=%{x}\\u003cbr\\u003eOccurrences=%{marker.size}\\u003cextra\\u003e\\u003c\\u002fextra\\u003e\",\"hovertext\":[\"Massive\"],\"legendgroup\":\"Massive\",\"marker\":{\"color\":\"#636efa\",\"size\":[1],\"sizemode\":\"area\",\"sizeref\":0.03638888888888889,\"symbol\":\"circle\"},\"mode\":\"markers\",\"name\":\"Massive\",\"orientation\":\"v\",\"showlegend\":true,\"x\":[\"Massive\"],\"xaxis\":\"x\",\"y\":[1],\"yaxis\":\"y\",\"type\":\"scatter\"},{\"hovertemplate\":\"\\u003cb\\u003e%{hovertext}\\u003c\\u002fb\\u003e\\u003cbr\\u003e\\u003cbr\\u003eWord=%{x}\\u003cbr\\u003eOccurrences=%{marker.size}\\u003cextra\\u003e\\u003c\\u002fextra\\u003e\",\"hovertext\":[\"Housewives\"],\"legendgroup\":\"Housewives\",\"marker\":{\"color\":\"#EF553B\",\"size\":[2],\"sizemode\":\"area\",\"sizeref\":0.03638888888888889,\"symbol\":\"circle\"},\"mode\":\"markers\",\"name\":\"Housewives\",\"orientation\":\"v\",\"showlegend\":true,\"x\":[\"Housewives\"],\"xaxis\":\"x\",\"y\":[2],\"yaxis\":\"y\",\"type\":\"scatter\"},{\"hovertemplate\":\"\\u003cb\\u003e%{hovertext}\\u003c\\u002fb\\u003e\\u003cbr\\u003e\\u003cbr\\u003eWord=%{x}\\u003cbr\\u003eOccurrences=%{marker.size}\\u003cextra\\u003e\\u003c\\u002fextra\\u003e\",\"hovertext\":[\"Massage\"],\"legendgroup\":\"Massage\",\"marker\":{\"color\":\"#00cc96\",\"size\":[1],\"sizemode\":\"area\",\"sizeref\":0.03638888888888889,\"symbol\":\"circle\"},\"mode\":\"markers\",\"name\":\"Massage\",\"orientation\":\"v\",\"showlegend\":true,\"x\":[\"Massage\"],\"xaxis\":\"x\",\"y\":[1],\"yaxis\":\"y\",\"type\":\"scatter\"},{\"hovertemplate\":\"\\u003cb\\u003e%{hovertext}\\u003c\\u002fb\\u003e\\u003cbr\\u003e\\u003cbr\\u003eWord=%{x}\\u003cbr\\u003eOccurrences=%{marker.size}\\u003cextra\\u003e\\u003c\\u002fextra\\u003e\",\"hovertext\":[\"Office\"],\"legendgroup\":\"Office\",\"marker\":{\"color\":\"#ab63fa\",\"size\":[4],\"sizemode\":\"area\",\"sizeref\":0.03638888888888889,\"symbol\":\"circle\"},\"mode\":\"markers\",\"name\":\"Office\",\"orientation\":\"v\",\"showlegend\":true,\"x\":[\"Office\"],\"xaxis\":\"x\",\"y\":[4],\"yaxis\":\"y\",\"type\":\"scatter\"},{\"hovertemplate\":\"\\u003cb\\u003e%{hovertext}\\u003c\\u002fb\\u003e\\u003cbr\\u003e\\u003cbr\\u003eWord=%{x}\\u003cbr\\u003eOccurrences=%{marker.size}\\u003cextra\\u003e\\u003c\\u002fextra\\u003e\",\"hovertext\":[\"Older\"],\"legendgroup\":\"Older\",\"marker\":{\"color\":\"#FFA15A\",\"size\":[5],\"sizemode\":\"area\",\"sizeref\":0.03638888888888889,\"symbol\":\"circle\"},\"mode\":\"markers\",\"name\":\"Older\",\"orientation\":\"v\",\"showlegend\":true,\"x\":[\"Older\"],\"xaxis\":\"x\",\"y\":[5],\"yaxis\":\"y\",\"type\":\"scatter\"},{\"hovertemplate\":\"\\u003cb\\u003e%{hovertext}\\u003c\\u002fb\\u003e\\u003cbr\\u003e\\u003cbr\\u003eWord=%{x}\\u003cbr\\u003eOccurrences=%{marker.size}\\u003cextra\\u003e\\u003c\\u002fextra\\u003e\",\"hovertext\":[\"Shaved\"],\"legendgroup\":\"Shaved\",\"marker\":{\"color\":\"#19d3f3\",\"size\":[7],\"sizemode\":\"area\",\"sizeref\":0.03638888888888889,\"symbol\":\"circle\"},\"mode\":\"markers\",\"name\":\"Shaved\",\"orientation\":\"v\",\"showlegend\":true,\"x\":[\"Shaved\"],\"xaxis\":\"x\",\"y\":[7],\"yaxis\":\"y\",\"type\":\"scatter\"},{\"hovertemplate\":\"\\u003cb\\u003e%{hovertext}\\u003c\\u002fb\\u003e\\u003cbr\\u003e\\u003cbr\\u003eWord=%{x}\\u003cbr\\u003eOccurrences=%{marker.size}\\u003cextra\\u003e\\u003c\\u002fextra\\u003e\",\"hovertext\":[\"Micro\"],\"legendgroup\":\"Micro\",\"marker\":{\"color\":\"#FF6692\",\"size\":[1],\"sizemode\":\"area\",\"sizeref\":0.03638888888888889,\"symbol\":\"circle\"},\"mode\":\"markers\",\"name\":\"Micro\",\"orientation\":\"v\",\"showlegend\":true,\"x\":[\"Micro\"],\"xaxis\":\"x\",\"y\":[1],\"yaxis\":\"y\",\"type\":\"scatter\"},{\"hovertemplate\":\"\\u003cb\\u003e%{hovertext}\\u003c\\u002fb\\u003e\\u003cbr\\u003e\\u003cbr\\u003eWord=%{x}\\u003cbr\\u003eOccurrences=%{marker.size}\\u003cextra\\u003e\\u003c\\u002fextra\\u003e\",\"hovertext\":[\"Middle\"],\"legendgroup\":\"Middle\",\"marker\":{\"color\":\"#B6E880\",\"size\":[2],\"sizemode\":\"area\",\"sizeref\":0.03638888888888889,\"symbol\":\"circle\"},\"mode\":\"markers\",\"name\":\"Middle\",\"orientation\":\"v\",\"showlegend\":true,\"x\":[\"Middle\"],\"xaxis\":\"x\",\"y\":[2],\"yaxis\":\"y\",\"type\":\"scatter\"},{\"hovertemplate\":\"\\u003cb\\u003e%{hovertext}\\u003c\\u002fb\\u003e\\u003cbr\\u003e\\u003cbr\\u003eWord=%{x}\\u003cbr\\u003eOccurrences=%{marker.size}\\u003cextra\\u003e\\u003c\\u002fextra\\u003e\",\"hovertext\":[\"Aged\"],\"legendgroup\":\"Aged\",\"marker\":{\"color\":\"#FF97FF\",\"size\":[2],\"sizemode\":\"area\",\"sizeref\":0.03638888888888889,\"symbol\":\"circle\"},\"mode\":\"markers\",\"name\":\"Aged\",\"orientation\":\"v\",\"showlegend\":true,\"x\":[\"Aged\"],\"xaxis\":\"x\",\"y\":[2],\"yaxis\":\"y\",\"type\":\"scatter\"},{\"hovertemplate\":\"\\u003cb\\u003e%{hovertext}\\u003c\\u002fb\\u003e\\u003cbr\\u003e\\u003cbr\\u003eWord=%{x}\\u003cbr\\u003eOccurrences=%{marker.size}\\u003cextra\\u003e\\u003c\\u002fextra\\u003e\",\"hovertext\":[\"Mini\"],\"legendgroup\":\"Mini\",\"marker\":{\"color\":\"#FECB52\",\"size\":[1],\"sizemode\":\"area\",\"sizeref\":0.03638888888888889,\"symbol\":\"circle\"},\"mode\":\"markers\",\"name\":\"Mini\",\"orientation\":\"v\",\"showlegend\":true,\"x\":[\"Mini\"],\"xaxis\":\"x\",\"y\":[1],\"yaxis\":\"y\",\"type\":\"scatter\"},{\"hovertemplate\":\"\\u003cb\\u003e%{hovertext}\\u003c\\u002fb\\u003e\\u003cbr\\u003e\\u003cbr\\u003eWord=%{x}\\u003cbr\\u003eOccurrences=%{marker.size}\\u003cextra\\u003e\\u003c\\u002fextra\\u003e\",\"hovertext\":[\"Monster\"],\"legendgroup\":\"Monster\",\"marker\":{\"color\":\"#636efa\",\"size\":[2],\"sizemode\":\"area\",\"sizeref\":0.03638888888888889,\"symbol\":\"circle\"},\"mode\":\"markers\",\"name\":\"Monster\",\"orientation\":\"v\",\"showlegend\":true,\"x\":[\"Monster\"],\"xaxis\":\"x\",\"y\":[2],\"yaxis\":\"y\",\"type\":\"scatter\"},{\"hovertemplate\":\"\\u003cb\\u003e%{hovertext}\\u003c\\u002fb\\u003e\\u003cbr\\u003e\\u003cbr\\u003eWord=%{x}\\u003cbr\\u003eOccurrences=%{marker.size}\\u003cextra\\u003e\\u003c\\u002fextra\\u003e\",\"hovertext\":[\"Full\"],\"legendgroup\":\"Full\",\"marker\":{\"color\":\"#EF553B\",\"size\":[1],\"sizemode\":\"area\",\"sizeref\":0.03638888888888889,\"symbol\":\"circle\"},\"mode\":\"markers\",\"name\":\"Full\",\"orientation\":\"v\",\"showlegend\":true,\"x\":[\"Full\"],\"xaxis\":\"x\",\"y\":[1],\"yaxis\":\"y\",\"type\":\"scatter\"},{\"hovertemplate\":\"\\u003cb\\u003e%{hovertext}\\u003c\\u002fb\\u003e\\u003cbr\\u003e\\u003cbr\\u003eWord=%{x}\\u003cbr\\u003eOccurrences=%{marker.size}\\u003cextra\\u003e\\u003c\\u002fextra\\u003e\",\"hovertext\":[\"Nerdy\"],\"legendgroup\":\"Nerdy\",\"marker\":{\"color\":\"#00cc96\",\"size\":[4],\"sizemode\":\"area\",\"sizeref\":0.03638888888888889,\"symbol\":\"circle\"},\"mode\":\"markers\",\"name\":\"Nerdy\",\"orientation\":\"v\",\"showlegend\":true,\"x\":[\"Nerdy\"],\"xaxis\":\"x\",\"y\":[4],\"yaxis\":\"y\",\"type\":\"scatter\"},{\"hovertemplate\":\"\\u003cb\\u003e%{hovertext}\\u003c\\u002fb\\u003e\\u003cbr\\u003e\\u003cbr\\u003eWord=%{x}\\u003cbr\\u003eOccurrences=%{marker.size}\\u003cextra\\u003e\\u003c\\u002fextra\\u003e\",\"hovertext\":[\"Nice\"],\"legendgroup\":\"Nice\",\"marker\":{\"color\":\"#ab63fa\",\"size\":[1],\"sizemode\":\"area\",\"sizeref\":0.03638888888888889,\"symbol\":\"circle\"},\"mode\":\"markers\",\"name\":\"Nice\",\"orientation\":\"v\",\"showlegend\":true,\"x\":[\"Nice\"],\"xaxis\":\"x\",\"y\":[1],\"yaxis\":\"y\",\"type\":\"scatter\"},{\"hovertemplate\":\"\\u003cb\\u003e%{hovertext}\\u003c\\u002fb\\u003e\\u003cbr\\u003e\\u003cbr\\u003eWord=%{x}\\u003cbr\\u003eOccurrences=%{marker.size}\\u003cextra\\u003e\\u003c\\u002fextra\\u003e\",\"hovertext\":[\"Nudist\"],\"legendgroup\":\"Nudist\",\"marker\":{\"color\":\"#FFA15A\",\"size\":[2],\"sizemode\":\"area\",\"sizeref\":0.03638888888888889,\"symbol\":\"circle\"},\"mode\":\"markers\",\"name\":\"Nudist\",\"orientation\":\"v\",\"showlegend\":true,\"x\":[\"Nudist\"],\"xaxis\":\"x\",\"y\":[2],\"yaxis\":\"y\",\"type\":\"scatter\"},{\"hovertemplate\":\"\\u003cb\\u003e%{hovertext}\\u003c\\u002fb\\u003e\\u003cbr\\u003e\\u003cbr\\u003eWord=%{x}\\u003cbr\\u003eOccurrences=%{marker.size}\\u003cextra\\u003e\\u003c\\u002fextra\\u003e\",\"hovertext\":[\"Nylon\"],\"legendgroup\":\"Nylon\",\"marker\":{\"color\":\"#19d3f3\",\"size\":[4],\"sizemode\":\"area\",\"sizeref\":0.03638888888888889,\"symbol\":\"circle\"},\"mode\":\"markers\",\"name\":\"Nylon\",\"orientation\":\"v\",\"showlegend\":true,\"x\":[\"Nylon\"],\"xaxis\":\"x\",\"y\":[4],\"yaxis\":\"y\",\"type\":\"scatter\"},{\"hovertemplate\":\"\\u003cb\\u003e%{hovertext}\\u003c\\u002fb\\u003e\\u003cbr\\u003e\\u003cbr\\u003eWord=%{x}\\u003cbr\\u003eOccurrences=%{marker.size}\\u003cextra\\u003e\\u003c\\u002fextra\\u003e\",\"hovertext\":[\"Soles\"],\"legendgroup\":\"Soles\",\"marker\":{\"color\":\"#FF6692\",\"size\":[1],\"sizemode\":\"area\",\"sizeref\":0.03638888888888889,\"symbol\":\"circle\"},\"mode\":\"markers\",\"name\":\"Soles\",\"orientation\":\"v\",\"showlegend\":true,\"x\":[\"Soles\"],\"xaxis\":\"x\",\"y\":[1],\"yaxis\":\"y\",\"type\":\"scatter\"},{\"hovertemplate\":\"\\u003cb\\u003e%{hovertext}\\u003c\\u002fb\\u003e\\u003cbr\\u003e\\u003cbr\\u003eWord=%{x}\\u003cbr\\u003eOccurrences=%{marker.size}\\u003cextra\\u003e\\u003c\\u002fextra\\u003e\",\"hovertext\":[\"Oiled\"],\"legendgroup\":\"Oiled\",\"marker\":{\"color\":\"#B6E880\",\"size\":[1],\"sizemode\":\"area\",\"sizeref\":0.03638888888888889,\"symbol\":\"circle\"},\"mode\":\"markers\",\"name\":\"Oiled\",\"orientation\":\"v\",\"showlegend\":true,\"x\":[\"Oiled\"],\"xaxis\":\"x\",\"y\":[1],\"yaxis\":\"y\",\"type\":\"scatter\"},{\"hovertemplate\":\"\\u003cb\\u003e%{hovertext}\\u003c\\u002fb\\u003e\\u003cbr\\u003e\\u003cbr\\u003eWord=%{x}\\u003cbr\\u003eOccurrences=%{marker.size}\\u003cextra\\u003e\\u003c\\u002fextra\\u003e\",\"hovertext\":[\"Old\"],\"legendgroup\":\"Old\",\"marker\":{\"color\":\"#FF97FF\",\"size\":[4],\"sizemode\":\"area\",\"sizeref\":0.03638888888888889,\"symbol\":\"circle\"},\"mode\":\"markers\",\"name\":\"Old\",\"orientation\":\"v\",\"showlegend\":true,\"x\":[\"Old\"],\"xaxis\":\"x\",\"y\":[4],\"yaxis\":\"y\",\"type\":\"scatter\"},{\"hovertemplate\":\"\\u003cb\\u003e%{hovertext}\\u003c\\u002fb\\u003e\\u003cbr\\u003e\\u003cbr\\u003eWord=%{x}\\u003cbr\\u003eOccurrences=%{marker.size}\\u003cextra\\u003e\\u003c\\u002fextra\\u003e\",\"hovertext\":[\"40\"],\"legendgroup\":\"40\",\"marker\":{\"color\":\"#FECB52\",\"size\":[1],\"sizemode\":\"area\",\"sizeref\":0.03638888888888889,\"symbol\":\"circle\"},\"mode\":\"markers\",\"name\":\"40\",\"orientation\":\"v\",\"showlegend\":true,\"x\":[\"40\"],\"xaxis\":\"x\",\"y\":[1],\"yaxis\":\"y\",\"type\":\"scatter\"},{\"hovertemplate\":\"\\u003cb\\u003e%{hovertext}\\u003c\\u002fb\\u003e\\u003cbr\\u003e\\u003cbr\\u003eWord=%{x}\\u003cbr\\u003eOccurrences=%{marker.size}\\u003cextra\\u003e\\u003c\\u002fextra\\u003e\",\"hovertext\":[\"50\"],\"legendgroup\":\"50\",\"marker\":{\"color\":\"#636efa\",\"size\":[2],\"sizemode\":\"area\",\"sizeref\":0.03638888888888889,\"symbol\":\"circle\"},\"mode\":\"markers\",\"name\":\"50\",\"orientation\":\"v\",\"showlegend\":true,\"x\":[\"50\"],\"xaxis\":\"x\",\"y\":[2],\"yaxis\":\"y\",\"type\":\"scatter\"},{\"hovertemplate\":\"\\u003cb\\u003e%{hovertext}\\u003c\\u002fb\\u003e\\u003cbr\\u003e\\u003cbr\\u003eWord=%{x}\\u003cbr\\u003eOccurrences=%{marker.size}\\u003cextra\\u003e\\u003c\\u002fextra\\u003e\",\"hovertext\":[\"60\"],\"legendgroup\":\"60\",\"marker\":{\"color\":\"#EF553B\",\"size\":[3],\"sizemode\":\"area\",\"sizeref\":0.03638888888888889,\"symbol\":\"circle\"},\"mode\":\"markers\",\"name\":\"60\",\"orientation\":\"v\",\"showlegend\":true,\"x\":[\"60\"],\"xaxis\":\"x\",\"y\":[3],\"yaxis\":\"y\",\"type\":\"scatter\"},{\"hovertemplate\":\"\\u003cb\\u003e%{hovertext}\\u003c\\u002fb\\u003e\\u003cbr\\u003e\\u003cbr\\u003eWord=%{x}\\u003cbr\\u003eOccurrences=%{marker.size}\\u003cextra\\u003e\\u003c\\u002fextra\\u003e\",\"hovertext\":[\"PAWG\"],\"legendgroup\":\"PAWG\",\"marker\":{\"color\":\"#00cc96\",\"size\":[4],\"sizemode\":\"area\",\"sizeref\":0.03638888888888889,\"symbol\":\"circle\"},\"mode\":\"markers\",\"name\":\"PAWG\",\"orientation\":\"v\",\"showlegend\":true,\"x\":[\"PAWG\"],\"xaxis\":\"x\",\"y\":[4],\"yaxis\":\"y\",\"type\":\"scatter\"},{\"hovertemplate\":\"\\u003cb\\u003e%{hovertext}\\u003c\\u002fb\\u003e\\u003cbr\\u003e\\u003cbr\\u003eWord=%{x}\\u003cbr\\u003eOccurrences=%{marker.size}\\u003cextra\\u003e\\u003c\\u002fextra\\u003e\",\"hovertext\":[\"POV\"],\"legendgroup\":\"POV\",\"marker\":{\"color\":\"#ab63fa\",\"size\":[2],\"sizemode\":\"area\",\"sizeref\":0.03638888888888889,\"symbol\":\"circle\"},\"mode\":\"markers\",\"name\":\"POV\",\"orientation\":\"v\",\"showlegend\":true,\"x\":[\"POV\"],\"xaxis\":\"x\",\"y\":[2],\"yaxis\":\"y\",\"type\":\"scatter\"},{\"hovertemplate\":\"\\u003cb\\u003e%{hovertext}\\u003c\\u002fb\\u003e\\u003cbr\\u003e\\u003cbr\\u003eWord=%{x}\\u003cbr\\u003eOccurrences=%{marker.size}\\u003cextra\\u003e\\u003c\\u002fextra\\u003e\",\"hovertext\":[\"Pale\"],\"legendgroup\":\"Pale\",\"marker\":{\"color\":\"#FFA15A\",\"size\":[1],\"sizemode\":\"area\",\"sizeref\":0.03638888888888889,\"symbol\":\"circle\"},\"mode\":\"markers\",\"name\":\"Pale\",\"orientation\":\"v\",\"showlegend\":true,\"x\":[\"Pale\"],\"xaxis\":\"x\",\"y\":[1],\"yaxis\":\"y\",\"type\":\"scatter\"},{\"hovertemplate\":\"\\u003cb\\u003e%{hovertext}\\u003c\\u002fb\\u003e\\u003cbr\\u003e\\u003cbr\\u003eWord=%{x}\\u003cbr\\u003eOccurrences=%{marker.size}\\u003cextra\\u003e\\u003c\\u002fextra\\u003e\",\"hovertext\":[\"Panty\"],\"legendgroup\":\"Panty\",\"marker\":{\"color\":\"#19d3f3\",\"size\":[2],\"sizemode\":\"area\",\"sizeref\":0.03638888888888889,\"symbol\":\"circle\"},\"mode\":\"markers\",\"name\":\"Panty\",\"orientation\":\"v\",\"showlegend\":true,\"x\":[\"Panty\"],\"xaxis\":\"x\",\"y\":[2],\"yaxis\":\"y\",\"type\":\"scatter\"},{\"hovertemplate\":\"\\u003cb\\u003e%{hovertext}\\u003c\\u002fb\\u003e\\u003cbr\\u003e\\u003cbr\\u003eWord=%{x}\\u003cbr\\u003eOccurrences=%{marker.size}\\u003cextra\\u003e\\u003c\\u002fextra\\u003e\",\"hovertext\":[\"Pantyhose\"],\"legendgroup\":\"Pantyhose\",\"marker\":{\"color\":\"#FF6692\",\"size\":[2],\"sizemode\":\"area\",\"sizeref\":0.03638888888888889,\"symbol\":\"circle\"},\"mode\":\"markers\",\"name\":\"Pantyhose\",\"orientation\":\"v\",\"showlegend\":true,\"x\":[\"Pantyhose\"],\"xaxis\":\"x\",\"y\":[2],\"yaxis\":\"y\",\"type\":\"scatter\"},{\"hovertemplate\":\"\\u003cb\\u003e%{hovertext}\\u003c\\u002fb\\u003e\\u003cbr\\u003e\\u003cbr\\u003eWord=%{x}\\u003cbr\\u003eOccurrences=%{marker.size}\\u003cextra\\u003e\\u003c\\u002fextra\\u003e\",\"hovertext\":[\"Penis\"],\"legendgroup\":\"Penis\",\"marker\":{\"color\":\"#B6E880\",\"size\":[1],\"sizemode\":\"area\",\"sizeref\":0.03638888888888889,\"symbol\":\"circle\"},\"mode\":\"markers\",\"name\":\"Penis\",\"orientation\":\"v\",\"showlegend\":true,\"x\":[\"Penis\"],\"xaxis\":\"x\",\"y\":[1],\"yaxis\":\"y\",\"type\":\"scatter\"},{\"hovertemplate\":\"\\u003cb\\u003e%{hovertext}\\u003c\\u002fb\\u003e\\u003cbr\\u003e\\u003cbr\\u003eWord=%{x}\\u003cbr\\u003eOccurrences=%{marker.size}\\u003cextra\\u003e\\u003c\\u002fextra\\u003e\",\"hovertext\":[\"Perfect\"],\"legendgroup\":\"Perfect\",\"marker\":{\"color\":\"#FF97FF\",\"size\":[9],\"sizemode\":\"area\",\"sizeref\":0.03638888888888889,\"symbol\":\"circle\"},\"mode\":\"markers\",\"name\":\"Perfect\",\"orientation\":\"v\",\"showlegend\":true,\"x\":[\"Perfect\"],\"xaxis\":\"x\",\"y\":[9],\"yaxis\":\"y\",\"type\":\"scatter\"},{\"hovertemplate\":\"\\u003cb\\u003e%{hovertext}\\u003c\\u002fb\\u003e\\u003cbr\\u003e\\u003cbr\\u003eWord=%{x}\\u003cbr\\u003eOccurrences=%{marker.size}\\u003cextra\\u003e\\u003c\\u002fextra\\u003e\",\"hovertext\":[\"Perky\"],\"legendgroup\":\"Perky\",\"marker\":{\"color\":\"#FECB52\",\"size\":[2],\"sizemode\":\"area\",\"sizeref\":0.03638888888888889,\"symbol\":\"circle\"},\"mode\":\"markers\",\"name\":\"Perky\",\"orientation\":\"v\",\"showlegend\":true,\"x\":[\"Perky\"],\"xaxis\":\"x\",\"y\":[2],\"yaxis\":\"y\",\"type\":\"scatter\"},{\"hovertemplate\":\"\\u003cb\\u003e%{hovertext}\\u003c\\u002fb\\u003e\\u003cbr\\u003e\\u003cbr\\u003eWord=%{x}\\u003cbr\\u003eOccurrences=%{marker.size}\\u003cextra\\u003e\\u003c\\u002fextra\\u003e\",\"hovertext\":[\"Ponytail\"],\"legendgroup\":\"Ponytail\",\"marker\":{\"color\":\"#636efa\",\"size\":[1],\"sizemode\":\"area\",\"sizeref\":0.03638888888888889,\"symbol\":\"circle\"},\"mode\":\"markers\",\"name\":\"Ponytail\",\"orientation\":\"v\",\"showlegend\":true,\"x\":[\"Ponytail\"],\"xaxis\":\"x\",\"y\":[1],\"yaxis\":\"y\",\"type\":\"scatter\"},{\"hovertemplate\":\"\\u003cb\\u003e%{hovertext}\\u003c\\u002fb\\u003e\\u003cbr\\u003e\\u003cbr\\u003eWord=%{x}\\u003cbr\\u003eOccurrences=%{marker.size}\\u003cextra\\u003e\\u003c\\u002fextra\\u003e\",\"hovertext\":[\"Pretty\"],\"legendgroup\":\"Pretty\",\"marker\":{\"color\":\"#EF553B\",\"size\":[1],\"sizemode\":\"area\",\"sizeref\":0.03638888888888889,\"symbol\":\"circle\"},\"mode\":\"markers\",\"name\":\"Pretty\",\"orientation\":\"v\",\"showlegend\":true,\"x\":[\"Pretty\"],\"xaxis\":\"x\",\"y\":[1],\"yaxis\":\"y\",\"type\":\"scatter\"},{\"hovertemplate\":\"\\u003cb\\u003e%{hovertext}\\u003c\\u002fb\\u003e\\u003cbr\\u003e\\u003cbr\\u003eWord=%{x}\\u003cbr\\u003eOccurrences=%{marker.size}\\u003cextra\\u003e\\u003c\\u002fextra\\u003e\",\"hovertext\":[\"Public\"],\"legendgroup\":\"Public\",\"marker\":{\"color\":\"#00cc96\",\"size\":[1],\"sizemode\":\"area\",\"sizeref\":0.03638888888888889,\"symbol\":\"circle\"},\"mode\":\"markers\",\"name\":\"Public\",\"orientation\":\"v\",\"showlegend\":true,\"x\":[\"Public\"],\"xaxis\":\"x\",\"y\":[1],\"yaxis\":\"y\",\"type\":\"scatter\"},{\"hovertemplate\":\"\\u003cb\\u003e%{hovertext}\\u003c\\u002fb\\u003e\\u003cbr\\u003e\\u003cbr\\u003eWord=%{x}\\u003cbr\\u003eOccurrences=%{marker.size}\\u003cextra\\u003e\\u003c\\u002fextra\\u003e\",\"hovertext\":[\"Flashing\"],\"legendgroup\":\"Flashing\",\"marker\":{\"color\":\"#ab63fa\",\"size\":[1],\"sizemode\":\"area\",\"sizeref\":0.03638888888888889,\"symbol\":\"circle\"},\"mode\":\"markers\",\"name\":\"Flashing\",\"orientation\":\"v\",\"showlegend\":true,\"x\":[\"Flashing\"],\"xaxis\":\"x\",\"y\":[1],\"yaxis\":\"y\",\"type\":\"scatter\"},{\"hovertemplate\":\"\\u003cb\\u003e%{hovertext}\\u003c\\u002fb\\u003e\\u003cbr\\u003e\\u003cbr\\u003eWord=%{x}\\u003cbr\\u003eOccurrences=%{marker.size}\\u003cextra\\u003e\\u003c\\u002fextra\\u003e\",\"hovertext\":[\"Freckles\"],\"legendgroup\":\"Freckles\",\"marker\":{\"color\":\"#FFA15A\",\"size\":[1],\"sizemode\":\"area\",\"sizeref\":0.03638888888888889,\"symbol\":\"circle\"},\"mode\":\"markers\",\"name\":\"Freckles\",\"orientation\":\"v\",\"showlegend\":true,\"x\":[\"Freckles\"],\"xaxis\":\"x\",\"y\":[1],\"yaxis\":\"y\",\"type\":\"scatter\"},{\"hovertemplate\":\"\\u003cb\\u003e%{hovertext}\\u003c\\u002fb\\u003e\\u003cbr\\u003e\\u003cbr\\u003eWord=%{x}\\u003cbr\\u003eOccurrences=%{marker.size}\\u003cextra\\u003e\\u003c\\u002fextra\\u003e\",\"hovertext\":[\"Rough\"],\"legendgroup\":\"Rough\",\"marker\":{\"color\":\"#19d3f3\",\"size\":[1],\"sizemode\":\"area\",\"sizeref\":0.03638888888888889,\"symbol\":\"circle\"},\"mode\":\"markers\",\"name\":\"Rough\",\"orientation\":\"v\",\"showlegend\":true,\"x\":[\"Rough\"],\"xaxis\":\"x\",\"y\":[1],\"yaxis\":\"y\",\"type\":\"scatter\"},{\"hovertemplate\":\"\\u003cb\\u003e%{hovertext}\\u003c\\u002fb\\u003e\\u003cbr\\u003e\\u003cbr\\u003eWord=%{x}\\u003cbr\\u003eOccurrences=%{marker.size}\\u003cextra\\u003e\\u003c\\u002fextra\\u003e\",\"hovertext\":[\"Santa\"],\"legendgroup\":\"Santa\",\"marker\":{\"color\":\"#FF6692\",\"size\":[3],\"sizemode\":\"area\",\"sizeref\":0.03638888888888889,\"symbol\":\"circle\"},\"mode\":\"markers\",\"name\":\"Santa\",\"orientation\":\"v\",\"showlegend\":true,\"x\":[\"Santa\"],\"xaxis\":\"x\",\"y\":[3],\"yaxis\":\"y\",\"type\":\"scatter\"},{\"hovertemplate\":\"\\u003cb\\u003e%{hovertext}\\u003c\\u002fb\\u003e\\u003cbr\\u003e\\u003cbr\\u003eWord=%{x}\\u003cbr\\u003eOccurrences=%{marker.size}\\u003cextra\\u003e\\u003c\\u002fextra\\u003e\",\"hovertext\":[\"Sauna\"],\"legendgroup\":\"Sauna\",\"marker\":{\"color\":\"#B6E880\",\"size\":[1],\"sizemode\":\"area\",\"sizeref\":0.03638888888888889,\"symbol\":\"circle\"},\"mode\":\"markers\",\"name\":\"Sauna\",\"orientation\":\"v\",\"showlegend\":true,\"x\":[\"Sauna\"],\"xaxis\":\"x\",\"y\":[1],\"yaxis\":\"y\",\"type\":\"scatter\"},{\"hovertemplate\":\"\\u003cb\\u003e%{hovertext}\\u003c\\u002fb\\u003e\\u003cbr\\u003e\\u003cbr\\u003eWord=%{x}\\u003cbr\\u003eOccurrences=%{marker.size}\\u003cextra\\u003e\\u003c\\u002fextra\\u003e\",\"hovertext\":[\"Seduction\"],\"legendgroup\":\"Seduction\",\"marker\":{\"color\":\"#FF97FF\",\"size\":[2],\"sizemode\":\"area\",\"sizeref\":0.03638888888888889,\"symbol\":\"circle\"},\"mode\":\"markers\",\"name\":\"Seduction\",\"orientation\":\"v\",\"showlegend\":true,\"x\":[\"Seduction\"],\"xaxis\":\"x\",\"y\":[2],\"yaxis\":\"y\",\"type\":\"scatter\"},{\"hovertemplate\":\"\\u003cb\\u003e%{hovertext}\\u003c\\u002fb\\u003e\\u003cbr\\u003e\\u003cbr\\u003eWord=%{x}\\u003cbr\\u003eOccurrences=%{marker.size}\\u003cextra\\u003e\\u003c\\u002fextra\\u003e\",\"hovertext\":[\"Sexy\"],\"legendgroup\":\"Sexy\",\"marker\":{\"color\":\"#FECB52\",\"size\":[29],\"sizemode\":\"area\",\"sizeref\":0.03638888888888889,\"symbol\":\"circle\"},\"mode\":\"markers\",\"name\":\"Sexy\",\"orientation\":\"v\",\"showlegend\":true,\"x\":[\"Sexy\"],\"xaxis\":\"x\",\"y\":[29],\"yaxis\":\"y\",\"type\":\"scatter\"},{\"hovertemplate\":\"\\u003cb\\u003e%{hovertext}\\u003c\\u002fb\\u003e\\u003cbr\\u003e\\u003cbr\\u003eWord=%{x}\\u003cbr\\u003eOccurrences=%{marker.size}\\u003cextra\\u003e\\u003c\\u002fextra\\u003e\",\"hovertext\":[\"Dress\"],\"legendgroup\":\"Dress\",\"marker\":{\"color\":\"#636efa\",\"size\":[3],\"sizemode\":\"area\",\"sizeref\":0.03638888888888889,\"symbol\":\"circle\"},\"mode\":\"markers\",\"name\":\"Dress\",\"orientation\":\"v\",\"showlegend\":true,\"x\":[\"Dress\"],\"xaxis\":\"x\",\"y\":[3],\"yaxis\":\"y\",\"type\":\"scatter\"},{\"hovertemplate\":\"\\u003cb\\u003e%{hovertext}\\u003c\\u002fb\\u003e\\u003cbr\\u003e\\u003cbr\\u003eWord=%{x}\\u003cbr\\u003eOccurrences=%{marker.size}\\u003cextra\\u003e\\u003c\\u002fextra\\u003e\",\"hovertext\":[\"Thong\"],\"legendgroup\":\"Thong\",\"marker\":{\"color\":\"#EF553B\",\"size\":[3],\"sizemode\":\"area\",\"sizeref\":0.03638888888888889,\"symbol\":\"circle\"},\"mode\":\"markers\",\"name\":\"Thong\",\"orientation\":\"v\",\"showlegend\":true,\"x\":[\"Thong\"],\"xaxis\":\"x\",\"y\":[3],\"yaxis\":\"y\",\"type\":\"scatter\"},{\"hovertemplate\":\"\\u003cb\\u003e%{hovertext}\\u003c\\u002fb\\u003e\\u003cbr\\u003e\\u003cbr\\u003eWord=%{x}\\u003cbr\\u003eOccurrences=%{marker.size}\\u003cextra\\u003e\\u003c\\u002fextra\\u003e\",\"hovertext\":[\"Short\"],\"legendgroup\":\"Short\",\"marker\":{\"color\":\"#00cc96\",\"size\":[14],\"sizemode\":\"area\",\"sizeref\":0.03638888888888889,\"symbol\":\"circle\"},\"mode\":\"markers\",\"name\":\"Short\",\"orientation\":\"v\",\"showlegend\":true,\"x\":[\"Short\"],\"xaxis\":\"x\",\"y\":[14],\"yaxis\":\"y\",\"type\":\"scatter\"},{\"hovertemplate\":\"\\u003cb\\u003e%{hovertext}\\u003c\\u002fb\\u003e\\u003cbr\\u003e\\u003cbr\\u003eWord=%{x}\\u003cbr\\u003eOccurrences=%{marker.size}\\u003cextra\\u003e\\u003c\\u002fextra\\u003e\",\"hovertext\":[\"Hair\"],\"legendgroup\":\"Hair\",\"marker\":{\"color\":\"#ab63fa\",\"size\":[12],\"sizemode\":\"area\",\"sizeref\":0.03638888888888889,\"symbol\":\"circle\"},\"mode\":\"markers\",\"name\":\"Hair\",\"orientation\":\"v\",\"showlegend\":true,\"x\":[\"Hair\"],\"xaxis\":\"x\",\"y\":[12],\"yaxis\":\"y\",\"type\":\"scatter\"},{\"hovertemplate\":\"\\u003cb\\u003e%{hovertext}\\u003c\\u002fb\\u003e\\u003cbr\\u003e\\u003cbr\\u003eWord=%{x}\\u003cbr\\u003eOccurrences=%{marker.size}\\u003cextra\\u003e\\u003c\\u002fextra\\u003e\",\"hovertext\":[\"Skinny\"],\"legendgroup\":\"Skinny\",\"marker\":{\"color\":\"#FFA15A\",\"size\":[19],\"sizemode\":\"area\",\"sizeref\":0.03638888888888889,\"symbol\":\"circle\"},\"mode\":\"markers\",\"name\":\"Skinny\",\"orientation\":\"v\",\"showlegend\":true,\"x\":[\"Skinny\"],\"xaxis\":\"x\",\"y\":[19],\"yaxis\":\"y\",\"type\":\"scatter\"},{\"hovertemplate\":\"\\u003cb\\u003e%{hovertext}\\u003c\\u002fb\\u003e\\u003cbr\\u003e\\u003cbr\\u003eWord=%{x}\\u003cbr\\u003eOccurrences=%{marker.size}\\u003cextra\\u003e\\u003c\\u002fextra\\u003e\",\"hovertext\":[\"Sloppy\"],\"legendgroup\":\"Sloppy\",\"marker\":{\"color\":\"#19d3f3\",\"size\":[1],\"sizemode\":\"area\",\"sizeref\":0.03638888888888889,\"symbol\":\"circle\"},\"mode\":\"markers\",\"name\":\"Sloppy\",\"orientation\":\"v\",\"showlegend\":true,\"x\":[\"Sloppy\"],\"xaxis\":\"x\",\"y\":[1],\"yaxis\":\"y\",\"type\":\"scatter\"},{\"hovertemplate\":\"\\u003cb\\u003e%{hovertext}\\u003c\\u002fb\\u003e\\u003cbr\\u003e\\u003cbr\\u003eWord=%{x}\\u003cbr\\u003eOccurrences=%{marker.size}\\u003cextra\\u003e\\u003c\\u002fextra\\u003e\",\"hovertext\":[\"Sneakers\"],\"legendgroup\":\"Sneakers\",\"marker\":{\"color\":\"#FF6692\",\"size\":[1],\"sizemode\":\"area\",\"sizeref\":0.03638888888888889,\"symbol\":\"circle\"},\"mode\":\"markers\",\"name\":\"Sneakers\",\"orientation\":\"v\",\"showlegend\":true,\"x\":[\"Sneakers\"],\"xaxis\":\"x\",\"y\":[1],\"yaxis\":\"y\",\"type\":\"scatter\"},{\"hovertemplate\":\"\\u003cb\\u003e%{hovertext}\\u003c\\u002fb\\u003e\\u003cbr\\u003e\\u003cbr\\u003eWord=%{x}\\u003cbr\\u003eOccurrences=%{marker.size}\\u003cextra\\u003e\\u003c\\u002fextra\\u003e\",\"hovertext\":[\"Spanish\"],\"legendgroup\":\"Spanish\",\"marker\":{\"color\":\"#B6E880\",\"size\":[2],\"sizemode\":\"area\",\"sizeref\":0.03638888888888889,\"symbol\":\"circle\"},\"mode\":\"markers\",\"name\":\"Spanish\",\"orientation\":\"v\",\"showlegend\":true,\"x\":[\"Spanish\"],\"xaxis\":\"x\",\"y\":[2],\"yaxis\":\"y\",\"type\":\"scatter\"},{\"hovertemplate\":\"\\u003cb\\u003e%{hovertext}\\u003c\\u002fb\\u003e\\u003cbr\\u003e\\u003cbr\\u003eWord=%{x}\\u003cbr\\u003eOccurrences=%{marker.size}\\u003cextra\\u003e\\u003c\\u002fextra\\u003e\",\"hovertext\":[\"Sucking\"],\"legendgroup\":\"Sucking\",\"marker\":{\"color\":\"#FF97FF\",\"size\":[1],\"sizemode\":\"area\",\"sizeref\":0.03638888888888889,\"symbol\":\"circle\"},\"mode\":\"markers\",\"name\":\"Sucking\",\"orientation\":\"v\",\"showlegend\":true,\"x\":[\"Sucking\"],\"xaxis\":\"x\",\"y\":[1],\"yaxis\":\"y\",\"type\":\"scatter\"},{\"hovertemplate\":\"\\u003cb\\u003e%{hovertext}\\u003c\\u002fb\\u003e\\u003cbr\\u003e\\u003cbr\\u003eWord=%{x}\\u003cbr\\u003eOccurrences=%{marker.size}\\u003cextra\\u003e\\u003c\\u002fextra\\u003e\",\"hovertext\":[\"Summer\"],\"legendgroup\":\"Summer\",\"marker\":{\"color\":\"#FECB52\",\"size\":[1],\"sizemode\":\"area\",\"sizeref\":0.03638888888888889,\"symbol\":\"circle\"},\"mode\":\"markers\",\"name\":\"Summer\",\"orientation\":\"v\",\"showlegend\":true,\"x\":[\"Summer\"],\"xaxis\":\"x\",\"y\":[1],\"yaxis\":\"y\",\"type\":\"scatter\"},{\"hovertemplate\":\"\\u003cb\\u003e%{hovertext}\\u003c\\u002fb\\u003e\\u003cbr\\u003e\\u003cbr\\u003eWord=%{x}\\u003cbr\\u003eOccurrences=%{marker.size}\\u003cextra\\u003e\\u003c\\u002fextra\\u003e\",\"hovertext\":[\"Sweater\"],\"legendgroup\":\"Sweater\",\"marker\":{\"color\":\"#636efa\",\"size\":[1],\"sizemode\":\"area\",\"sizeref\":0.03638888888888889,\"symbol\":\"circle\"},\"mode\":\"markers\",\"name\":\"Sweater\",\"orientation\":\"v\",\"showlegend\":true,\"x\":[\"Sweater\"],\"xaxis\":\"x\",\"y\":[1],\"yaxis\":\"y\",\"type\":\"scatter\"},{\"hovertemplate\":\"\\u003cb\\u003e%{hovertext}\\u003c\\u002fb\\u003e\\u003cbr\\u003e\\u003cbr\\u003eWord=%{x}\\u003cbr\\u003eOccurrences=%{marker.size}\\u003cextra\\u003e\\u003c\\u002fextra\\u003e\",\"hovertext\":[\"Tall\"],\"legendgroup\":\"Tall\",\"marker\":{\"color\":\"#EF553B\",\"size\":[1],\"sizemode\":\"area\",\"sizeref\":0.03638888888888889,\"symbol\":\"circle\"},\"mode\":\"markers\",\"name\":\"Tall\",\"orientation\":\"v\",\"showlegend\":true,\"x\":[\"Tall\"],\"xaxis\":\"x\",\"y\":[1],\"yaxis\":\"y\",\"type\":\"scatter\"},{\"hovertemplate\":\"\\u003cb\\u003e%{hovertext}\\u003c\\u002fb\\u003e\\u003cbr\\u003e\\u003cbr\\u003eWord=%{x}\\u003cbr\\u003eOccurrences=%{marker.size}\\u003cextra\\u003e\\u003c\\u002fextra\\u003e\",\"hovertext\":[\"Tattooed\"],\"legendgroup\":\"Tattooed\",\"marker\":{\"color\":\"#00cc96\",\"size\":[1],\"sizemode\":\"area\",\"sizeref\":0.03638888888888889,\"symbol\":\"circle\"},\"mode\":\"markers\",\"name\":\"Tattooed\",\"orientation\":\"v\",\"showlegend\":true,\"x\":[\"Tattooed\"],\"xaxis\":\"x\",\"y\":[1],\"yaxis\":\"y\",\"type\":\"scatter\"},{\"hovertemplate\":\"\\u003cb\\u003e%{hovertext}\\u003c\\u002fb\\u003e\\u003cbr\\u003e\\u003cbr\\u003eWord=%{x}\\u003cbr\\u003eOccurrences=%{marker.size}\\u003cextra\\u003e\\u003c\\u002fextra\\u003e\",\"hovertext\":[\"Facial\"],\"legendgroup\":\"Facial\",\"marker\":{\"color\":\"#ab63fa\",\"size\":[1],\"sizemode\":\"area\",\"sizeref\":0.03638888888888889,\"symbol\":\"circle\"},\"mode\":\"markers\",\"name\":\"Facial\",\"orientation\":\"v\",\"showlegend\":true,\"x\":[\"Facial\"],\"xaxis\":\"x\",\"y\":[1],\"yaxis\":\"y\",\"type\":\"scatter\"},{\"hovertemplate\":\"\\u003cb\\u003e%{hovertext}\\u003c\\u002fb\\u003e\\u003cbr\\u003e\\u003cbr\\u003eWord=%{x}\\u003cbr\\u003eOccurrences=%{marker.size}\\u003cextra\\u003e\\u003c\\u002fextra\\u003e\",\"hovertext\":[\"Sport\"],\"legendgroup\":\"Sport\",\"marker\":{\"color\":\"#FFA15A\",\"size\":[1],\"sizemode\":\"area\",\"sizeref\":0.03638888888888889,\"symbol\":\"circle\"},\"mode\":\"markers\",\"name\":\"Sport\",\"orientation\":\"v\",\"showlegend\":true,\"x\":[\"Sport\"],\"xaxis\":\"x\",\"y\":[1],\"yaxis\":\"y\",\"type\":\"scatter\"},{\"hovertemplate\":\"\\u003cb\\u003e%{hovertext}\\u003c\\u002fb\\u003e\\u003cbr\\u003e\\u003cbr\\u003eWord=%{x}\\u003cbr\\u003eOccurrences=%{marker.size}\\u003cextra\\u003e\\u003c\\u002fextra\\u003e\",\"hovertext\":[\"Thick\"],\"legendgroup\":\"Thick\",\"marker\":{\"color\":\"#19d3f3\",\"size\":[14],\"sizemode\":\"area\",\"sizeref\":0.03638888888888889,\"symbol\":\"circle\"},\"mode\":\"markers\",\"name\":\"Thick\",\"orientation\":\"v\",\"showlegend\":true,\"x\":[\"Thick\"],\"xaxis\":\"x\",\"y\":[14],\"yaxis\":\"y\",\"type\":\"scatter\"},{\"hovertemplate\":\"\\u003cb\\u003e%{hovertext}\\u003c\\u002fb\\u003e\\u003cbr\\u003e\\u003cbr\\u003eWord=%{x}\\u003cbr\\u003eOccurrences=%{marker.size}\\u003cextra\\u003e\\u003c\\u002fextra\\u003e\",\"hovertext\":[\"Thigh\"],\"legendgroup\":\"Thigh\",\"marker\":{\"color\":\"#FF6692\",\"size\":[2],\"sizemode\":\"area\",\"sizeref\":0.03638888888888889,\"symbol\":\"circle\"},\"mode\":\"markers\",\"name\":\"Thigh\",\"orientation\":\"v\",\"showlegend\":true,\"x\":[\"Thigh\"],\"xaxis\":\"x\",\"y\":[2],\"yaxis\":\"y\",\"type\":\"scatter\"},{\"hovertemplate\":\"\\u003cb\\u003e%{hovertext}\\u003c\\u002fb\\u003e\\u003cbr\\u003e\\u003cbr\\u003eWord=%{x}\\u003cbr\\u003eOccurrences=%{marker.size}\\u003cextra\\u003e\\u003c\\u002fextra\\u003e\",\"hovertext\":[\"Tight\"],\"legendgroup\":\"Tight\",\"marker\":{\"color\":\"#B6E880\",\"size\":[4],\"sizemode\":\"area\",\"sizeref\":0.03638888888888889,\"symbol\":\"circle\"},\"mode\":\"markers\",\"name\":\"Tight\",\"orientation\":\"v\",\"showlegend\":true,\"x\":[\"Tight\"],\"xaxis\":\"x\",\"y\":[4],\"yaxis\":\"y\",\"type\":\"scatter\"},{\"hovertemplate\":\"\\u003cb\\u003e%{hovertext}\\u003c\\u002fb\\u003e\\u003cbr\\u003e\\u003cbr\\u003eWord=%{x}\\u003cbr\\u003eOccurrences=%{marker.size}\\u003cextra\\u003e\\u003c\\u002fextra\\u003e\",\"hovertext\":[\"Tiny\"],\"legendgroup\":\"Tiny\",\"marker\":{\"color\":\"#FF97FF\",\"size\":[2],\"sizemode\":\"area\",\"sizeref\":0.03638888888888889,\"symbol\":\"circle\"},\"mode\":\"markers\",\"name\":\"Tiny\",\"orientation\":\"v\",\"showlegend\":true,\"x\":[\"Tiny\"],\"xaxis\":\"x\",\"y\":[2],\"yaxis\":\"y\",\"type\":\"scatter\"},{\"hovertemplate\":\"\\u003cb\\u003e%{hovertext}\\u003c\\u002fb\\u003e\\u003cbr\\u003e\\u003cbr\\u003eWord=%{x}\\u003cbr\\u003eOccurrences=%{marker.size}\\u003cextra\\u003e\\u003c\\u002fextra\\u003e\",\"hovertext\":[\"Tongue\"],\"legendgroup\":\"Tongue\",\"marker\":{\"color\":\"#FECB52\",\"size\":[2],\"sizemode\":\"area\",\"sizeref\":0.03638888888888889,\"symbol\":\"circle\"},\"mode\":\"markers\",\"name\":\"Tongue\",\"orientation\":\"v\",\"showlegend\":true,\"x\":[\"Tongue\"],\"xaxis\":\"x\",\"y\":[2],\"yaxis\":\"y\",\"type\":\"scatter\"},{\"hovertemplate\":\"\\u003cb\\u003e%{hovertext}\\u003c\\u002fb\\u003e\\u003cbr\\u003e\\u003cbr\\u003eWord=%{x}\\u003cbr\\u003eOccurrences=%{marker.size}\\u003cextra\\u003e\\u003c\\u002fextra\\u003e\",\"hovertext\":[\"Topless\"],\"legendgroup\":\"Topless\",\"marker\":{\"color\":\"#636efa\",\"size\":[1],\"sizemode\":\"area\",\"sizeref\":0.03638888888888889,\"symbol\":\"circle\"},\"mode\":\"markers\",\"name\":\"Topless\",\"orientation\":\"v\",\"showlegend\":true,\"x\":[\"Topless\"],\"xaxis\":\"x\",\"y\":[1],\"yaxis\":\"y\",\"type\":\"scatter\"},{\"hovertemplate\":\"\\u003cb\\u003e%{hovertext}\\u003c\\u002fb\\u003e\\u003cbr\\u003e\\u003cbr\\u003eWord=%{x}\\u003cbr\\u003eOccurrences=%{marker.size}\\u003cextra\\u003e\\u003c\\u002fextra\\u003e\",\"hovertext\":[\"Trimmed\"],\"legendgroup\":\"Trimmed\",\"marker\":{\"color\":\"#EF553B\",\"size\":[2],\"sizemode\":\"area\",\"sizeref\":0.03638888888888889,\"symbol\":\"circle\"},\"mode\":\"markers\",\"name\":\"Trimmed\",\"orientation\":\"v\",\"showlegend\":true,\"x\":[\"Trimmed\"],\"xaxis\":\"x\",\"y\":[2],\"yaxis\":\"y\",\"type\":\"scatter\"},{\"hovertemplate\":\"\\u003cb\\u003e%{hovertext}\\u003c\\u002fb\\u003e\\u003cbr\\u003e\\u003cbr\\u003eWord=%{x}\\u003cbr\\u003eOccurrences=%{marker.size}\\u003cextra\\u003e\\u003c\\u002fextra\\u003e\",\"hovertext\":[\"Very\"],\"legendgroup\":\"Very\",\"marker\":{\"color\":\"#00cc96\",\"size\":[4],\"sizemode\":\"area\",\"sizeref\":0.03638888888888889,\"symbol\":\"circle\"},\"mode\":\"markers\",\"name\":\"Very\",\"orientation\":\"v\",\"showlegend\":true,\"x\":[\"Very\"],\"xaxis\":\"x\",\"y\":[4],\"yaxis\":\"y\",\"type\":\"scatter\"},{\"hovertemplate\":\"\\u003cb\\u003e%{hovertext}\\u003c\\u002fb\\u003e\\u003cbr\\u003e\\u003cbr\\u003eWord=%{x}\\u003cbr\\u003eOccurrences=%{marker.size}\\u003cextra\\u003e\\u003c\\u002fextra\\u003e\",\"hovertext\":[\"Wet\"],\"legendgroup\":\"Wet\",\"marker\":{\"color\":\"#ab63fa\",\"size\":[5],\"sizemode\":\"area\",\"sizeref\":0.03638888888888889,\"symbol\":\"circle\"},\"mode\":\"markers\",\"name\":\"Wet\",\"orientation\":\"v\",\"showlegend\":true,\"x\":[\"Wet\"],\"xaxis\":\"x\",\"y\":[5],\"yaxis\":\"y\",\"type\":\"scatter\"},{\"hovertemplate\":\"\\u003cb\\u003e%{hovertext}\\u003c\\u002fb\\u003e\\u003cbr\\u003e\\u003cbr\\u003eWord=%{x}\\u003cbr\\u003eOccurrences=%{marker.size}\\u003cextra\\u003e\\u003c\\u002fextra\\u003e\",\"hovertext\":[\"Wide\"],\"legendgroup\":\"Wide\",\"marker\":{\"color\":\"#FFA15A\",\"size\":[2],\"sizemode\":\"area\",\"sizeref\":0.03638888888888889,\"symbol\":\"circle\"},\"mode\":\"markers\",\"name\":\"Wide\",\"orientation\":\"v\",\"showlegend\":true,\"x\":[\"Wide\"],\"xaxis\":\"x\",\"y\":[2],\"yaxis\":\"y\",\"type\":\"scatter\"},{\"hovertemplate\":\"\\u003cb\\u003e%{hovertext}\\u003c\\u002fb\\u003e\\u003cbr\\u003e\\u003cbr\\u003eWord=%{x}\\u003cbr\\u003eOccurrences=%{marker.size}\\u003cextra\\u003e\\u003c\\u002fextra\\u003e\",\"hovertext\":[\"Hips\"],\"legendgroup\":\"Hips\",\"marker\":{\"color\":\"#19d3f3\",\"size\":[2],\"sizemode\":\"area\",\"sizeref\":0.03638888888888889,\"symbol\":\"circle\"},\"mode\":\"markers\",\"name\":\"Hips\",\"orientation\":\"v\",\"showlegend\":true,\"x\":[\"Hips\"],\"xaxis\":\"x\",\"y\":[2],\"yaxis\":\"y\",\"type\":\"scatter\"},{\"hovertemplate\":\"\\u003cb\\u003e%{hovertext}\\u003c\\u002fb\\u003e\\u003cbr\\u003e\\u003cbr\\u003eWord=%{x}\\u003cbr\\u003eOccurrences=%{marker.size}\\u003cextra\\u003e\\u003c\\u002fextra\\u003e\",\"hovertext\":[\"Thighs\"],\"legendgroup\":\"Thighs\",\"marker\":{\"color\":\"#FF6692\",\"size\":[2],\"sizemode\":\"area\",\"sizeref\":0.03638888888888889,\"symbol\":\"circle\"},\"mode\":\"markers\",\"name\":\"Thighs\",\"orientation\":\"v\",\"showlegend\":true,\"x\":[\"Thighs\"],\"xaxis\":\"x\",\"y\":[2],\"yaxis\":\"y\",\"type\":\"scatter\"},{\"hovertemplate\":\"\\u003cb\\u003e%{hovertext}\\u003c\\u002fb\\u003e\\u003cbr\\u003e\\u003cbr\\u003eWord=%{x}\\u003cbr\\u003eOccurrences=%{marker.size}\\u003cextra\\u003e\\u003c\\u002fextra\\u003e\",\"hovertext\":[\"Wrestling\"],\"legendgroup\":\"Wrestling\",\"marker\":{\"color\":\"#B6E880\",\"size\":[1],\"sizemode\":\"area\",\"sizeref\":0.03638888888888889,\"symbol\":\"circle\"},\"mode\":\"markers\",\"name\":\"Wrestling\",\"orientation\":\"v\",\"showlegend\":true,\"x\":[\"Wrestling\"],\"xaxis\":\"x\",\"y\":[1],\"yaxis\":\"y\",\"type\":\"scatter\"}],                        {\"template\":{\"data\":{\"histogram2dcontour\":[{\"type\":\"histogram2dcontour\",\"colorbar\":{\"outlinewidth\":0,\"ticks\":\"\"},\"colorscale\":[[0.0,\"#0d0887\"],[0.1111111111111111,\"#46039f\"],[0.2222222222222222,\"#7201a8\"],[0.3333333333333333,\"#9c179e\"],[0.4444444444444444,\"#bd3786\"],[0.5555555555555556,\"#d8576b\"],[0.6666666666666666,\"#ed7953\"],[0.7777777777777778,\"#fb9f3a\"],[0.8888888888888888,\"#fdca26\"],[1.0,\"#f0f921\"]]}],\"choropleth\":[{\"type\":\"choropleth\",\"colorbar\":{\"outlinewidth\":0,\"ticks\":\"\"}}],\"histogram2d\":[{\"type\":\"histogram2d\",\"colorbar\":{\"outlinewidth\":0,\"ticks\":\"\"},\"colorscale\":[[0.0,\"#0d0887\"],[0.1111111111111111,\"#46039f\"],[0.2222222222222222,\"#7201a8\"],[0.3333333333333333,\"#9c179e\"],[0.4444444444444444,\"#bd3786\"],[0.5555555555555556,\"#d8576b\"],[0.6666666666666666,\"#ed7953\"],[0.7777777777777778,\"#fb9f3a\"],[0.8888888888888888,\"#fdca26\"],[1.0,\"#f0f921\"]]}],\"heatmap\":[{\"type\":\"heatmap\",\"colorbar\":{\"outlinewidth\":0,\"ticks\":\"\"},\"colorscale\":[[0.0,\"#0d0887\"],[0.1111111111111111,\"#46039f\"],[0.2222222222222222,\"#7201a8\"],[0.3333333333333333,\"#9c179e\"],[0.4444444444444444,\"#bd3786\"],[0.5555555555555556,\"#d8576b\"],[0.6666666666666666,\"#ed7953\"],[0.7777777777777778,\"#fb9f3a\"],[0.8888888888888888,\"#fdca26\"],[1.0,\"#f0f921\"]]}],\"heatmapgl\":[{\"type\":\"heatmapgl\",\"colorbar\":{\"outlinewidth\":0,\"ticks\":\"\"},\"colorscale\":[[0.0,\"#0d0887\"],[0.1111111111111111,\"#46039f\"],[0.2222222222222222,\"#7201a8\"],[0.3333333333333333,\"#9c179e\"],[0.4444444444444444,\"#bd3786\"],[0.5555555555555556,\"#d8576b\"],[0.6666666666666666,\"#ed7953\"],[0.7777777777777778,\"#fb9f3a\"],[0.8888888888888888,\"#fdca26\"],[1.0,\"#f0f921\"]]}],\"contourcarpet\":[{\"type\":\"contourcarpet\",\"colorbar\":{\"outlinewidth\":0,\"ticks\":\"\"}}],\"contour\":[{\"type\":\"contour\",\"colorbar\":{\"outlinewidth\":0,\"ticks\":\"\"},\"colorscale\":[[0.0,\"#0d0887\"],[0.1111111111111111,\"#46039f\"],[0.2222222222222222,\"#7201a8\"],[0.3333333333333333,\"#9c179e\"],[0.4444444444444444,\"#bd3786\"],[0.5555555555555556,\"#d8576b\"],[0.6666666666666666,\"#ed7953\"],[0.7777777777777778,\"#fb9f3a\"],[0.8888888888888888,\"#fdca26\"],[1.0,\"#f0f921\"]]}],\"surface\":[{\"type\":\"surface\",\"colorbar\":{\"outlinewidth\":0,\"ticks\":\"\"},\"colorscale\":[[0.0,\"#0d0887\"],[0.1111111111111111,\"#46039f\"],[0.2222222222222222,\"#7201a8\"],[0.3333333333333333,\"#9c179e\"],[0.4444444444444444,\"#bd3786\"],[0.5555555555555556,\"#d8576b\"],[0.6666666666666666,\"#ed7953\"],[0.7777777777777778,\"#fb9f3a\"],[0.8888888888888888,\"#fdca26\"],[1.0,\"#f0f921\"]]}],\"mesh3d\":[{\"type\":\"mesh3d\",\"colorbar\":{\"outlinewidth\":0,\"ticks\":\"\"}}],\"scatter\":[{\"fillpattern\":{\"fillmode\":\"overlay\",\"size\":10,\"solidity\":0.2},\"type\":\"scatter\"}],\"parcoords\":[{\"type\":\"parcoords\",\"line\":{\"colorbar\":{\"outlinewidth\":0,\"ticks\":\"\"}}}],\"scatterpolargl\":[{\"type\":\"scatterpolargl\",\"marker\":{\"colorbar\":{\"outlinewidth\":0,\"ticks\":\"\"}}}],\"bar\":[{\"error_x\":{\"color\":\"#2a3f5f\"},\"error_y\":{\"color\":\"#2a3f5f\"},\"marker\":{\"line\":{\"color\":\"#E5ECF6\",\"width\":0.5},\"pattern\":{\"fillmode\":\"overlay\",\"size\":10,\"solidity\":0.2}},\"type\":\"bar\"}],\"scattergeo\":[{\"type\":\"scattergeo\",\"marker\":{\"colorbar\":{\"outlinewidth\":0,\"ticks\":\"\"}}}],\"scatterpolar\":[{\"type\":\"scatterpolar\",\"marker\":{\"colorbar\":{\"outlinewidth\":0,\"ticks\":\"\"}}}],\"histogram\":[{\"marker\":{\"pattern\":{\"fillmode\":\"overlay\",\"size\":10,\"solidity\":0.2}},\"type\":\"histogram\"}],\"scattergl\":[{\"type\":\"scattergl\",\"marker\":{\"colorbar\":{\"outlinewidth\":0,\"ticks\":\"\"}}}],\"scatter3d\":[{\"type\":\"scatter3d\",\"line\":{\"colorbar\":{\"outlinewidth\":0,\"ticks\":\"\"}},\"marker\":{\"colorbar\":{\"outlinewidth\":0,\"ticks\":\"\"}}}],\"scattermapbox\":[{\"type\":\"scattermapbox\",\"marker\":{\"colorbar\":{\"outlinewidth\":0,\"ticks\":\"\"}}}],\"scatterternary\":[{\"type\":\"scatterternary\",\"marker\":{\"colorbar\":{\"outlinewidth\":0,\"ticks\":\"\"}}}],\"scattercarpet\":[{\"type\":\"scattercarpet\",\"marker\":{\"colorbar\":{\"outlinewidth\":0,\"ticks\":\"\"}}}],\"carpet\":[{\"aaxis\":{\"endlinecolor\":\"#2a3f5f\",\"gridcolor\":\"white\",\"linecolor\":\"white\",\"minorgridcolor\":\"white\",\"startlinecolor\":\"#2a3f5f\"},\"baxis\":{\"endlinecolor\":\"#2a3f5f\",\"gridcolor\":\"white\",\"linecolor\":\"white\",\"minorgridcolor\":\"white\",\"startlinecolor\":\"#2a3f5f\"},\"type\":\"carpet\"}],\"table\":[{\"cells\":{\"fill\":{\"color\":\"#EBF0F8\"},\"line\":{\"color\":\"white\"}},\"header\":{\"fill\":{\"color\":\"#C8D4E3\"},\"line\":{\"color\":\"white\"}},\"type\":\"table\"}],\"barpolar\":[{\"marker\":{\"line\":{\"color\":\"#E5ECF6\",\"width\":0.5},\"pattern\":{\"fillmode\":\"overlay\",\"size\":10,\"solidity\":0.2}},\"type\":\"barpolar\"}],\"pie\":[{\"automargin\":true,\"type\":\"pie\"}]},\"layout\":{\"autotypenumbers\":\"strict\",\"colorway\":[\"#636efa\",\"#EF553B\",\"#00cc96\",\"#ab63fa\",\"#FFA15A\",\"#19d3f3\",\"#FF6692\",\"#B6E880\",\"#FF97FF\",\"#FECB52\"],\"font\":{\"color\":\"#2a3f5f\"},\"hovermode\":\"closest\",\"hoverlabel\":{\"align\":\"left\"},\"paper_bgcolor\":\"white\",\"plot_bgcolor\":\"#E5ECF6\",\"polar\":{\"bgcolor\":\"#E5ECF6\",\"angularaxis\":{\"gridcolor\":\"white\",\"linecolor\":\"white\",\"ticks\":\"\"},\"radialaxis\":{\"gridcolor\":\"white\",\"linecolor\":\"white\",\"ticks\":\"\"}},\"ternary\":{\"bgcolor\":\"#E5ECF6\",\"aaxis\":{\"gridcolor\":\"white\",\"linecolor\":\"white\",\"ticks\":\"\"},\"baxis\":{\"gridcolor\":\"white\",\"linecolor\":\"white\",\"ticks\":\"\"},\"caxis\":{\"gridcolor\":\"white\",\"linecolor\":\"white\",\"ticks\":\"\"}},\"coloraxis\":{\"colorbar\":{\"outlinewidth\":0,\"ticks\":\"\"}},\"colorscale\":{\"sequential\":[[0.0,\"#0d0887\"],[0.1111111111111111,\"#46039f\"],[0.2222222222222222,\"#7201a8\"],[0.3333333333333333,\"#9c179e\"],[0.4444444444444444,\"#bd3786\"],[0.5555555555555556,\"#d8576b\"],[0.6666666666666666,\"#ed7953\"],[0.7777777777777778,\"#fb9f3a\"],[0.8888888888888888,\"#fdca26\"],[1.0,\"#f0f921\"]],\"sequentialminus\":[[0.0,\"#0d0887\"],[0.1111111111111111,\"#46039f\"],[0.2222222222222222,\"#7201a8\"],[0.3333333333333333,\"#9c179e\"],[0.4444444444444444,\"#bd3786\"],[0.5555555555555556,\"#d8576b\"],[0.6666666666666666,\"#ed7953\"],[0.7777777777777778,\"#fb9f3a\"],[0.8888888888888888,\"#fdca26\"],[1.0,\"#f0f921\"]],\"diverging\":[[0,\"#8e0152\"],[0.1,\"#c51b7d\"],[0.2,\"#de77ae\"],[0.3,\"#f1b6da\"],[0.4,\"#fde0ef\"],[0.5,\"#f7f7f7\"],[0.6,\"#e6f5d0\"],[0.7,\"#b8e186\"],[0.8,\"#7fbc41\"],[0.9,\"#4d9221\"],[1,\"#276419\"]]},\"xaxis\":{\"gridcolor\":\"white\",\"linecolor\":\"white\",\"ticks\":\"\",\"title\":{\"standoff\":15},\"zerolinecolor\":\"white\",\"automargin\":true,\"zerolinewidth\":2},\"yaxis\":{\"gridcolor\":\"white\",\"linecolor\":\"white\",\"ticks\":\"\",\"title\":{\"standoff\":15},\"zerolinecolor\":\"white\",\"automargin\":true,\"zerolinewidth\":2},\"scene\":{\"xaxis\":{\"backgroundcolor\":\"#E5ECF6\",\"gridcolor\":\"white\",\"linecolor\":\"white\",\"showbackground\":true,\"ticks\":\"\",\"zerolinecolor\":\"white\",\"gridwidth\":2},\"yaxis\":{\"backgroundcolor\":\"#E5ECF6\",\"gridcolor\":\"white\",\"linecolor\":\"white\",\"showbackground\":true,\"ticks\":\"\",\"zerolinecolor\":\"white\",\"gridwidth\":2},\"zaxis\":{\"backgroundcolor\":\"#E5ECF6\",\"gridcolor\":\"white\",\"linecolor\":\"white\",\"showbackground\":true,\"ticks\":\"\",\"zerolinecolor\":\"white\",\"gridwidth\":2}},\"shapedefaults\":{\"line\":{\"color\":\"#2a3f5f\"}},\"annotationdefaults\":{\"arrowcolor\":\"#2a3f5f\",\"arrowhead\":0,\"arrowwidth\":1},\"geo\":{\"bgcolor\":\"white\",\"landcolor\":\"#E5ECF6\",\"subunitcolor\":\"white\",\"showland\":true,\"showlakes\":true,\"lakecolor\":\"white\"},\"title\":{\"x\":0.05},\"mapbox\":{\"style\":\"light\"}}},\"xaxis\":{\"anchor\":\"y\",\"domain\":[0.0,1.0],\"title\":{\"text\":\"Word\"},\"categoryorder\":\"array\",\"categoryarray\":[\"69\",\"Ahegao\",\"Amateur\",\"Upskirt\",\"Anal\",\"Ass\",\"Bikini\",\"Fuck\",\"Granny\",\"Hairy\",\"Pussy\",\"Handjob\",\"Homemade\",\"Housewife\",\"Interracial\",\"Latina\",\"Natural\",\"Tits\",\"Outdoor\",\"Petite\",\"Selfie\",\"Small\",\"Solo\",\"Spreading\",\"Stockings\",\"Teen\",\"Undressing\",\"Wife\",\"Yoga\",\"Pants\",\"American\",\"Mature\",\"Threesome\",\"Asian\",\"Babe\",\"Big\",\"Boots\",\"Fake\",\"Lingerie\",\"Feet\",\"Shorts\",\"Spread\",\"Cup\",\"BBW\",\"BDSM\",\"Banana\",\"Beautiful\",\"Face\",\"Russian\",\"Bent\",\"Over\",\"Panties\",\"Skirt\",\"Areolas\",\"Masturbation\",\"Doggystyle\",\"Mom\",\"Cock\",\"Blowjob\",\"Dick\",\"Fat\",\"Pierced\",\"Saggy\",\"Brunette\",\"Glasses\",\"Hardcore\",\"Nipples\",\"Nurse\",\"Pornstar\",\"Riding\",\"Secretary\",\"Shower\",\"Tattoo\",\"Titfuck\",\"Model\",\"Blonde\",\"Cum\",\"Boobs\",\"Booty\",\"Boss\",\"Bra\",\"Brazilian\",\"Bride\",\"British\",\"Bubble\",\"Butt\",\"Busty\",\"CFNM\",\"Car\",\"Centerfold\",\"Chubby\",\"Asshole\",\"Legs\",\"Lesbian\",\"Nerd\",\"Redhead\",\"Close\",\"Curvy\",\"Cute\",\"Czech\",\"DP\",\"Dildo\",\"Downblouse\",\"Eating\",\"Moms\",\"Erect\",\"Licking\",\"Tease\",\"Fit\",\"Fitness\",\"Body\",\"Sex\",\"Flat\",\"Chested\",\"French\",\"Maid\",\"From\",\"Behind\",\"GILF\",\"Gloves\",\"Grandma\",\"High\",\"Heels\",\"70\",\"Group\",\"Cumshot\",\"Gym\",\"Armpits\",\"Vagina\",\"Hanging\",\"Hard\",\"Horny\",\"Hot\",\"Naked\",\"Girls\",\"Women\",\"Huge\",\"Innocent\",\"Mouth\",\"Jeans\",\"Kissing\",\"Fucking\",\"Leather\",\"Leggings\",\"Fingering\",\"Fisting\",\"Stepmom\",\"Strapon\",\"Long\",\"MILF\",\"Massive\",\"Housewives\",\"Massage\",\"Office\",\"Older\",\"Shaved\",\"Micro\",\"Middle\",\"Aged\",\"Mini\",\"Monster\",\"Full\",\"Nerdy\",\"Nice\",\"Nudist\",\"Nylon\",\"Soles\",\"Oiled\",\"Old\",\"40\",\"50\",\"60\",\"PAWG\",\"POV\",\"Pale\",\"Panty\",\"Pantyhose\",\"Penis\",\"Perfect\",\"Perky\",\"Ponytail\",\"Pretty\",\"Public\",\"Flashing\",\"Freckles\",\"Rough\",\"Santa\",\"Sauna\",\"Seduction\",\"Sexy\",\"Dress\",\"Thong\",\"Short\",\"Hair\",\"Skinny\",\"Sloppy\",\"Sneakers\",\"Spanish\",\"Sucking\",\"Summer\",\"Sweater\",\"Tall\",\"Tattooed\",\"Facial\",\"Sport\",\"Thick\",\"Thigh\",\"Tight\",\"Tiny\",\"Tongue\",\"Topless\",\"Trimmed\",\"Very\",\"Wet\",\"Wide\",\"Hips\",\"Thighs\",\"Wrestling\"]},\"yaxis\":{\"anchor\":\"x\",\"domain\":[0.0,1.0],\"title\":{\"text\":\"Occurrences\"}},\"legend\":{\"title\":{\"text\":\"Word\"},\"tracegroupgap\":0,\"itemsizing\":\"constant\"},\"title\":{\"text\":\"Bubble Plot of Word Occurrences\"}},                        {\"responsive\": true}                    ).then(function(){\n",
       "                            \n",
       "var gd = document.getElementById('7d1ee532-292b-4756-a88a-16e329347f02');\n",
       "var x = new MutationObserver(function (mutations, observer) {{\n",
       "        var display = window.getComputedStyle(gd).display;\n",
       "        if (!display || display === 'none') {{\n",
       "            console.log([gd, 'removed!']);\n",
       "            Plotly.purge(gd);\n",
       "            observer.disconnect();\n",
       "        }}\n",
       "}});\n",
       "\n",
       "// Listen for the removal of the full notebook cells\n",
       "var notebookContainer = gd.closest('#notebook-container');\n",
       "if (notebookContainer) {{\n",
       "    x.observe(notebookContainer, {childList: true});\n",
       "}}\n",
       "\n",
       "// Listen for the clearing of the current output cell\n",
       "var outputEl = gd.closest('.output');\n",
       "if (outputEl) {{\n",
       "    x.observe(outputEl, {childList: true});\n",
       "}}\n",
       "\n",
       "                        })                };                });            </script>        </div>"
      ]
     },
     "metadata": {},
     "output_type": "display_data"
    }
   ],
   "execution_count": 75
  },
  {
   "metadata": {
    "ExecuteTime": {
     "end_time": "2024-05-30T11:35:07.930575Z",
     "start_time": "2024-05-30T11:35:07.574877Z"
    }
   },
   "cell_type": "code",
   "source": [
    "# from given path, open the image and resize it to 384 x 384 max size with proper aspect ratio and show it\n",
    "def show_image(image_path: Path):\n",
    "    from PIL import Image\n",
    "    image = Image.open(image_path)\n",
    "    image.thumbnail((384, 384))\n",
    "    image.show()\n",
    "show_image(\"images/christmas/18yearold-blonde-elan-z-shows-her-naked-body-in-red-stockings-at-christmas-77079731/77079731_002_6607.jpg\")"
   ],
   "id": "cbf507c9683abfd6",
   "outputs": [],
   "execution_count": 76
  },
  {
   "metadata": {},
   "cell_type": "markdown",
   "source": "# Training pipeline",
   "id": "9df2b4569af2d0f8"
  },
  {
   "metadata": {
    "ExecuteTime": {
     "end_time": "2024-05-30T12:46:09.555913Z",
     "start_time": "2024-05-30T12:46:04.118319Z"
    }
   },
   "cell_type": "code",
   "source": "!pip install transformers datasets torch torchvision accelerate",
   "id": "b95f7358465fa789",
   "outputs": [
    {
     "name": "stdout",
     "output_type": "stream",
     "text": [
      "Requirement already satisfied: transformers in ./venv/lib/python3.12/site-packages (4.40.2)\r\n",
      "Collecting datasets\r\n",
      "  Downloading datasets-2.19.1-py3-none-any.whl.metadata (19 kB)\r\n",
      "Requirement already satisfied: torch in ./venv/lib/python3.12/site-packages (2.3.0)\r\n",
      "Requirement already satisfied: torchvision in ./venv/lib/python3.12/site-packages (0.18.0)\r\n",
      "Collecting accelerate\r\n",
      "  Downloading accelerate-0.30.1-py3-none-any.whl.metadata (18 kB)\r\n",
      "Requirement already satisfied: filelock in ./venv/lib/python3.12/site-packages (from transformers) (3.14.0)\r\n",
      "Requirement already satisfied: huggingface-hub<1.0,>=0.19.3 in ./venv/lib/python3.12/site-packages (from transformers) (0.23.0)\r\n",
      "Requirement already satisfied: numpy>=1.17 in ./venv/lib/python3.12/site-packages (from transformers) (1.26.4)\r\n",
      "Requirement already satisfied: packaging>=20.0 in ./venv/lib/python3.12/site-packages (from transformers) (24.0)\r\n",
      "Requirement already satisfied: pyyaml>=5.1 in ./venv/lib/python3.12/site-packages (from transformers) (6.0.1)\r\n",
      "Requirement already satisfied: regex!=2019.12.17 in ./venv/lib/python3.12/site-packages (from transformers) (2024.4.28)\r\n",
      "Requirement already satisfied: requests in ./venv/lib/python3.12/site-packages (from transformers) (2.31.0)\r\n",
      "Requirement already satisfied: tokenizers<0.20,>=0.19 in ./venv/lib/python3.12/site-packages (from transformers) (0.19.1)\r\n",
      "Requirement already satisfied: safetensors>=0.4.1 in ./venv/lib/python3.12/site-packages (from transformers) (0.4.3)\r\n",
      "Requirement already satisfied: tqdm>=4.27 in ./venv/lib/python3.12/site-packages (from transformers) (4.66.4)\r\n",
      "Collecting pyarrow>=12.0.0 (from datasets)\r\n",
      "  Downloading pyarrow-16.1.0-cp312-cp312-macosx_11_0_arm64.whl.metadata (3.0 kB)\r\n",
      "Collecting pyarrow-hotfix (from datasets)\r\n",
      "  Using cached pyarrow_hotfix-0.6-py3-none-any.whl.metadata (3.6 kB)\r\n",
      "Collecting dill<0.3.9,>=0.3.0 (from datasets)\r\n",
      "  Using cached dill-0.3.8-py3-none-any.whl.metadata (10 kB)\r\n",
      "Requirement already satisfied: pandas in ./venv/lib/python3.12/site-packages (from datasets) (2.2.2)\r\n",
      "Collecting xxhash (from datasets)\r\n",
      "  Using cached xxhash-3.4.1-cp312-cp312-macosx_11_0_arm64.whl.metadata (12 kB)\r\n",
      "Collecting multiprocess (from datasets)\r\n",
      "  Using cached multiprocess-0.70.16-py312-none-any.whl.metadata (7.2 kB)\r\n",
      "Requirement already satisfied: fsspec<=2024.3.1,>=2023.1.0 in ./venv/lib/python3.12/site-packages (from fsspec[http]<=2024.3.1,>=2023.1.0->datasets) (2024.3.1)\r\n",
      "Requirement already satisfied: aiohttp in ./venv/lib/python3.12/site-packages (from datasets) (3.9.5)\r\n",
      "Requirement already satisfied: typing-extensions>=4.8.0 in ./venv/lib/python3.12/site-packages (from torch) (4.11.0)\r\n",
      "Requirement already satisfied: sympy in ./venv/lib/python3.12/site-packages (from torch) (1.12)\r\n",
      "Requirement already satisfied: networkx in ./venv/lib/python3.12/site-packages (from torch) (3.3)\r\n",
      "Requirement already satisfied: jinja2 in ./venv/lib/python3.12/site-packages (from torch) (3.1.4)\r\n",
      "Requirement already satisfied: pillow!=8.3.*,>=5.3.0 in ./venv/lib/python3.12/site-packages (from torchvision) (10.3.0)\r\n",
      "Requirement already satisfied: psutil in ./venv/lib/python3.12/site-packages (from accelerate) (5.9.8)\r\n",
      "Requirement already satisfied: aiosignal>=1.1.2 in ./venv/lib/python3.12/site-packages (from aiohttp->datasets) (1.3.1)\r\n",
      "Requirement already satisfied: attrs>=17.3.0 in ./venv/lib/python3.12/site-packages (from aiohttp->datasets) (23.2.0)\r\n",
      "Requirement already satisfied: frozenlist>=1.1.1 in ./venv/lib/python3.12/site-packages (from aiohttp->datasets) (1.4.1)\r\n",
      "Requirement already satisfied: multidict<7.0,>=4.5 in ./venv/lib/python3.12/site-packages (from aiohttp->datasets) (6.0.5)\r\n",
      "Requirement already satisfied: yarl<2.0,>=1.0 in ./venv/lib/python3.12/site-packages (from aiohttp->datasets) (1.9.4)\r\n",
      "Requirement already satisfied: charset-normalizer<4,>=2 in ./venv/lib/python3.12/site-packages (from requests->transformers) (3.3.2)\r\n",
      "Requirement already satisfied: idna<4,>=2.5 in ./venv/lib/python3.12/site-packages (from requests->transformers) (3.7)\r\n",
      "Requirement already satisfied: urllib3<3,>=1.21.1 in ./venv/lib/python3.12/site-packages (from requests->transformers) (2.2.1)\r\n",
      "Requirement already satisfied: certifi>=2017.4.17 in ./venv/lib/python3.12/site-packages (from requests->transformers) (2024.2.2)\r\n",
      "Requirement already satisfied: MarkupSafe>=2.0 in ./venv/lib/python3.12/site-packages (from jinja2->torch) (2.1.5)\r\n",
      "Requirement already satisfied: python-dateutil>=2.8.2 in ./venv/lib/python3.12/site-packages (from pandas->datasets) (2.9.0.post0)\r\n",
      "Requirement already satisfied: pytz>=2020.1 in ./venv/lib/python3.12/site-packages (from pandas->datasets) (2024.1)\r\n",
      "Requirement already satisfied: tzdata>=2022.7 in ./venv/lib/python3.12/site-packages (from pandas->datasets) (2024.1)\r\n",
      "Requirement already satisfied: mpmath>=0.19 in ./venv/lib/python3.12/site-packages (from sympy->torch) (1.3.0)\r\n",
      "Requirement already satisfied: six>=1.5 in ./venv/lib/python3.12/site-packages (from python-dateutil>=2.8.2->pandas->datasets) (1.16.0)\r\n",
      "Downloading datasets-2.19.1-py3-none-any.whl (542 kB)\r\n",
      "\u001B[2K   \u001B[90m━━━━━━━━━━━━━━━━━━━━━━━━━━━━━━━━━━━━━━━━\u001B[0m \u001B[32m542.0/542.0 kB\u001B[0m \u001B[31m14.1 MB/s\u001B[0m eta \u001B[36m0:00:00\u001B[0m00:01\u001B[0m\r\n",
      "\u001B[?25hDownloading accelerate-0.30.1-py3-none-any.whl (302 kB)\r\n",
      "\u001B[2K   \u001B[90m━━━━━━━━━━━━━━━━━━━━━━━━━━━━━━━━━━━━━━━━\u001B[0m \u001B[32m302.6/302.6 kB\u001B[0m \u001B[31m12.8 MB/s\u001B[0m eta \u001B[36m0:00:00\u001B[0m\r\n",
      "\u001B[?25hUsing cached dill-0.3.8-py3-none-any.whl (116 kB)\r\n",
      "Downloading pyarrow-16.1.0-cp312-cp312-macosx_11_0_arm64.whl (26.0 MB)\r\n",
      "\u001B[2K   \u001B[90m━━━━━━━━━━━━━━━━━━━━━━━━━━━━━━━━━━━━━━━━\u001B[0m \u001B[32m26.0/26.0 MB\u001B[0m \u001B[31m26.0 MB/s\u001B[0m eta \u001B[36m0:00:00\u001B[0m00:01\u001B[0m00:01\u001B[0m\r\n",
      "\u001B[?25hUsing cached multiprocess-0.70.16-py312-none-any.whl (146 kB)\r\n",
      "Using cached pyarrow_hotfix-0.6-py3-none-any.whl (7.9 kB)\r\n",
      "Using cached xxhash-3.4.1-cp312-cp312-macosx_11_0_arm64.whl (30 kB)\r\n",
      "Installing collected packages: xxhash, pyarrow-hotfix, pyarrow, dill, multiprocess, accelerate, datasets\r\n",
      "Successfully installed accelerate-0.30.1 datasets-2.19.1 dill-0.3.8 multiprocess-0.70.16 pyarrow-16.1.0 pyarrow-hotfix-0.6 xxhash-3.4.1\r\n"
     ]
    }
   ],
   "execution_count": 77
  },
  {
   "metadata": {},
   "cell_type": "markdown",
   "source": "# Load the dataset",
   "id": "9bafdf648e51b4af"
  },
  {
   "metadata": {},
   "cell_type": "code",
   "outputs": [],
   "execution_count": null,
   "source": [
    "from datasets import load_dataset\n",
    "from torchvision import transforms\n",
    "\n",
    "# Load your dataset (replace 'your_dataset' with the actual dataset)\n",
    "dataset = load_dataset('your_dataset')\n",
    "\n",
    "# Define the preprocessing function for higher resolution\n",
    "preprocess = transforms.Compose([\n",
    "    transforms.Resize((384, 384)),\n",
    "    transforms.ToTensor(),\n",
    "    transforms.Normalize(mean=[0.5, 0.5, 0.5], std=[0.5, 0.5, 0.5])\n",
    "])\n",
    "\n",
    "# Apply the preprocessing function to the dataset\n",
    "def preprocess_images(examples):\n",
    "    examples['pixel_values'] = [preprocess(image.convert(\"RGB\")) for image in examples['image']]\n",
    "    return examples\n",
    "\n",
    "# Preprocess the train and test sets\n",
    "dataset = dataset.map(preprocess_images, batched=True)"
   ],
   "id": "d5c90be86b636c3e"
  },
  {
   "metadata": {},
   "cell_type": "markdown",
   "source": "# Load the model",
   "id": "6dfdd44c90a7ab94"
  },
  {
   "metadata": {},
   "cell_type": "code",
   "outputs": [],
   "execution_count": null,
   "source": [
    "from transformers import ViTForImageClassification, ViTFeatureExtractor\n",
    "\n",
    "# Load the feature extractor for higher resolution\n",
    "feature_extractor = ViTFeatureExtractor.from_pretrained('google/vit-large-patch16-384')\n",
    "\n",
    "# Number of classes in your dataset\n",
    "num_classes = len(dataset['train'].features['label'].names)\n",
    "\n",
    "# Load the ViT model for higher resolution image classification\n",
    "model = ViTForImageClassification.from_pretrained('google/vit-large-patch16-384', num_labels=num_classes)"
   ],
   "id": "e780935ba9576a1f"
  },
  {
   "metadata": {},
   "cell_type": "markdown",
   "source": "# Training the model",
   "id": "2ee5cd9474b85439"
  },
  {
   "metadata": {},
   "cell_type": "code",
   "outputs": [],
   "execution_count": null,
   "source": [
    "import torch\n",
    "from torch.utils.data import DataLoader\n",
    "\n",
    "# Convert the dataset to a format compatible with PyTorch DataLoader\n",
    "def collate_fn(batch):\n",
    "    return {\n",
    "        'pixel_values': torch.stack([item['pixel_values'] for item in batch]),\n",
    "        'labels': torch.tensor([item['label'] for item in batch])\n",
    "    }\n",
    "\n",
    "# Create DataLoader instances\n",
    "train_loader = DataLoader(dataset['train'], batch_size=16, shuffle=True, collate_fn=collate_fn)\n",
    "test_loader = DataLoader(dataset['test'], batch_size=16, shuffle=False, collate_fn=collate_fn)"
   ],
   "id": "271f589c512f2c7c"
  },
  {
   "metadata": {},
   "cell_type": "markdown",
   "source": "# Accelerate the training",
   "id": "8358a1fcf0a5d66f"
  },
  {
   "metadata": {},
   "cell_type": "code",
   "outputs": [],
   "execution_count": null,
   "source": [
    "from accelerate import Accelerator\n",
    "\n",
    "# Initialize the Accelerator\n",
    "accelerator = Accelerator()\n",
    "\n",
    "# Prepare the model, optimizer, and dataloaders\n",
    "model, train_loader, test_loader = accelerator.prepare(model, train_loader, test_loader)"
   ],
   "id": "4a329056a8318905"
  },
  {
   "metadata": {},
   "cell_type": "markdown",
   "source": "# Define the optimizer and training loop",
   "id": "c8368d7b40d0bbe8"
  },
  {
   "metadata": {},
   "cell_type": "code",
   "outputs": [],
   "execution_count": null,
   "source": [
    "from transformers import AdamW\n",
    "from tqdm.auto import tqdm\n",
    "\n",
    "# Define the optimizer\n",
    "optimizer = AdamW(model.parameters(), lr=2e-5)\n",
    "\n",
    "# Training loop\n",
    "num_epochs = 3\n",
    "for epoch in range(num_epochs):\n",
    "    model.train()\n",
    "    for batch in tqdm(train_loader):\n",
    "        optimizer.zero_grad()\n",
    "        outputs = model(**batch)\n",
    "        loss = outputs.loss\n",
    "        accelerator.backward(loss)\n",
    "        optimizer.step()\n",
    "    \n",
    "    # Evaluation loop\n",
    "    model.eval()\n",
    "    correct = 0\n",
    "    total = 0\n",
    "    with torch.no_grad():\n",
    "        for batch in test_loader:\n",
    "            outputs = model(**batch)\n",
    "            predictions = outputs.logits.argmax(dim=-1)\n",
    "            correct += (predictions == batch['labels']).sum().item()\n",
    "            total += batch['labels'].size(0)\n",
    "    accuracy = correct / total\n",
    "    print(f'Epoch {epoch + 1}/{num_epochs}, Accuracy: {accuracy:.4f}')"
   ],
   "id": "3b6bcf911f84ad9e"
  }
 ],
 "metadata": {
  "kernelspec": {
   "display_name": "Python 3",
   "language": "python",
   "name": "python3"
  },
  "language_info": {
   "codemirror_mode": {
    "name": "ipython",
    "version": 2
   },
   "file_extension": ".py",
   "mimetype": "text/x-python",
   "name": "python",
   "nbconvert_exporter": "python",
   "pygments_lexer": "ipython2",
   "version": "2.7.6"
  }
 },
 "nbformat": 4,
 "nbformat_minor": 5
}
