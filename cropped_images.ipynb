{
 "cells": [
  {
   "metadata": {
    "ExecuteTime": {
     "end_time": "2024-06-10T14:53:04.036557Z",
     "start_time": "2024-06-10T14:53:04.032406Z"
    }
   },
   "cell_type": "code",
   "source": [
    "import pandas as pd\n",
    "from tqdm import tqdm\n",
    "from pathlib import Path\n",
    "from utils import SRC_DIR\n",
    "from concurrent.futures import ThreadPoolExecutor\n",
    "\n",
    "# def is_cropped(row):\n",
    "#     file_path = Path(row.file_path)\n",
    "#     cropped_file_path = SRC_DIR / file_path.parent / 'cropped' / file_path.name\n",
    "#     if cropped_file_path.exists():\n",
    "#         return True\n",
    "#     else:\n",
    "#         return False\n",
    "# \n",
    "# \n",
    "# def replace_file_path(row):\n",
    "#     file_path = Path(row.file_path)\n",
    "#     return (file_path.parent / 'cropped' / file_path.name).as_posix()\n",
    "# \n",
    "# for dataset_path in [\n",
    "#     'ai_gen_dataset_5_cats',\n",
    "#     'ai_gen_dataset_10_cats',\n",
    "#     'medium_one_hot',\n",
    "#     'small_one_hot'\n",
    "# ]:\n",
    "#     df = pd.read_csv(f'datasets/{dataset_path}.csv', index_col=0)\n",
    "#     start = df.shape[0]\n",
    "#     df['is_cropped'] = df.apply(is_cropped, axis=1)\n",
    "#     df = df[df['is_cropped']]\n",
    "#     df['file_path'] = df.apply(replace_file_path, axis=1)\n",
    "#     df.drop(['is_cropped'], axis=1, inplace=True)\n",
    "#     df.reset_index(drop=True, inplace=True)\n",
    "#     df.to_csv(f\"datasets/cropped_{dataset_path}.csv\")\n",
    "#     print(dataset_path, \"reduced by\", abs(df.shape[0] - start))"
   ],
   "id": "3d223d8f93b713de",
   "outputs": [],
   "execution_count": 3
  },
  {
   "metadata": {
    "ExecuteTime": {
     "end_time": "2024-06-10T14:53:04.969414Z",
     "start_time": "2024-06-10T14:53:04.965987Z"
    }
   },
   "cell_type": "code",
   "source": [
    "import shutil\n",
    "\n",
    "temp = Path(\"./runpod_images\")\n",
    "temp.mkdir(exist_ok=True, parents=True)"
   ],
   "id": "2f7092b11cf2f467",
   "outputs": [],
   "execution_count": 4
  },
  {
   "metadata": {
    "ExecuteTime": {
     "end_time": "2024-06-10T14:53:08.035102Z",
     "start_time": "2024-06-10T14:53:07.358659Z"
    }
   },
   "cell_type": "code",
   "source": [
    "df_name = 'medium_one_hot'\n",
    "df = pd.read_csv(f'datasets/cropped_{df_name}.csv', index_col=0)"
   ],
   "id": "e76969c756e53fbe",
   "outputs": [],
   "execution_count": 5
  },
  {
   "metadata": {
    "ExecuteTime": {
     "end_time": "2024-06-10T14:54:02.140581Z",
     "start_time": "2024-06-10T14:53:50.696169Z"
    }
   },
   "cell_type": "code",
   "source": [
    "def copy_file(row):\n",
    "    T = temp / row.file_path.replace(\"/cropped/\", \"/\")\n",
    "    T.parent.mkdir(parents=True, exist_ok=True)\n",
    "    if not T.exists():\n",
    "        shutil.copy(\n",
    "            src=SRC_DIR / row.file_path,\n",
    "            dst=T\n",
    "        )\n",
    "\n",
    "\n",
    "with ThreadPoolExecutor(max_workers=16) as executor:\n",
    "    futures = []\n",
    "    for i, row in df.iterrows():\n",
    "        futures.append(\n",
    "            executor.submit(copy_file, row)\n",
    "        )\n",
    "\n",
    "    for f in tqdm(futures, total=len(futures), desc=\"copying files\"):\n",
    "        f.result()"
   ],
   "id": "b8e8522c0421ee4a",
   "outputs": [
    {
     "name": "stderr",
     "output_type": "stream",
     "text": [
      "copying files: 100%|██████████| 206486/206486 [00:05<00:00, 40551.93it/s]\n"
     ]
    }
   ],
   "execution_count": 7
  },
  {
   "metadata": {
    "ExecuteTime": {
     "end_time": "2024-06-10T14:54:31.827608Z",
     "start_time": "2024-06-10T14:54:31.806127Z"
    }
   },
   "cell_type": "code",
   "source": "df.shape",
   "id": "e2759ae0f570e45c",
   "outputs": [
    {
     "data": {
      "text/plain": [
       "(206486, 114)"
      ]
     },
     "execution_count": 8,
     "metadata": {},
     "output_type": "execute_result"
    }
   ],
   "execution_count": 8
  },
  {
   "metadata": {},
   "cell_type": "code",
   "source": "",
   "id": "98ef448b3bfae8e3",
   "outputs": [],
   "execution_count": null
  }
 ],
 "metadata": {
  "kernelspec": {
   "display_name": "Python 3",
   "language": "python",
   "name": "python3"
  },
  "language_info": {
   "codemirror_mode": {
    "name": "ipython",
    "version": 2
   },
   "file_extension": ".py",
   "mimetype": "text/x-python",
   "name": "python",
   "nbconvert_exporter": "python",
   "pygments_lexer": "ipython2",
   "version": "2.7.6"
  }
 },
 "nbformat": 4,
 "nbformat_minor": 5
}
