{
 "cells": [
  {
   "cell_type": "code",
   "id": "initial_id",
   "metadata": {
    "collapsed": true,
    "ExecuteTime": {
     "end_time": "2024-05-21T14:31:35.059119Z",
     "start_time": "2024-05-21T14:31:33.999814Z"
    }
   },
   "source": [
    "import os\n",
    "from concurrent.futures import ThreadPoolExecutor, as_completed\n",
    "from PIL import Image\n",
    "import pandas as pd\n",
    "\n",
    "\n",
    "def get_image_info(file_path):\n",
    "    try:\n",
    "        with Image.open(file_path) as img:\n",
    "            width, height = img.size\n",
    "        return (os.path.basename(file_path), width, height, os.path.dirname(file_path))\n",
    "    except Exception as e:\n",
    "        print(f\"Error processing file {file_path}: {e}\")\n",
    "        return None\n",
    "\n",
    "\n",
    "def scan_for_images(root_folder):\n",
    "    image_info_list = []\n",
    "\n",
    "    with ThreadPoolExecutor() as executor:\n",
    "        futures = []\n",
    "        for subdir, _, files in os.walk(root_folder):\n",
    "            for file in files:\n",
    "                if file.lower().endswith(('.png', '.jpg', '.jpeg', '.gif', '.bmp', '.tiff')):\n",
    "                    file_path = os.path.join(subdir, file)\n",
    "                    futures.append(executor.submit(get_image_info, file_path))\n",
    "\n",
    "        for future in as_completed(futures):\n",
    "            result = future.result()\n",
    "            if result:\n",
    "                image_info_list.append(result)\n",
    "\n",
    "    df = pd.DataFrame(image_info_list, columns=['File', 'Width', 'Height', 'Folder'])\n",
    "    return df"
   ],
   "outputs": [],
   "execution_count": 1
  },
  {
   "metadata": {
    "ExecuteTime": {
     "end_time": "2024-05-21T14:33:03.604236Z",
     "start_time": "2024-05-21T14:31:35.060030Z"
    }
   },
   "cell_type": "code",
   "source": [
    "root_folder = '.'\n",
    "image_info_df = scan_for_images(root_folder)\n",
    "print(image_info_df)"
   ],
   "id": "ff985c459429f2ef",
   "outputs": [
    {
     "name": "stderr",
     "output_type": "stream",
     "text": [
      "/Users/milosz.bertman/Projects/milfusion/venv/lib/python3.12/site-packages/PIL/TiffImagePlugin.py:890: UserWarning: Corrupt EXIF data.  Expecting to read 2 bytes but only got 0. \n",
      "  warnings.warn(str(msg))\n"
     ]
    },
    {
     "name": "stdout",
     "output_type": "stream",
     "text": [
      "                         File  Width  Height  \\\n",
      "0       42437415_101_895b.jpg    853    1280   \n",
      "1       42437415_010_bd28.jpg    853    1280   \n",
      "2       42437415_020_b548.jpg    853    1280   \n",
      "3       42437415_142_5966.jpg    853    1280   \n",
      "4       42437415_107_e68e.jpg    853    1280   \n",
      "...                       ...    ...     ...   \n",
      "619631  13945022_135_29d7.jpg   1280     853   \n",
      "619632  13945022_010_e658.jpg   1280     853   \n",
      "619633  13945022_016_f18d.jpg   1280     853   \n",
      "619634  13945022_067_b810.jpg    853    1280   \n",
      "619635  13945022_317_e3c5.jpg   1280     853   \n",
      "\n",
      "                                                   Folder  \n",
      "0       ./beautiful/adorable-amateur-with-blue-eyes-an...  \n",
      "1       ./beautiful/adorable-amateur-with-blue-eyes-an...  \n",
      "2       ./beautiful/adorable-amateur-with-blue-eyes-an...  \n",
      "3       ./beautiful/adorable-amateur-with-blue-eyes-an...  \n",
      "4       ./beautiful/adorable-amateur-with-blue-eyes-an...  \n",
      "...                                                   ...  \n",
      "619631  ./cougar/busty-milf-alura-jenson-enjoying-a-ha...  \n",
      "619632  ./cougar/busty-milf-alura-jenson-enjoying-a-ha...  \n",
      "619633  ./cougar/busty-milf-alura-jenson-enjoying-a-ha...  \n",
      "619634  ./cougar/busty-milf-alura-jenson-enjoying-a-ha...  \n",
      "619635  ./cougar/busty-milf-alura-jenson-enjoying-a-ha...  \n",
      "\n",
      "[619636 rows x 4 columns]\n"
     ]
    }
   ],
   "execution_count": 2
  },
  {
   "metadata": {
    "ExecuteTime": {
     "end_time": "2024-05-21T14:33:04.760430Z",
     "start_time": "2024-05-21T14:33:03.605821Z"
    }
   },
   "cell_type": "code",
   "source": "image_info_df.to_csv('scraped_images.csv', index=False)",
   "id": "7e8bfcc597975364",
   "outputs": [],
   "execution_count": 3
  },
  {
   "metadata": {
    "ExecuteTime": {
     "end_time": "2024-05-21T14:33:04.792435Z",
     "start_time": "2024-05-21T14:33:04.762017Z"
    }
   },
   "cell_type": "code",
   "source": "image_info_df",
   "id": "8b9d4fe3052e5c53",
   "outputs": [
    {
     "data": {
      "text/plain": [
       "                         File  Width  Height  \\\n",
       "0       42437415_101_895b.jpg    853    1280   \n",
       "1       42437415_010_bd28.jpg    853    1280   \n",
       "2       42437415_020_b548.jpg    853    1280   \n",
       "3       42437415_142_5966.jpg    853    1280   \n",
       "4       42437415_107_e68e.jpg    853    1280   \n",
       "...                       ...    ...     ...   \n",
       "619631  13945022_135_29d7.jpg   1280     853   \n",
       "619632  13945022_010_e658.jpg   1280     853   \n",
       "619633  13945022_016_f18d.jpg   1280     853   \n",
       "619634  13945022_067_b810.jpg    853    1280   \n",
       "619635  13945022_317_e3c5.jpg   1280     853   \n",
       "\n",
       "                                                   Folder  \n",
       "0       ./beautiful/adorable-amateur-with-blue-eyes-an...  \n",
       "1       ./beautiful/adorable-amateur-with-blue-eyes-an...  \n",
       "2       ./beautiful/adorable-amateur-with-blue-eyes-an...  \n",
       "3       ./beautiful/adorable-amateur-with-blue-eyes-an...  \n",
       "4       ./beautiful/adorable-amateur-with-blue-eyes-an...  \n",
       "...                                                   ...  \n",
       "619631  ./cougar/busty-milf-alura-jenson-enjoying-a-ha...  \n",
       "619632  ./cougar/busty-milf-alura-jenson-enjoying-a-ha...  \n",
       "619633  ./cougar/busty-milf-alura-jenson-enjoying-a-ha...  \n",
       "619634  ./cougar/busty-milf-alura-jenson-enjoying-a-ha...  \n",
       "619635  ./cougar/busty-milf-alura-jenson-enjoying-a-ha...  \n",
       "\n",
       "[619636 rows x 4 columns]"
      ],
      "text/html": [
       "<div>\n",
       "<style scoped>\n",
       "    .dataframe tbody tr th:only-of-type {\n",
       "        vertical-align: middle;\n",
       "    }\n",
       "\n",
       "    .dataframe tbody tr th {\n",
       "        vertical-align: top;\n",
       "    }\n",
       "\n",
       "    .dataframe thead th {\n",
       "        text-align: right;\n",
       "    }\n",
       "</style>\n",
       "<table border=\"1\" class=\"dataframe\">\n",
       "  <thead>\n",
       "    <tr style=\"text-align: right;\">\n",
       "      <th></th>\n",
       "      <th>File</th>\n",
       "      <th>Width</th>\n",
       "      <th>Height</th>\n",
       "      <th>Folder</th>\n",
       "    </tr>\n",
       "  </thead>\n",
       "  <tbody>\n",
       "    <tr>\n",
       "      <th>0</th>\n",
       "      <td>42437415_101_895b.jpg</td>\n",
       "      <td>853</td>\n",
       "      <td>1280</td>\n",
       "      <td>./beautiful/adorable-amateur-with-blue-eyes-an...</td>\n",
       "    </tr>\n",
       "    <tr>\n",
       "      <th>1</th>\n",
       "      <td>42437415_010_bd28.jpg</td>\n",
       "      <td>853</td>\n",
       "      <td>1280</td>\n",
       "      <td>./beautiful/adorable-amateur-with-blue-eyes-an...</td>\n",
       "    </tr>\n",
       "    <tr>\n",
       "      <th>2</th>\n",
       "      <td>42437415_020_b548.jpg</td>\n",
       "      <td>853</td>\n",
       "      <td>1280</td>\n",
       "      <td>./beautiful/adorable-amateur-with-blue-eyes-an...</td>\n",
       "    </tr>\n",
       "    <tr>\n",
       "      <th>3</th>\n",
       "      <td>42437415_142_5966.jpg</td>\n",
       "      <td>853</td>\n",
       "      <td>1280</td>\n",
       "      <td>./beautiful/adorable-amateur-with-blue-eyes-an...</td>\n",
       "    </tr>\n",
       "    <tr>\n",
       "      <th>4</th>\n",
       "      <td>42437415_107_e68e.jpg</td>\n",
       "      <td>853</td>\n",
       "      <td>1280</td>\n",
       "      <td>./beautiful/adorable-amateur-with-blue-eyes-an...</td>\n",
       "    </tr>\n",
       "    <tr>\n",
       "      <th>...</th>\n",
       "      <td>...</td>\n",
       "      <td>...</td>\n",
       "      <td>...</td>\n",
       "      <td>...</td>\n",
       "    </tr>\n",
       "    <tr>\n",
       "      <th>619631</th>\n",
       "      <td>13945022_135_29d7.jpg</td>\n",
       "      <td>1280</td>\n",
       "      <td>853</td>\n",
       "      <td>./cougar/busty-milf-alura-jenson-enjoying-a-ha...</td>\n",
       "    </tr>\n",
       "    <tr>\n",
       "      <th>619632</th>\n",
       "      <td>13945022_010_e658.jpg</td>\n",
       "      <td>1280</td>\n",
       "      <td>853</td>\n",
       "      <td>./cougar/busty-milf-alura-jenson-enjoying-a-ha...</td>\n",
       "    </tr>\n",
       "    <tr>\n",
       "      <th>619633</th>\n",
       "      <td>13945022_016_f18d.jpg</td>\n",
       "      <td>1280</td>\n",
       "      <td>853</td>\n",
       "      <td>./cougar/busty-milf-alura-jenson-enjoying-a-ha...</td>\n",
       "    </tr>\n",
       "    <tr>\n",
       "      <th>619634</th>\n",
       "      <td>13945022_067_b810.jpg</td>\n",
       "      <td>853</td>\n",
       "      <td>1280</td>\n",
       "      <td>./cougar/busty-milf-alura-jenson-enjoying-a-ha...</td>\n",
       "    </tr>\n",
       "    <tr>\n",
       "      <th>619635</th>\n",
       "      <td>13945022_317_e3c5.jpg</td>\n",
       "      <td>1280</td>\n",
       "      <td>853</td>\n",
       "      <td>./cougar/busty-milf-alura-jenson-enjoying-a-ha...</td>\n",
       "    </tr>\n",
       "  </tbody>\n",
       "</table>\n",
       "<p>619636 rows × 4 columns</p>\n",
       "</div>"
      ]
     },
     "execution_count": 4,
     "metadata": {},
     "output_type": "execute_result"
    }
   ],
   "execution_count": 4
  },
  {
   "metadata": {},
   "cell_type": "code",
   "outputs": [],
   "execution_count": null,
   "source": "",
   "id": "e54dc6d9b44619de"
  }
 ],
 "metadata": {
  "kernelspec": {
   "display_name": "Python 3",
   "language": "python",
   "name": "python3"
  },
  "language_info": {
   "codemirror_mode": {
    "name": "ipython",
    "version": 2
   },
   "file_extension": ".py",
   "mimetype": "text/x-python",
   "name": "python",
   "nbconvert_exporter": "python",
   "pygments_lexer": "ipython2",
   "version": "2.7.6"
  }
 },
 "nbformat": 4,
 "nbformat_minor": 5
}
