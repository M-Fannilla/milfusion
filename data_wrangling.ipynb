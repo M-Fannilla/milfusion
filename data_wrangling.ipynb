{
 "cells": [
  {
   "cell_type": "code",
   "execution_count": 1,
   "id": "2d4db2e2d8ee0a33",
   "metadata": {
    "ExecuteTime": {
     "end_time": "2024-05-18T19:07:50.354082Z",
     "start_time": "2024-05-18T19:07:50.030503Z"
    }
   },
   "outputs": [],
   "source": [
    "import os\n",
    "import pandas as pd\n",
    "from PIL import Image\n",
    "from tqdm import tqdm\n",
    "from pathlib import Path\n",
    "import plotly.express as px\n",
    "from concurrent.futures import ThreadPoolExecutor, as_completed"
   ]
  },
  {
   "cell_type": "code",
   "execution_count": 2,
   "id": "0f09a8ac",
   "metadata": {},
   "outputs": [],
   "source": [
    "IMG_DIR = Path(\"/teamspace/uploads\")\n",
    "ANSWER_DIR = Path(\"./milfusion/captioning/_desc\")\n",
    "\n",
    "assert IMG_DIR.exists(), \"Image dir does not exist\"\n",
    "assert ANSWER_DIR.exists(), \"Answer dir does not exist\""
   ]
  },
  {
   "cell_type": "code",
   "execution_count": 3,
   "id": "initial_id",
   "metadata": {
    "ExecuteTime": {
     "end_time": "2024-05-18T19:07:51.422594Z",
     "start_time": "2024-05-18T19:07:51.408974Z"
    }
   },
   "outputs": [
    {
     "name": "stderr",
     "output_type": "stream",
     "text": [
      "100%|██████████| 14394/14394 [01:14<00:00, 193.50it/s]\n"
     ]
    }
   ],
   "source": [
    "def process_image(file_path):\n",
    "    try:\n",
    "        image = Image.open(file_path)\n",
    "        width, height = image.size\n",
    "        return (os.path.basename(file_path), width, height)\n",
    "    except Exception as e:\n",
    "        print(f\"Could not process image {file_path}: {e}\")\n",
    "        return None\n",
    "\n",
    "def fetch_and_plot_image_resolutions_from_directory(directory_path):\n",
    "    # Collect all image files\n",
    "    image_files = [\n",
    "        os.path.join(directory_path, filename)\n",
    "        for filename in os.listdir(directory_path)\n",
    "        if filename.lower().endswith(('.png', '.jpg', '.jpeg', '.bmp', '.gif', '.tiff'))\n",
    "    ]\n",
    "    \n",
    "    # Process images concurrently\n",
    "    image_dimensions = []\n",
    "    with ThreadPoolExecutor() as executor:\n",
    "        futures = [executor.submit(process_image, file) for file in image_files]\n",
    "        for future in tqdm(as_completed(futures), total=len(futures)):\n",
    "            result = future.result()\n",
    "            if result is not None:\n",
    "                image_dimensions.append(result)\n",
    "\n",
    "    return pd.DataFrame(image_dimensions, columns=['filename', 'width', 'height'])\n",
    "\n",
    "df = fetch_and_plot_image_resolutions_from_directory(IMG_DIR)"
   ]
  },
  {
   "cell_type": "code",
   "execution_count": 4,
   "id": "5d73ca0c445ec229",
   "metadata": {
    "ExecuteTime": {
     "end_time": "2024-05-18T19:07:52.211823Z",
     "start_time": "2024-05-18T19:07:52.206192Z"
    }
   },
   "outputs": [
    {
     "data": {
      "text/html": [
       "<div>\n",
       "<style scoped>\n",
       "    .dataframe tbody tr th:only-of-type {\n",
       "        vertical-align: middle;\n",
       "    }\n",
       "\n",
       "    .dataframe tbody tr th {\n",
       "        vertical-align: top;\n",
       "    }\n",
       "\n",
       "    .dataframe thead th {\n",
       "        text-align: right;\n",
       "    }\n",
       "</style>\n",
       "<table border=\"1\" class=\"dataframe\">\n",
       "  <thead>\n",
       "    <tr style=\"text-align: right;\">\n",
       "      <th></th>\n",
       "      <th>filename</th>\n",
       "      <th>width</th>\n",
       "      <th>height</th>\n",
       "    </tr>\n",
       "  </thead>\n",
       "  <tbody>\n",
       "    <tr>\n",
       "      <th>0</th>\n",
       "      <td>00107350022QUaL7b.png</td>\n",
       "      <td>450</td>\n",
       "      <td>450</td>\n",
       "    </tr>\n",
       "    <tr>\n",
       "      <th>1</th>\n",
       "      <td>00106719187KZXYr8.png</td>\n",
       "      <td>450</td>\n",
       "      <td>450</td>\n",
       "    </tr>\n",
       "    <tr>\n",
       "      <th>2</th>\n",
       "      <td>0010210809urGd1pR.png</td>\n",
       "      <td>450</td>\n",
       "      <td>450</td>\n",
       "    </tr>\n",
       "    <tr>\n",
       "      <th>3</th>\n",
       "      <td>0010671932WZK5Iw2.png</td>\n",
       "      <td>306</td>\n",
       "      <td>437</td>\n",
       "    </tr>\n",
       "    <tr>\n",
       "      <th>4</th>\n",
       "      <td>0010671922tFLiLN1.png</td>\n",
       "      <td>438</td>\n",
       "      <td>536</td>\n",
       "    </tr>\n",
       "    <tr>\n",
       "      <th>...</th>\n",
       "      <td>...</td>\n",
       "      <td>...</td>\n",
       "      <td>...</td>\n",
       "    </tr>\n",
       "    <tr>\n",
       "      <th>14389</th>\n",
       "      <td>597903354y5dqsXd.jpg</td>\n",
       "      <td>1019</td>\n",
       "      <td>638</td>\n",
       "    </tr>\n",
       "    <tr>\n",
       "      <th>14390</th>\n",
       "      <td>599072157RQG8vh1.png</td>\n",
       "      <td>410</td>\n",
       "      <td>584</td>\n",
       "    </tr>\n",
       "    <tr>\n",
       "      <th>14391</th>\n",
       "      <td>5990721494eFZqyd.png</td>\n",
       "      <td>450</td>\n",
       "      <td>450</td>\n",
       "    </tr>\n",
       "    <tr>\n",
       "      <th>14392</th>\n",
       "      <td>599072153Z9XJTJx.png</td>\n",
       "      <td>470</td>\n",
       "      <td>384</td>\n",
       "    </tr>\n",
       "    <tr>\n",
       "      <th>14393</th>\n",
       "      <td>59907214279Tgpci.png</td>\n",
       "      <td>450</td>\n",
       "      <td>450</td>\n",
       "    </tr>\n",
       "  </tbody>\n",
       "</table>\n",
       "<p>14394 rows × 3 columns</p>\n",
       "</div>"
      ],
      "text/plain": [
       "                    filename  width  height\n",
       "0      00107350022QUaL7b.png    450     450\n",
       "1      00106719187KZXYr8.png    450     450\n",
       "2      0010210809urGd1pR.png    450     450\n",
       "3      0010671932WZK5Iw2.png    306     437\n",
       "4      0010671922tFLiLN1.png    438     536\n",
       "...                      ...    ...     ...\n",
       "14389   597903354y5dqsXd.jpg   1019     638\n",
       "14390   599072157RQG8vh1.png    410     584\n",
       "14391   5990721494eFZqyd.png    450     450\n",
       "14392   599072153Z9XJTJx.png    470     384\n",
       "14393   59907214279Tgpci.png    450     450\n",
       "\n",
       "[14394 rows x 3 columns]"
      ]
     },
     "execution_count": 4,
     "metadata": {},
     "output_type": "execute_result"
    }
   ],
   "source": [
    "df"
   ]
  },
  {
   "cell_type": "code",
   "execution_count": 5,
   "id": "262029395eff04",
   "metadata": {
    "ExecuteTime": {
     "end_time": "2024-05-18T19:07:53.714028Z",
     "start_time": "2024-05-18T19:07:53.711154Z"
    }
   },
   "outputs": [],
   "source": [
    "min_width = 640\n",
    "min_height = 640\n",
    "max_width = 1280\n",
    "max_height = 1280"
   ]
  },
  {
   "cell_type": "code",
   "execution_count": 6,
   "id": "b9de08b4fb2b2f57",
   "metadata": {
    "ExecuteTime": {
     "end_time": "2024-05-18T19:07:54.394603Z",
     "start_time": "2024-05-18T19:07:54.387500Z"
    }
   },
   "outputs": [
    {
     "data": {
      "text/html": [
       "<div>\n",
       "<style scoped>\n",
       "    .dataframe tbody tr th:only-of-type {\n",
       "        vertical-align: middle;\n",
       "    }\n",
       "\n",
       "    .dataframe tbody tr th {\n",
       "        vertical-align: top;\n",
       "    }\n",
       "\n",
       "    .dataframe thead th {\n",
       "        text-align: right;\n",
       "    }\n",
       "</style>\n",
       "<table border=\"1\" class=\"dataframe\">\n",
       "  <thead>\n",
       "    <tr style=\"text-align: right;\">\n",
       "      <th></th>\n",
       "      <th>filename</th>\n",
       "      <th>width</th>\n",
       "      <th>height</th>\n",
       "    </tr>\n",
       "  </thead>\n",
       "  <tbody>\n",
       "    <tr>\n",
       "      <th>30</th>\n",
       "      <td>0014259142INGeJSv.png</td>\n",
       "      <td>665</td>\n",
       "      <td>871</td>\n",
       "    </tr>\n",
       "    <tr>\n",
       "      <th>64</th>\n",
       "      <td>0015960404ohJGoft.png</td>\n",
       "      <td>941</td>\n",
       "      <td>833</td>\n",
       "    </tr>\n",
       "    <tr>\n",
       "      <th>78</th>\n",
       "      <td>0016754111ciGik2d.png</td>\n",
       "      <td>669</td>\n",
       "      <td>679</td>\n",
       "    </tr>\n",
       "    <tr>\n",
       "      <th>82</th>\n",
       "      <td>0016754105udVReoy.png</td>\n",
       "      <td>664</td>\n",
       "      <td>705</td>\n",
       "    </tr>\n",
       "    <tr>\n",
       "      <th>94</th>\n",
       "      <td>0023011832WsdXnuL.png</td>\n",
       "      <td>694</td>\n",
       "      <td>934</td>\n",
       "    </tr>\n",
       "    <tr>\n",
       "      <th>...</th>\n",
       "      <td>...</td>\n",
       "      <td>...</td>\n",
       "      <td>...</td>\n",
       "    </tr>\n",
       "    <tr>\n",
       "      <th>14353</th>\n",
       "      <td>594567107TyTMef6.jpg</td>\n",
       "      <td>1000</td>\n",
       "      <td>1000</td>\n",
       "    </tr>\n",
       "    <tr>\n",
       "      <th>14354</th>\n",
       "      <td>594567104YinzFQn.jpg</td>\n",
       "      <td>801</td>\n",
       "      <td>801</td>\n",
       "    </tr>\n",
       "    <tr>\n",
       "      <th>14370</th>\n",
       "      <td>5955976444hHp9Tu.jpg</td>\n",
       "      <td>864</td>\n",
       "      <td>650</td>\n",
       "    </tr>\n",
       "    <tr>\n",
       "      <th>14386</th>\n",
       "      <td>597778215nI4eKoV.jpg</td>\n",
       "      <td>1584</td>\n",
       "      <td>970</td>\n",
       "    </tr>\n",
       "    <tr>\n",
       "      <th>14387</th>\n",
       "      <td>597778240MfEpZf0.jpg</td>\n",
       "      <td>796</td>\n",
       "      <td>1133</td>\n",
       "    </tr>\n",
       "  </tbody>\n",
       "</table>\n",
       "<p>840 rows × 3 columns</p>\n",
       "</div>"
      ],
      "text/plain": [
       "                    filename  width  height\n",
       "30     0014259142INGeJSv.png    665     871\n",
       "64     0015960404ohJGoft.png    941     833\n",
       "78     0016754111ciGik2d.png    669     679\n",
       "82     0016754105udVReoy.png    664     705\n",
       "94     0023011832WsdXnuL.png    694     934\n",
       "...                      ...    ...     ...\n",
       "14353   594567107TyTMef6.jpg   1000    1000\n",
       "14354   594567104YinzFQn.jpg    801     801\n",
       "14370   5955976444hHp9Tu.jpg    864     650\n",
       "14386   597778215nI4eKoV.jpg   1584     970\n",
       "14387   597778240MfEpZf0.jpg    796    1133\n",
       "\n",
       "[840 rows x 3 columns]"
      ]
     },
     "execution_count": 6,
     "metadata": {},
     "output_type": "execute_result"
    }
   ],
   "source": [
    "df = df[\n",
    "    (df.width > min_width)\n",
    "    & (df.height > min_height)\n",
    "    # & (df.width < max_width)\n",
    "    # & (df.height < max_height)\n",
    "    ]\n",
    "df"
   ]
  },
  {
   "cell_type": "code",
   "execution_count": 7,
   "id": "470baef7ea36bbe7",
   "metadata": {
    "ExecuteTime": {
     "end_time": "2024-05-18T19:08:05.332400Z",
     "start_time": "2024-05-18T19:08:05.329339Z"
    }
   },
   "outputs": [
    {
     "data": {
      "text/plain": [
       "(840, 3)"
      ]
     },
     "execution_count": 7,
     "metadata": {},
     "output_type": "execute_result"
    }
   ],
   "source": [
    "df.shape"
   ]
  },
  {
   "cell_type": "code",
   "execution_count": null,
   "id": "170e25eda5160a4b",
   "metadata": {},
   "outputs": [],
   "source": []
  }
 ],
 "metadata": {
  "kernelspec": {
   "display_name": "Python 3",
   "language": "python",
   "name": "python3"
  },
  "language_info": {
   "codemirror_mode": {
    "name": "ipython",
    "version": 3
   },
   "file_extension": ".py",
   "mimetype": "text/x-python",
   "name": "python",
   "nbconvert_exporter": "python",
   "pygments_lexer": "ipython3",
   "version": "3.10.10"
  }
 },
 "nbformat": 4,
 "nbformat_minor": 5
}
