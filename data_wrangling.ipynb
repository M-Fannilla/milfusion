{
 "cells": [
  {
   "metadata": {
    "ExecuteTime": {
     "end_time": "2024-06-02T09:04:45.450668Z",
     "start_time": "2024-06-02T09:04:45.443306Z"
    }
   },
   "cell_type": "code",
   "source": [
    "%load_ext autoreload\n",
    "%autoreload 2"
   ],
   "id": "861fab3bc46871da",
   "outputs": [],
   "execution_count": 1
  },
  {
   "cell_type": "code",
   "id": "2d4db2e2d8ee0a33",
   "metadata": {
    "ExecuteTime": {
     "end_time": "2024-06-02T09:04:46.474521Z",
     "start_time": "2024-06-02T09:04:45.451553Z"
    }
   },
   "source": [
    "import pandas as pd\n",
    "from collections import Counter\n",
    "import ast\n",
    "import matplotlib.pyplot as plt"
   ],
   "outputs": [],
   "execution_count": 2
  },
  {
   "metadata": {},
   "cell_type": "code",
   "source": [
    "df = pd.read_csv('filenames_dataset.csv', index_col=0)\n",
    "df.tags_list = df.tags_list.astype(object)\n",
    "df"
   ],
   "id": "adb2aaa48c88fd04",
   "outputs": [],
   "execution_count": null
  },
  {
   "metadata": {},
   "cell_type": "code",
   "source": [
    "# Flatten the list of tags\n",
    "all_tags = [ast.literal_eval(sublist) for sublist in df['categories'].values if pd.isna(sublist) == False]\n",
    "merged_list = [item for sublist in all_tags for item in sublist]\n",
    "tag_counts = Counter(merged_list)\n",
    "tag_counts"
   ],
   "id": "d762e5c4d607f429",
   "outputs": [],
   "execution_count": null
  },
  {
   "metadata": {},
   "cell_type": "code",
   "source": "categories = list(tag_counts.keys())",
   "id": "13be79be9e0aa647",
   "outputs": [],
   "execution_count": null
  },
  {
   "metadata": {},
   "cell_type": "code",
   "source": [
    "from wordcloud import WordCloud\n",
    "\n",
    "# Generate word cloud\n",
    "wordcloud = WordCloud(width=800 * 2, height=400 * 2, background_color='white').generate(\n",
    "    \" \".join(\n",
    "        w\n",
    "        for w in merged_list\n",
    "        # if w.isupper()\n",
    "    )\n",
    ")\n",
    "plt.figure(figsize=(20, 10))\n",
    "plt.imshow(wordcloud, interpolation='bilinear')\n",
    "plt.axis('off')\n",
    "plt.show()"
   ],
   "id": "acd46ee84e36f2b5",
   "outputs": [],
   "execution_count": null
  }
 ],
 "metadata": {
  "kernelspec": {
   "display_name": "Python 3",
   "language": "python",
   "name": "python3"
  },
  "language_info": {
   "codemirror_mode": {
    "name": "ipython",
    "version": 3
   },
   "file_extension": ".py",
   "mimetype": "text/x-python",
   "name": "python",
   "nbconvert_exporter": "python",
   "pygments_lexer": "ipython3",
   "version": "3.10.10"
  }
 },
 "nbformat": 4,
 "nbformat_minor": 5
}
