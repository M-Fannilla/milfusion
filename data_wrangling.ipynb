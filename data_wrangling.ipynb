{
 "cells": [
  {
   "metadata": {
    "ExecuteTime": {
     "end_time": "2024-05-19T13:48:41.305731Z",
     "start_time": "2024-05-19T13:48:41.282649Z"
    }
   },
   "cell_type": "code",
   "source": [
    "%load_ext autoreload\n",
    "%autoreload 2"
   ],
   "id": "861fab3bc46871da",
   "outputs": [
    {
     "name": "stdout",
     "output_type": "stream",
     "text": [
      "The autoreload extension is already loaded. To reload it, use:\n",
      "  %reload_ext autoreload\n"
     ]
    }
   ],
   "execution_count": 5
  },
  {
   "cell_type": "code",
   "id": "2d4db2e2d8ee0a33",
   "metadata": {
    "ExecuteTime": {
     "end_time": "2024-05-19T14:46:46.233961Z",
     "start_time": "2024-05-19T14:46:46.221359Z"
    }
   },
   "source": [
    "import os\n",
    "import pandas as pd\n",
    "from PIL import Image\n",
    "from tqdm import tqdm\n",
    "from concurrent.futures import ThreadPoolExecutor, as_completed\n",
    "from captioning.utils import IMG_DIR, ANSWER_DIR, CAPTION_DIR"
   ],
   "outputs": [],
   "execution_count": 19
  },
  {
   "metadata": {
    "ExecuteTime": {
     "end_time": "2024-05-19T14:46:46.364783Z",
     "start_time": "2024-05-19T14:46:46.357574Z"
    }
   },
   "cell_type": "code",
   "source": [
    "assert IMG_DIR.exists(), \"Image dir does not exist\"\n",
    "assert ANSWER_DIR.exists(), \"Answer dir does not exist\"\n",
    "assert CAPTION_DIR.exists(), \"Caption dir does not exist\""
   ],
   "id": "cc583a07666e9f8c",
   "outputs": [],
   "execution_count": 20
  },
  {
   "cell_type": "code",
   "id": "initial_id",
   "metadata": {
    "ExecuteTime": {
     "end_time": "2024-05-19T13:48:44.005910Z",
     "start_time": "2024-05-19T13:48:42.367293Z"
    }
   },
   "source": [
    "def process_image(file_path):\n",
    "    try:\n",
    "        image = Image.open(file_path)\n",
    "        width, height = image.size\n",
    "        return (os.path.basename(file_path), width, height)\n",
    "    except Exception as e:\n",
    "        print(f\"Could not process image {file_path}: {e}\")\n",
    "        return None\n",
    "\n",
    "\n",
    "def fetch_and_plot_image_resolutions_from_directory(directory_path):\n",
    "    # Collect all image files\n",
    "    image_files = [\n",
    "        os.path.join(directory_path, filename)\n",
    "        for filename in os.listdir(directory_path)\n",
    "        if filename.lower().endswith(('.png', '.jpg', '.jpeg', '.bmp', '.gif', '.tiff'))\n",
    "    ]\n",
    "\n",
    "    # Process images concurrently\n",
    "    image_dimensions = []\n",
    "    with ThreadPoolExecutor() as executor:\n",
    "        futures = [executor.submit(process_image, file) for file in image_files]\n",
    "        for future in tqdm(as_completed(futures), total=len(futures)):\n",
    "            result = future.result()\n",
    "            if result is not None:\n",
    "                image_dimensions.append(result)\n",
    "\n",
    "    return pd.DataFrame(image_dimensions, columns=['filename', 'width', 'height'])\n",
    "\n",
    "\n",
    "df = fetch_and_plot_image_resolutions_from_directory(IMG_DIR)"
   ],
   "outputs": [
    {
     "name": "stderr",
     "output_type": "stream",
     "text": [
      "100%|██████████| 14394/14394 [00:01<00:00, 11564.66it/s]\n"
     ]
    }
   ],
   "execution_count": 8
  },
  {
   "cell_type": "code",
   "id": "262029395eff04",
   "metadata": {
    "ExecuteTime": {
     "end_time": "2024-05-19T13:48:49.176844Z",
     "start_time": "2024-05-19T13:48:49.166670Z"
    }
   },
   "source": [
    "min_width = 640\n",
    "min_height = 640\n",
    "max_width = 1280\n",
    "max_height = 1280"
   ],
   "outputs": [],
   "execution_count": 10
  },
  {
   "cell_type": "code",
   "id": "b9de08b4fb2b2f57",
   "metadata": {
    "ExecuteTime": {
     "end_time": "2024-05-19T13:48:49.885771Z",
     "start_time": "2024-05-19T13:48:49.870345Z"
    }
   },
   "source": [
    "df = df[\n",
    "    (df.width > min_width)\n",
    "    & (df.height > min_height)\n",
    "    # & (df.width < max_width)\n",
    "    # & (df.height < max_height)\n",
    "    ]\n",
    "df"
   ],
   "outputs": [
    {
     "data": {
      "text/plain": [
       "                    filename  width  height\n",
       "16     4329619655lPRD1BS.png    646     846\n",
       "27     0924439125wz8N1ky.png    662     821\n",
       "35     5929810948dhfR5xk.png    662     919\n",
       "44       51177045em6OATO.PNG    723     835\n",
       "64     5229809636qwDXsK6.png    656     869\n",
       "...                      ...    ...     ...\n",
       "14379  1029672908Hm0bn6k.png    716     804\n",
       "14382  3613495718IBa8ko3.png    657     900\n",
       "14383  5830887043vAcBTAd.jpg   1350    2025\n",
       "14384   0899770210P0sUr8.png   1130     690\n",
       "14390  0114533808G2w9j4p.png    787     645\n",
       "\n",
       "[840 rows x 3 columns]"
      ],
      "text/html": [
       "<div>\n",
       "<style scoped>\n",
       "    .dataframe tbody tr th:only-of-type {\n",
       "        vertical-align: middle;\n",
       "    }\n",
       "\n",
       "    .dataframe tbody tr th {\n",
       "        vertical-align: top;\n",
       "    }\n",
       "\n",
       "    .dataframe thead th {\n",
       "        text-align: right;\n",
       "    }\n",
       "</style>\n",
       "<table border=\"1\" class=\"dataframe\">\n",
       "  <thead>\n",
       "    <tr style=\"text-align: right;\">\n",
       "      <th></th>\n",
       "      <th>filename</th>\n",
       "      <th>width</th>\n",
       "      <th>height</th>\n",
       "    </tr>\n",
       "  </thead>\n",
       "  <tbody>\n",
       "    <tr>\n",
       "      <th>16</th>\n",
       "      <td>4329619655lPRD1BS.png</td>\n",
       "      <td>646</td>\n",
       "      <td>846</td>\n",
       "    </tr>\n",
       "    <tr>\n",
       "      <th>27</th>\n",
       "      <td>0924439125wz8N1ky.png</td>\n",
       "      <td>662</td>\n",
       "      <td>821</td>\n",
       "    </tr>\n",
       "    <tr>\n",
       "      <th>35</th>\n",
       "      <td>5929810948dhfR5xk.png</td>\n",
       "      <td>662</td>\n",
       "      <td>919</td>\n",
       "    </tr>\n",
       "    <tr>\n",
       "      <th>44</th>\n",
       "      <td>51177045em6OATO.PNG</td>\n",
       "      <td>723</td>\n",
       "      <td>835</td>\n",
       "    </tr>\n",
       "    <tr>\n",
       "      <th>64</th>\n",
       "      <td>5229809636qwDXsK6.png</td>\n",
       "      <td>656</td>\n",
       "      <td>869</td>\n",
       "    </tr>\n",
       "    <tr>\n",
       "      <th>...</th>\n",
       "      <td>...</td>\n",
       "      <td>...</td>\n",
       "      <td>...</td>\n",
       "    </tr>\n",
       "    <tr>\n",
       "      <th>14379</th>\n",
       "      <td>1029672908Hm0bn6k.png</td>\n",
       "      <td>716</td>\n",
       "      <td>804</td>\n",
       "    </tr>\n",
       "    <tr>\n",
       "      <th>14382</th>\n",
       "      <td>3613495718IBa8ko3.png</td>\n",
       "      <td>657</td>\n",
       "      <td>900</td>\n",
       "    </tr>\n",
       "    <tr>\n",
       "      <th>14383</th>\n",
       "      <td>5830887043vAcBTAd.jpg</td>\n",
       "      <td>1350</td>\n",
       "      <td>2025</td>\n",
       "    </tr>\n",
       "    <tr>\n",
       "      <th>14384</th>\n",
       "      <td>0899770210P0sUr8.png</td>\n",
       "      <td>1130</td>\n",
       "      <td>690</td>\n",
       "    </tr>\n",
       "    <tr>\n",
       "      <th>14390</th>\n",
       "      <td>0114533808G2w9j4p.png</td>\n",
       "      <td>787</td>\n",
       "      <td>645</td>\n",
       "    </tr>\n",
       "  </tbody>\n",
       "</table>\n",
       "<p>840 rows × 3 columns</p>\n",
       "</div>"
      ]
     },
     "execution_count": 11,
     "metadata": {},
     "output_type": "execute_result"
    }
   ],
   "execution_count": 11
  },
  {
   "cell_type": "code",
   "id": "470baef7ea36bbe7",
   "metadata": {
    "ExecuteTime": {
     "end_time": "2024-05-19T13:48:50.471579Z",
     "start_time": "2024-05-19T13:48:50.462528Z"
    }
   },
   "source": [
    "df.shape"
   ],
   "outputs": [
    {
     "data": {
      "text/plain": [
       "(840, 3)"
      ]
     },
     "execution_count": 12,
     "metadata": {},
     "output_type": "execute_result"
    }
   ],
   "execution_count": 12
  },
  {
   "cell_type": "code",
   "id": "170e25eda5160a4b",
   "metadata": {
    "ExecuteTime": {
     "end_time": "2024-05-19T13:51:19.118770Z",
     "start_time": "2024-05-19T13:51:19.032421Z"
    }
   },
   "source": [
    "# Iterate over the filename column and parse \"description\" from ANSWER_DIR / filename. Save to a new column \"description\"\n",
    "df_desc = df.copy(True)\n",
    "df_desc['description'] = df['filename'].apply(lambda x: ((ANSWER_DIR / x).with_suffix(\".txt\")).read_text())"
   ],
   "outputs": [],
   "execution_count": 15
  },
  {
   "metadata": {
    "ExecuteTime": {
     "end_time": "2024-05-19T14:45:20.301846Z",
     "start_time": "2024-05-19T14:45:20.269311Z"
    }
   },
   "cell_type": "code",
   "source": "df_desc",
   "id": "466cc4ff7a9cab79",
   "outputs": [
    {
     "data": {
      "text/plain": [
       "                    filename  width  height  \\\n",
       "16     4329619655lPRD1BS.png    646     846   \n",
       "27     0924439125wz8N1ky.png    662     821   \n",
       "35     5929810948dhfR5xk.png    662     919   \n",
       "44       51177045em6OATO.PNG    723     835   \n",
       "64     5229809636qwDXsK6.png    656     869   \n",
       "...                      ...    ...     ...   \n",
       "14379  1029672908Hm0bn6k.png    716     804   \n",
       "14382  3613495718IBa8ko3.png    657     900   \n",
       "14383  5830887043vAcBTAd.jpg   1350    2025   \n",
       "14384   0899770210P0sUr8.png   1130     690   \n",
       "14390  0114533808G2w9j4p.png    787     645   \n",
       "\n",
       "                                             description  \n",
       "16     The image shows a woman with blonde hair weari...  \n",
       "27     In the image, a woman is sitting on the floor ...  \n",
       "35     The image shows a woman wearing a red lace bra...  \n",
       "44     The image shows a woman with blonde hair sitti...  \n",
       "64     In the image, a woman is standing in a bathroo...  \n",
       "...                                                  ...  \n",
       "14379  In the image, a woman is sitting on a black an...  \n",
       "14382  A woman stands in a cozy kitchen, her back to ...  \n",
       "14383  The image shows a woman with vibrant red hair ...  \n",
       "14384  The image depicts a woman lying naked on a bed...  \n",
       "14390  The image shows a person lying on a bed, with ...  \n",
       "\n",
       "[840 rows x 4 columns]"
      ],
      "text/html": [
       "<div>\n",
       "<style scoped>\n",
       "    .dataframe tbody tr th:only-of-type {\n",
       "        vertical-align: middle;\n",
       "    }\n",
       "\n",
       "    .dataframe tbody tr th {\n",
       "        vertical-align: top;\n",
       "    }\n",
       "\n",
       "    .dataframe thead th {\n",
       "        text-align: right;\n",
       "    }\n",
       "</style>\n",
       "<table border=\"1\" class=\"dataframe\">\n",
       "  <thead>\n",
       "    <tr style=\"text-align: right;\">\n",
       "      <th></th>\n",
       "      <th>filename</th>\n",
       "      <th>width</th>\n",
       "      <th>height</th>\n",
       "      <th>description</th>\n",
       "    </tr>\n",
       "  </thead>\n",
       "  <tbody>\n",
       "    <tr>\n",
       "      <th>16</th>\n",
       "      <td>4329619655lPRD1BS.png</td>\n",
       "      <td>646</td>\n",
       "      <td>846</td>\n",
       "      <td>The image shows a woman with blonde hair weari...</td>\n",
       "    </tr>\n",
       "    <tr>\n",
       "      <th>27</th>\n",
       "      <td>0924439125wz8N1ky.png</td>\n",
       "      <td>662</td>\n",
       "      <td>821</td>\n",
       "      <td>In the image, a woman is sitting on the floor ...</td>\n",
       "    </tr>\n",
       "    <tr>\n",
       "      <th>35</th>\n",
       "      <td>5929810948dhfR5xk.png</td>\n",
       "      <td>662</td>\n",
       "      <td>919</td>\n",
       "      <td>The image shows a woman wearing a red lace bra...</td>\n",
       "    </tr>\n",
       "    <tr>\n",
       "      <th>44</th>\n",
       "      <td>51177045em6OATO.PNG</td>\n",
       "      <td>723</td>\n",
       "      <td>835</td>\n",
       "      <td>The image shows a woman with blonde hair sitti...</td>\n",
       "    </tr>\n",
       "    <tr>\n",
       "      <th>64</th>\n",
       "      <td>5229809636qwDXsK6.png</td>\n",
       "      <td>656</td>\n",
       "      <td>869</td>\n",
       "      <td>In the image, a woman is standing in a bathroo...</td>\n",
       "    </tr>\n",
       "    <tr>\n",
       "      <th>...</th>\n",
       "      <td>...</td>\n",
       "      <td>...</td>\n",
       "      <td>...</td>\n",
       "      <td>...</td>\n",
       "    </tr>\n",
       "    <tr>\n",
       "      <th>14379</th>\n",
       "      <td>1029672908Hm0bn6k.png</td>\n",
       "      <td>716</td>\n",
       "      <td>804</td>\n",
       "      <td>In the image, a woman is sitting on a black an...</td>\n",
       "    </tr>\n",
       "    <tr>\n",
       "      <th>14382</th>\n",
       "      <td>3613495718IBa8ko3.png</td>\n",
       "      <td>657</td>\n",
       "      <td>900</td>\n",
       "      <td>A woman stands in a cozy kitchen, her back to ...</td>\n",
       "    </tr>\n",
       "    <tr>\n",
       "      <th>14383</th>\n",
       "      <td>5830887043vAcBTAd.jpg</td>\n",
       "      <td>1350</td>\n",
       "      <td>2025</td>\n",
       "      <td>The image shows a woman with vibrant red hair ...</td>\n",
       "    </tr>\n",
       "    <tr>\n",
       "      <th>14384</th>\n",
       "      <td>0899770210P0sUr8.png</td>\n",
       "      <td>1130</td>\n",
       "      <td>690</td>\n",
       "      <td>The image depicts a woman lying naked on a bed...</td>\n",
       "    </tr>\n",
       "    <tr>\n",
       "      <th>14390</th>\n",
       "      <td>0114533808G2w9j4p.png</td>\n",
       "      <td>787</td>\n",
       "      <td>645</td>\n",
       "      <td>The image shows a person lying on a bed, with ...</td>\n",
       "    </tr>\n",
       "  </tbody>\n",
       "</table>\n",
       "<p>840 rows × 4 columns</p>\n",
       "</div>"
      ]
     },
     "execution_count": 17,
     "metadata": {},
     "output_type": "execute_result"
    }
   ],
   "execution_count": 17
  },
  {
   "metadata": {},
   "cell_type": "markdown",
   "source": "",
   "id": "ab238267f0ec4948"
  },
  {
   "metadata": {
    "ExecuteTime": {
     "end_time": "2024-05-19T14:47:08.438936Z",
     "start_time": "2024-05-19T14:47:08.430974Z"
    }
   },
   "cell_type": "code",
   "source": "CAPTION_DIR",
   "id": "3030e170f64ae8f9",
   "outputs": [
    {
     "data": {
      "text/plain": [
       "PosixPath('captioning')"
      ]
     },
     "execution_count": 22,
     "metadata": {},
     "output_type": "execute_result"
    }
   ],
   "execution_count": 22
  },
  {
   "metadata": {
    "ExecuteTime": {
     "end_time": "2024-05-19T14:46:49.308174Z",
     "start_time": "2024-05-19T14:46:49.284778Z"
    }
   },
   "cell_type": "code",
   "source": "df.to_csv(CAPTION_DIR / \"filenames_with_descriptions.csv\", index=False)",
   "id": "ce5f6c6349457454",
   "outputs": [],
   "execution_count": 21
  },
  {
   "metadata": {},
   "cell_type": "code",
   "outputs": [],
   "execution_count": null,
   "source": "",
   "id": "6afc910c49df2e2a"
  }
 ],
 "metadata": {
  "kernelspec": {
   "display_name": "Python 3",
   "language": "python",
   "name": "python3"
  },
  "language_info": {
   "codemirror_mode": {
    "name": "ipython",
    "version": 3
   },
   "file_extension": ".py",
   "mimetype": "text/x-python",
   "name": "python",
   "nbconvert_exporter": "python",
   "pygments_lexer": "ipython3",
   "version": "3.10.10"
  }
 },
 "nbformat": 4,
 "nbformat_minor": 5
}
