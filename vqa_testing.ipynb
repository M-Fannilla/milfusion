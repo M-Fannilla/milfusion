{
 "cells": [
  {
   "metadata": {},
   "cell_type": "code",
   "outputs": [],
   "execution_count": null,
   "source": [
    "from PIL import Image\n",
    "from utils import SRC_DIR\n",
    "from prompts.prompts import simple_reduce_prompt, medium_prompt, full_prompt"
   ],
   "id": "a42f47b5ceed9a61"
  },
  {
   "metadata": {},
   "cell_type": "code",
   "outputs": [],
   "execution_count": null,
   "source": [
    "image_path = SRC_DIR / 'babe/all-over-30-kourtney-kai-92423313/cropped/92423313_019_d0a6.jpg'\n",
    "categories = [\n",
    "    'armpit', 'ass', 'asshole', 'brunette', 'close up', 'feet', 'legs', 'lingerie', 'masturbation', 'mature',\n",
    "    'milf', 'nipples', 'panties', 'pawg', 'pussy', 'solo', 'spreading', 'tattoo', 'tiny tits', 'undressing'\n",
    "]\n",
    "simple = simple_reduce_prompt(categories)\n",
    "medium = medium_prompt(categories)\n",
    "full = full_prompt(categories)"
   ],
   "id": "b6fb549e08bc1816"
  },
  {
   "metadata": {},
   "cell_type": "code",
   "outputs": [],
   "execution_count": null,
   "source": "Image.open(image_path).show()",
   "id": "dc615626b602df5a"
  },
  {
   "metadata": {},
   "cell_type": "code",
   "outputs": [],
   "execution_count": null,
   "source": [
    "def benchmark(name: str):\n",
    "    model_fn = None\n",
    "    match name:\n",
    "        case 'internvl':\n",
    "            from VQA.internvl15.model import internvl15\n",
    "            model_fn = internvl15\n",
    "        case 'minicpm':\n",
    "            from VQA.minicpm.model import minicpm_llama\n",
    "            model_fn = minicpm_llama\n",
    "        case 'composer':\n",
    "            from VQA.intern_composer.model import composer\n",
    "            model_fn = composer\n",
    "        case 'miniintern':\n",
    "            from VQA.mini_intern.model import miniintern\n",
    "            model_fn = miniintern\n",
    "        case 'blip':\n",
    "            from VQA.blip.model import blip\n",
    "            model_fn = blip\n",
    "\n",
    "    simple_answer = model_fn(\n",
    "        image_path=image_path,\n",
    "        prompt=simple\n",
    "    )\n",
    "    medium_answer = model_fn(\n",
    "        image_path=image_path,\n",
    "        prompt=medium\n",
    "    )\n",
    "    full_answer = model_fn(\n",
    "        image_path=image_path,\n",
    "        prompt=full\n",
    "    )\n",
    "\n",
    "    with open(f\"{name}.txt\", 'w') as file:\n",
    "        file.write(simple + \"\\n\")\n",
    "        file.write(simple_answer + \"\\n\\n\")\n",
    "        file.write(medium + \"\\n\")\n",
    "        file.write(medium_answer + \"\\n\\n\")\n",
    "        file.write(full + \"\\n\")\n",
    "        file.write(full_answer + \"\\n\")\n",
    "\n",
    "    print(f\"Finished benchmark for {name}\")\n",
    "\n"
   ],
   "id": "9384db22eca929b4"
  },
  {
   "metadata": {},
   "cell_type": "code",
   "outputs": [],
   "execution_count": null,
   "source": [
    "from VQA.internvl15.model import internvl_15\n",
    "\n",
    "intern_answer = internvl_15(\n",
    "    image_path=image_path,\n",
    "    prompt=simple\n",
    ")"
   ],
   "id": "b2a0372a452e78f0"
  },
  {
   "metadata": {},
   "cell_type": "markdown",
   "source": "# RESULTS",
   "id": "52dfd111a03fa7b6"
  },
  {
   "metadata": {
    "ExecuteTime": {
     "end_time": "2024-06-11T07:38:30.549241Z",
     "start_time": "2024-06-11T07:38:30.462036Z"
    }
   },
   "cell_type": "code",
   "source": [
    "# BLIP - Simple questions with a speed of 73 ms ± 1.21 ms per loop (mean ± std. dev. of 7 runs, 20 loops each)\n",
    "# MININTERN - prblms\n",
    "#"
   ],
   "id": "b436a4f44c757cd",
   "outputs": [
    {
     "ename": "NameError",
     "evalue": "name 'BLIP' is not defined",
     "output_type": "error",
     "traceback": [
      "\u001B[0;31m---------------------------------------------------------------------------\u001B[0m",
      "\u001B[0;31mNameError\u001B[0m                                 Traceback (most recent call last)",
      "Cell \u001B[0;32mIn[1], line 1\u001B[0m\n\u001B[0;32m----> 1\u001B[0m \u001B[43mBLIP\u001B[49m\n",
      "\u001B[0;31mNameError\u001B[0m: name 'BLIP' is not defined"
     ]
    }
   ],
   "execution_count": 1
  },
  {
   "metadata": {},
   "cell_type": "code",
   "outputs": [],
   "execution_count": null,
   "source": "",
   "id": "8769576293850592"
  }
 ],
 "metadata": {
  "kernelspec": {
   "display_name": "Python 3",
   "language": "python",
   "name": "python3"
  },
  "language_info": {
   "codemirror_mode": {
    "name": "ipython",
    "version": 2
   },
   "file_extension": ".py",
   "mimetype": "text/x-python",
   "name": "python",
   "nbconvert_exporter": "python",
   "pygments_lexer": "ipython2",
   "version": "2.7.6"
  }
 },
 "nbformat": 4,
 "nbformat_minor": 5
}
