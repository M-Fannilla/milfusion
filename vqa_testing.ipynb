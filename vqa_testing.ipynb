{
 "cells": [
  {
   "metadata": {},
   "cell_type": "code",
   "outputs": [],
   "execution_count": null,
   "source": [
    "from PIL import Image\n",
    "from utils import SRC_DIR\n",
    "from typing import Callable\n",
    "from VQA.blip.model import blip\n",
    "from VQA.internvl15.model import internvl15\n",
    "from VQA.minicpm.model import minicpm_llama\n",
    "from VQA.mini_intern.model import miniintern\n",
    "from VQA.intern_composer.model import composer\n",
    "from prompts.prompts import simple_reduce_prompt, medium_prompt, full_prompt"
   ],
   "id": "a42f47b5ceed9a61"
  },
  {
   "metadata": {},
   "cell_type": "code",
   "outputs": [],
   "execution_count": null,
   "source": [
    "image_path = SRC_DIR / 'babe/all-over-30-kourtney-kai-92423313/cropped/92423313_019_d0a6.jpg'\n",
    "categories = [\n",
    "    'armpit', 'ass', 'asshole', 'brunette', 'close up', 'feet', 'legs', 'lingerie', 'masturbation', 'mature',\n",
    "    'milf', 'nipples', 'panties', 'pawg', 'pussy', 'solo', 'spreading', 'tattoo', 'tiny tits', 'undressing'\n",
    "]\n",
    "simple = simple_reduce_prompt(categories)\n",
    "medium = medium_prompt(categories)\n",
    "full = full_prompt(categories)"
   ],
   "id": "b6fb549e08bc1816"
  },
  {
   "metadata": {},
   "cell_type": "code",
   "outputs": [],
   "execution_count": null,
   "source": "Image.open(image_path).show()",
   "id": "dc615626b602df5a"
  },
  {
   "metadata": {},
   "cell_type": "code",
   "outputs": [],
   "execution_count": null,
   "source": [
    "def benchmark(name: str):\n",
    "    _map = {\n",
    "        'internvl': internvl15,\n",
    "        'minicpm': minicpm_llama,\n",
    "        'composer': composer,\n",
    "        'miniintern': miniintern,\n",
    "        'blip': blip\n",
    "    }\n",
    "\n",
    "    simple_answer = _map.get(name)(\n",
    "        image_path=image_path,\n",
    "        prompt=simple\n",
    "    )\n",
    "    medium_answer = _map.get(name)(\n",
    "        image_path=image_path,\n",
    "        prompt=medium\n",
    "    )\n",
    "    full_answer = _map.get(name)(\n",
    "        image_path=image_path,\n",
    "        prompt=full\n",
    "    )\n",
    "\n",
    "    with open(f\"{name}.txt\", 'w') as file:\n",
    "        file.write(simple + \"\\n\")\n",
    "        file.write(simple_answer + \"\\n\\n\")\n",
    "        file.write(medium + \"\\n\")\n",
    "        file.write(medium_answer + \"\\n\\n\")\n",
    "        file.write(full + \"\\n\")\n",
    "        file.write(full_answer + \"\\n\")\n",
    "\n",
    "    print(f\"Finished benchmark for {name}\")\n",
    "\n"
   ],
   "id": "9384db22eca929b4"
  },
  {
   "metadata": {},
   "cell_type": "code",
   "outputs": [],
   "execution_count": null,
   "source": [
    "from VQA.internvl15.model import internvl_15\n",
    "\n",
    "intern_answer = internvl_15(\n",
    "    image_path=image_path,\n",
    "    prompt=simple\n",
    ")"
   ],
   "id": "8e56d4ad61017c6b"
  }
 ],
 "metadata": {
  "kernelspec": {
   "display_name": "Python 3",
   "language": "python",
   "name": "python3"
  },
  "language_info": {
   "codemirror_mode": {
    "name": "ipython",
    "version": 2
   },
   "file_extension": ".py",
   "mimetype": "text/x-python",
   "name": "python",
   "nbconvert_exporter": "python",
   "pygments_lexer": "ipython2",
   "version": "2.7.6"
  }
 },
 "nbformat": 4,
 "nbformat_minor": 5
}
