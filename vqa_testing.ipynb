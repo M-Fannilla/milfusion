{
 "cells": [
  {
   "metadata": {},
   "cell_type": "code",
   "source": "!pip install git+https://github.com/huggingface/transformers",
   "id": "7d0ffeda9d2aac6c",
   "outputs": [],
   "execution_count": null
  },
  {
   "metadata": {},
   "cell_type": "code",
   "source": [
    "import re\n",
    "import torch\n",
    "import random\n",
    "import pandas as pd\n",
    "from PIL import Image\n",
    "from utils import SRC_DIR\n",
    "from typing import Callable\n",
    "from prompts.prompts import simple_reduce_prompt, medium_prompt, full_prompt\n",
    "from transformers import LlavaNextProcessor, LlavaNextForConditionalGeneration\n",
    "\n",
    "torch.cuda.empty_cache()"
   ],
   "id": "a42f47b5ceed9a61",
   "outputs": [],
   "execution_count": null
  },
  {
   "metadata": {},
   "cell_type": "code",
   "source": "labels_df = pd.read_csv(\"datasets/VLM_labels_df.csv\")",
   "id": "76b63248f584e218",
   "outputs": [],
   "execution_count": null
  },
  {
   "metadata": {},
   "cell_type": "code",
   "source": [
    "id1 = random.randint(0, len(labels_df))\n",
    "id2 = random.randint(0, len(labels_df))\n",
    "\n",
    "image_path = SRC_DIR / labels_df.iloc[id1].file_path\n",
    "image_path2 = SRC_DIR / labels_df.iloc[id2].file_path\n",
    "\n",
    "categories = labels_df.iloc[id1].labels\n",
    "categories2 = labels_df.iloc[id2].labels"
   ],
   "id": "b6fb549e08bc1816",
   "outputs": [],
   "execution_count": null
  },
  {
   "metadata": {},
   "cell_type": "code",
   "source": "",
   "id": "dc615626b602df5a",
   "outputs": [],
   "execution_count": null
  },
  {
   "metadata": {},
   "cell_type": "code",
   "source": [
    "processor = LlavaNextProcessor.from_pretrained(\n",
    "    \"lliuhaotian/llava-v1.6-vicuna-7b\"\n",
    ")\n",
    "model = LlavaNextForConditionalGeneration.from_pretrained(\n",
    "    \"liuhaotian/llava-v1.6-vicuna-7b\", torch_dtype=torch.float16, low_cpu_mem_usage=True\n",
    ")\n",
    "model.to(\"cuda:0\")\n",
    "model.eval()"
   ],
   "id": "9384db22eca929b4",
   "outputs": [],
   "execution_count": null
  },
  {
   "metadata": {},
   "cell_type": "code",
   "source": [
    "def batch_results(answers):\n",
    "    def extract_list(input_string: str):\n",
    "        pattern = r'\\[(.*?)\\]'\n",
    "        matches = re.findall(pattern, input_string)\n",
    "        return matches[0].strip().replace(\"'\", \"\").replace(\"[\", \"\").replace(\"]\", \"\")\n",
    "\n",
    "    dirty = [extract_list(ans.split(\"ASSISTANT\")[-1]).split(\",\") for ans in answers]\n",
    "\n",
    "    out = []\n",
    "    for D in dirty:\n",
    "        out.append([x.strip() for x in D])\n",
    "    return out\n",
    "\n",
    "\n",
    "def batch_loader(dataframe: pd.DataFrame, batch_size: int, dynamic_prompt: Callable = medium_prompt):\n",
    "    for i in range(0, len(dataframe), batch_size):\n",
    "        temp_df = dataframe.iloc[i:i + batch_size]\n",
    "        file_paths = temp_df.file_path.tolist()\n",
    "        labels = temp_df.labels.tolist()\n",
    "\n",
    "        images = [Image.open(SRC_DIR / file_path) for file_path in file_paths]\n",
    "        prompts = [f\"USER: <image>{dynamic_prompt(label)} ASSISTANT:\" for label in labels]\n",
    "        yield file_paths, images, prompts\n"
   ],
   "id": "9db7ae9e916a5a4f",
   "outputs": [],
   "execution_count": null
  },
  {
   "metadata": {},
   "cell_type": "code",
   "source": [
    "import time\n",
    "import json\n",
    "from pathlib import Path\n",
    "\n",
    "result_folder = Path(\"./llava_results\")\n",
    "result_folder.parent.mkdir(exist_ok=True, parents=True)\n",
    "\n",
    "\n",
    "def get_json_path(batch_number: int):\n",
    "    return result_folder / f\"{batch_number}.json\"\n",
    "\n",
    "\n",
    "def get_last_batch():\n",
    "    return max([\n",
    "        int(x.stem)\n",
    "        for x in result_folder.iterdir()\n",
    "        if x.is_file() and not x.as_posix().endswith(\".json\")\n",
    "    ])\n",
    "\n",
    "\n",
    "batch_size = 8\n",
    "last_batch = get_last_batch()\n",
    "\n",
    "for i, (file_paths, images, prompts) in enumerate(batch_loader(labels_df, batch_size)):\n",
    "    if i < last_batch:\n",
    "        continue\n",
    "\n",
    "    inputs = processor(prompts, images=images, return_tensors=\"pt\", padding=True).to(\"cuda:0\")\n",
    "    output = model.generate(**inputs, max_new_tokens=100)\n",
    "    res = batch_results(processor.batch_decode(output, skip_special_tokens=True))\n",
    "\n",
    "    result_dict = {\n",
    "        file_path: res[i]\n",
    "        for i, file_path in enumerate(file_paths)\n",
    "    }\n",
    "\n",
    "    json_path = get_json_path(i)\n",
    "    with open(json_path, 'w') as f:\n",
    "        json.dump(json_path, f)"
   ],
   "id": "5f149efd1007a90a",
   "outputs": [],
   "execution_count": null
  },
  {
   "metadata": {},
   "cell_type": "code",
   "source": "",
   "id": "a4ef3d2d3146caf",
   "outputs": [],
   "execution_count": null
  },
  {
   "metadata": {},
   "cell_type": "markdown",
   "source": "# RESULTS",
   "id": "52dfd111a03fa7b6"
  },
  {
   "metadata": {},
   "cell_type": "code",
   "source": "",
   "id": "8769576293850592",
   "outputs": [],
   "execution_count": null
  }
 ],
 "metadata": {
  "kernelspec": {
   "display_name": "Python 3",
   "language": "python",
   "name": "python3"
  },
  "language_info": {
   "codemirror_mode": {
    "name": "ipython",
    "version": 2
   },
   "file_extension": ".py",
   "mimetype": "text/x-python",
   "name": "python",
   "nbconvert_exporter": "python",
   "pygments_lexer": "ipython2",
   "version": "2.7.6"
  }
 },
 "nbformat": 4,
 "nbformat_minor": 5
}
