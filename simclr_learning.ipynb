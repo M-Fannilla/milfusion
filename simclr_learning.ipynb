{
 "cells": [
  {
   "metadata": {},
   "cell_type": "code",
   "source": [
    "import torch\n",
    "import pandas as pd\n",
    "from PIL import Image\n",
    "from tqdm import tqdm\n",
    "import torch.nn as nn\n",
    "import torch.optim as optim\n",
    "import torch.nn.functional as F\n",
    "from torch.utils.data import Dataset\n",
    "from torch.utils.data import DataLoader\n",
    "import torchvision.transforms as transforms\n",
    "from efficientnet_pytorch import EfficientNet\n",
    "from torch.cuda.amp import GradScaler, autocast"
   ],
   "id": "53adca19f854caf",
   "outputs": [],
   "execution_count": null
  },
  {
   "cell_type": "code",
   "id": "initial_id",
   "metadata": {
    "collapsed": true
   },
   "source": [
    "transform = transforms.Compose([\n",
    "    transforms.RandomResizedCrop(456, scale=(0.2, 1.0)),\n",
    "    transforms.RandomHorizontalFlip(),\n",
    "    transforms.RandomApply([transforms.ColorJitter(0.4, 0.4, 0.4, 0.4)], p=0.8),\n",
    "    transforms.RandomGrayscale(p=0.2),\n",
    "    transforms.RandomApply([transforms.GaussianBlur(kernel_size=23)], p=0.5),\n",
    "    transforms.ToTensor(),\n",
    "    transforms.Normalize(mean=[0.485, 0.456, 0.406], std=[0.229, 0.224, 0.225]),\n",
    "])\n",
    "\n",
    "eval_transform = transforms.Compose([\n",
    "    transforms.Resize(456),\n",
    "    transforms.CenterCrop(456),\n",
    "    transforms.ToTensor(),\n",
    "    transforms.Normalize(mean=[0.485, 0.456, 0.406], std=[0.229, 0.224, 0.225]),\n",
    "])"
   ],
   "outputs": [],
   "execution_count": null
  },
  {
   "metadata": {},
   "cell_type": "code",
   "source": [
    "class SimCLRDataset(Dataset):\n",
    "    def __init__(self, image_paths, transform=None):\n",
    "        self.image_paths = image_paths\n",
    "        self.transform = transform\n",
    "        \n",
    "    def __len__(self):\n",
    "        return len(self.image_paths)\n",
    "    \n",
    "    def __getitem__(self, idx):\n",
    "        img_path = self.image_paths[idx]\n",
    "        img = Image.open(img_path).convert('RGB')\n",
    "        \n",
    "        if self.transform:\n",
    "            img1 = self.transform(img)\n",
    "            img2 = self.transform(img)\n",
    "        \n",
    "        return img1, img2"
   ],
   "id": "9dbc707ed8b0150c",
   "outputs": [],
   "execution_count": null
  },
  {
   "metadata": {},
   "cell_type": "code",
   "source": [
    "class EfficientNetB5Embedding(nn.Module):\n",
    "    def __init__(self, embedding_dim=256, projection_dim=128):\n",
    "        super(EfficientNetB5Embedding, self).__init__()\n",
    "        self.base_model = EfficientNet.from_pretrained('efficientnet-b5')\n",
    "        self.pool = nn.AdaptiveAvgPool2d((1, 1))  # Adaptive pooling to reduce size\n",
    "        self.fc1 = nn.Linear(2048, embedding_dim)  # Adjust this based on the pooled size\n",
    "        self.relu = nn.ReLU()\n",
    "        self.fc2 = nn.Linear(embedding_dim, projection_dim)\n",
    "        \n",
    "    def forward(self, x):\n",
    "        x = self.base_model.extract_features(x)\n",
    "        x = self.pool(x)\n",
    "        x = torch.flatten(x, 1)\n",
    "        x = self.fc1(x)\n",
    "        x = self.relu(x)\n",
    "        x = self.fc2(x)\n",
    "        x = nn.functional.normalize(x, dim=1)  # L2 normalization\n",
    "        return x"
   ],
   "id": "c2d6bdb77a4488c4",
   "outputs": [],
   "execution_count": null
  },
  {
   "metadata": {},
   "cell_type": "code",
   "source": [
    "class NTXentLoss(nn.Module):\n",
    "    def __init__(self, temperature=0.5):\n",
    "        super(NTXentLoss, self).__init__()\n",
    "        self.temperature = temperature\n",
    "        self.cosine_similarity = nn.CosineSimilarity(dim=-1)\n",
    "        \n",
    "    def forward(self, z_i, z_j):\n",
    "        batch_size = z_i.size(0)\n",
    "        z = torch.cat([z_i, z_j], dim=0)\n",
    "        sim_matrix = self.cosine_similarity(z.unsqueeze(1), z.unsqueeze(0)) / self.temperature\n",
    "        labels = torch.arange(batch_size).to(z.device)\n",
    "        labels = torch.cat([labels, labels], dim=0)\n",
    "        mask = torch.eye(labels.size(0), dtype=torch.bool).to(z.device)\n",
    "        sim_matrix = sim_matrix[~mask].view(sim_matrix.size(0), -1)\n",
    "        loss = F.cross_entropy(sim_matrix, labels)\n",
    "        return loss"
   ],
   "id": "9009d5956696a986",
   "outputs": [],
   "execution_count": null
  },
  {
   "metadata": {},
   "cell_type": "code",
   "source": [
    "def train_simclr_model(image_paths, batch_size=128, epochs=30, temperature=0.5, learning_rate=1e-3, weight_decay=1e-6):\n",
    "    device = torch.device('cuda' if torch.cuda.is_available() else 'cpu')\n",
    "    model = EfficientNetB5Embedding().to(device)\n",
    "    criterion = NTXentLoss(temperature)\n",
    "    optimizer = optim.Adam(model.parameters(), lr=learning_rate, weight_decay=weight_decay)\n",
    "    scheduler = torch.optim.lr_scheduler.CosineAnnealingLR(optimizer, T_max=epochs)\n",
    "    scaler = GradScaler()\n",
    "    \n",
    "    dataset = SimCLRDataset(image_paths, transform=transform)\n",
    "    dataloader = DataLoader(dataset, shuffle=True, batch_size=batch_size)\n",
    "    \n",
    "    for epoch in range(epochs):\n",
    "        model.train()\n",
    "        train_loss = 0.0\n",
    "        num_batches = len(dataloader)\n",
    "        prog_bar = tqdm(dataloader)\n",
    "        \n",
    "        for img1, img2 in prog_bar:\n",
    "            img1, img2 = img1.to(device), img2.to(device)\n",
    "            \n",
    "            optimizer.zero_grad()\n",
    "            \n",
    "            with autocast():\n",
    "                z_i = model(img1)\n",
    "                z_j = model(img2)\n",
    "                loss = criterion(z_i, z_j)\n",
    "            \n",
    "            scaler.scale(loss).backward()\n",
    "            scaler.step(optimizer)\n",
    "            scaler.update()\n",
    "            \n",
    "            train_loss += loss.item()\n",
    "            prog_bar.set_description(f'Epoch {epoch+1}/{epochs} Train Loss: {train_loss/(prog_bar.n + 1):.4f}')\n",
    "        \n",
    "        avg_train_loss = train_loss / num_batches\n",
    "        print(f'Epoch {epoch+1} Train Loss: {avg_train_loss:.4f}')\n",
    "        \n",
    "        scheduler.step()\n",
    "    \n",
    "    return model"
   ],
   "id": "581b3e1c824b5326",
   "outputs": [],
   "execution_count": null
  },
  {
   "metadata": {},
   "cell_type": "code",
   "source": [
    "df = pd.read_csv('datasets/cropped_all_one_hot.csv')\n",
    "image_paths = df['file_path'].tolist()\n",
    "\n",
    "trained_model = train_simclr_model(image_paths, batch_size=128, epochs=30, temperature=0.5, learning_rate=1e-3, weight_decay=1e-6)"
   ],
   "id": "a5d9a78bb67065a1",
   "outputs": [],
   "execution_count": null
  },
  {
   "metadata": {},
   "cell_type": "code",
   "source": "",
   "id": "153fab8b96f61951",
   "outputs": [],
   "execution_count": null
  }
 ],
 "metadata": {
  "kernelspec": {
   "display_name": "Python 3",
   "language": "python",
   "name": "python3"
  },
  "language_info": {
   "codemirror_mode": {
    "name": "ipython",
    "version": 2
   },
   "file_extension": ".py",
   "mimetype": "text/x-python",
   "name": "python",
   "nbconvert_exporter": "python",
   "pygments_lexer": "ipython2",
   "version": "2.7.6"
  }
 },
 "nbformat": 4,
 "nbformat_minor": 5
}
