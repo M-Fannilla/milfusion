{
 "cells": [
  {
   "metadata": {
    "ExecuteTime": {
     "end_time": "2024-06-10T10:12:46.294476Z",
     "start_time": "2024-06-10T10:12:46.284205Z"
    }
   },
   "cell_type": "code",
   "source": [
    "import random\n",
    "%load_ext autoreload\n",
    "%autoreload 2"
   ],
   "id": "11e5c4cb04cffd01",
   "outputs": [],
   "execution_count": 1
  },
  {
   "metadata": {
    "ExecuteTime": {
     "end_time": "2024-06-10T10:12:47.721122Z",
     "start_time": "2024-06-10T10:12:46.483816Z"
    }
   },
   "cell_type": "code",
   "source": [
    "import ast\n",
    "import pandas as pd\n",
    "from tqdm import tqdm\n",
    "from pathlib import Path\n",
    "from pprint import pprint\n",
    "from collections import Counter\n",
    "from galleries_mapping import *\n",
    "import matplotlib.pyplot as plt\n",
    "from sklearn.utils import resample"
   ],
   "id": "15ce2594d9cb1934",
   "outputs": [],
   "execution_count": 2
  },
  {
   "metadata": {
    "ExecuteTime": {
     "end_time": "2024-06-10T10:12:47.731680Z",
     "start_time": "2024-06-10T10:12:47.722179Z"
    }
   },
   "cell_type": "code",
   "source": [
    "def plot_tags_count(data: pd.DataFrame | dict):\n",
    "    if isinstance(data, pd.DataFrame):\n",
    "        data = Counter([item for sublist in data['labels'] for item in sublist])\n",
    "    sorted_values_cntr = {k: v for k, v in sorted(data.items(), key=lambda item: item[1], reverse=True)}\n",
    "    plt.figure(figsize=(10, 10))\n",
    "    plt.pie(\n",
    "        sorted_values_cntr.values(),\n",
    "        labels=sorted_values_cntr.keys(),\n",
    "        autopct='%1.1f%%', startangle=0\n",
    "    )\n",
    "    plt.axis('equal')\n",
    "    plt.title('Label Distribution in Test Set')\n",
    "\n",
    "    plt.show()\n",
    "\n",
    "\n",
    "def plot_variance_per_key(data: dict):\n",
    "    plt.figure(figsize=(10, 10))\n",
    "    plt.bar(data.keys(), data.values())\n",
    "    plt.title('Label Distribution in Test Set')\n",
    "    plt.show()"
   ],
   "id": "30decf585371e094",
   "outputs": [],
   "execution_count": 3
  },
  {
   "metadata": {
    "ExecuteTime": {
     "end_time": "2024-06-10T10:13:44.765435Z",
     "start_time": "2024-06-10T10:12:49.376760Z"
    }
   },
   "cell_type": "code",
   "source": [
    "SRC_DIR = Path('/Volumes/external_drive')\n",
    "FILTERED_PORNHUB_CATEGORIES = [\n",
    "    'anal',\n",
    "    'bbw',\n",
    "    'big ass',\n",
    "    'big dick',\n",
    "    'big tits',\n",
    "    'blonde',\n",
    "    'blowjob',\n",
    "    'bondage',\n",
    "    'brunette',\n",
    "    'cosplay',\n",
    "    'creampie',\n",
    "    'cumshot',\n",
    "    'double penetration',\n",
    "    'ebony',\n",
    "    'feet',\n",
    "    'fingering',\n",
    "    'fisting',\n",
    "    'handjob',\n",
    "    'hardcore',\n",
    "    'lesbian',\n",
    "    'massage',\n",
    "    'masturbation',\n",
    "    'milf',\n",
    "    'old/young',\n",
    "    'pissing',\n",
    "    'public',\n",
    "    'pussy licking',\n",
    "    'red head',\n",
    "    'rough sex',\n",
    "    'small tits',\n",
    "    'smoking',\n",
    "    'solo',\n",
    "    'squirt',\n",
    "    'strap on',\n",
    "    'striptease',\n",
    "    'tattooed women',\n",
    "    'teen',\n",
    "    'threesome',\n",
    "    'toys',\n",
    "    'transgender'\n",
    "]\n",
    "\n",
    "try:\n",
    "    _df = pd.read_csv('datasets/images_high_res_dataset.csv')\n",
    "except FileNotFoundError:\n",
    "    _df = pd.read_csv(SRC_DIR / 'images_high_res_dataset.csv')\n",
    "\n",
    "print(\"Dataset loaded.\")\n",
    "_df.drop(['models'], axis=1, inplace=True)\n",
    "_df['categories'] = _df['categories'].apply(ast.literal_eval)\n",
    "_df['categories_suggestions'] = _df['categories_suggestions'].apply(ast.literal_eval)\n",
    "print(\"Parsed list columns categories\")"
   ],
   "id": "15b18486f048e9b4",
   "outputs": [
    {
     "name": "stdout",
     "output_type": "stream",
     "text": [
      "Dataset loaded.\n",
      "Parsed list columns categories\n"
     ]
    }
   ],
   "execution_count": 4
  },
  {
   "cell_type": "code",
   "id": "initial_id",
   "metadata": {
    "collapsed": true,
    "ExecuteTime": {
     "end_time": "2024-06-10T10:13:44.981979Z",
     "start_time": "2024-06-10T10:13:44.766529Z"
    }
   },
   "source": [
    "df = _df.copy(True)\n",
    "df.shape"
   ],
   "outputs": [
    {
     "data": {
      "text/plain": [
       "(1345430, 7)"
      ]
     },
     "execution_count": 5,
     "metadata": {},
     "output_type": "execute_result"
    }
   ],
   "execution_count": 5
  },
  {
   "metadata": {},
   "cell_type": "markdown",
   "source": "# Merge suggestions and categories",
   "id": "9d71a0bef332167b"
  },
  {
   "metadata": {
    "ExecuteTime": {
     "end_time": "2024-06-10T10:14:02.798594Z",
     "start_time": "2024-06-10T10:13:44.982682Z"
    }
   },
   "cell_type": "code",
   "source": [
    "def merge_categories(row):\n",
    "    categories = set(row['categories'])\n",
    "    categories_suggestions = set(row['categories_suggestions'])\n",
    "    categories_superset = {category.strip().lower() for category in categories.union(categories_suggestions)}\n",
    "    return list(categories_superset)\n",
    "\n",
    "\n",
    "df['labels'] = df['categories'].apply(lambda x: [category.strip().lower() for category in x])\n",
    "df['labels'] = df.apply(merge_categories, axis=1)\n",
    "df.drop(['categories_suggestions', 'categories'], axis=1, inplace=True)\n",
    "df.shape"
   ],
   "id": "b966e6edb3fbb00f",
   "outputs": [
    {
     "data": {
      "text/plain": [
       "(1345430, 6)"
      ]
     },
     "execution_count": 6,
     "metadata": {},
     "output_type": "execute_result"
    }
   ],
   "execution_count": 6
  },
  {
   "metadata": {},
   "cell_type": "markdown",
   "source": "# Purge nationalities from tags",
   "id": "ce451a7c7dad68d6"
  },
  {
   "metadata": {
    "ExecuteTime": {
     "end_time": "2024-06-10T10:14:07.368466Z",
     "start_time": "2024-06-10T10:14:02.800191Z"
    }
   },
   "cell_type": "code",
   "source": [
    "nationality_tags_to_purge = {\n",
    "    'african',\n",
    "    'american',\n",
    "    'arab',\n",
    "    'argentina',\n",
    "    'australian',\n",
    "    'brazilian',\n",
    "    'british',\n",
    "    'canadian',\n",
    "    'chinese',\n",
    "    'colombian',\n",
    "    'cuban',\n",
    "    'czech',\n",
    "    'dutch',\n",
    "    'european',\n",
    "    'filipina',\n",
    "    'french',\n",
    "    'german',\n",
    "    'hungarian',\n",
    "    'indian',\n",
    "    'italian',\n",
    "    'japanese',\n",
    "    'korean',\n",
    "    'mexican',\n",
    "    'pinay',\n",
    "    'polish',\n",
    "    'russian',\n",
    "    'spanish',\n",
    "    'thai',\n",
    "    'ukrainian',\n",
    "    'venezuela',\n",
    "    'white'\n",
    "}\n",
    "nationality_tags_to_purge = {n.lower() for n in nationality_tags_to_purge}\n",
    "df['labels'] = df.labels.apply(lambda x: list(set(x) - nationality_tags_to_purge))\n",
    "df.shape"
   ],
   "id": "8b389e8c51247db",
   "outputs": [
    {
     "data": {
      "text/plain": [
       "(1345430, 6)"
      ]
     },
     "execution_count": 7,
     "metadata": {},
     "output_type": "execute_result"
    }
   ],
   "execution_count": 7
  },
  {
   "metadata": {},
   "cell_type": "markdown",
   "source": "# Apply gallery mapping",
   "id": "11b02068325bb595"
  },
  {
   "metadata": {
    "ExecuteTime": {
     "end_time": "2024-06-10T10:14:16.242495Z",
     "start_time": "2024-06-10T10:14:07.369592Z"
    }
   },
   "cell_type": "code",
   "source": [
    "def gallery_mapping(row):\n",
    "    labels = row.labels\n",
    "\n",
    "    out = []\n",
    "    for L in labels:\n",
    "        _fetched = GALLERIES_MAP.get(L, None)\n",
    "        if _fetched is remove_tag:\n",
    "            continue\n",
    "        elif _fetched is remove_gallery:\n",
    "            return None\n",
    "        elif isinstance(_fetched, list):\n",
    "            out.extend(_fetched)\n",
    "        elif _fetched is keep_tag:\n",
    "            out.append(L.lower())\n",
    "\n",
    "    return list(set(out))\n",
    "\n",
    "\n",
    "df['labels'] = df.apply(gallery_mapping, axis=1)\n",
    "df = df[df['labels'].notnull()]\n",
    "df.shape"
   ],
   "id": "cb3d10abc08de8e",
   "outputs": [
    {
     "data": {
      "text/plain": [
       "(1114113, 6)"
      ]
     },
     "execution_count": 8,
     "metadata": {},
     "output_type": "execute_result"
    }
   ],
   "execution_count": 8
  },
  {
   "metadata": {},
   "cell_type": "code",
   "outputs": [],
   "execution_count": null,
   "source": [
    "fp = 'thai/chubby-amateur-babe-nikki-shows-her-juicy-bosom-hot-pussy-before-giving-a-bj-95099173'\n",
    "filtered_df = df[df['file_path'].str.startswith(fp)]\n",
    "filtered_df"
   ],
   "id": "9694583fc975622f"
  },
  {
   "metadata": {},
   "cell_type": "markdown",
   "source": "# Dataframe clean up",
   "id": "ca90d0758c17d418"
  },
  {
   "metadata": {},
   "cell_type": "code",
   "source": [
    "df['file_path'] = df['gallery_category'] + '/' + df['gallery_name'] + '/' + df['filename']\n",
    "df = df.drop(\n",
    "    ['gallery_category', 'gallery_name', 'filename'], axis=1\n",
    ")\n",
    "df.reset_index(inplace=True, drop=True)"
   ],
   "id": "d8efbbb40b2d5354",
   "outputs": [],
   "execution_count": null
  },
  {
   "metadata": {},
   "cell_type": "code",
   "source": [
    "df.drop(\n",
    "    ['height', 'width'], axis=1, inplace=True\n",
    ")"
   ],
   "id": "c36021bb7a92e2a8",
   "outputs": [],
   "execution_count": null
  },
  {
   "metadata": {},
   "cell_type": "code",
   "source": "df.shape",
   "id": "9711b161b73c9bd3",
   "outputs": [],
   "execution_count": null
  },
  {
   "metadata": {},
   "cell_type": "code",
   "source": "# df.to_csv('datasets/all_file_paths.csv')",
   "id": "21614e1341460ad",
   "outputs": [],
   "execution_count": null
  },
  {
   "metadata": {},
   "cell_type": "markdown",
   "source": "# Balancing the dataset",
   "id": "ec520848e852cd79"
  },
  {
   "metadata": {},
   "cell_type": "code",
   "source": [
    "label_counts = Counter(item for sublist in df['labels'] for item in sublist)\n",
    "ascending_labels = [\n",
    "    k for k, v in sorted(label_counts.items(), key=lambda item: item[1])\n",
    "]\n",
    "label_proportions = {\n",
    "    k: v / len(df) for k, v in sorted(label_counts.items(), key=lambda item: item[1])\n",
    "}"
   ],
   "id": "62f4b7d80adc8120",
   "outputs": [],
   "execution_count": null
  },
  {
   "metadata": {},
   "cell_type": "code",
   "source": "ascending_labels",
   "id": "49f930c7e7d59877",
   "outputs": [],
   "execution_count": null
  },
  {
   "metadata": {},
   "cell_type": "code",
   "source": [
    "from prompts.prompts import dynamic_prompt\n",
    "\n",
    "print(dynamic_prompt())"
   ],
   "id": "ce265610f72cb82a",
   "outputs": [],
   "execution_count": null
  },
  {
   "metadata": {},
   "cell_type": "code",
   "source": "# ['big dick', 'bbc', 'double penetration', 'ssbbw', 'footjob', 'toys', 'butt plug', 'squirting', 'sandals', 'missionary', 'fisting', 'teacher', 'threesome', 'rimming', 'ass licking', 'group sex', 'pissing', 'deepthroat', 'orgasm', 'gym', 'beach', 'shower', 'massage', 'interracial', 'cameltoe', 'pants', 'granny', 'titjob', 'cosplay', 'thong', 'smoking', 'maid', 'cum in mouth', 'creampie', 'nurse', 'selfie', 'pussy licking', 'yoga pants', 'pigtails', 'oiled', 'curly', 'leather', 'public', 'handjob', 'facial', 'pool', 'bath', 'sports', 'boots', 'ebony', 'kissing', 'fingering', 'jeans', 'bondage', 'bdsm', 'dress', 'bikini', 'socks', 'glasses', 'office', 'pantyhose', 'lesbian', 'shorts', 'latina', 'asian', 'cowgirl', 'doggy style', 'curvy', 'bbw', 'thick', 'chubby', 'uniform', 'cumshot', 'tattoo', 'armpit', 'redhead', 'sex', 'blowjob', 'dildo', 'sex toys', 'outdoor', 'rough sex', 'anal', 'mature', 'petite', 'hairy', 'masturbation', 'upskirt', 'stockings', 'feet', 'skinny', 'lingerie', 'nipples', 'skirt', 'shaved', 'undressing', 'milf', 'heels', 'blonde', 'tiny tits', 'close up', 'big tits', 'clothed', 'teen', 'panties', 'asshole', 'brunette', 'spreading', 'legs', 'pussy', 'solo', 'pawg', 'ass']",
   "id": "725bfae0d7a929c4",
   "outputs": [],
   "execution_count": null
  },
  {
   "metadata": {},
   "cell_type": "code",
   "source": [
    "# As an AI image tagging expert, analyze the given image containing explicit content. \n",
    "# Your task is to categorize the image based on the given list of categories between the <Categories> and </Categories> tags. \n",
    "# Ensure you understand the meaning of each category, including abbreviations, slang, and explicit terms.\n",
    "# \n",
    "# <Categories>\n",
    "# ['Hairy', ' Armpit', ' Latina', ' Tiny Tits', ' Undressing', ' Sexy', ' Amateur', ' Upskirt', ' Nipples', ' Socks', ' Pussy', ' Close Up', ' Legs', ' Lingerie', ' Dress', ' Panties', ' Ass', ' Babe', ' Brunette', ' Beautiful', ' Clothed', ' Spreading', ' Asshole', ' Solo', ' PAWG']\n",
    "# </Categories>\n",
    "# Step-by-Step Instructions:\n",
    "# \t1.\tReview the provided image: Carefully examine the image content.\n",
    "# \t2.\tIdentify relevant categories: Refer to the list between  and  tags.\n",
    "# \t3.\tAssign categories: Select and assign as many relevant categories from the list as possible, ensuring they accurately reflect the image’s features or context.\n",
    "# \t4.\tAdhere to the list: Use only the categories specified in the list. Assign a maximum of 10 categories per image.\n",
    "# \n",
    "# Important Note:\n",
    "# If you include any category not specified in the list, you will incur a penalty of $10.\n",
    "# \n",
    "# Output Template:\n",
    "# The output should be structured as a python string with ',' between categories. Example:\n",
    "# category1, category2, category3, ..., category10"
   ],
   "id": "163aa86c555efa8c",
   "outputs": [],
   "execution_count": null
  },
  {
   "metadata": {},
   "cell_type": "code",
   "source": [
    "def get_balanced_df(og_df, max_samples=1000):\n",
    "    def get_rows_with_label(dataframe, label):\n",
    "        return dataframe[dataframe['labels'].apply(lambda x: label in x)]\n",
    "\n",
    "    balanced_dfs = {label: pd.DataFrame() for label in label_counts.keys()}\n",
    "\n",
    "    for label in tqdm(ascending_labels, total=len(ascending_labels), desc='Balancing dataset'):\n",
    "        label_df = get_rows_with_label(og_df, label)\n",
    "\n",
    "        label_df = resample(\n",
    "            label_df,\n",
    "            n_samples=max_samples,\n",
    "            random_state=42\n",
    "        )\n",
    "\n",
    "        balanced_dfs[label] = label_df\n",
    "\n",
    "    balanced_df = pd.concat(balanced_dfs).drop_duplicates(subset='file_path').reset_index(drop=True)\n",
    "\n",
    "    return balanced_df"
   ],
   "id": "b10818658a6b926f",
   "outputs": [],
   "execution_count": null
  },
  {
   "metadata": {},
   "cell_type": "code",
   "source": [
    "small_balanced_df = get_balanced_df(df, max_samples=1000)\n",
    "medium_balanced_df = get_balanced_df(df, max_samples=3000)\n",
    "final_balanced_df = df.copy()"
   ],
   "id": "f588be2b183f02cb",
   "outputs": [],
   "execution_count": null
  },
  {
   "metadata": {},
   "cell_type": "code",
   "source": [
    "small_balanced_df.to_csv('datasets/small_file_paths.csv')\n",
    "medium_balanced_df.to_csv('datasets/medium_file_paths.csv')\n",
    "final_balanced_df.to_csv('datasets/all_file_paths.csv')"
   ],
   "id": "b333515d7d6b9f61",
   "outputs": [],
   "execution_count": null
  },
  {
   "metadata": {},
   "cell_type": "markdown",
   "source": "# One hot encoding",
   "id": "987dbcf9cbcb084f"
  },
  {
   "metadata": {},
   "cell_type": "code",
   "source": [
    "def dataframe_one_hot_encoding(dataframe: pd.DataFrame):\n",
    "    all_labels = set(label for labels in dataframe['labels'] for label in labels)\n",
    "    one_hot_encoded = pd.DataFrame()\n",
    "\n",
    "    for label in tqdm(all_labels, total=len(all_labels), desc='One hot encoding'):\n",
    "        one_hot_encoded[label] = dataframe['labels'].apply(lambda x: 1 if label in x else 0)\n",
    "\n",
    "    final_df = pd.concat([dataframe, one_hot_encoded], axis=1)\n",
    "    final_df = final_df.drop(columns=['labels', ], axis=1)\n",
    "    final_df.reset_index(drop=True, inplace=True)\n",
    "\n",
    "    cols_sorted = sorted(list(final_df.columns))\n",
    "    cols_sorted.remove(\"file_path\")\n",
    "\n",
    "    final_df = final_df[[\"file_path\", *cols_sorted]]\n",
    "\n",
    "    return final_df"
   ],
   "id": "abf9265e0e1bd634",
   "outputs": [],
   "execution_count": null
  },
  {
   "metadata": {},
   "cell_type": "code",
   "source": [
    "small_final_df = dataframe_one_hot_encoding(small_balanced_df)\n",
    "medium_final_df = dataframe_one_hot_encoding(medium_balanced_df)\n",
    "final_df = dataframe_one_hot_encoding(df)"
   ],
   "id": "6a6ab137d48e228c",
   "outputs": [],
   "execution_count": null
  },
  {
   "metadata": {},
   "cell_type": "code",
   "source": [
    "small_final_df.to_csv(\"datasets/small_one_hot.csv\")\n",
    "medium_final_df.to_csv(\"datasets/medium_one_hot.csv\")\n",
    "final_df.to_csv(\"datasets/all_one_hot.csv\")"
   ],
   "id": "98837d5e88bc407c",
   "outputs": [],
   "execution_count": null
  },
  {
   "metadata": {},
   "cell_type": "markdown",
   "source": "# AI GEN",
   "id": "ee32b06064f70ad6"
  },
  {
   "metadata": {},
   "cell_type": "code",
   "source": "df.shape",
   "id": "7f9fa32592398808",
   "outputs": [],
   "execution_count": null
  },
  {
   "metadata": {},
   "cell_type": "code",
   "source": "from galleries_mapping import *",
   "id": "245d5295e00ee279",
   "outputs": [],
   "execution_count": null
  },
  {
   "metadata": {},
   "cell_type": "code",
   "source": [
    "_mandatory_columns = [\n",
    "    'age',\n",
    "]\n",
    "mandatory_columns = list(\n",
    "    x.strip() for x in AI_GEN_TAGS[_mandatory_columns].values.flatten() if isinstance(x, str)\n",
    ")\n",
    "_negative_columns = [\n",
    "    'negative', 'more_people'\n",
    "]\n",
    "negative_columns = list(\n",
    "    x.strip() for x in AI_GEN_TAGS[_negative_columns].values.flatten() if isinstance(x, str)\n",
    ")\n",
    "tags_to_drop = {\n",
    "    'blowjob', 'reality', 'hardcore', 'cumshot', 'cowgirl', 'ass fucking', 'doggy style', 'teen', 'lesbian', 'model',\n",
    "    'big cock', 'anal', 'bdsm', 'bondage', 'fetish', 'face', 'kissing', 'handjob', 'facial', 'fingering', 'groupsex',\n",
    "    'cum in mouth', 'old young', 'titjob', 'interracial', 'pussy licking', 'threesome', 'pov', 'femdom', 'christmas',\n",
    "    'girlfriend', 'cosplay', 'facesitting', 'massage', 'deepthroat', 'strapon', 'cheating', 'humping', 'cum in pussy',\n",
    "    'ass licking', 'creampie', 'ball licking', 'spanking', 'orgasm', 'double penetration', 'couple', 'family',\n",
    "    'anal gape', 'bbc', 'party', 'schoolgirl', 'fisting', 'missionary', 'squirting', 'pissing', 'gangbang', 'old man',\n",
    "    'ffm', 'cuckold', 'seduction', 'tribbing', 'orgy', 'flexible', 'cfnm', 'footjob', 'blowbang', 'pegging', 'pregnant',\n",
    "    'swingers', 'gloryhole', 'caught', 'college', 'yoga', 'casting', 'stripper', 'step sister', 'voyeur', 'mmf',\n",
    "    'bukkake', 'gyno', 'small cock', 'babysitter', 'cheerleader', 'cum swapping', 'bisexual', 'goth', 'braces', 'pawg',\n",
    "    'pretty', 'pigtails', 'emo', 'latex', 'babe', 'step brother', 'twink', 'shemale', 'ballerina', 'twins', 'pornstar',\n",
    "    'model', 'latex', 'emo', 'latex', 'babe', 'leather', 'pigtails', 'halloween', 'wedding',\n",
    "    'tall', 'doctor', 'vintage'\n",
    "}"
   ],
   "id": "6e7ad93db80bdceb",
   "outputs": [],
   "execution_count": null
  },
  {
   "metadata": {},
   "cell_type": "code",
   "source": [
    "def filter_positives(row):\n",
    "    labels = row.labels\n",
    "\n",
    "    for L in labels:\n",
    "        if L in mandatory_columns:\n",
    "            return labels\n",
    "\n",
    "\n",
    "def filter_negatives(row):\n",
    "    labels = row.labels\n",
    "    for L in labels:\n",
    "        if L in negative_columns:\n",
    "            # print(f\"Label {L} in negative_columns.\")\n",
    "            return None\n",
    "        if L in tags_to_drop:\n",
    "            # print(f\"Label {L} in tags_to_drop.\")\n",
    "            return None\n",
    "        # print(f\"Label {L} is allowed.\")\n",
    "    return labels\n",
    "\n",
    "\n",
    "ai_df = df.copy()\n",
    "ai_df['labels'] = ai_df.apply(filter_positives, axis=1)\n",
    "ai_df = ai_df[ai_df['labels'].notnull()]\n",
    "print(ai_df.shape)\n",
    "\n",
    "ai_df['labels'] = ai_df.apply(filter_negatives, axis=1)\n",
    "ai_df = ai_df[ai_df['labels'].notnull()]\n",
    "print(ai_df.shape)"
   ],
   "id": "204714d7afc63961",
   "outputs": [],
   "execution_count": null
  },
  {
   "metadata": {},
   "cell_type": "code",
   "source": "ai_df.reset_index(inplace=True, drop=True)",
   "id": "d2d1d839fa6a8277",
   "outputs": [],
   "execution_count": null
  },
  {
   "metadata": {},
   "cell_type": "code",
   "source": [
    "ai_df['labels_length'] = ai_df['labels'].apply(len)\n",
    "ai_df = ai_df[ai_df['labels_length'] > 5]\n",
    "ai_df.drop(['labels_length'], axis=1, inplace=True)\n",
    "ai_df.reset_index(drop=True, inplace=True)\n",
    "ai_df.to_csv('datasets/ai_gen_dataset_5_cats.csv')\n",
    "print(\"5 cats df shape:\", ai_df.shape)\n",
    "\n",
    "ai_df['labels_length'] = ai_df['labels'].apply(len)\n",
    "ai_df = ai_df[ai_df['labels_length'] > 10]\n",
    "ai_df.drop(['labels_length'], axis=1, inplace=True)\n",
    "ai_df.reset_index(drop=True, inplace=True)\n",
    "ai_df.to_csv('datasets/ai_gen_dataset_10_cats.csv')\n",
    "print(\"10 cats df shape:\", ai_df.shape)"
   ],
   "id": "81ed07c39db2ce96",
   "outputs": [],
   "execution_count": null
  },
  {
   "metadata": {},
   "cell_type": "code",
   "outputs": [],
   "execution_count": null,
   "source": [
    "all_labels = [label for labels in ai_df['labels'] for label in labels]\n",
    "cntr = Counter(all_labels)\n",
    "cntr"
   ],
   "id": "72a8ce7e76788872"
  },
  {
   "metadata": {},
   "cell_type": "code",
   "source": "ai_df.head()",
   "id": "ca9941eed9deb78d",
   "outputs": [],
   "execution_count": null
  },
  {
   "metadata": {},
   "cell_type": "code",
   "source": [
    "cats_5 = pd.read_csv('datasets/ai_gen_dataset_5_cats.csv', index_col=0)\n",
    "cats_10 = pd.read_csv('datasets/ai_gen_dataset_10_cats.csv', index_col=0)\n",
    "small_one_hot = pd.read_csv('datasets/small_one_hot.csv', index_col=0)\n",
    "medium_one_hot = pd.read_csv('datasets/medium_one_hot.csv', index_col=0)"
   ],
   "id": "6a889452ea3eb7d",
   "outputs": [],
   "execution_count": null
  },
  {
   "metadata": {},
   "cell_type": "code",
   "outputs": [],
   "execution_count": null,
   "source": [
    "for x in [cats_5, cats_10, small_one_hot, medium_one_hot]:\n",
    "    missing = 0\n",
    "    for file_path in x['file_path']:\n",
    "        file_path = Path(file_path)\n",
    "        json_path = SRC_DIR / file_path.parent / 'cropped' / (file_path.stem + '.json')\n",
    "        if not json_path.exists():\n",
    "            missing += 1\n",
    "\n",
    "    print(f\">>>>> Missing files: {missing} for out of {x.shape[0]}\")"
   ],
   "id": "4e9f282d8a496a20"
  },
  {
   "metadata": {},
   "cell_type": "code",
   "source": "",
   "id": "ff1ac51f24e6579f",
   "outputs": [],
   "execution_count": null
  }
 ],
 "metadata": {
  "kernelspec": {
   "display_name": "Python 3",
   "language": "python",
   "name": "python3"
  },
  "language_info": {
   "codemirror_mode": {
    "name": "ipython",
    "version": 2
   },
   "file_extension": ".py",
   "mimetype": "text/x-python",
   "name": "python",
   "nbconvert_exporter": "python",
   "pygments_lexer": "ipython2",
   "version": "2.7.6"
  }
 },
 "nbformat": 4,
 "nbformat_minor": 5
}
