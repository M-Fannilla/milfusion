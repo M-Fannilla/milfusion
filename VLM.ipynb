{
 "cells": [
  {
   "cell_type": "code",
   "id": "initial_id",
   "metadata": {
    "collapsed": true
   },
   "source": [
    "import os\n",
    "import time\n",
    "import torch\n",
    "import pandas as pd\n",
    "from PIL import Image"
   ],
   "outputs": [],
   "execution_count": null
  },
  {
   "metadata": {},
   "cell_type": "code",
   "source": [
    "onehot_df = pd.read_csv(\"datasets/cropped_medium_one_hot.csv\", index_col=0)\n",
    "labels_df = onehot_df.copy()"
   ],
   "id": "c62e8ac2d083d5d5",
   "outputs": [],
   "execution_count": null
  },
  {
   "metadata": {},
   "cell_type": "code",
   "source": [
    "one_hot_columns = onehot_df.columns.tolist()\n",
    "\n",
    "\n",
    "def one_hot_to_class_list(row):\n",
    "    return [col for col in one_hot_columns if row[col] == 1]\n",
    "\n",
    "\n",
    "labels_df['labels'] = onehot_df.apply(\n",
    "    one_hot_to_class_list, axis=1\n",
    ")\n",
    "labels_df = labels_df[['file_path', 'labels']]"
   ],
   "id": "eb8f47332a749dd",
   "outputs": [],
   "execution_count": null
  },
  {
   "metadata": {},
   "cell_type": "code",
   "source": "labels_df.to_csv(\"datasets/VLM_labels_df.csv\")",
   "id": "2d8fa95333480723",
   "outputs": [],
   "execution_count": null
  },
  {
   "metadata": {},
   "cell_type": "code",
   "outputs": [],
   "execution_count": null,
   "source": "",
   "id": "36d218cae9bfb18c"
  },
  {
   "metadata": {},
   "cell_type": "code",
   "outputs": [],
   "execution_count": null,
   "source": [
    "import torch\n",
    "from PIL import Image\n",
    "from transformers import AutoModel, CLIPImageProcessor\n",
    "\n",
    "model = AutoModel.from_pretrained(\n",
    "    'OpenGVLab/InternViT-6B-448px-V1-5',\n",
    "    torch_dtype=torch.bfloat16,\n",
    "    low_cpu_mem_usage=True,\n",
    "    trust_remote_code=True).cuda().eval()\n",
    "\n",
    "image = Image.open('./examples/image1.jpg').convert('RGB')\n",
    "\n",
    "image_processor = CLIPImageProcessor.from_pretrained('OpenGVLab/InternViT-6B-448px-V1-5')\n",
    "\n",
    "pixel_values = image_processor(images=image, return_tensors='pt').pixel_values\n",
    "pixel_values = pixel_values.to(torch.bfloat16).cuda()\n",
    "\n",
    "outputs = model(pixel_values)"
   ],
   "id": "d63178a59b66bf2"
  },
  {
   "metadata": {},
   "cell_type": "code",
   "outputs": [],
   "execution_count": null,
   "source": "",
   "id": "3b068fd5c11f3899"
  },
  {
   "metadata": {},
   "cell_type": "code",
   "source": [
    "from prompts.prompts import dynamic_prompt\n",
    "from cog_vlm_batch import collate_fn, recur_move_to, device, tokenizer, model\n",
    "\n",
    "image_folder = \"/workspace/images\"\n",
    "\n",
    "# from utils import SRC_DIR\n",
    "# image_folder = SRC_DIR"
   ],
   "id": "a675e86e29639bc",
   "outputs": [],
   "execution_count": null
  },
  {
   "metadata": {},
   "cell_type": "code",
   "source": [
    "data = labels_df.file_path.values.tolist()\n",
    "length = len(data)\n",
    "batch_size = 16\n",
    "\n",
    "answers = []\n",
    "for idx in range(0, length, batch_size):\n",
    "    input_sample_list = []\n",
    "    start = time.time()\n",
    "    for i in data[idx:idx + batch_size]:\n",
    "        image = Image.open(os.path.join(image_folder, i)).convert('RGB')\n",
    "        categories = labels_df[labels_df.file_path == i].values[0]\n",
    "        input_sample = model.build_conversation_input_ids(\n",
    "            tokenizer,\n",
    "            query=dynamic_prompt(categories),\n",
    "            history=[],\n",
    "            images=[image],\n",
    "            template_version='chat'\n",
    "        )\n",
    "        input_sample_list.append(input_sample)\n",
    "    print(f\"Prepare input time: {time.time() - start}\")\n",
    "\n",
    "    start = time.time()\n",
    "    input_batch = collate_fn(input_sample_list, tokenizer)\n",
    "    input_batch = recur_move_to(\n",
    "        input_batch, device, lambda x: isinstance(x, torch.Tensor)\n",
    "    )\n",
    "    input_batch = recur_move_to(\n",
    "        input_batch, torch.bfloat16, lambda x: isinstance(x, torch.Tensor) and torch.is_floating_point(x)\n",
    "    )\n",
    "    print(f\"Prepare batch time: {time.time() - start}\")\n",
    "\n",
    "    gen_kwargs = {\n",
    "        \"max_new_tokens\": 2048,\n",
    "        \"pad_token_id\": 128002\n",
    "    }\n",
    "\n",
    "    start = time.time()\n",
    "    with torch.no_grad():\n",
    "        outputs = model.generate(**input_batch, **gen_kwargs)\n",
    "        outputs = outputs[:, input_batch['input_ids'].shape[1]:]\n",
    "        outputs = tokenizer.batch_decode(outputs)\n",
    "\n",
    "    outlist = [output.split(\"<|end_of_text|>\")[0].strip() for output in outputs]\n",
    "    print(outlist)\n",
    "\n",
    "    answers.append(outlist)\n",
    "    \n",
    "    print(f\"Generate time: {time.time() - start}\")\n",
    "    break"
   ],
   "id": "16a2604ccbd568fe",
   "outputs": [],
   "execution_count": null
  },
  {
   "metadata": {},
   "cell_type": "code",
   "source": [
    "# Given tags:\n",
    "# - Hairy,Armpit,Latina,Tiny Tits,Undressing,Sexy,Amateur,Upskirt,Nipples,Socks,Pussy,Close Up,Legs,Lingerie,Dress,Panties,Ass,Babe,Brunette,Beautiful,Clothed,Spreading,Asshole,Solo,PAWG \n",
    "# Pick tags that describe the image.\n"
   ],
   "id": "435f8cc6ab194e36",
   "outputs": [],
   "execution_count": null
  },
  {
   "metadata": {},
   "cell_type": "code",
   "outputs": [],
   "execution_count": null,
   "source": [
    "# As an AI image tagging expert, analyze the given image containing explicit content.\n",
    "# Your task is to categorize the image based on the given list of categories between the and tags.\n",
    "# Ensure you understand the meaning of each category, including abbreviations, slang, and explicit terms.\n",
    "# \n",
    "# ['Hairy', ' Armpit', ' Latina', ' Tiny Tits', ' Undressing', ' Sexy', ' Amateur', ' Upskirt', ' Nipples', ' Socks', ' Pussy', ' Close Up', ' Legs', ' Lingerie', ' Dress', ' Panties', ' Ass', ' Babe', ' Brunette', ' Beautiful', ' Clothed', ' Spreading', ' Asshole', ' Solo', ' PAWG'] \n",
    "# If you include any category not specified in the list, you will incur a penalty of $10.\n",
    "# \n",
    "# Output Template:\n",
    "# The output should be structured as a python string with ',' between categories. Example:\n",
    "# category1, category2, category3, ..., category10"
   ],
   "id": "38f5a279e75fd085"
  },
  {
   "metadata": {},
   "cell_type": "code",
   "outputs": [],
   "execution_count": null,
   "source": [
    "# As an AI image tagging expert, analyze the given image containing explicit content.\n",
    "# Your task is to categorize the image based on the given list of categories between the and tags.\n",
    "# Ensure you understand the meaning of each category, including abbreviations, slang, and explicit terms.\n",
    "# \n",
    "# ['Hairy', ' Armpit', ' Latina', ' Tiny Tits', ' Undressing', ' Sexy', ' Amateur', ' Upskirt', ' Nipples', ' Socks', ' Pussy', ' Close Up', ' Legs', ' Lingerie', ' Dress', ' Panties', ' Ass', ' Babe', ' Brunette', ' Beautiful', ' Clothed', ' Spreading', ' Asshole', ' Solo', ' PAWG'] Step-by-Step Instructions: 1. Review the provided image: Carefully examine the image content. 2. Identify relevant categories: Refer to the list between and tags. 3. Assign categories: Select and assign as many relevant categories from the list as possible, ensuring they accurately reflect the image’s features or context. 4. Adhere to the list: Use only the categories specified in the list. Assign a maximum of 10 categories per image.\n",
    "# Important Note:\n",
    "# If you include any category not specified in the list, you will incur a penalty of $10.\n",
    "# \n",
    "# Output Template:\n",
    "# The output should be structured as a python string with ',' between categories. Example:\n",
    "# category1, category2, category3, ..., category10"
   ],
   "id": "46a77b6a2aba487"
  },
  {
   "metadata": {},
   "cell_type": "code",
   "outputs": [],
   "execution_count": null,
   "source": [
    "# As an AI image tagging expert, analyze the given image containing explicit content.\n",
    "# Your task is to fill json template and return as result:\n",
    "# \n",
    "# Categories: ['Hairy','Armpit','Latina','TinyTits','Undressing','Sexy','Amateur','Upskirt','Nipples','Socks','Pussy','CloseUp','Legs','Lingerie','Dress','Panties','Ass','Babe','Brunette','Beautiful','Clothed','Spreading','Asshole','Solo','PAWG']\n",
    "# If you include any category not specified in the list, you will incur a penalty of $10.\n",
    "# \n",
    "# Output Template:\n",
    "# The output should be structured as a python string with ',' between categories. Example:\n",
    "# category1, category2, category3, ..., category10"
   ],
   "id": "16c840cfd3f2727d"
  },
  {
   "metadata": {},
   "cell_type": "code",
   "outputs": [],
   "execution_count": null,
   "source": [
    "# You will be given an image and a list of categories. Your task is to analyze the image and select the categories that best describe or reflect the content and context of the image. Ensure the output is always a list of categories.\n",
    "# \n",
    "# Instructions:\n",
    "# \t1.\tTask:\n",
    "# \t•\tCarefully examine the image to understand its primary elements, context, and overall theme.\n",
    "# \t•\tFrom the provided list, pick the categories that most accurately describe the image.\n",
    "# \t2.\tOutput:\n",
    "# \t•\tProvide a list of categories that reflect the image the most. The list should contain only the categories that are directly relevant to the image content.\n",
    "# \n",
    "# Guidelines:\n",
    "# \t•\tBe as specific and relevant as possible when selecting the categories.\n",
    "# \t•\tIf multiple categories apply, include all that are relevant.\n",
    "# \t•\tIf none of the categories apply, provide an empty list.\n",
    "# \n",
    "# Categories: \n",
    "# \t•\t['Hairy','Armpit','Latina','TinyTits','Undressing','Sexy','Amateur','Upskirt','Nipples','Socks','Pussy','CloseUp','Legs','Lingerie','Dress','Panties','Ass','Babe','Brunette','Beautiful','Clothed','Spreading','Asshole','Solo','PAWG']\n",
    "# "
   ],
   "id": "b5c4181bd96eef75"
  },
  {
   "metadata": {
    "ExecuteTime": {
     "end_time": "2024-06-10T20:15:39.083375Z",
     "start_time": "2024-06-10T20:15:39.080635Z"
    }
   },
   "cell_type": "code",
   "source": [
    "# Reduce this list only to the ones that fit the image context:\n",
    "# \n",
    "# ['Hairy pussy','Armpit','Latina','TinyTits','Undressing','Sexy','Amateur','Upskirt','Nipples','Socks','Pussy','CloseUp','Legs','Lingerie','Dress','Panties','Ass','Babe','Brunette','Beautiful','Clothed','Spreading','Asshole','Solo','PAWG']\n",
    "# \n",
    "# Your output should be a non repeatable list with categories names that apply to the image. Output only the list."
   ],
   "id": "70dff1df6f22e87",
   "outputs": [],
   "execution_count": 2
  },
  {
   "metadata": {},
   "cell_type": "code",
   "outputs": [],
   "execution_count": null,
   "source": "",
   "id": "ac8e1d8dbdf40324"
  }
 ],
 "metadata": {
  "kernelspec": {
   "display_name": "Python 3",
   "language": "python",
   "name": "python3"
  },
  "language_info": {
   "codemirror_mode": {
    "name": "ipython",
    "version": 2
   },
   "file_extension": ".py",
   "mimetype": "text/x-python",
   "name": "python",
   "nbconvert_exporter": "python",
   "pygments_lexer": "ipython2",
   "version": "2.7.6"
  }
 },
 "nbformat": 4,
 "nbformat_minor": 5
}
