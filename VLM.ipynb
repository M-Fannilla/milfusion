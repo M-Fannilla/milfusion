{
 "cells": [
  {
   "cell_type": "code",
   "id": "initial_id",
   "metadata": {
    "collapsed": true,
    "ExecuteTime": {
     "end_time": "2024-06-11T06:38:29.266056Z",
     "start_time": "2024-06-11T06:38:27.974976Z"
    }
   },
   "source": [
    "import os\n",
    "import time\n",
    "import torch\n",
    "import pandas as pd\n",
    "from PIL import Image"
   ],
   "outputs": [],
   "execution_count": 3
  },
  {
   "metadata": {
    "ExecuteTime": {
     "end_time": "2024-06-11T06:38:29.971665Z",
     "start_time": "2024-06-11T06:38:29.266965Z"
    }
   },
   "cell_type": "code",
   "source": [
    "onehot_df = pd.read_csv(\"datasets/cropped_medium_one_hot.csv\", index_col=0)\n",
    "labels_df = onehot_df.copy()"
   ],
   "id": "c62e8ac2d083d5d5",
   "outputs": [],
   "execution_count": 4
  },
  {
   "metadata": {
    "ExecuteTime": {
     "end_time": "2024-06-11T06:38:49.364811Z",
     "start_time": "2024-06-11T06:38:29.972515Z"
    }
   },
   "cell_type": "code",
   "source": [
    "one_hot_columns = onehot_df.columns.tolist()\n",
    "\n",
    "\n",
    "def one_hot_to_class_list(row):\n",
    "    return [col for col in one_hot_columns if row[col] == 1]\n",
    "\n",
    "\n",
    "labels_df['labels'] = onehot_df.apply(\n",
    "    one_hot_to_class_list, axis=1\n",
    ")\n",
    "labels_df = labels_df[['file_path', 'labels']]"
   ],
   "id": "eb8f47332a749dd",
   "outputs": [],
   "execution_count": 5
  },
  {
   "metadata": {
    "ExecuteTime": {
     "end_time": "2024-06-11T06:38:50.286166Z",
     "start_time": "2024-06-11T06:38:49.366255Z"
    }
   },
   "cell_type": "code",
   "source": "labels_df.to_csv(\"datasets/VLM_labels_df.csv\")",
   "id": "2d8fa95333480723",
   "outputs": [],
   "execution_count": 6
  },
  {
   "metadata": {
    "ExecuteTime": {
     "end_time": "2024-06-11T06:39:21.448249Z",
     "start_time": "2024-06-11T06:39:21.413903Z"
    }
   },
   "cell_type": "code",
   "source": "labels_df[labels_df['file_path'] == 'babe/all-over-30-kourtney-kai-92423313/cropped/92423313_019_d0a6.jpg']",
   "id": "36d218cae9bfb18c",
   "outputs": [
    {
     "data": {
      "text/plain": [
       "                                                file_path  \\\n",
       "128760  babe/all-over-30-kourtney-kai-92423313/cropped...   \n",
       "\n",
       "                                                   labels  \n",
       "128760  [armpit, ass, asshole, brunette, close up, fee...  "
      ],
      "text/html": [
       "<div>\n",
       "<style scoped>\n",
       "    .dataframe tbody tr th:only-of-type {\n",
       "        vertical-align: middle;\n",
       "    }\n",
       "\n",
       "    .dataframe tbody tr th {\n",
       "        vertical-align: top;\n",
       "    }\n",
       "\n",
       "    .dataframe thead th {\n",
       "        text-align: right;\n",
       "    }\n",
       "</style>\n",
       "<table border=\"1\" class=\"dataframe\">\n",
       "  <thead>\n",
       "    <tr style=\"text-align: right;\">\n",
       "      <th></th>\n",
       "      <th>file_path</th>\n",
       "      <th>labels</th>\n",
       "    </tr>\n",
       "  </thead>\n",
       "  <tbody>\n",
       "    <tr>\n",
       "      <th>128760</th>\n",
       "      <td>babe/all-over-30-kourtney-kai-92423313/cropped...</td>\n",
       "      <td>[armpit, ass, asshole, brunette, close up, fee...</td>\n",
       "    </tr>\n",
       "  </tbody>\n",
       "</table>\n",
       "</div>"
      ]
     },
     "execution_count": 7,
     "metadata": {},
     "output_type": "execute_result"
    }
   ],
   "execution_count": 7
  },
  {
   "metadata": {},
   "cell_type": "code",
   "outputs": [],
   "execution_count": null,
   "source": "",
   "id": "a7da9c4e733a6a94"
  },
  {
   "metadata": {},
   "cell_type": "code",
   "outputs": [],
   "execution_count": null,
   "source": "",
   "id": "cc7d9943e95c7617"
  },
  {
   "metadata": {},
   "cell_type": "code",
   "outputs": [],
   "execution_count": null,
   "source": "",
   "id": "30b26638b5398a2f"
  },
  {
   "metadata": {},
   "cell_type": "code",
   "outputs": [],
   "execution_count": null,
   "source": "",
   "id": "33d9f5ce3b5dd5b"
  },
  {
   "metadata": {},
   "cell_type": "code",
   "outputs": [],
   "execution_count": null,
   "source": [
    "# Given tags:\n",
    "# - Hairy,Armpit,Latina,Tiny Tits,Undressing,Sexy,Amateur,Upskirt,Nipples,Socks,Pussy,Close Up,Legs,Lingerie,Dress,Panties,Ass,Babe,Brunette,Beautiful,Clothed,Spreading,Asshole,Solo,PAWG \n",
    "# Pick tags that describe the image.\n"
   ],
   "id": "435f8cc6ab194e36"
  },
  {
   "metadata": {},
   "cell_type": "code",
   "outputs": [],
   "execution_count": null,
   "source": [
    "# As an AI image tagging expert, analyze the given image containing explicit content.\n",
    "# Your task is to categorize the image based on the given list of categories between the and tags.\n",
    "# Ensure you understand the meaning of each category, including abbreviations, slang, and explicit terms.\n",
    "# \n",
    "# ['Hairy', ' Armpit', ' Latina', ' Tiny Tits', ' Undressing', ' Sexy', ' Amateur', ' Upskirt', ' Nipples', ' Socks', ' Pussy', ' Close Up', ' Legs', ' Lingerie', ' Dress', ' Panties', ' Ass', ' Babe', ' Brunette', ' Beautiful', ' Clothed', ' Spreading', ' Asshole', ' Solo', ' PAWG'] \n",
    "# If you include any category not specified in the list, you will incur a penalty of $10.\n",
    "# \n",
    "# Output Template:\n",
    "# The output should be structured as a python string with ',' between categories. Example:\n",
    "# category1, category2, category3, ..., category10"
   ],
   "id": "38f5a279e75fd085"
  },
  {
   "metadata": {},
   "cell_type": "code",
   "outputs": [],
   "execution_count": null,
   "source": [
    "# As an AI image tagging expert, analyze the given image containing explicit content.\n",
    "# Your task is to categorize the image based on the given list of categories between the and tags.\n",
    "# Ensure you understand the meaning of each category, including abbreviations, slang, and explicit terms.\n",
    "# \n",
    "# ['Hairy', ' Armpit', ' Latina', ' Tiny Tits', ' Undressing', ' Sexy', ' Amateur', ' Upskirt', ' Nipples', ' Socks', ' Pussy', ' Close Up', ' Legs', ' Lingerie', ' Dress', ' Panties', ' Ass', ' Babe', ' Brunette', ' Beautiful', ' Clothed', ' Spreading', ' Asshole', ' Solo', ' PAWG'] Step-by-Step Instructions: 1. Review the provided image: Carefully examine the image content. 2. Identify relevant categories: Refer to the list between and tags. 3. Assign categories: Select and assign as many relevant categories from the list as possible, ensuring they accurately reflect the image’s features or context. 4. Adhere to the list: Use only the categories specified in the list. Assign a maximum of 10 categories per image.\n",
    "# Important Note:\n",
    "# If you include any category not specified in the list, you will incur a penalty of $10.\n",
    "# \n",
    "# Output Template:\n",
    "# The output should be structured as a python string with ',' between categories. Example:\n",
    "# category1, category2, category3, ..., category10"
   ],
   "id": "46a77b6a2aba487"
  },
  {
   "metadata": {},
   "cell_type": "code",
   "outputs": [],
   "execution_count": null,
   "source": [
    "# As an AI image tagging expert, analyze the given image containing explicit content.\n",
    "# Your task is to fill json template and return as result:\n",
    "# \n",
    "# Categories: ['Hairy','Armpit','Latina','TinyTits','Undressing','Sexy','Amateur','Upskirt','Nipples','Socks','Pussy','CloseUp','Legs','Lingerie','Dress','Panties','Ass','Babe','Brunette','Beautiful','Clothed','Spreading','Asshole','Solo','PAWG']\n",
    "# If you include any category not specified in the list, you will incur a penalty of $10.\n",
    "# \n",
    "# Output Template:\n",
    "# The output should be structured as a python string with ',' between categories. Example:\n",
    "# category1, category2, category3, ..., category10"
   ],
   "id": "16c840cfd3f2727d"
  },
  {
   "metadata": {},
   "cell_type": "code",
   "outputs": [],
   "execution_count": null,
   "source": [
    "# You will be given an image and a list of categories. Your task is to analyze the image and select the categories that best describe or reflect the content and context of the image. Ensure the output is always a list of categories.\n",
    "# \n",
    "# Instructions:\n",
    "# \t1.\tTask:\n",
    "# \t•\tCarefully examine the image to understand its primary elements, context, and overall theme.\n",
    "# \t•\tFrom the provided list, pick the categories that most accurately describe the image.\n",
    "# \t2.\tOutput:\n",
    "# \t•\tProvide a list of categories that reflect the image the most. The list should contain only the categories that are directly relevant to the image content.\n",
    "# \n",
    "# Guidelines:\n",
    "# \t•\tBe as specific and relevant as possible when selecting the categories.\n",
    "# \t•\tIf multiple categories apply, include all that are relevant.\n",
    "# \t•\tIf none of the categories apply, provide an empty list.\n",
    "# \n",
    "# Categories: \n",
    "# \t•\t['Hairy','Armpit','Latina','TinyTits','Undressing','Sexy','Amateur','Upskirt','Nipples','Socks','Pussy','CloseUp','Legs','Lingerie','Dress','Panties','Ass','Babe','Brunette','Beautiful','Clothed','Spreading','Asshole','Solo','PAWG']\n",
    "# "
   ],
   "id": "b5c4181bd96eef75"
  },
  {
   "metadata": {
    "ExecuteTime": {
     "end_time": "2024-06-10T20:15:39.083375Z",
     "start_time": "2024-06-10T20:15:39.080635Z"
    }
   },
   "cell_type": "code",
   "source": [
    "# Reduce this list only to the ones that fit the image context:\n",
    "# \n",
    "# ['Hairy pussy','Armpit','Latina','TinyTits','Undressing','Sexy','Amateur','Upskirt','Nipples','Socks','Pussy','CloseUp','Legs','Lingerie','Dress','Panties','Ass','Babe','Brunette','Beautiful','Clothed','Spreading','Asshole','Solo','PAWG']\n",
    "# \n",
    "# Your output should be a non repeatable list with categories names that apply to the image. Output only the list."
   ],
   "id": "70dff1df6f22e87",
   "outputs": [],
   "execution_count": 2
  },
  {
   "metadata": {},
   "cell_type": "code",
   "outputs": [],
   "execution_count": null,
   "source": "",
   "id": "ac8e1d8dbdf40324"
  }
 ],
 "metadata": {
  "kernelspec": {
   "display_name": "Python 3",
   "language": "python",
   "name": "python3"
  },
  "language_info": {
   "codemirror_mode": {
    "name": "ipython",
    "version": 2
   },
   "file_extension": ".py",
   "mimetype": "text/x-python",
   "name": "python",
   "nbconvert_exporter": "python",
   "pygments_lexer": "ipython2",
   "version": "2.7.6"
  }
 },
 "nbformat": 4,
 "nbformat_minor": 5
}
