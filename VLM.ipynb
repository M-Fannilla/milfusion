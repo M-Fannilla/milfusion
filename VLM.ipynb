{
 "cells": [
  {
   "cell_type": "code",
   "id": "initial_id",
   "metadata": {
    "collapsed": true,
    "ExecuteTime": {
     "end_time": "2024-06-11T08:36:48.788515Z",
     "start_time": "2024-06-11T08:36:47.087908Z"
    }
   },
   "source": [
    "import os\n",
    "import time\n",
    "import torch\n",
    "import pandas as pd\n",
    "from PIL import Image"
   ],
   "outputs": [],
   "execution_count": 1
  },
  {
   "metadata": {
    "ExecuteTime": {
     "end_time": "2024-06-11T08:36:49.496542Z",
     "start_time": "2024-06-11T08:36:48.789521Z"
    }
   },
   "cell_type": "code",
   "source": [
    "onehot_df = pd.read_csv(\"datasets/cropped_medium_one_hot.csv\", index_col=0)\n",
    "labels_df = onehot_df.copy()"
   ],
   "id": "c62e8ac2d083d5d5",
   "outputs": [],
   "execution_count": 2
  },
  {
   "metadata": {
    "ExecuteTime": {
     "end_time": "2024-06-11T08:37:08.620999Z",
     "start_time": "2024-06-11T08:36:49.497329Z"
    }
   },
   "cell_type": "code",
   "source": [
    "one_hot_columns = onehot_df.columns.tolist()\n",
    "\n",
    "\n",
    "def one_hot_to_class_list(row):\n",
    "    return [col for col in one_hot_columns if row[col] == 1]\n",
    "\n",
    "\n",
    "labels_df['labels'] = onehot_df.apply(\n",
    "    one_hot_to_class_list, axis=1\n",
    ")\n",
    "labels_df = labels_df[['file_path', 'labels']]"
   ],
   "id": "eb8f47332a749dd",
   "outputs": [],
   "execution_count": 3
  },
  {
   "metadata": {
    "ExecuteTime": {
     "end_time": "2024-06-11T08:37:09.470163Z",
     "start_time": "2024-06-11T08:37:08.622314Z"
    }
   },
   "cell_type": "code",
   "source": "labels_df.to_csv(\"datasets/VLM_labels_df.csv\")",
   "id": "2d8fa95333480723",
   "outputs": [],
   "execution_count": 4
  },
  {
   "metadata": {},
   "cell_type": "code",
   "outputs": [],
   "execution_count": null,
   "source": "",
   "id": "e8da5aea39035bfb"
  }
 ],
 "metadata": {
  "kernelspec": {
   "display_name": "Python 3",
   "language": "python",
   "name": "python3"
  },
  "language_info": {
   "codemirror_mode": {
    "name": "ipython",
    "version": 2
   },
   "file_extension": ".py",
   "mimetype": "text/x-python",
   "name": "python",
   "nbconvert_exporter": "python",
   "pygments_lexer": "ipython2",
   "version": "2.7.6"
  }
 },
 "nbformat": 4,
 "nbformat_minor": 5
}
